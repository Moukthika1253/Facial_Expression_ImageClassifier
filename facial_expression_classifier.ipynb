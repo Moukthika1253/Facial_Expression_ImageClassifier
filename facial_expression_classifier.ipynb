{
  "nbformat": 4,
  "nbformat_minor": 0,
  "metadata": {
    "colab": {
      "provenance": [],
      "authorship_tag": "ABX9TyN4ROWQNMR2iOVPSTRPsNVX",
      "include_colab_link": true
    },
    "kernelspec": {
      "name": "python3",
      "display_name": "Python 3"
    },
    "language_info": {
      "name": "python"
    },
    "gpuClass": "standard",
    "accelerator": "GPU"
  },
  "cells": [
    {
      "cell_type": "markdown",
      "metadata": {
        "id": "view-in-github",
        "colab_type": "text"
      },
      "source": [
        "<a href=\"https://colab.research.google.com/github/Moukthika1253/Facial_Expression_ImageClassifier/blob/main/facial_expression_classifier.ipynb\" target=\"_parent\"><img src=\"https://colab.research.google.com/assets/colab-badge.svg\" alt=\"Open In Colab\"/></a>"
      ]
    },
    {
      "cell_type": "code",
      "execution_count": 2,
      "metadata": {
        "id": "TyEGcRh0tPgF"
      },
      "outputs": [],
      "source": [
        "import os\n",
        "import numpy as np\n",
        "import seaborn as sns\n",
        "import tensorflow as tf"
      ]
    },
    {
      "cell_type": "code",
      "source": [
        "train_data=\"/content/images/train\"\n",
        "test_data=\"/content/images/validation\"\n",
        "train_count=[]\n",
        "exp_list=[]\n",
        "for emotion in os.listdir(train_data):\n",
        "  exp_list.append(emotion)\n",
        "  train_count.append(len(os.listdir(train_data+\"/\"+emotion)))\n",
        "sns.barplot(x=exp_list,y=train_count)\n"
      ],
      "metadata": {
        "id": "6HCpOPOPDRxS",
        "colab": {
          "base_uri": "https://localhost:8080/",
          "height": 282
        },
        "outputId": "04b88c56-474a-40b4-fe07-b45af20c0ca6"
      },
      "execution_count": 3,
      "outputs": [
        {
          "output_type": "execute_result",
          "data": {
            "text/plain": [
              "<Axes: >"
            ]
          },
          "metadata": {},
          "execution_count": 3
        },
        {
          "output_type": "display_data",
          "data": {
            "text/plain": [
              "<Figure size 432x288 with 1 Axes>"
            ],
            "image/png": "[encoded data removed]"
          },
          "metadata": {
            "needs_background": "light"
          }
        }
      ]
    },
    {
      "cell_type": "code",
      "source": [
        "test_count=[]\n",
        "for emotion in os.listdir(test_data):\n",
        "  test_count.append(len(os.listdir(test_data+\"/\"+emotion)))\n",
        "sns.barplot(x=exp_list,y=test_count)"
      ],
      "metadata": {
        "colab": {
          "base_uri": "https://localhost:8080/",
          "height": 282
        },
        "id": "1DcbyyLiuqWG",
        "outputId": "d991c28e-d659-41d9-b119-0c938b9594db"
      },
      "execution_count": 13,
      "outputs": [
        {
          "output_type": "execute_result",
          "data": {
            "text/plain": [
              "<Axes: >"
            ]
          },
          "metadata": {},
          "execution_count": 13
        },
        {
          "output_type": "display_data",
          "data": {
            "text/plain": [
              "<Figure size 432x288 with 1 Axes>"
            ],
            "image/png": "[encoded data removed]"
          },
          "metadata": {
            "needs_background": "light"
          }
        }
      ]
    },
    {
      "cell_type": "markdown",
      "source": [
        "**Face Expression images**"
      ],
      "metadata": {
        "id": "UvCbY74bV4ae"
      }
    },
    {
      "cell_type": "code",
      "source": [
        "from tensorflow.keras.preprocessing import image\n",
        "import matplotlib.pyplot as plt\n",
        "i=0\n",
        "_, axes = plt.subplots(1, 7, figsize=(18, 16))\n",
        "axes = axes.flatten()\n",
        "for emotion,a in zip(os.listdir(train_data),axes):\n",
        "   images=image.load_img(train_data+\"/\"+emotion+\"/\"+os.listdir(train_data+\"/\"+emotion)[0])\n",
        "   print(\"     \"+exp_list[i],end=\"       \")\n",
        "   a.imshow(images,cmap=\"gray\")\n",
        "   i=i+1\n",
        "plt.show()\n",
        "\n"
      ],
      "metadata": {
        "colab": {
          "base_uri": "https://localhost:8080/",
          "height": 190
        },
        "id": "z_G4PzfPDp8B",
        "outputId": "0bd83c31-c067-446a-c530-4f6e5214fb23"
      },
      "execution_count": 14,
      "outputs": [
        {
          "output_type": "stream",
          "name": "stdout",
          "text": [
            "     sad            surprise            disgust            happy            neutral            fear            angry       "
          ]
        },
        {
          "output_type": "display_data",
          "data": {
            "text/plain": [
              "<Figure size 1296x1152 with 7 Axes>"
            ],
            "image/png": "[encoded data removed]"
          },
          "metadata": {
            "needs_background": "light"
          }
        }
      ]
    },
    {
      "cell_type": "markdown",
      "source": [
        "# **Image Generator**"
      ],
      "metadata": {
        "id": "674837G52uYH"
      }
    },
    {
      "cell_type": "markdown",
      "source": [
        "The directory must be set to the path where your ‘n’ classes of folders are present.\n",
        "The target_size is the size of your input images, every image will be resized to this size.\n",
        "color_mode: if the image is either black and white or grayscale set “grayscale” or if the image has three color channels, set “rgb”.\n",
        "batch_size: No. of images to be yielded from the generator per batch.\n",
        "class_mode: Set “binary” if you have only two classes to predict, if not set to“categorical”, in case if you’re developing an Autoencoder system, both input and the output would probably be the same image, for this case set to “input”.\n",
        "shuffle: Set True if you want to shuffle the order of the image that is being yielded, else set False.\n",
        "seed: Random seed for applying random image augmentation and shuffling the order of the image."
      ],
      "metadata": {
        "id": "rlAC8lOrX24E"
      }
    },
    {
      "cell_type": "code",
      "source": [
        "from keras.preprocessing.image import ImageDataGenerator\n",
        "data_train = ImageDataGenerator()\n",
        "data_validation=ImageDataGenerator()\n",
        "train_gen=data_train.flow_from_directory(train_data,target_size=(48,48),\n",
        "                                                    color_mode=\"grayscale\",\n",
        "                                                    class_mode='categorical',\n",
        "                                                    shuffle=True,seed=42)\n",
        "validation_gen=data_validation.flow_from_directory(test_data,target_size=(48,48),\n",
        "                                                    color_mode=\"grayscale\",\n",
        "                                                    class_mode='categorical',\n",
        "                                                    shuffle=False)"
      ],
      "metadata": {
        "id": "OEcOqCNJ3tUb",
        "colab": {
          "base_uri": "https://localhost:8080/"
        },
        "outputId": "a5b3e175-7806-48c4-8e5a-40b0d21010eb"
      },
      "execution_count": 15,
      "outputs": [
        {
          "output_type": "stream",
          "name": "stdout",
          "text": [
            "Found 28821 images belonging to 7 classes.\n",
            "Found 7066 images belonging to 7 classes.\n"
          ]
        }
      ]
    },
    {
      "cell_type": "markdown",
      "source": [
        "# **Building Convolutional Neural Networks (CNN)**"
      ],
      "metadata": {
        "id": "S1t1Y_14Yk1d"
      }
    },
    {
      "cell_type": "markdown",
      "source": [
        "**Importing libraries to build CNN**"
      ],
      "metadata": {
        "id": "y54TtKF_h0Cf"
      }
    },
    {
      "cell_type": "code",
      "source": [
        "from keras.layers import Dense, Input, Dropout, Flatten, Conv2D,Conv3D, BatchNormalization, Activation, MaxPooling2D\n",
        "from keras.models import Model, Sequential\n",
        "from keras.optimizers import SGD,Adagrad,Adadelta,Adam\n",
        "from keras.regularizers import l1,l2\n"
      ],
      "metadata": {
        "id": "JmYnziQ7Yrrc"
      },
      "execution_count": 19,
      "outputs": []
    },
    {
      "cell_type": "markdown",
      "source": [
        "**Model with 2 convolution layers and 2 fully connected layers optimizer=SGD activation = sigmoid**"
      ],
      "metadata": {
        "id": "Q6T2M8PqiwvT"
      }
    },
    {
      "cell_type": "code",
      "source": [
        "model=Sequential()\n",
        "#first convolution layer\n",
        "model.add(Conv2D(32,(3,3),strides=(1,1),padding=\"same\",input_shape=(48, 48,1),kernel_regularizer=l1(0.0001)))\n",
        "model.add(BatchNormalization())\n",
        "model.add(Activation(\"sigmoid\"))\n",
        "model.add(MaxPooling2D(pool_size=(2, 2)))\n",
        "model.add(Dropout(0.20))\n",
        "\n",
        "#second convolution layer\n",
        "model.add(Conv2D(64,(3,3),strides=(2,2),padding=\"same\",kernel_regularizer=l2(0.0001)))\n",
        "model.add(BatchNormalization())\n",
        "model.add(Activation(\"sigmoid\"))\n",
        "model.add(MaxPooling2D(pool_size=(2, 2)))\n",
        "model.add(Dropout(0.20))\n",
        "\n",
        "model.add(Flatten())\n",
        "\n",
        "#1st fully connected layer\n",
        "model.add(Dense(512,kernel_regularizer=l2(0.0001)))\n",
        "model.add(BatchNormalization())\n",
        "model.add(Activation('relu'))\n",
        "model.add(Dropout(0.20))\n",
        "\n",
        "#2nd fully connected layer\n",
        "model.add(Dense(1024,kernel_regularizer=l2(0.0001)))\n",
        "model.add(BatchNormalization())\n",
        "model.add(Activation('relu'))\n",
        "model.add(Dropout(0.20))\n",
        "\n",
        "#last layer\n",
        "model.add(Dense(7))\n",
        "model.add(Activation('softmax'))\n",
        "\n",
        "#compiling model\n",
        "opti=SGD(learning_rate=0.01)\n",
        "model.compile(optimizer=opti,loss='categorical_crossentropy',metrics=['accuracy'])\n"
      ],
      "metadata": {
        "id": "7jn-j1pkhmJr"
      },
      "execution_count": 63,
      "outputs": []
    },
    {
      "cell_type": "code",
      "source": [
        "model.summary()"
      ],
      "metadata": {
        "colab": {
          "base_uri": "https://localhost:8080/"
        },
        "id": "6TJtaTsJqERU",
        "outputId": "278d1e64-6b38-49c1-b10f-b5ad4ea22db4"
      },
      "execution_count": 21,
      "outputs": [
        {
          "output_type": "stream",
          "name": "stdout",
          "text": [
            "Model: \"sequential_1\"\n",
            "_________________________________________________________________\n",
            " Layer (type)                Output Shape              Param #   \n",
            "=================================================================\n",
            " conv2d (Conv2D)             (None, 48, 48, 32)        320       \n",
            "                                                                 \n",
            " batch_normalization (BatchN  (None, 48, 48, 32)       128       \n",
            " ormalization)                                                   \n",
            "                                                                 \n",
            " activation (Activation)     (None, 48, 48, 32)        0         \n",
            "                                                                 \n",
            " max_pooling2d (MaxPooling2D  (None, 24, 24, 32)       0         \n",
            " )                                                               \n",
            "                                                                 \n",
            " dropout (Dropout)           (None, 24, 24, 32)        0         \n",
            "                                                                 \n",
            " conv2d_1 (Conv2D)           (None, 12, 12, 64)        18496     \n",
            "                                                                 \n",
            " batch_normalization_1 (Batc  (None, 12, 12, 64)       256       \n",
            " hNormalization)                                                 \n",
            "                                                                 \n",
            " activation_1 (Activation)   (None, 12, 12, 64)        0         \n",
            "                                                                 \n",
            " max_pooling2d_1 (MaxPooling  (None, 6, 6, 64)         0         \n",
            " 2D)                                                             \n",
            "                                                                 \n",
            " dropout_1 (Dropout)         (None, 6, 6, 64)          0         \n",
            "                                                                 \n",
            " flatten (Flatten)           (None, 2304)              0         \n",
            "                                                                 \n",
            " dense (Dense)               (None, 512)               1180160   \n",
            "                                                                 \n",
            " batch_normalization_2 (Batc  (None, 512)              2048      \n",
            " hNormalization)                                                 \n",
            "                                                                 \n",
            " activation_2 (Activation)   (None, 512)               0         \n",
            "                                                                 \n",
            " dropout_2 (Dropout)         (None, 512)               0         \n",
            "                                                                 \n",
            " dense_1 (Dense)             (None, 1024)              525312    \n",
            "                                                                 \n",
            " batch_normalization_3 (Batc  (None, 1024)             4096      \n",
            " hNormalization)                                                 \n",
            "                                                                 \n",
            " activation_3 (Activation)   (None, 1024)              0         \n",
            "                                                                 \n",
            " dropout_3 (Dropout)         (None, 1024)              0         \n",
            "                                                                 \n",
            " dense_2 (Dense)             (None, 7)                 7175      \n",
            "                                                                 \n",
            " activation_4 (Activation)   (None, 7)                 0         \n",
            "                                                                 \n",
            "=================================================================\n",
            "Total params: 1,737,991\n",
            "Trainable params: 1,734,727\n",
            "Non-trainable params: 3,264\n",
            "_________________________________________________________________\n"
          ]
        }
      ]
    },
    {
      "cell_type": "code",
      "source": [
        "train_time={}"
      ],
      "metadata": {
        "id": "bL5JuCGwv1si"
      },
      "execution_count": 26,
      "outputs": []
    },
    {
      "cell_type": "markdown",
      "source": [
        "**Training the model**"
      ],
      "metadata": {
        "id": "xTvoC5t4o7um"
      }
    },
    {
      "cell_type": "code",
      "source": [
        "%%time\n",
        "from keras.callbacks import ModelCheckpoint\n",
        "\n",
        "checkpoint = ModelCheckpoint(\"model_weights.h5\", monitor='val_acc', verbose=1, save_best_only=True, mode='max')\n",
        "callbacks_list = [checkpoint]\n",
        "\n",
        "batch_size=150\n",
        "history = model.fit(train_gen,\n",
        "                                steps_per_epoch=train_gen.n//train_gen.batch_size,\n",
        "                                epochs=50,\n",
        "                                validation_data = validation_gen,\n",
        "                                validation_steps = validation_gen.n//validation_gen.batch_size,\n",
        "                                callbacks=callbacks_list)\n",
        "\n"
      ],
      "metadata": {
        "colab": {
          "base_uri": "https://localhost:8080/"
        },
        "id": "M_llJS2Qo-jm",
        "outputId": "853ccad9-4418-4501-e5a7-f22142535f12"
      },
      "execution_count": 64,
      "outputs": [
        {
          "output_type": "stream",
          "name": "stdout",
          "text": [
            "Epoch 1/50\n",
            "899/900 [============================>.] - ETA: 0s - loss: 2.1200 - accuracy: 0.2184"
          ]
        },
        {
          "output_type": "stream",
          "name": "stderr",
          "text": [
            "WARNING:tensorflow:Can save best model only with val_acc available, skipping.\n"
          ]
        },
        {
          "output_type": "stream",
          "name": "stdout",
          "text": [
            "\b\b\b\b\b\b\b\b\b\b\b\b\b\b\b\b\b\b\b\b\b\b\b\b\b\b\b\b\b\b\b\b\b\b\b\b\b\b\b\b\b\b\b\b\b\b\b\b\b\b\b\b\b\b\b\b\b\b\b\b\b\b\b\b\b\b\b\b\b\b\b\b\b\b\b\b\b\b\b\b\b\b\b\b\r900/900 [==============================] - 17s 18ms/step - loss: 2.1200 - accuracy: 0.2184 - val_loss: 1.9044 - val_accuracy: 0.2986\n",
            "Epoch 2/50\n",
            "898/900 [============================>.] - ETA: 0s - loss: 2.0080 - accuracy: 0.2418"
          ]
        },
        {
          "output_type": "stream",
          "name": "stderr",
          "text": [
            "WARNING:tensorflow:Can save best model only with val_acc available, skipping.\n"
          ]
        },
        {
          "output_type": "stream",
          "name": "stdout",
          "text": [
            "\b\b\b\b\b\b\b\b\b\b\b\b\b\b\b\b\b\b\b\b\b\b\b\b\b\b\b\b\b\b\b\b\b\b\b\b\b\b\b\b\b\b\b\b\b\b\b\b\b\b\b\b\b\b\b\b\b\b\b\b\b\b\b\b\b\b\b\b\b\b\b\b\b\b\b\b\b\b\b\b\b\b\b\b\r900/900 [==============================] - 16s 18ms/step - loss: 2.0083 - accuracy: 0.2417 - val_loss: 1.8811 - val_accuracy: 0.3170\n",
            "Epoch 3/50\n",
            "898/900 [============================>.] - ETA: 0s - loss: 1.9615 - accuracy: 0.2633"
          ]
        },
        {
          "output_type": "stream",
          "name": "stderr",
          "text": [
            "WARNING:tensorflow:Can save best model only with val_acc available, skipping.\n"
          ]
        },
        {
          "output_type": "stream",
          "name": "stdout",
          "text": [
            "\b\b\b\b\b\b\b\b\b\b\b\b\b\b\b\b\b\b\b\b\b\b\b\b\b\b\b\b\b\b\b\b\b\b\b\b\b\b\b\b\b\b\b\b\b\b\b\b\b\b\b\b\b\b\b\b\b\b\b\b\b\b\b\b\b\b\b\b\b\b\b\b\b\b\b\b\b\b\b\b\b\b\b\b\r900/900 [==============================] - 16s 18ms/step - loss: 1.9614 - accuracy: 0.2633 - val_loss: 1.8717 - val_accuracy: 0.3260\n",
            "Epoch 4/50\n",
            "898/900 [============================>.] - ETA: 0s - loss: 1.9363 - accuracy: 0.2776"
          ]
        },
        {
          "output_type": "stream",
          "name": "stderr",
          "text": [
            "WARNING:tensorflow:Can save best model only with val_acc available, skipping.\n"
          ]
        },
        {
          "output_type": "stream",
          "name": "stdout",
          "text": [
            "\b\b\b\b\b\b\b\b\b\b\b\b\b\b\b\b\b\b\b\b\b\b\b\b\b\b\b\b\b\b\b\b\b\b\b\b\b\b\b\b\b\b\b\b\b\b\b\b\b\b\b\b\b\b\b\b\b\b\b\b\b\b\b\b\b\b\b\b\b\b\b\b\b\b\b\b\b\b\b\b\b\b\b\b\r900/900 [==============================] - 17s 18ms/step - loss: 1.9363 - accuracy: 0.2776 - val_loss: 1.8634 - val_accuracy: 0.3095\n",
            "Epoch 5/50\n",
            "899/900 [============================>.] - ETA: 0s - loss: 1.9071 - accuracy: 0.2938"
          ]
        },
        {
          "output_type": "stream",
          "name": "stderr",
          "text": [
            "WARNING:tensorflow:Can save best model only with val_acc available, skipping.\n"
          ]
        },
        {
          "output_type": "stream",
          "name": "stdout",
          "text": [
            "\b\b\b\b\b\b\b\b\b\b\b\b\b\b\b\b\b\b\b\b\b\b\b\b\b\b\b\b\b\b\b\b\b\b\b\b\b\b\b\b\b\b\b\b\b\b\b\b\b\b\b\b\b\b\b\b\b\b\b\b\b\b\b\b\b\b\b\b\b\b\b\b\b\b\b\b\b\b\b\b\b\b\b\b\r900/900 [==============================] - 16s 18ms/step - loss: 1.9071 - accuracy: 0.2937 - val_loss: 1.8750 - val_accuracy: 0.3234\n",
            "Epoch 6/50\n",
            "900/900 [==============================] - ETA: 0s - loss: 1.8926 - accuracy: 0.2996"
          ]
        },
        {
          "output_type": "stream",
          "name": "stderr",
          "text": [
            "WARNING:tensorflow:Can save best model only with val_acc available, skipping.\n"
          ]
        },
        {
          "output_type": "stream",
          "name": "stdout",
          "text": [
            "\b\b\b\b\b\b\b\b\b\b\b\b\b\b\b\b\b\b\b\b\b\b\b\b\b\b\b\b\b\b\b\b\b\b\b\b\b\b\b\b\b\b\b\b\b\b\b\b\b\b\b\b\b\b\b\b\b\b\b\b\b\b\b\b\b\b\b\b\b\b\b\b\b\b\b\b\b\b\b\b\b\b\b\b\r900/900 [==============================] - 16s 18ms/step - loss: 1.8926 - accuracy: 0.2996 - val_loss: 1.8259 - val_accuracy: 0.3186\n",
            "Epoch 7/50\n",
            "896/900 [============================>.] - ETA: 0s - loss: 1.8781 - accuracy: 0.3135"
          ]
        },
        {
          "output_type": "stream",
          "name": "stderr",
          "text": [
            "WARNING:tensorflow:Can save best model only with val_acc available, skipping.\n"
          ]
        },
        {
          "output_type": "stream",
          "name": "stdout",
          "text": [
            "\b\b\b\b\b\b\b\b\b\b\b\b\b\b\b\b\b\b\b\b\b\b\b\b\b\b\b\b\b\b\b\b\b\b\b\b\b\b\b\b\b\b\b\b\b\b\b\b\b\b\b\b\b\b\b\b\b\b\b\b\b\b\b\b\b\b\b\b\b\b\b\b\b\b\b\b\b\b\b\b\b\b\b\b\r900/900 [==============================] - 16s 18ms/step - loss: 1.8783 - accuracy: 0.3135 - val_loss: 1.8021 - val_accuracy: 0.3571\n",
            "Epoch 8/50\n",
            "898/900 [============================>.] - ETA: 0s - loss: 1.8611 - accuracy: 0.3226"
          ]
        },
        {
          "output_type": "stream",
          "name": "stderr",
          "text": [
            "WARNING:tensorflow:Can save best model only with val_acc available, skipping.\n"
          ]
        },
        {
          "output_type": "stream",
          "name": "stdout",
          "text": [
            "\b\b\b\b\b\b\b\b\b\b\b\b\b\b\b\b\b\b\b\b\b\b\b\b\b\b\b\b\b\b\b\b\b\b\b\b\b\b\b\b\b\b\b\b\b\b\b\b\b\b\b\b\b\b\b\b\b\b\b\b\b\b\b\b\b\b\b\b\b\b\b\b\b\b\b\b\b\b\b\b\b\b\b\b\r900/900 [==============================] - 16s 18ms/step - loss: 1.8615 - accuracy: 0.3224 - val_loss: 1.8069 - val_accuracy: 0.3635\n",
            "Epoch 9/50\n",
            "897/900 [============================>.] - ETA: 0s - loss: 1.8467 - accuracy: 0.3288"
          ]
        },
        {
          "output_type": "stream",
          "name": "stderr",
          "text": [
            "WARNING:tensorflow:Can save best model only with val_acc available, skipping.\n"
          ]
        },
        {
          "output_type": "stream",
          "name": "stdout",
          "text": [
            "\b\b\b\b\b\b\b\b\b\b\b\b\b\b\b\b\b\b\b\b\b\b\b\b\b\b\b\b\b\b\b\b\b\b\b\b\b\b\b\b\b\b\b\b\b\b\b\b\b\b\b\b\b\b\b\b\b\b\b\b\b\b\b\b\b\b\b\b\b\b\b\b\b\b\b\b\b\b\b\b\b\b\b\b\r900/900 [==============================] - 19s 21ms/step - loss: 1.8468 - accuracy: 0.3286 - val_loss: 1.7836 - val_accuracy: 0.3544\n",
            "Epoch 10/50\n",
            "899/900 [============================>.] - ETA: 0s - loss: 1.8371 - accuracy: 0.3327"
          ]
        },
        {
          "output_type": "stream",
          "name": "stderr",
          "text": [
            "WARNING:tensorflow:Can save best model only with val_acc available, skipping.\n"
          ]
        },
        {
          "output_type": "stream",
          "name": "stdout",
          "text": [
            "\b\b\b\b\b\b\b\b\b\b\b\b\b\b\b\b\b\b\b\b\b\b\b\b\b\b\b\b\b\b\b\b\b\b\b\b\b\b\b\b\b\b\b\b\b\b\b\b\b\b\b\b\b\b\b\b\b\b\b\b\b\b\b\b\b\b\b\b\b\b\b\b\b\b\b\b\b\b\b\b\b\b\b\b\r900/900 [==============================] - 17s 19ms/step - loss: 1.8372 - accuracy: 0.3327 - val_loss: 1.7928 - val_accuracy: 0.3652\n",
            "Epoch 11/50\n",
            "900/900 [==============================] - ETA: 0s - loss: 1.8225 - accuracy: 0.3424"
          ]
        },
        {
          "output_type": "stream",
          "name": "stderr",
          "text": [
            "WARNING:tensorflow:Can save best model only with val_acc available, skipping.\n"
          ]
        },
        {
          "output_type": "stream",
          "name": "stdout",
          "text": [
            "\b\b\b\b\b\b\b\b\b\b\b\b\b\b\b\b\b\b\b\b\b\b\b\b\b\b\b\b\b\b\b\b\b\b\b\b\b\b\b\b\b\b\b\b\b\b\b\b\b\b\b\b\b\b\b\b\b\b\b\b\b\b\b\b\b\b\b\b\b\b\b\b\b\b\b\b\b\b\b\b\b\b\b\b\r900/900 [==============================] - 16s 18ms/step - loss: 1.8225 - accuracy: 0.3424 - val_loss: 1.7576 - val_accuracy: 0.3881\n",
            "Epoch 12/50\n",
            "898/900 [============================>.] - ETA: 0s - loss: 1.8135 - accuracy: 0.3423"
          ]
        },
        {
          "output_type": "stream",
          "name": "stderr",
          "text": [
            "WARNING:tensorflow:Can save best model only with val_acc available, skipping.\n"
          ]
        },
        {
          "output_type": "stream",
          "name": "stdout",
          "text": [
            "\b\b\b\b\b\b\b\b\b\b\b\b\b\b\b\b\b\b\b\b\b\b\b\b\b\b\b\b\b\b\b\b\b\b\b\b\b\b\b\b\b\b\b\b\b\b\b\b\b\b\b\b\b\b\b\b\b\b\b\b\b\b\b\b\b\b\b\b\b\b\b\b\b\b\b\b\b\b\b\b\b\b\b\b\r900/900 [==============================] - 19s 21ms/step - loss: 1.8136 - accuracy: 0.3420 - val_loss: 1.7430 - val_accuracy: 0.3838\n",
            "Epoch 13/50\n",
            "900/900 [==============================] - ETA: 0s - loss: 1.8045 - accuracy: 0.3494"
          ]
        },
        {
          "output_type": "stream",
          "name": "stderr",
          "text": [
            "WARNING:tensorflow:Can save best model only with val_acc available, skipping.\n"
          ]
        },
        {
          "output_type": "stream",
          "name": "stdout",
          "text": [
            "\b\b\b\b\b\b\b\b\b\b\b\b\b\b\b\b\b\b\b\b\b\b\b\b\b\b\b\b\b\b\b\b\b\b\b\b\b\b\b\b\b\b\b\b\b\b\b\b\b\b\b\b\b\b\b\b\b\b\b\b\b\b\b\b\b\b\b\b\b\b\b\b\b\b\b\b\b\b\b\b\b\b\b\b\r900/900 [==============================] - 16s 17ms/step - loss: 1.8045 - accuracy: 0.3494 - val_loss: 1.7064 - val_accuracy: 0.4009\n",
            "Epoch 14/50\n",
            "900/900 [==============================] - ETA: 0s - loss: 1.7993 - accuracy: 0.3489"
          ]
        },
        {
          "output_type": "stream",
          "name": "stderr",
          "text": [
            "WARNING:tensorflow:Can save best model only with val_acc available, skipping.\n"
          ]
        },
        {
          "output_type": "stream",
          "name": "stdout",
          "text": [
            "\b\b\b\b\b\b\b\b\b\b\b\b\b\b\b\b\b\b\b\b\b\b\b\b\b\b\b\b\b\b\b\b\b\b\b\b\b\b\b\b\b\b\b\b\b\b\b\b\b\b\b\b\b\b\b\b\b\b\b\b\b\b\b\b\b\b\b\b\b\b\b\b\b\b\b\b\b\b\b\b\b\b\b\b\r900/900 [==============================] - 16s 18ms/step - loss: 1.7993 - accuracy: 0.3489 - val_loss: 1.7361 - val_accuracy: 0.3925\n",
            "Epoch 15/50\n",
            "898/900 [============================>.] - ETA: 0s - loss: 1.7894 - accuracy: 0.3580"
          ]
        },
        {
          "output_type": "stream",
          "name": "stderr",
          "text": [
            "WARNING:tensorflow:Can save best model only with val_acc available, skipping.\n"
          ]
        },
        {
          "output_type": "stream",
          "name": "stdout",
          "text": [
            "\b\b\b\b\b\b\b\b\b\b\b\b\b\b\b\b\b\b\b\b\b\b\b\b\b\b\b\b\b\b\b\b\b\b\b\b\b\b\b\b\b\b\b\b\b\b\b\b\b\b\b\b\b\b\b\b\b\b\b\b\b\b\b\b\b\b\b\b\b\b\b\b\b\b\b\b\b\b\b\b\b\b\b\b\r900/900 [==============================] - 17s 18ms/step - loss: 1.7897 - accuracy: 0.3578 - val_loss: 1.7189 - val_accuracy: 0.3879\n",
            "Epoch 16/50\n",
            "897/900 [============================>.] - ETA: 0s - loss: 1.7849 - accuracy: 0.3599"
          ]
        },
        {
          "output_type": "stream",
          "name": "stderr",
          "text": [
            "WARNING:tensorflow:Can save best model only with val_acc available, skipping.\n"
          ]
        },
        {
          "output_type": "stream",
          "name": "stdout",
          "text": [
            "\b\b\b\b\b\b\b\b\b\b\b\b\b\b\b\b\b\b\b\b\b\b\b\b\b\b\b\b\b\b\b\b\b\b\b\b\b\b\b\b\b\b\b\b\b\b\b\b\b\b\b\b\b\b\b\b\b\b\b\b\b\b\b\b\b\b\b\b\b\b\b\b\b\b\b\b\b\b\b\b\b\b\b\b\r900/900 [==============================] - 16s 18ms/step - loss: 1.7847 - accuracy: 0.3599 - val_loss: 1.7521 - val_accuracy: 0.3901\n",
            "Epoch 17/50\n",
            "899/900 [============================>.] - ETA: 0s - loss: 1.7724 - accuracy: 0.3647"
          ]
        },
        {
          "output_type": "stream",
          "name": "stderr",
          "text": [
            "WARNING:tensorflow:Can save best model only with val_acc available, skipping.\n"
          ]
        },
        {
          "output_type": "stream",
          "name": "stdout",
          "text": [
            "\b\b\b\b\b\b\b\b\b\b\b\b\b\b\b\b\b\b\b\b\b\b\b\b\b\b\b\b\b\b\b\b\b\b\b\b\b\b\b\b\b\b\b\b\b\b\b\b\b\b\b\b\b\b\b\b\b\b\b\b\b\b\b\b\b\b\b\b\b\b\b\b\b\b\b\b\b\b\b\b\b\b\b\b\r900/900 [==============================] - 16s 18ms/step - loss: 1.7725 - accuracy: 0.3645 - val_loss: 1.6768 - val_accuracy: 0.4095\n",
            "Epoch 18/50\n",
            "899/900 [============================>.] - ETA: 0s - loss: 1.7659 - accuracy: 0.3678"
          ]
        },
        {
          "output_type": "stream",
          "name": "stderr",
          "text": [
            "WARNING:tensorflow:Can save best model only with val_acc available, skipping.\n"
          ]
        },
        {
          "output_type": "stream",
          "name": "stdout",
          "text": [
            "\b\b\b\b\b\b\b\b\b\b\b\b\b\b\b\b\b\b\b\b\b\b\b\b\b\b\b\b\b\b\b\b\b\b\b\b\b\b\b\b\b\b\b\b\b\b\b\b\b\b\b\b\b\b\b\b\b\b\b\b\b\b\b\b\b\b\b\b\b\b\b\b\b\b\b\b\b\b\b\b\b\b\b\b\r900/900 [==============================] - 16s 18ms/step - loss: 1.7659 - accuracy: 0.3678 - val_loss: 1.6754 - val_accuracy: 0.4142\n",
            "Epoch 19/50\n",
            "897/900 [============================>.] - ETA: 0s - loss: 1.7652 - accuracy: 0.3698"
          ]
        },
        {
          "output_type": "stream",
          "name": "stderr",
          "text": [
            "WARNING:tensorflow:Can save best model only with val_acc available, skipping.\n"
          ]
        },
        {
          "output_type": "stream",
          "name": "stdout",
          "text": [
            "\b\b\b\b\b\b\b\b\b\b\b\b\b\b\b\b\b\b\b\b\b\b\b\b\b\b\b\b\b\b\b\b\b\b\b\b\b\b\b\b\b\b\b\b\b\b\b\b\b\b\b\b\b\b\b\b\b\b\b\b\b\b\b\b\b\b\b\b\b\b\b\b\b\b\b\b\b\b\b\b\b\b\b\b\r900/900 [==============================] - 16s 18ms/step - loss: 1.7651 - accuracy: 0.3698 - val_loss: 1.7114 - val_accuracy: 0.4038\n",
            "Epoch 20/50\n",
            "899/900 [============================>.] - ETA: 0s - loss: 1.7520 - accuracy: 0.3708"
          ]
        },
        {
          "output_type": "stream",
          "name": "stderr",
          "text": [
            "WARNING:tensorflow:Can save best model only with val_acc available, skipping.\n"
          ]
        },
        {
          "output_type": "stream",
          "name": "stdout",
          "text": [
            "\b\b\b\b\b\b\b\b\b\b\b\b\b\b\b\b\b\b\b\b\b\b\b\b\b\b\b\b\b\b\b\b\b\b\b\b\b\b\b\b\b\b\b\b\b\b\b\b\b\b\b\b\b\b\b\b\b\b\b\b\b\b\b\b\b\b\b\b\b\b\b\b\b\b\b\b\b\b\b\b\b\b\b\b\r900/900 [==============================] - 17s 19ms/step - loss: 1.7521 - accuracy: 0.3706 - val_loss: 1.6742 - val_accuracy: 0.3986\n",
            "Epoch 21/50\n",
            "897/900 [============================>.] - ETA: 0s - loss: 1.7508 - accuracy: 0.3743"
          ]
        },
        {
          "output_type": "stream",
          "name": "stderr",
          "text": [
            "WARNING:tensorflow:Can save best model only with val_acc available, skipping.\n"
          ]
        },
        {
          "output_type": "stream",
          "name": "stdout",
          "text": [
            "\b\b\b\b\b\b\b\b\b\b\b\b\b\b\b\b\b\b\b\b\b\b\b\b\b\b\b\b\b\b\b\b\b\b\b\b\b\b\b\b\b\b\b\b\b\b\b\b\b\b\b\b\b\b\b\b\b\b\b\b\b\b\b\b\b\b\b\b\b\b\b\b\b\b\b\b\b\b\b\b\b\b\b\b\r900/900 [==============================] - 16s 18ms/step - loss: 1.7509 - accuracy: 0.3744 - val_loss: 1.7125 - val_accuracy: 0.3852\n",
            "Epoch 22/50\n",
            "897/900 [============================>.] - ETA: 0s - loss: 1.7405 - accuracy: 0.3820"
          ]
        },
        {
          "output_type": "stream",
          "name": "stderr",
          "text": [
            "WARNING:tensorflow:Can save best model only with val_acc available, skipping.\n"
          ]
        },
        {
          "output_type": "stream",
          "name": "stdout",
          "text": [
            "\b\b\b\b\b\b\b\b\b\b\b\b\b\b\b\b\b\b\b\b\b\b\b\b\b\b\b\b\b\b\b\b\b\b\b\b\b\b\b\b\b\b\b\b\b\b\b\b\b\b\b\b\b\b\b\b\b\b\b\b\b\b\b\b\b\b\b\b\b\b\b\b\b\b\b\b\b\b\b\b\b\b\b\b\r900/900 [==============================] - 17s 18ms/step - loss: 1.7402 - accuracy: 0.3822 - val_loss: 1.6660 - val_accuracy: 0.4068\n",
            "Epoch 23/50\n",
            "897/900 [============================>.] - ETA: 0s - loss: 1.7367 - accuracy: 0.3813"
          ]
        },
        {
          "output_type": "stream",
          "name": "stderr",
          "text": [
            "WARNING:tensorflow:Can save best model only with val_acc available, skipping.\n"
          ]
        },
        {
          "output_type": "stream",
          "name": "stdout",
          "text": [
            "\b\b\b\b\b\b\b\b\b\b\b\b\b\b\b\b\b\b\b\b\b\b\b\b\b\b\b\b\b\b\b\b\b\b\b\b\b\b\b\b\b\b\b\b\b\b\b\b\b\b\b\b\b\b\b\b\b\b\b\b\b\b\b\b\b\b\b\b\b\b\b\b\b\b\b\b\b\b\b\b\b\b\b\b\r900/900 [==============================] - 17s 19ms/step - loss: 1.7366 - accuracy: 0.3813 - val_loss: 1.6660 - val_accuracy: 0.4122\n",
            "Epoch 24/50\n",
            "897/900 [============================>.] - ETA: 0s - loss: 1.7304 - accuracy: 0.3819"
          ]
        },
        {
          "output_type": "stream",
          "name": "stderr",
          "text": [
            "WARNING:tensorflow:Can save best model only with val_acc available, skipping.\n"
          ]
        },
        {
          "output_type": "stream",
          "name": "stdout",
          "text": [
            "\b\b\b\b\b\b\b\b\b\b\b\b\b\b\b\b\b\b\b\b\b\b\b\b\b\b\b\b\b\b\b\b\b\b\b\b\b\b\b\b\b\b\b\b\b\b\b\b\b\b\b\b\b\b\b\b\b\b\b\b\b\b\b\b\b\b\b\b\b\b\b\b\b\b\b\b\b\b\b\b\b\b\b\b\r900/900 [==============================] - 17s 18ms/step - loss: 1.7304 - accuracy: 0.3820 - val_loss: 1.6509 - val_accuracy: 0.4203\n",
            "Epoch 25/50\n",
            "898/900 [============================>.] - ETA: 0s - loss: 1.7257 - accuracy: 0.3853"
          ]
        },
        {
          "output_type": "stream",
          "name": "stderr",
          "text": [
            "WARNING:tensorflow:Can save best model only with val_acc available, skipping.\n"
          ]
        },
        {
          "output_type": "stream",
          "name": "stdout",
          "text": [
            "\b\b\b\b\b\b\b\b\b\b\b\b\b\b\b\b\b\b\b\b\b\b\b\b\b\b\b\b\b\b\b\b\b\b\b\b\b\b\b\b\b\b\b\b\b\b\b\b\b\b\b\b\b\b\b\b\b\b\b\b\b\b\b\b\b\b\b\b\b\b\b\b\b\b\b\b\b\b\b\b\b\b\b\b\r900/900 [==============================] - 19s 22ms/step - loss: 1.7261 - accuracy: 0.3852 - val_loss: 1.6252 - val_accuracy: 0.4352\n",
            "Epoch 26/50\n",
            "899/900 [============================>.] - ETA: 0s - loss: 1.7182 - accuracy: 0.3887"
          ]
        },
        {
          "output_type": "stream",
          "name": "stderr",
          "text": [
            "WARNING:tensorflow:Can save best model only with val_acc available, skipping.\n"
          ]
        },
        {
          "output_type": "stream",
          "name": "stdout",
          "text": [
            "\b\b\b\b\b\b\b\b\b\b\b\b\b\b\b\b\b\b\b\b\b\b\b\b\b\b\b\b\b\b\b\b\b\b\b\b\b\b\b\b\b\b\b\b\b\b\b\b\b\b\b\b\b\b\b\b\b\b\b\b\b\b\b\b\b\b\b\b\b\b\b\b\b\b\b\b\b\b\b\b\b\b\b\b\r900/900 [==============================] - 17s 18ms/step - loss: 1.7182 - accuracy: 0.3888 - val_loss: 1.6474 - val_accuracy: 0.4286\n",
            "Epoch 27/50\n",
            "899/900 [============================>.] - ETA: 0s - loss: 1.7118 - accuracy: 0.3909"
          ]
        },
        {
          "output_type": "stream",
          "name": "stderr",
          "text": [
            "WARNING:tensorflow:Can save best model only with val_acc available, skipping.\n"
          ]
        },
        {
          "output_type": "stream",
          "name": "stdout",
          "text": [
            "\b\b\b\b\b\b\b\b\b\b\b\b\b\b\b\b\b\b\b\b\b\b\b\b\b\b\b\b\b\b\b\b\b\b\b\b\b\b\b\b\b\b\b\b\b\b\b\b\b\b\b\b\b\b\b\b\b\b\b\b\b\b\b\b\b\b\b\b\b\b\b\b\b\b\b\b\b\b\b\b\b\b\b\b\r900/900 [==============================] - 19s 22ms/step - loss: 1.7116 - accuracy: 0.3909 - val_loss: 1.6205 - val_accuracy: 0.4297\n",
            "Epoch 28/50\n",
            "899/900 [============================>.] - ETA: 0s - loss: 1.7027 - accuracy: 0.3933"
          ]
        },
        {
          "output_type": "stream",
          "name": "stderr",
          "text": [
            "WARNING:tensorflow:Can save best model only with val_acc available, skipping.\n"
          ]
        },
        {
          "output_type": "stream",
          "name": "stdout",
          "text": [
            "\b\b\b\b\b\b\b\b\b\b\b\b\b\b\b\b\b\b\b\b\b\b\b\b\b\b\b\b\b\b\b\b\b\b\b\b\b\b\b\b\b\b\b\b\b\b\b\b\b\b\b\b\b\b\b\b\b\b\b\b\b\b\b\b\b\b\b\b\b\b\b\b\b\b\b\b\b\b\b\b\b\b\b\b\r900/900 [==============================] - 16s 18ms/step - loss: 1.7027 - accuracy: 0.3933 - val_loss: 1.6504 - val_accuracy: 0.4244\n",
            "Epoch 29/50\n",
            "899/900 [============================>.] - ETA: 0s - loss: 1.6989 - accuracy: 0.3951"
          ]
        },
        {
          "output_type": "stream",
          "name": "stderr",
          "text": [
            "WARNING:tensorflow:Can save best model only with val_acc available, skipping.\n"
          ]
        },
        {
          "output_type": "stream",
          "name": "stdout",
          "text": [
            "\b\b\b\b\b\b\b\b\b\b\b\b\b\b\b\b\b\b\b\b\b\b\b\b\b\b\b\b\b\b\b\b\b\b\b\b\b\b\b\b\b\b\b\b\b\b\b\b\b\b\b\b\b\b\b\b\b\b\b\b\b\b\b\b\b\b\b\b\b\b\b\b\b\b\b\b\b\b\b\b\b\b\b\b\r900/900 [==============================] - 18s 19ms/step - loss: 1.6987 - accuracy: 0.3952 - val_loss: 1.6222 - val_accuracy: 0.4317\n",
            "Epoch 30/50\n",
            "898/900 [============================>.] - ETA: 0s - loss: 1.6951 - accuracy: 0.3954"
          ]
        },
        {
          "output_type": "stream",
          "name": "stderr",
          "text": [
            "WARNING:tensorflow:Can save best model only with val_acc available, skipping.\n"
          ]
        },
        {
          "output_type": "stream",
          "name": "stdout",
          "text": [
            "\b\b\b\b\b\b\b\b\b\b\b\b\b\b\b\b\b\b\b\b\b\b\b\b\b\b\b\b\b\b\b\b\b\b\b\b\b\b\b\b\b\b\b\b\b\b\b\b\b\b\b\b\b\b\b\b\b\b\b\b\b\b\b\b\b\b\b\b\b\b\b\b\b\b\b\b\b\b\b\b\b\b\b\b\r900/900 [==============================] - 17s 19ms/step - loss: 1.6952 - accuracy: 0.3953 - val_loss: 1.6204 - val_accuracy: 0.4317\n",
            "Epoch 31/50\n",
            "899/900 [============================>.] - ETA: 0s - loss: 1.6877 - accuracy: 0.3980"
          ]
        },
        {
          "output_type": "stream",
          "name": "stderr",
          "text": [
            "WARNING:tensorflow:Can save best model only with val_acc available, skipping.\n"
          ]
        },
        {
          "output_type": "stream",
          "name": "stdout",
          "text": [
            "\b\b\b\b\b\b\b\b\b\b\b\b\b\b\b\b\b\b\b\b\b\b\b\b\b\b\b\b\b\b\b\b\b\b\b\b\b\b\b\b\b\b\b\b\b\b\b\b\b\b\b\b\b\b\b\b\b\b\b\b\b\b\b\b\b\b\b\b\b\b\b\b\b\b\b\b\b\b\b\b\b\b\b\b\r900/900 [==============================] - 19s 21ms/step - loss: 1.6877 - accuracy: 0.3982 - val_loss: 1.5972 - val_accuracy: 0.4369\n",
            "Epoch 32/50\n",
            "897/900 [============================>.] - ETA: 0s - loss: 1.6874 - accuracy: 0.3974"
          ]
        },
        {
          "output_type": "stream",
          "name": "stderr",
          "text": [
            "WARNING:tensorflow:Can save best model only with val_acc available, skipping.\n"
          ]
        },
        {
          "output_type": "stream",
          "name": "stdout",
          "text": [
            "\b\b\b\b\b\b\b\b\b\b\b\b\b\b\b\b\b\b\b\b\b\b\b\b\b\b\b\b\b\b\b\b\b\b\b\b\b\b\b\b\b\b\b\b\b\b\b\b\b\b\b\b\b\b\b\b\b\b\b\b\b\b\b\b\b\b\b\b\b\b\b\b\b\b\b\b\b\b\b\b\b\b\b\b\r900/900 [==============================] - 16s 18ms/step - loss: 1.6871 - accuracy: 0.3977 - val_loss: 1.7411 - val_accuracy: 0.4045\n",
            "Epoch 33/50\n",
            "898/900 [============================>.] - ETA: 0s - loss: 1.6807 - accuracy: 0.4011"
          ]
        },
        {
          "output_type": "stream",
          "name": "stderr",
          "text": [
            "WARNING:tensorflow:Can save best model only with val_acc available, skipping.\n"
          ]
        },
        {
          "output_type": "stream",
          "name": "stdout",
          "text": [
            "\b\b\b\b\b\b\b\b\b\b\b\b\b\b\b\b\b\b\b\b\b\b\b\b\b\b\b\b\b\b\b\b\b\b\b\b\b\b\b\b\b\b\b\b\b\b\b\b\b\b\b\b\b\b\b\b\b\b\b\b\b\b\b\b\b\b\b\b\b\b\b\b\b\b\b\b\b\b\b\b\b\b\b\b\r900/900 [==============================] - 16s 18ms/step - loss: 1.6810 - accuracy: 0.4011 - val_loss: 1.5847 - val_accuracy: 0.4366\n",
            "Epoch 34/50\n",
            "900/900 [==============================] - ETA: 0s - loss: 1.6735 - accuracy: 0.4038"
          ]
        },
        {
          "output_type": "stream",
          "name": "stderr",
          "text": [
            "WARNING:tensorflow:Can save best model only with val_acc available, skipping.\n"
          ]
        },
        {
          "output_type": "stream",
          "name": "stdout",
          "text": [
            "\b\b\b\b\b\b\b\b\b\b\b\b\b\b\b\b\b\b\b\b\b\b\b\b\b\b\b\b\b\b\b\b\b\b\b\b\b\b\b\b\b\b\b\b\b\b\b\b\b\b\b\b\b\b\b\b\b\b\b\b\b\b\b\b\b\b\b\b\b\b\b\b\b\b\b\b\b\b\b\b\b\b\b\b\r900/900 [==============================] - 16s 18ms/step - loss: 1.6735 - accuracy: 0.4038 - val_loss: 1.5937 - val_accuracy: 0.4378\n",
            "Epoch 35/50\n",
            "897/900 [============================>.] - ETA: 0s - loss: 1.6684 - accuracy: 0.4085"
          ]
        },
        {
          "output_type": "stream",
          "name": "stderr",
          "text": [
            "WARNING:tensorflow:Can save best model only with val_acc available, skipping.\n"
          ]
        },
        {
          "output_type": "stream",
          "name": "stdout",
          "text": [
            "\b\b\b\b\b\b\b\b\b\b\b\b\b\b\b\b\b\b\b\b\b\b\b\b\b\b\b\b\b\b\b\b\b\b\b\b\b\b\b\b\b\b\b\b\b\b\b\b\b\b\b\b\b\b\b\b\b\b\b\b\b\b\b\b\b\b\b\b\b\b\b\b\b\b\b\b\b\b\b\b\b\b\b\b\r900/900 [==============================] - 16s 18ms/step - loss: 1.6688 - accuracy: 0.4085 - val_loss: 1.5670 - val_accuracy: 0.4483\n",
            "Epoch 36/50\n",
            "899/900 [============================>.] - ETA: 0s - loss: 1.6630 - accuracy: 0.4097"
          ]
        },
        {
          "output_type": "stream",
          "name": "stderr",
          "text": [
            "WARNING:tensorflow:Can save best model only with val_acc available, skipping.\n"
          ]
        },
        {
          "output_type": "stream",
          "name": "stdout",
          "text": [
            "\b\b\b\b\b\b\b\b\b\b\b\b\b\b\b\b\b\b\b\b\b\b\b\b\b\b\b\b\b\b\b\b\b\b\b\b\b\b\b\b\b\b\b\b\b\b\b\b\b\b\b\b\b\b\b\b\b\b\b\b\b\b\b\b\b\b\b\b\b\b\b\b\b\b\b\b\b\b\b\b\b\b\b\b\r900/900 [==============================] - 16s 18ms/step - loss: 1.6627 - accuracy: 0.4098 - val_loss: 1.5779 - val_accuracy: 0.4426\n",
            "Epoch 37/50\n",
            "898/900 [============================>.] - ETA: 0s - loss: 1.6524 - accuracy: 0.4128"
          ]
        },
        {
          "output_type": "stream",
          "name": "stderr",
          "text": [
            "WARNING:tensorflow:Can save best model only with val_acc available, skipping.\n"
          ]
        },
        {
          "output_type": "stream",
          "name": "stdout",
          "text": [
            "\b\b\b\b\b\b\b\b\b\b\b\b\b\b\b\b\b\b\b\b\b\b\b\b\b\b\b\b\b\b\b\b\b\b\b\b\b\b\b\b\b\b\b\b\b\b\b\b\b\b\b\b\b\b\b\b\b\b\b\b\b\b\b\b\b\b\b\b\b\b\b\b\b\b\b\b\b\b\b\b\b\b\b\b\r900/900 [==============================] - 17s 18ms/step - loss: 1.6523 - accuracy: 0.4128 - val_loss: 1.6906 - val_accuracy: 0.4232\n",
            "Epoch 38/50\n",
            "900/900 [==============================] - ETA: 0s - loss: 1.6541 - accuracy: 0.4152"
          ]
        },
        {
          "output_type": "stream",
          "name": "stderr",
          "text": [
            "WARNING:tensorflow:Can save best model only with val_acc available, skipping.\n"
          ]
        },
        {
          "output_type": "stream",
          "name": "stdout",
          "text": [
            "\b\b\b\b\b\b\b\b\b\b\b\b\b\b\b\b\b\b\b\b\b\b\b\b\b\b\b\b\b\b\b\b\b\b\b\b\b\b\b\b\b\b\b\b\b\b\b\b\b\b\b\b\b\b\b\b\b\b\b\b\b\b\b\b\b\b\b\b\b\b\b\b\b\b\b\b\b\b\b\b\b\b\b\b\r900/900 [==============================] - 17s 19ms/step - loss: 1.6541 - accuracy: 0.4152 - val_loss: 1.7052 - val_accuracy: 0.4200\n",
            "Epoch 39/50\n",
            "900/900 [==============================] - ETA: 0s - loss: 1.6462 - accuracy: 0.4177"
          ]
        },
        {
          "output_type": "stream",
          "name": "stderr",
          "text": [
            "WARNING:tensorflow:Can save best model only with val_acc available, skipping.\n"
          ]
        },
        {
          "output_type": "stream",
          "name": "stdout",
          "text": [
            "\b\b\b\b\b\b\b\b\b\b\b\b\b\b\b\b\b\b\b\b\b\b\b\b\b\b\b\b\b\b\b\b\b\b\b\b\b\b\b\b\b\b\b\b\b\b\b\b\b\b\b\b\b\b\b\b\b\b\b\b\b\b\b\b\b\b\b\b\b\b\b\b\b\b\b\b\b\b\b\b\b\b\b\b\r900/900 [==============================] - 16s 18ms/step - loss: 1.6462 - accuracy: 0.4177 - val_loss: 1.5941 - val_accuracy: 0.4455\n",
            "Epoch 40/50\n",
            "900/900 [==============================] - ETA: 0s - loss: 1.6363 - accuracy: 0.4195"
          ]
        },
        {
          "output_type": "stream",
          "name": "stderr",
          "text": [
            "WARNING:tensorflow:Can save best model only with val_acc available, skipping.\n"
          ]
        },
        {
          "output_type": "stream",
          "name": "stdout",
          "text": [
            "\b\b\b\b\b\b\b\b\b\b\b\b\b\b\b\b\b\b\b\b\b\b\b\b\b\b\b\b\b\b\b\b\b\b\b\b\b\b\b\b\b\b\b\b\b\b\b\b\b\b\b\b\b\b\b\b\b\b\b\b\b\b\b\b\b\b\b\b\b\b\b\b\b\b\b\b\b\b\b\b\b\b\b\b\r900/900 [==============================] - 19s 22ms/step - loss: 1.6363 - accuracy: 0.4195 - val_loss: 1.5942 - val_accuracy: 0.4422\n",
            "Epoch 41/50\n",
            "899/900 [============================>.] - ETA: 0s - loss: 1.6313 - accuracy: 0.4225"
          ]
        },
        {
          "output_type": "stream",
          "name": "stderr",
          "text": [
            "WARNING:tensorflow:Can save best model only with val_acc available, skipping.\n"
          ]
        },
        {
          "output_type": "stream",
          "name": "stdout",
          "text": [
            "\b\b\b\b\b\b\b\b\b\b\b\b\b\b\b\b\b\b\b\b\b\b\b\b\b\b\b\b\b\b\b\b\b\b\b\b\b\b\b\b\b\b\b\b\b\b\b\b\b\b\b\b\b\b\b\b\b\b\b\b\b\b\b\b\b\b\b\b\b\b\b\b\b\b\b\b\b\b\b\b\b\b\b\b\r900/900 [==============================] - 17s 18ms/step - loss: 1.6314 - accuracy: 0.4224 - val_loss: 1.5362 - val_accuracy: 0.4621\n",
            "Epoch 42/50\n",
            "899/900 [============================>.] - ETA: 0s - loss: 1.6317 - accuracy: 0.4213"
          ]
        },
        {
          "output_type": "stream",
          "name": "stderr",
          "text": [
            "WARNING:tensorflow:Can save best model only with val_acc available, skipping.\n"
          ]
        },
        {
          "output_type": "stream",
          "name": "stdout",
          "text": [
            "\b\b\b\b\b\b\b\b\b\b\b\b\b\b\b\b\b\b\b\b\b\b\b\b\b\b\b\b\b\b\b\b\b\b\b\b\b\b\b\b\b\b\b\b\b\b\b\b\b\b\b\b\b\b\b\b\b\b\b\b\b\b\b\b\b\b\b\b\b\b\b\b\b\b\b\b\b\b\b\b\b\b\b\b\r900/900 [==============================] - 17s 19ms/step - loss: 1.6316 - accuracy: 0.4213 - val_loss: 1.5772 - val_accuracy: 0.4486\n",
            "Epoch 43/50\n",
            "899/900 [============================>.] - ETA: 0s - loss: 1.6269 - accuracy: 0.4233"
          ]
        },
        {
          "output_type": "stream",
          "name": "stderr",
          "text": [
            "WARNING:tensorflow:Can save best model only with val_acc available, skipping.\n"
          ]
        },
        {
          "output_type": "stream",
          "name": "stdout",
          "text": [
            "\b\b\b\b\b\b\b\b\b\b\b\b\b\b\b\b\b\b\b\b\b\b\b\b\b\b\b\b\b\b\b\b\b\b\b\b\b\b\b\b\b\b\b\b\b\b\b\b\b\b\b\b\b\b\b\b\b\b\b\b\b\b\b\b\b\b\b\b\b\b\b\b\b\b\b\b\b\b\b\b\b\b\b\b\r900/900 [==============================] - 17s 19ms/step - loss: 1.6268 - accuracy: 0.4233 - val_loss: 1.6048 - val_accuracy: 0.4455\n",
            "Epoch 44/50\n",
            "900/900 [==============================] - ETA: 0s - loss: 1.6234 - accuracy: 0.4275"
          ]
        },
        {
          "output_type": "stream",
          "name": "stderr",
          "text": [
            "WARNING:tensorflow:Can save best model only with val_acc available, skipping.\n"
          ]
        },
        {
          "output_type": "stream",
          "name": "stdout",
          "text": [
            "\b\b\b\b\b\b\b\b\b\b\b\b\b\b\b\b\b\b\b\b\b\b\b\b\b\b\b\b\b\b\b\b\b\b\b\b\b\b\b\b\b\b\b\b\b\b\b\b\b\b\b\b\b\b\b\b\b\b\b\b\b\b\b\b\b\b\b\b\b\b\b\b\b\b\b\b\b\b\b\b\b\b\b\b\r900/900 [==============================] - 18s 20ms/step - loss: 1.6234 - accuracy: 0.4275 - val_loss: 1.5220 - val_accuracy: 0.4608\n",
            "Epoch 45/50\n",
            "899/900 [============================>.] - ETA: 0s - loss: 1.6177 - accuracy: 0.4288"
          ]
        },
        {
          "output_type": "stream",
          "name": "stderr",
          "text": [
            "WARNING:tensorflow:Can save best model only with val_acc available, skipping.\n"
          ]
        },
        {
          "output_type": "stream",
          "name": "stdout",
          "text": [
            "\b\b\b\b\b\b\b\b\b\b\b\b\b\b\b\b\b\b\b\b\b\b\b\b\b\b\b\b\b\b\b\b\b\b\b\b\b\b\b\b\b\b\b\b\b\b\b\b\b\b\b\b\b\b\b\b\b\b\b\b\b\b\b\b\b\b\b\b\b\b\b\b\b\b\b\b\b\b\b\b\b\b\b\b\r900/900 [==============================] - 17s 19ms/step - loss: 1.6175 - accuracy: 0.4288 - val_loss: 1.6043 - val_accuracy: 0.4347\n",
            "Epoch 46/50\n",
            "900/900 [==============================] - ETA: 0s - loss: 1.6096 - accuracy: 0.4288"
          ]
        },
        {
          "output_type": "stream",
          "name": "stderr",
          "text": [
            "WARNING:tensorflow:Can save best model only with val_acc available, skipping.\n"
          ]
        },
        {
          "output_type": "stream",
          "name": "stdout",
          "text": [
            "\b\b\b\b\b\b\b\b\b\b\b\b\b\b\b\b\b\b\b\b\b\b\b\b\b\b\b\b\b\b\b\b\b\b\b\b\b\b\b\b\b\b\b\b\b\b\b\b\b\b\b\b\b\b\b\b\b\b\b\b\b\b\b\b\b\b\b\b\b\b\b\b\b\b\b\b\b\b\b\b\b\b\b\b\r900/900 [==============================] - 20s 22ms/step - loss: 1.6096 - accuracy: 0.4288 - val_loss: 1.6852 - val_accuracy: 0.4251\n",
            "Epoch 47/50\n",
            "899/900 [============================>.] - ETA: 0s - loss: 1.6039 - accuracy: 0.4335"
          ]
        },
        {
          "output_type": "stream",
          "name": "stderr",
          "text": [
            "WARNING:tensorflow:Can save best model only with val_acc available, skipping.\n"
          ]
        },
        {
          "output_type": "stream",
          "name": "stdout",
          "text": [
            "\b\b\b\b\b\b\b\b\b\b\b\b\b\b\b\b\b\b\b\b\b\b\b\b\b\b\b\b\b\b\b\b\b\b\b\b\b\b\b\b\b\b\b\b\b\b\b\b\b\b\b\b\b\b\b\b\b\b\b\b\b\b\b\b\b\b\b\b\b\b\b\b\b\b\b\b\b\b\b\b\b\b\b\b\r900/900 [==============================] - 17s 19ms/step - loss: 1.6042 - accuracy: 0.4333 - val_loss: 1.5249 - val_accuracy: 0.4683\n",
            "Epoch 48/50\n",
            "899/900 [============================>.] - ETA: 0s - loss: 1.6047 - accuracy: 0.4347"
          ]
        },
        {
          "output_type": "stream",
          "name": "stderr",
          "text": [
            "WARNING:tensorflow:Can save best model only with val_acc available, skipping.\n"
          ]
        },
        {
          "output_type": "stream",
          "name": "stdout",
          "text": [
            "\b\b\b\b\b\b\b\b\b\b\b\b\b\b\b\b\b\b\b\b\b\b\b\b\b\b\b\b\b\b\b\b\b\b\b\b\b\b\b\b\b\b\b\b\b\b\b\b\b\b\b\b\b\b\b\b\b\b\b\b\b\b\b\b\b\b\b\b\b\b\b\b\b\b\b\b\b\b\b\b\b\b\b\b\r900/900 [==============================] - 19s 21ms/step - loss: 1.6047 - accuracy: 0.4347 - val_loss: 1.5718 - val_accuracy: 0.4467\n",
            "Epoch 49/50\n",
            "899/900 [============================>.] - ETA: 0s - loss: 1.5976 - accuracy: 0.4359"
          ]
        },
        {
          "output_type": "stream",
          "name": "stderr",
          "text": [
            "WARNING:tensorflow:Can save best model only with val_acc available, skipping.\n"
          ]
        },
        {
          "output_type": "stream",
          "name": "stdout",
          "text": [
            "\b\b\b\b\b\b\b\b\b\b\b\b\b\b\b\b\b\b\b\b\b\b\b\b\b\b\b\b\b\b\b\b\b\b\b\b\b\b\b\b\b\b\b\b\b\b\b\b\b\b\b\b\b\b\b\b\b\b\b\b\b\b\b\b\b\b\b\b\b\b\b\b\b\b\b\b\b\b\b\b\b\b\b\b\r900/900 [==============================] - 17s 18ms/step - loss: 1.5976 - accuracy: 0.4359 - val_loss: 1.5045 - val_accuracy: 0.4737\n",
            "Epoch 50/50\n",
            "898/900 [============================>.] - ETA: 0s - loss: 1.5841 - accuracy: 0.4387"
          ]
        },
        {
          "output_type": "stream",
          "name": "stderr",
          "text": [
            "WARNING:tensorflow:Can save best model only with val_acc available, skipping.\n"
          ]
        },
        {
          "output_type": "stream",
          "name": "stdout",
          "text": [
            "\b\b\b\b\b\b\b\b\b\b\b\b\b\b\b\b\b\b\b\b\b\b\b\b\b\b\b\b\b\b\b\b\b\b\b\b\b\b\b\b\b\b\b\b\b\b\b\b\b\b\b\b\b\b\b\b\b\b\b\b\b\b\b\b\b\b\b\b\b\b\b\b\b\b\b\b\b\b\b\b\b\b\b\b\r900/900 [==============================] - 19s 21ms/step - loss: 1.5841 - accuracy: 0.4386 - val_loss: 1.5489 - val_accuracy: 0.4533\n",
            "CPU times: user 16min 32s, sys: 1min 22s, total: 17min 54s\n",
            "Wall time: 15min 30s\n"
          ]
        }
      ]
    },
    {
      "cell_type": "code",
      "source": [
        "train_time['SGD']=15.30"
      ],
      "metadata": {
        "id": "LdqnHM7Rv5zR"
      },
      "execution_count": 65,
      "outputs": []
    },
    {
      "cell_type": "markdown",
      "source": [
        "**Performance using SGD optimizer and Sigmoid activation function**"
      ],
      "metadata": {
        "id": "nJYawJ0JxZl4"
      }
    },
    {
      "cell_type": "code",
      "source": [
        "\n",
        "import matplotlib.pyplot as plt\n",
        "\n",
        "plt.figure(figsize=(15,6))\n",
        "plt.subplot(1, 2, 1)\n",
        "plt.suptitle('Optimizer : SGD', fontsize=10)\n",
        "plt.ylabel('Loss', fontsize=16)\n",
        "plt.plot(history.history['loss'], label='Training Loss')\n",
        "plt.plot(history.history['val_loss'], label='Validation Loss')\n",
        "plt.legend(loc='upper right')\n",
        "\n",
        "plt.subplot(1, 2, 2)\n",
        "plt.ylabel('Accuracy', fontsize=16)\n",
        "plt.plot(history.history['accuracy'], label='Training Accuracy')\n",
        "plt.plot(history.history['val_accuracy'], label='Validation Accuracy')\n",
        "plt.legend(loc='lower right')\n",
        "plt.show()"
      ],
      "metadata": {
        "colab": {
          "base_uri": "https://localhost:8080/",
          "height": 417
        },
        "id": "lt8wShS8xgdZ",
        "outputId": "18d3763c-48a5-4b1c-da70-01b8425c2f8d"
      },
      "execution_count": 66,
      "outputs": [
        {
          "output_type": "display_data",
          "data": {
            "text/plain": [
              "<Figure size 1080x432 with 2 Axes>"
            ],
            "image/png": "[encoded data removed]"
          },
          "metadata": {
            "needs_background": "light"
          }
        }
      ]
    },
    {
      "cell_type": "markdown",
      "source": [
        "**CNN with 4 convolutional layers, 3 hidden layers optimizer=Adagrad activation=Relu**"
      ],
      "metadata": {
        "id": "l4kZ-KjdzHSP"
      }
    },
    {
      "cell_type": "code",
      "source": [
        "model=Sequential()\n",
        "#first convolution layer\n",
        "model.add(Conv2D(64,(3,3),strides=(1,1),padding=\"same\",input_shape=(48, 48,1),kernel_regularizer=l1(0.001)))\n",
        "model.add(BatchNormalization())\n",
        "model.add(Activation(\"relu\"))\n",
        "model.add(MaxPooling2D(pool_size=(2, 2)))\n",
        "model.add(Dropout(0.27))\n",
        "\n",
        "#second convolution layer\n",
        "model.add(Conv2D(128,(3,3),strides=(1,1),padding=\"same\",kernel_regularizer=l2(0.001)))\n",
        "model.add(BatchNormalization())\n",
        "model.add(Activation(\"relu\"))\n",
        "model.add(MaxPooling2D(pool_size=(2, 2)))\n",
        "model.add(Dropout(0.27))\n",
        "\n",
        "#third convolution layer\n",
        "model.add(Conv2D(256,(3,3),strides=(2,2),padding=\"same\",kernel_regularizer=l2(0.001)))\n",
        "model.add(BatchNormalization())\n",
        "model.add(Activation(\"relu\"))\n",
        "model.add(MaxPooling2D(pool_size=(2, 2)))\n",
        "model.add(Dropout(0.27))\n",
        "\n",
        "#fourth convolution layer\n",
        "model.add(Conv2D(512,(3,3),strides=(2,2),padding=\"same\",kernel_regularizer=l2(0.001)))\n",
        "model.add(BatchNormalization())\n",
        "model.add(Activation(\"relu\"))\n",
        "model.add(MaxPooling2D(pool_size=(2, 2)))\n",
        "model.add(Dropout(0.27))\n",
        "\n",
        "model.add(Flatten())\n",
        "\n",
        "#1st fully connected layer\n",
        "model.add(Dense(1024,kernel_regularizer=l2(0.0001)))\n",
        "model.add(BatchNormalization())\n",
        "model.add(Activation('relu'))\n",
        "model.add(Dropout(0.27))\n",
        "\n",
        "#2nd fully connected layer\n",
        "model.add(Dense(512,kernel_regularizer=l2(0.0001)))\n",
        "model.add(BatchNormalization())\n",
        "model.add(Activation('relu'))\n",
        "model.add(Dropout(0.27))\n",
        "\n",
        "#2nd fully connected layer\n",
        "model.add(Dense(256,kernel_regularizer=l2(0.0001)))\n",
        "model.add(BatchNormalization())\n",
        "model.add(Activation('relu'))\n",
        "model.add(Dropout(0.27))\n",
        "\n",
        "\n",
        "#last layer\n",
        "model.add(Dense(7))\n",
        "model.add(Activation('softmax'))\n",
        "\n",
        "#compiling model\n",
        "opti=Adagrad(learning_rate=0.01)\n",
        "model.compile(optimizer=opti,loss='categorical_crossentropy',metrics=['accuracy'])\n"
      ],
      "metadata": {
        "id": "PbBTL5u0zUd3"
      },
      "execution_count": 41,
      "outputs": []
    },
    {
      "cell_type": "code",
      "source": [
        "model.summary()"
      ],
      "metadata": {
        "colab": {
          "base_uri": "https://localhost:8080/"
        },
        "id": "2uRTIOxc01r2",
        "outputId": "cb9c970d-5605-4a38-c003-6a75737007ec"
      },
      "execution_count": 42,
      "outputs": [
        {
          "output_type": "stream",
          "name": "stdout",
          "text": [
            "Model: \"sequential_2\"\n",
            "_________________________________________________________________\n",
            " Layer (type)                Output Shape              Param #   \n",
            "=================================================================\n",
            " conv2d_4 (Conv2D)           (None, 48, 48, 64)        640       \n",
            "                                                                 \n",
            " batch_normalization_4 (Batc  (None, 48, 48, 64)       256       \n",
            " hNormalization)                                                 \n",
            "                                                                 \n",
            " activation_5 (Activation)   (None, 48, 48, 64)        0         \n",
            "                                                                 \n",
            " max_pooling2d_2 (MaxPooling  (None, 24, 24, 64)       0         \n",
            " 2D)                                                             \n",
            "                                                                 \n",
            " dropout_4 (Dropout)         (None, 24, 24, 64)        0         \n",
            "                                                                 \n",
            " conv2d_5 (Conv2D)           (None, 24, 24, 128)       73856     \n",
            "                                                                 \n",
            " batch_normalization_5 (Batc  (None, 24, 24, 128)      512       \n",
            " hNormalization)                                                 \n",
            "                                                                 \n",
            " activation_6 (Activation)   (None, 24, 24, 128)       0         \n",
            "                                                                 \n",
            " max_pooling2d_3 (MaxPooling  (None, 12, 12, 128)      0         \n",
            " 2D)                                                             \n",
            "                                                                 \n",
            " dropout_5 (Dropout)         (None, 12, 12, 128)       0         \n",
            "                                                                 \n",
            " conv2d_6 (Conv2D)           (None, 6, 6, 256)         295168    \n",
            "                                                                 \n",
            " batch_normalization_6 (Batc  (None, 6, 6, 256)        1024      \n",
            " hNormalization)                                                 \n",
            "                                                                 \n",
            " activation_7 (Activation)   (None, 6, 6, 256)         0         \n",
            "                                                                 \n",
            " max_pooling2d_4 (MaxPooling  (None, 3, 3, 256)        0         \n",
            " 2D)                                                             \n",
            "                                                                 \n",
            " dropout_6 (Dropout)         (None, 3, 3, 256)         0         \n",
            "                                                                 \n",
            " conv2d_7 (Conv2D)           (None, 2, 2, 512)         1180160   \n",
            "                                                                 \n",
            " batch_normalization_7 (Batc  (None, 2, 2, 512)        2048      \n",
            " hNormalization)                                                 \n",
            "                                                                 \n",
            " activation_8 (Activation)   (None, 2, 2, 512)         0         \n",
            "                                                                 \n",
            " max_pooling2d_5 (MaxPooling  (None, 1, 1, 512)        0         \n",
            " 2D)                                                             \n",
            "                                                                 \n",
            " dropout_7 (Dropout)         (None, 1, 1, 512)         0         \n",
            "                                                                 \n",
            " flatten_1 (Flatten)         (None, 512)               0         \n",
            "                                                                 \n",
            " dense_3 (Dense)             (None, 1024)              525312    \n",
            "                                                                 \n",
            " batch_normalization_8 (Batc  (None, 1024)             4096      \n",
            " hNormalization)                                                 \n",
            "                                                                 \n",
            " activation_9 (Activation)   (None, 1024)              0         \n",
            "                                                                 \n",
            " dropout_8 (Dropout)         (None, 1024)              0         \n",
            "                                                                 \n",
            " dense_4 (Dense)             (None, 512)               524800    \n",
            "                                                                 \n",
            " batch_normalization_9 (Batc  (None, 512)              2048      \n",
            " hNormalization)                                                 \n",
            "                                                                 \n",
            " activation_10 (Activation)  (None, 512)               0         \n",
            "                                                                 \n",
            " dropout_9 (Dropout)         (None, 512)               0         \n",
            "                                                                 \n",
            " dense_5 (Dense)             (None, 256)               131328    \n",
            "                                                                 \n",
            " batch_normalization_10 (Bat  (None, 256)              1024      \n",
            " chNormalization)                                                \n",
            "                                                                 \n",
            " activation_11 (Activation)  (None, 256)               0         \n",
            "                                                                 \n",
            " dropout_10 (Dropout)        (None, 256)               0         \n",
            "                                                                 \n",
            " dense_6 (Dense)             (None, 7)                 1799      \n",
            "                                                                 \n",
            " activation_12 (Activation)  (None, 7)                 0         \n",
            "                                                                 \n",
            "=================================================================\n",
            "Total params: 2,744,071\n",
            "Trainable params: 2,738,567\n",
            "Non-trainable params: 5,504\n",
            "_________________________________________________________________\n"
          ]
        }
      ]
    },
    {
      "cell_type": "markdown",
      "source": [
        "**Training the model**"
      ],
      "metadata": {
        "id": "EPPnwPsn04k3"
      }
    },
    {
      "cell_type": "code",
      "source": [
        "%%time\n",
        "from keras.callbacks import ModelCheckpoint\n",
        "\n",
        "checkpoint = ModelCheckpoint(\"model_weights.h5\", monitor='val_acc', verbose=1, save_best_only=True, mode='max')\n",
        "callbacks_list = [checkpoint]\n",
        "\n",
        "batch_size=150\n",
        "history = model.fit(train_gen,\n",
        "                                steps_per_epoch=train_gen.n//train_gen.batch_size,\n",
        "                                epochs=50,\n",
        "                                validation_data = validation_gen,\n",
        "                                validation_steps = validation_gen.n//validation_gen.batch_size,\n",
        "                                callbacks=callbacks_list)"
      ],
      "metadata": {
        "colab": {
          "base_uri": "https://localhost:8080/"
        },
        "id": "_2z6ZLWa08lV",
        "outputId": "ff1d8675-d7da-4753-bfba-8e81eb3d4c4b"
      },
      "execution_count": 45,
      "outputs": [
        {
          "output_type": "stream",
          "name": "stdout",
          "text": [
            "Epoch 1/50\n",
            "900/900 [==============================] - ETA: 0s - loss: 2.5558 - accuracy: 0.2887"
          ]
        },
        {
          "output_type": "stream",
          "name": "stderr",
          "text": [
            "WARNING:tensorflow:Can save best model only with val_acc available, skipping.\n"
          ]
        },
        {
          "output_type": "stream",
          "name": "stdout",
          "text": [
            "\b\b\b\b\b\b\b\b\b\b\b\b\b\b\b\b\b\b\b\b\b\b\b\b\b\b\b\b\b\b\b\b\b\b\b\b\b\b\b\b\b\b\b\b\b\b\b\b\b\b\b\b\b\b\b\b\b\b\b\b\b\b\b\b\b\b\b\b\b\b\b\b\b\b\b\b\b\b\b\b\b\b\b\b\r900/900 [==============================] - 20s 22ms/step - loss: 2.5558 - accuracy: 0.2887 - val_loss: 2.7441 - val_accuracy: 0.2803\n",
            "Epoch 2/50\n",
            "899/900 [============================>.] - ETA: 0s - loss: 2.3579 - accuracy: 0.3578"
          ]
        },
        {
          "output_type": "stream",
          "name": "stderr",
          "text": [
            "WARNING:tensorflow:Can save best model only with val_acc available, skipping.\n"
          ]
        },
        {
          "output_type": "stream",
          "name": "stdout",
          "text": [
            "\b\b\b\b\b\b\b\b\b\b\b\b\b\b\b\b\b\b\b\b\b\b\b\b\b\b\b\b\b\b\b\b\b\b\b\b\b\b\b\b\b\b\b\b\b\b\b\b\b\b\b\b\b\b\b\b\b\b\b\b\b\b\b\b\b\b\b\b\b\b\b\b\b\b\b\b\b\b\b\b\b\b\b\b\r900/900 [==============================] - 20s 22ms/step - loss: 2.3576 - accuracy: 0.3579 - val_loss: 2.1913 - val_accuracy: 0.4313\n",
            "Epoch 3/50\n",
            "898/900 [============================>.] - ETA: 0s - loss: 2.2405 - accuracy: 0.3913"
          ]
        },
        {
          "output_type": "stream",
          "name": "stderr",
          "text": [
            "WARNING:tensorflow:Can save best model only with val_acc available, skipping.\n"
          ]
        },
        {
          "output_type": "stream",
          "name": "stdout",
          "text": [
            "\b\b\b\b\b\b\b\b\b\b\b\b\b\b\b\b\b\b\b\b\b\b\b\b\b\b\b\b\b\b\b\b\b\b\b\b\b\b\b\b\b\b\b\b\b\b\b\b\b\b\b\b\b\b\b\b\b\b\b\b\b\b\b\b\b\b\b\b\b\b\b\b\b\b\b\b\b\b\b\b\b\b\b\b\r900/900 [==============================] - 21s 23ms/step - loss: 2.2404 - accuracy: 0.3914 - val_loss: 2.0951 - val_accuracy: 0.4528\n",
            "Epoch 4/50\n",
            "899/900 [============================>.] - ETA: 0s - loss: 2.1416 - accuracy: 0.4181"
          ]
        },
        {
          "output_type": "stream",
          "name": "stderr",
          "text": [
            "WARNING:tensorflow:Can save best model only with val_acc available, skipping.\n"
          ]
        },
        {
          "output_type": "stream",
          "name": "stdout",
          "text": [
            "\b\b\b\b\b\b\b\b\b\b\b\b\b\b\b\b\b\b\b\b\b\b\b\b\b\b\b\b\b\b\b\b\b\b\b\b\b\b\b\b\b\b\b\b\b\b\b\b\b\b\b\b\b\b\b\b\b\b\b\b\b\b\b\b\b\b\b\b\b\b\b\b\b\b\b\b\b\b\b\b\b\b\b\b\r900/900 [==============================] - 22s 25ms/step - loss: 2.1417 - accuracy: 0.4181 - val_loss: 2.0933 - val_accuracy: 0.4429\n",
            "Epoch 5/50\n",
            "898/900 [============================>.] - ETA: 0s - loss: 2.0667 - accuracy: 0.4340"
          ]
        },
        {
          "output_type": "stream",
          "name": "stderr",
          "text": [
            "WARNING:tensorflow:Can save best model only with val_acc available, skipping.\n"
          ]
        },
        {
          "output_type": "stream",
          "name": "stdout",
          "text": [
            "\b\b\b\b\b\b\b\b\b\b\b\b\b\b\b\b\b\b\b\b\b\b\b\b\b\b\b\b\b\b\b\b\b\b\b\b\b\b\b\b\b\b\b\b\b\b\b\b\b\b\b\b\b\b\b\b\b\b\b\b\b\b\b\b\b\b\b\b\b\b\b\b\b\b\b\b\b\b\b\b\b\b\b\b\r900/900 [==============================] - 21s 24ms/step - loss: 2.0665 - accuracy: 0.4342 - val_loss: 1.9895 - val_accuracy: 0.4638\n",
            "Epoch 6/50\n",
            "900/900 [==============================] - ETA: 0s - loss: 1.9958 - accuracy: 0.4520"
          ]
        },
        {
          "output_type": "stream",
          "name": "stderr",
          "text": [
            "WARNING:tensorflow:Can save best model only with val_acc available, skipping.\n"
          ]
        },
        {
          "output_type": "stream",
          "name": "stdout",
          "text": [
            "\b\b\b\b\b\b\b\b\b\b\b\b\b\b\b\b\b\b\b\b\b\b\b\b\b\b\b\b\b\b\b\b\b\b\b\b\b\b\b\b\b\b\b\b\b\b\b\b\b\b\b\b\b\b\b\b\b\b\b\b\b\b\b\b\b\b\b\b\b\b\b\b\b\b\b\b\b\b\b\b\b\b\b\b\r900/900 [==============================] - 21s 24ms/step - loss: 1.9958 - accuracy: 0.4520 - val_loss: 1.9220 - val_accuracy: 0.4787\n",
            "Epoch 7/50\n",
            "898/900 [============================>.] - ETA: 0s - loss: 1.9306 - accuracy: 0.4656"
          ]
        },
        {
          "output_type": "stream",
          "name": "stderr",
          "text": [
            "WARNING:tensorflow:Can save best model only with val_acc available, skipping.\n"
          ]
        },
        {
          "output_type": "stream",
          "name": "stdout",
          "text": [
            "\b\b\b\b\b\b\b\b\b\b\b\b\b\b\b\b\b\b\b\b\b\b\b\b\b\b\b\b\b\b\b\b\b\b\b\b\b\b\b\b\b\b\b\b\b\b\b\b\b\b\b\b\b\b\b\b\b\b\b\b\b\b\b\b\b\b\b\b\b\b\b\b\b\b\b\b\b\b\b\b\b\b\b\b\r900/900 [==============================] - 20s 22ms/step - loss: 1.9311 - accuracy: 0.4654 - val_loss: 1.8633 - val_accuracy: 0.4884\n",
            "Epoch 8/50\n",
            "898/900 [============================>.] - ETA: 0s - loss: 1.8727 - accuracy: 0.4840"
          ]
        },
        {
          "output_type": "stream",
          "name": "stderr",
          "text": [
            "WARNING:tensorflow:Can save best model only with val_acc available, skipping.\n"
          ]
        },
        {
          "output_type": "stream",
          "name": "stdout",
          "text": [
            "\b\b\b\b\b\b\b\b\b\b\b\b\b\b\b\b\b\b\b\b\b\b\b\b\b\b\b\b\b\b\b\b\b\b\b\b\b\b\b\b\b\b\b\b\b\b\b\b\b\b\b\b\b\b\b\b\b\b\b\b\b\b\b\b\b\b\b\b\b\b\b\b\b\b\b\b\b\b\b\b\b\b\b\b\r900/900 [==============================] - 20s 22ms/step - loss: 1.8730 - accuracy: 0.4838 - val_loss: 1.8023 - val_accuracy: 0.5054\n",
            "Epoch 9/50\n",
            "899/900 [============================>.] - ETA: 0s - loss: 1.8260 - accuracy: 0.4906"
          ]
        },
        {
          "output_type": "stream",
          "name": "stderr",
          "text": [
            "WARNING:tensorflow:Can save best model only with val_acc available, skipping.\n"
          ]
        },
        {
          "output_type": "stream",
          "name": "stdout",
          "text": [
            "\b\b\b\b\b\b\b\b\b\b\b\b\b\b\b\b\b\b\b\b\b\b\b\b\b\b\b\b\b\b\b\b\b\b\b\b\b\b\b\b\b\b\b\b\b\b\b\b\b\b\b\b\b\b\b\b\b\b\b\b\b\b\b\b\b\b\b\b\b\b\b\b\b\b\b\b\b\b\b\b\b\b\b\b\r900/900 [==============================] - 19s 22ms/step - loss: 1.8258 - accuracy: 0.4907 - val_loss: 1.7296 - val_accuracy: 0.5236\n",
            "Epoch 10/50\n",
            "898/900 [============================>.] - ETA: 0s - loss: 1.7896 - accuracy: 0.4997"
          ]
        },
        {
          "output_type": "stream",
          "name": "stderr",
          "text": [
            "WARNING:tensorflow:Can save best model only with val_acc available, skipping.\n"
          ]
        },
        {
          "output_type": "stream",
          "name": "stdout",
          "text": [
            "\b\b\b\b\b\b\b\b\b\b\b\b\b\b\b\b\b\b\b\b\b\b\b\b\b\b\b\b\b\b\b\b\b\b\b\b\b\b\b\b\b\b\b\b\b\b\b\b\b\b\b\b\b\b\b\b\b\b\b\b\b\b\b\b\b\b\b\b\b\b\b\b\b\b\b\b\b\b\b\b\b\b\b\b\r900/900 [==============================] - 20s 23ms/step - loss: 1.7893 - accuracy: 0.4998 - val_loss: 1.7193 - val_accuracy: 0.5180\n",
            "Epoch 11/50\n",
            "900/900 [==============================] - ETA: 0s - loss: 1.7492 - accuracy: 0.5070"
          ]
        },
        {
          "output_type": "stream",
          "name": "stderr",
          "text": [
            "WARNING:tensorflow:Can save best model only with val_acc available, skipping.\n"
          ]
        },
        {
          "output_type": "stream",
          "name": "stdout",
          "text": [
            "\b\b\b\b\b\b\b\b\b\b\b\b\b\b\b\b\b\b\b\b\b\b\b\b\b\b\b\b\b\b\b\b\b\b\b\b\b\b\b\b\b\b\b\b\b\b\b\b\b\b\b\b\b\b\b\b\b\b\b\b\b\b\b\b\b\b\b\b\b\b\b\b\b\b\b\b\b\b\b\b\b\b\b\b\r900/900 [==============================] - 22s 24ms/step - loss: 1.7492 - accuracy: 0.5070 - val_loss: 1.6884 - val_accuracy: 0.5207\n",
            "Epoch 12/50\n",
            "897/900 [============================>.] - ETA: 0s - loss: 1.7217 - accuracy: 0.5113"
          ]
        },
        {
          "output_type": "stream",
          "name": "stderr",
          "text": [
            "WARNING:tensorflow:Can save best model only with val_acc available, skipping.\n"
          ]
        },
        {
          "output_type": "stream",
          "name": "stdout",
          "text": [
            "\b\b\b\b\b\b\b\b\b\b\b\b\b\b\b\b\b\b\b\b\b\b\b\b\b\b\b\b\b\b\b\b\b\b\b\b\b\b\b\b\b\b\b\b\b\b\b\b\b\b\b\b\b\b\b\b\b\b\b\b\b\b\b\b\b\b\b\b\b\b\b\b\b\b\b\b\b\b\b\b\b\b\b\b\r900/900 [==============================] - 20s 22ms/step - loss: 1.7212 - accuracy: 0.5112 - val_loss: 1.7056 - val_accuracy: 0.5210\n",
            "Epoch 13/50\n",
            "898/900 [============================>.] - ETA: 0s - loss: 1.6860 - accuracy: 0.5214"
          ]
        },
        {
          "output_type": "stream",
          "name": "stderr",
          "text": [
            "WARNING:tensorflow:Can save best model only with val_acc available, skipping.\n"
          ]
        },
        {
          "output_type": "stream",
          "name": "stdout",
          "text": [
            "\b\b\b\b\b\b\b\b\b\b\b\b\b\b\b\b\b\b\b\b\b\b\b\b\b\b\b\b\b\b\b\b\b\b\b\b\b\b\b\b\b\b\b\b\b\b\b\b\b\b\b\b\b\b\b\b\b\b\b\b\b\b\b\b\b\b\b\b\b\b\b\b\b\b\b\b\b\b\b\b\b\b\b\b\r900/900 [==============================] - 21s 23ms/step - loss: 1.6858 - accuracy: 0.5213 - val_loss: 1.6229 - val_accuracy: 0.5446\n",
            "Epoch 14/50\n",
            "899/900 [============================>.] - ETA: 0s - loss: 1.6596 - accuracy: 0.5276"
          ]
        },
        {
          "output_type": "stream",
          "name": "stderr",
          "text": [
            "WARNING:tensorflow:Can save best model only with val_acc available, skipping.\n"
          ]
        },
        {
          "output_type": "stream",
          "name": "stdout",
          "text": [
            "\b\b\b\b\b\b\b\b\b\b\b\b\b\b\b\b\b\b\b\b\b\b\b\b\b\b\b\b\b\b\b\b\b\b\b\b\b\b\b\b\b\b\b\b\b\b\b\b\b\b\b\b\b\b\b\b\b\b\b\b\b\b\b\b\b\b\b\b\b\b\b\b\b\b\b\b\b\b\b\b\b\b\b\b\r900/900 [==============================] - 22s 25ms/step - loss: 1.6597 - accuracy: 0.5277 - val_loss: 1.5762 - val_accuracy: 0.5589\n",
            "Epoch 15/50\n",
            "900/900 [==============================] - ETA: 0s - loss: 1.6312 - accuracy: 0.5356"
          ]
        },
        {
          "output_type": "stream",
          "name": "stderr",
          "text": [
            "WARNING:tensorflow:Can save best model only with val_acc available, skipping.\n"
          ]
        },
        {
          "output_type": "stream",
          "name": "stdout",
          "text": [
            "\b\b\b\b\b\b\b\b\b\b\b\b\b\b\b\b\b\b\b\b\b\b\b\b\b\b\b\b\b\b\b\b\b\b\b\b\b\b\b\b\b\b\b\b\b\b\b\b\b\b\b\b\b\b\b\b\b\b\b\b\b\b\b\b\b\b\b\b\b\b\b\b\b\b\b\b\b\b\b\b\b\b\b\b\r900/900 [==============================] - 21s 23ms/step - loss: 1.6312 - accuracy: 0.5356 - val_loss: 1.5675 - val_accuracy: 0.5534\n",
            "Epoch 16/50\n",
            "898/900 [============================>.] - ETA: 0s - loss: 1.6039 - accuracy: 0.5387"
          ]
        },
        {
          "output_type": "stream",
          "name": "stderr",
          "text": [
            "WARNING:tensorflow:Can save best model only with val_acc available, skipping.\n"
          ]
        },
        {
          "output_type": "stream",
          "name": "stdout",
          "text": [
            "\b\b\b\b\b\b\b\b\b\b\b\b\b\b\b\b\b\b\b\b\b\b\b\b\b\b\b\b\b\b\b\b\b\b\b\b\b\b\b\b\b\b\b\b\b\b\b\b\b\b\b\b\b\b\b\b\b\b\b\b\b\b\b\b\b\b\b\b\b\b\b\b\b\b\b\b\b\b\b\b\b\b\b\b\r900/900 [==============================] - 20s 22ms/step - loss: 1.6042 - accuracy: 0.5385 - val_loss: 1.5476 - val_accuracy: 0.5607\n",
            "Epoch 17/50\n",
            "898/900 [============================>.] - ETA: 0s - loss: 1.5816 - accuracy: 0.5459"
          ]
        },
        {
          "output_type": "stream",
          "name": "stderr",
          "text": [
            "WARNING:tensorflow:Can save best model only with val_acc available, skipping.\n"
          ]
        },
        {
          "output_type": "stream",
          "name": "stdout",
          "text": [
            "\b\b\b\b\b\b\b\b\b\b\b\b\b\b\b\b\b\b\b\b\b\b\b\b\b\b\b\b\b\b\b\b\b\b\b\b\b\b\b\b\b\b\b\b\b\b\b\b\b\b\b\b\b\b\b\b\b\b\b\b\b\b\b\b\b\b\b\b\b\b\b\b\b\b\b\b\b\b\b\b\b\b\b\b\r900/900 [==============================] - 20s 22ms/step - loss: 1.5812 - accuracy: 0.5459 - val_loss: 1.6124 - val_accuracy: 0.5396\n",
            "Epoch 18/50\n",
            "900/900 [==============================] - ETA: 0s - loss: 1.5614 - accuracy: 0.5484"
          ]
        },
        {
          "output_type": "stream",
          "name": "stderr",
          "text": [
            "WARNING:tensorflow:Can save best model only with val_acc available, skipping.\n"
          ]
        },
        {
          "output_type": "stream",
          "name": "stdout",
          "text": [
            "\b\b\b\b\b\b\b\b\b\b\b\b\b\b\b\b\b\b\b\b\b\b\b\b\b\b\b\b\b\b\b\b\b\b\b\b\b\b\b\b\b\b\b\b\b\b\b\b\b\b\b\b\b\b\b\b\b\b\b\b\b\b\b\b\b\b\b\b\b\b\b\b\b\b\b\b\b\b\b\b\b\b\b\b\r900/900 [==============================] - 21s 23ms/step - loss: 1.5614 - accuracy: 0.5484 - val_loss: 1.6459 - val_accuracy: 0.5243\n",
            "Epoch 19/50\n",
            "898/900 [============================>.] - ETA: 0s - loss: 1.5451 - accuracy: 0.5526"
          ]
        },
        {
          "output_type": "stream",
          "name": "stderr",
          "text": [
            "WARNING:tensorflow:Can save best model only with val_acc available, skipping.\n"
          ]
        },
        {
          "output_type": "stream",
          "name": "stdout",
          "text": [
            "\b\b\b\b\b\b\b\b\b\b\b\b\b\b\b\b\b\b\b\b\b\b\b\b\b\b\b\b\b\b\b\b\b\b\b\b\b\b\b\b\b\b\b\b\b\b\b\b\b\b\b\b\b\b\b\b\b\b\b\b\b\b\b\b\b\b\b\b\b\b\b\b\b\b\b\b\b\b\b\b\b\b\b\b\r900/900 [==============================] - 20s 22ms/step - loss: 1.5447 - accuracy: 0.5528 - val_loss: 1.4826 - val_accuracy: 0.5786\n",
            "Epoch 20/50\n",
            "899/900 [============================>.] - ETA: 0s - loss: 1.5209 - accuracy: 0.5623"
          ]
        },
        {
          "output_type": "stream",
          "name": "stderr",
          "text": [
            "WARNING:tensorflow:Can save best model only with val_acc available, skipping.\n"
          ]
        },
        {
          "output_type": "stream",
          "name": "stdout",
          "text": [
            "\b\b\b\b\b\b\b\b\b\b\b\b\b\b\b\b\b\b\b\b\b\b\b\b\b\b\b\b\b\b\b\b\b\b\b\b\b\b\b\b\b\b\b\b\b\b\b\b\b\b\b\b\b\b\b\b\b\b\b\b\b\b\b\b\b\b\b\b\b\b\b\b\b\b\b\b\b\b\b\b\b\b\b\b\r900/900 [==============================] - 20s 23ms/step - loss: 1.5207 - accuracy: 0.5624 - val_loss: 1.5361 - val_accuracy: 0.5560\n",
            "Epoch 21/50\n",
            "899/900 [============================>.] - ETA: 0s - loss: 1.5048 - accuracy: 0.5639"
          ]
        },
        {
          "output_type": "stream",
          "name": "stderr",
          "text": [
            "WARNING:tensorflow:Can save best model only with val_acc available, skipping.\n"
          ]
        },
        {
          "output_type": "stream",
          "name": "stdout",
          "text": [
            "\b\b\b\b\b\b\b\b\b\b\b\b\b\b\b\b\b\b\b\b\b\b\b\b\b\b\b\b\b\b\b\b\b\b\b\b\b\b\b\b\b\b\b\b\b\b\b\b\b\b\b\b\b\b\b\b\b\b\b\b\b\b\b\b\b\b\b\b\b\b\b\b\b\b\b\b\b\b\b\b\b\b\b\b\r900/900 [==============================] - 19s 22ms/step - loss: 1.5048 - accuracy: 0.5638 - val_loss: 1.4766 - val_accuracy: 0.5864\n",
            "Epoch 22/50\n",
            "900/900 [==============================] - ETA: 0s - loss: 1.4867 - accuracy: 0.5699"
          ]
        },
        {
          "output_type": "stream",
          "name": "stderr",
          "text": [
            "WARNING:tensorflow:Can save best model only with val_acc available, skipping.\n"
          ]
        },
        {
          "output_type": "stream",
          "name": "stdout",
          "text": [
            "\b\b\b\b\b\b\b\b\b\b\b\b\b\b\b\b\b\b\b\b\b\b\b\b\b\b\b\b\b\b\b\b\b\b\b\b\b\b\b\b\b\b\b\b\b\b\b\b\b\b\b\b\b\b\b\b\b\b\b\b\b\b\b\b\b\b\b\b\b\b\b\b\b\b\b\b\b\b\b\b\b\b\b\b\r900/900 [==============================] - 19s 21ms/step - loss: 1.4867 - accuracy: 0.5699 - val_loss: 1.4463 - val_accuracy: 0.5895\n",
            "Epoch 23/50\n",
            "898/900 [============================>.] - ETA: 0s - loss: 1.4717 - accuracy: 0.5765"
          ]
        },
        {
          "output_type": "stream",
          "name": "stderr",
          "text": [
            "WARNING:tensorflow:Can save best model only with val_acc available, skipping.\n"
          ]
        },
        {
          "output_type": "stream",
          "name": "stdout",
          "text": [
            "\b\b\b\b\b\b\b\b\b\b\b\b\b\b\b\b\b\b\b\b\b\b\b\b\b\b\b\b\b\b\b\b\b\b\b\b\b\b\b\b\b\b\b\b\b\b\b\b\b\b\b\b\b\b\b\b\b\b\b\b\b\b\b\b\b\b\b\b\b\b\b\b\b\b\b\b\b\b\b\b\b\b\b\b\r900/900 [==============================] - 20s 22ms/step - loss: 1.4720 - accuracy: 0.5765 - val_loss: 1.4972 - val_accuracy: 0.5638\n",
            "Epoch 24/50\n",
            "900/900 [==============================] - ETA: 0s - loss: 1.4561 - accuracy: 0.5780"
          ]
        },
        {
          "output_type": "stream",
          "name": "stderr",
          "text": [
            "WARNING:tensorflow:Can save best model only with val_acc available, skipping.\n"
          ]
        },
        {
          "output_type": "stream",
          "name": "stdout",
          "text": [
            "\b\b\b\b\b\b\b\b\b\b\b\b\b\b\b\b\b\b\b\b\b\b\b\b\b\b\b\b\b\b\b\b\b\b\b\b\b\b\b\b\b\b\b\b\b\b\b\b\b\b\b\b\b\b\b\b\b\b\b\b\b\b\b\b\b\b\b\b\b\b\b\b\b\b\b\b\b\b\b\b\b\b\b\b\r900/900 [==============================] - 20s 22ms/step - loss: 1.4561 - accuracy: 0.5780 - val_loss: 1.4370 - val_accuracy: 0.5952\n",
            "Epoch 25/50\n",
            "899/900 [============================>.] - ETA: 0s - loss: 1.4443 - accuracy: 0.5814"
          ]
        },
        {
          "output_type": "stream",
          "name": "stderr",
          "text": [
            "WARNING:tensorflow:Can save best model only with val_acc available, skipping.\n"
          ]
        },
        {
          "output_type": "stream",
          "name": "stdout",
          "text": [
            "\b\b\b\b\b\b\b\b\b\b\b\b\b\b\b\b\b\b\b\b\b\b\b\b\b\b\b\b\b\b\b\b\b\b\b\b\b\b\b\b\b\b\b\b\b\b\b\b\b\b\b\b\b\b\b\b\b\b\b\b\b\b\b\b\b\b\b\b\b\b\b\b\b\b\b\b\b\b\b\b\b\b\b\b\r900/900 [==============================] - 21s 23ms/step - loss: 1.4444 - accuracy: 0.5813 - val_loss: 1.5412 - val_accuracy: 0.5501\n",
            "Epoch 26/50\n",
            "899/900 [============================>.] - ETA: 0s - loss: 1.4242 - accuracy: 0.5892"
          ]
        },
        {
          "output_type": "stream",
          "name": "stderr",
          "text": [
            "WARNING:tensorflow:Can save best model only with val_acc available, skipping.\n"
          ]
        },
        {
          "output_type": "stream",
          "name": "stdout",
          "text": [
            "\b\b\b\b\b\b\b\b\b\b\b\b\b\b\b\b\b\b\b\b\b\b\b\b\b\b\b\b\b\b\b\b\b\b\b\b\b\b\b\b\b\b\b\b\b\b\b\b\b\b\b\b\b\b\b\b\b\b\b\b\b\b\b\b\b\b\b\b\b\b\b\b\b\b\b\b\b\b\b\b\b\b\b\b\r900/900 [==============================] - 20s 22ms/step - loss: 1.4240 - accuracy: 0.5893 - val_loss: 1.4541 - val_accuracy: 0.5803\n",
            "Epoch 27/50\n",
            "898/900 [============================>.] - ETA: 0s - loss: 1.4133 - accuracy: 0.5927"
          ]
        },
        {
          "output_type": "stream",
          "name": "stderr",
          "text": [
            "WARNING:tensorflow:Can save best model only with val_acc available, skipping.\n"
          ]
        },
        {
          "output_type": "stream",
          "name": "stdout",
          "text": [
            "\b\b\b\b\b\b\b\b\b\b\b\b\b\b\b\b\b\b\b\b\b\b\b\b\b\b\b\b\b\b\b\b\b\b\b\b\b\b\b\b\b\b\b\b\b\b\b\b\b\b\b\b\b\b\b\b\b\b\b\b\b\b\b\b\b\b\b\b\b\b\b\b\b\b\b\b\b\b\b\b\b\b\b\b\r900/900 [==============================] - 20s 23ms/step - loss: 1.4138 - accuracy: 0.5926 - val_loss: 1.5100 - val_accuracy: 0.5656\n",
            "Epoch 28/50\n",
            "900/900 [==============================] - ETA: 0s - loss: 1.4006 - accuracy: 0.5946"
          ]
        },
        {
          "output_type": "stream",
          "name": "stderr",
          "text": [
            "WARNING:tensorflow:Can save best model only with val_acc available, skipping.\n"
          ]
        },
        {
          "output_type": "stream",
          "name": "stdout",
          "text": [
            "\b\b\b\b\b\b\b\b\b\b\b\b\b\b\b\b\b\b\b\b\b\b\b\b\b\b\b\b\b\b\b\b\b\b\b\b\b\b\b\b\b\b\b\b\b\b\b\b\b\b\b\b\b\b\b\b\b\b\b\b\b\b\b\b\b\b\b\b\b\b\b\b\b\b\b\b\b\b\b\b\b\b\b\b\r900/900 [==============================] - 27s 30ms/step - loss: 1.4006 - accuracy: 0.5946 - val_loss: 1.4657 - val_accuracy: 0.5764\n",
            "Epoch 29/50\n",
            "899/900 [============================>.] - ETA: 0s - loss: 1.3826 - accuracy: 0.6018"
          ]
        },
        {
          "output_type": "stream",
          "name": "stderr",
          "text": [
            "WARNING:tensorflow:Can save best model only with val_acc available, skipping.\n"
          ]
        },
        {
          "output_type": "stream",
          "name": "stdout",
          "text": [
            "\b\b\b\b\b\b\b\b\b\b\b\b\b\b\b\b\b\b\b\b\b\b\b\b\b\b\b\b\b\b\b\b\b\b\b\b\b\b\b\b\b\b\b\b\b\b\b\b\b\b\b\b\b\b\b\b\b\b\b\b\b\b\b\b\b\b\b\b\b\b\b\b\b\b\b\b\b\b\b\b\b\b\b\b\r900/900 [==============================] - 26s 29ms/step - loss: 1.3827 - accuracy: 0.6018 - val_loss: 1.4093 - val_accuracy: 0.6014\n",
            "Epoch 30/50\n",
            "900/900 [==============================] - ETA: 0s - loss: 1.3747 - accuracy: 0.6015"
          ]
        },
        {
          "output_type": "stream",
          "name": "stderr",
          "text": [
            "WARNING:tensorflow:Can save best model only with val_acc available, skipping.\n"
          ]
        },
        {
          "output_type": "stream",
          "name": "stdout",
          "text": [
            "\b\b\b\b\b\b\b\b\b\b\b\b\b\b\b\b\b\b\b\b\b\b\b\b\b\b\b\b\b\b\b\b\b\b\b\b\b\b\b\b\b\b\b\b\b\b\b\b\b\b\b\b\b\b\b\b\b\b\b\b\b\b\b\b\b\b\b\b\b\b\b\b\b\b\b\b\b\b\b\b\b\b\b\b\r900/900 [==============================] - 20s 22ms/step - loss: 1.3747 - accuracy: 0.6015 - val_loss: 1.4127 - val_accuracy: 0.5990\n",
            "Epoch 31/50\n",
            "897/900 [============================>.] - ETA: 0s - loss: 1.3639 - accuracy: 0.6072"
          ]
        },
        {
          "output_type": "stream",
          "name": "stderr",
          "text": [
            "WARNING:tensorflow:Can save best model only with val_acc available, skipping.\n"
          ]
        },
        {
          "output_type": "stream",
          "name": "stdout",
          "text": [
            "\b\b\b\b\b\b\b\b\b\b\b\b\b\b\b\b\b\b\b\b\b\b\b\b\b\b\b\b\b\b\b\b\b\b\b\b\b\b\b\b\b\b\b\b\b\b\b\b\b\b\b\b\b\b\b\b\b\b\b\b\b\b\b\b\b\b\b\b\b\b\b\b\b\b\b\b\b\b\b\b\b\b\b\b\r900/900 [==============================] - 20s 22ms/step - loss: 1.3633 - accuracy: 0.6075 - val_loss: 1.4283 - val_accuracy: 0.5932\n",
            "Epoch 32/50\n",
            "898/900 [============================>.] - ETA: 0s - loss: 1.3524 - accuracy: 0.6109"
          ]
        },
        {
          "output_type": "stream",
          "name": "stderr",
          "text": [
            "WARNING:tensorflow:Can save best model only with val_acc available, skipping.\n"
          ]
        },
        {
          "output_type": "stream",
          "name": "stdout",
          "text": [
            "\b\b\b\b\b\b\b\b\b\b\b\b\b\b\b\b\b\b\b\b\b\b\b\b\b\b\b\b\b\b\b\b\b\b\b\b\b\b\b\b\b\b\b\b\b\b\b\b\b\b\b\b\b\b\b\b\b\b\b\b\b\b\b\b\b\b\b\b\b\b\b\b\b\b\b\b\b\b\b\b\b\b\b\b\r900/900 [==============================] - 22s 24ms/step - loss: 1.3521 - accuracy: 0.6111 - val_loss: 1.3863 - val_accuracy: 0.6061\n",
            "Epoch 33/50\n",
            "900/900 [==============================] - ETA: 0s - loss: 1.3400 - accuracy: 0.6139"
          ]
        },
        {
          "output_type": "stream",
          "name": "stderr",
          "text": [
            "WARNING:tensorflow:Can save best model only with val_acc available, skipping.\n"
          ]
        },
        {
          "output_type": "stream",
          "name": "stdout",
          "text": [
            "\b\b\b\b\b\b\b\b\b\b\b\b\b\b\b\b\b\b\b\b\b\b\b\b\b\b\b\b\b\b\b\b\b\b\b\b\b\b\b\b\b\b\b\b\b\b\b\b\b\b\b\b\b\b\b\b\b\b\b\b\b\b\b\b\b\b\b\b\b\b\b\b\b\b\b\b\b\b\b\b\b\b\b\b\r900/900 [==============================] - 20s 23ms/step - loss: 1.3400 - accuracy: 0.6139 - val_loss: 1.3846 - val_accuracy: 0.6021\n",
            "Epoch 34/50\n",
            "899/900 [============================>.] - ETA: 0s - loss: 1.3250 - accuracy: 0.6195"
          ]
        },
        {
          "output_type": "stream",
          "name": "stderr",
          "text": [
            "WARNING:tensorflow:Can save best model only with val_acc available, skipping.\n"
          ]
        },
        {
          "output_type": "stream",
          "name": "stdout",
          "text": [
            "\b\b\b\b\b\b\b\b\b\b\b\b\b\b\b\b\b\b\b\b\b\b\b\b\b\b\b\b\b\b\b\b\b\b\b\b\b\b\b\b\b\b\b\b\b\b\b\b\b\b\b\b\b\b\b\b\b\b\b\b\b\b\b\b\b\b\b\b\b\b\b\b\b\b\b\b\b\b\b\b\b\b\b\b\r900/900 [==============================] - 22s 24ms/step - loss: 1.3248 - accuracy: 0.6195 - val_loss: 1.3668 - val_accuracy: 0.6159\n",
            "Epoch 35/50\n",
            "899/900 [============================>.] - ETA: 0s - loss: 1.3157 - accuracy: 0.6250"
          ]
        },
        {
          "output_type": "stream",
          "name": "stderr",
          "text": [
            "WARNING:tensorflow:Can save best model only with val_acc available, skipping.\n"
          ]
        },
        {
          "output_type": "stream",
          "name": "stdout",
          "text": [
            "\b\b\b\b\b\b\b\b\b\b\b\b\b\b\b\b\b\b\b\b\b\b\b\b\b\b\b\b\b\b\b\b\b\b\b\b\b\b\b\b\b\b\b\b\b\b\b\b\b\b\b\b\b\b\b\b\b\b\b\b\b\b\b\b\b\b\b\b\b\b\b\b\b\b\b\b\b\b\b\b\b\b\b\b\r900/900 [==============================] - 20s 22ms/step - loss: 1.3162 - accuracy: 0.6250 - val_loss: 1.3880 - val_accuracy: 0.6017\n",
            "Epoch 36/50\n",
            "899/900 [============================>.] - ETA: 0s - loss: 1.3062 - accuracy: 0.6273"
          ]
        },
        {
          "output_type": "stream",
          "name": "stderr",
          "text": [
            "WARNING:tensorflow:Can save best model only with val_acc available, skipping.\n"
          ]
        },
        {
          "output_type": "stream",
          "name": "stdout",
          "text": [
            "\b\b\b\b\b\b\b\b\b\b\b\b\b\b\b\b\b\b\b\b\b\b\b\b\b\b\b\b\b\b\b\b\b\b\b\b\b\b\b\b\b\b\b\b\b\b\b\b\b\b\b\b\b\b\b\b\b\b\b\b\b\b\b\b\b\b\b\b\b\b\b\b\b\b\b\b\b\b\b\b\b\b\b\b\r900/900 [==============================] - 21s 24ms/step - loss: 1.3063 - accuracy: 0.6273 - val_loss: 1.3697 - val_accuracy: 0.6067\n",
            "Epoch 37/50\n",
            "899/900 [============================>.] - ETA: 0s - loss: 1.3033 - accuracy: 0.6270"
          ]
        },
        {
          "output_type": "stream",
          "name": "stderr",
          "text": [
            "WARNING:tensorflow:Can save best model only with val_acc available, skipping.\n"
          ]
        },
        {
          "output_type": "stream",
          "name": "stdout",
          "text": [
            "\b\b\b\b\b\b\b\b\b\b\b\b\b\b\b\b\b\b\b\b\b\b\b\b\b\b\b\b\b\b\b\b\b\b\b\b\b\b\b\b\b\b\b\b\b\b\b\b\b\b\b\b\b\b\b\b\b\b\b\b\b\b\b\b\b\b\b\b\b\b\b\b\b\b\b\b\b\b\b\b\b\b\b\b\r900/900 [==============================] - 19s 21ms/step - loss: 1.3029 - accuracy: 0.6273 - val_loss: 1.3909 - val_accuracy: 0.6014\n",
            "Epoch 38/50\n",
            "900/900 [==============================] - ETA: 0s - loss: 1.2886 - accuracy: 0.6319"
          ]
        },
        {
          "output_type": "stream",
          "name": "stderr",
          "text": [
            "WARNING:tensorflow:Can save best model only with val_acc available, skipping.\n"
          ]
        },
        {
          "output_type": "stream",
          "name": "stdout",
          "text": [
            "\b\b\b\b\b\b\b\b\b\b\b\b\b\b\b\b\b\b\b\b\b\b\b\b\b\b\b\b\b\b\b\b\b\b\b\b\b\b\b\b\b\b\b\b\b\b\b\b\b\b\b\b\b\b\b\b\b\b\b\b\b\b\b\b\b\b\b\b\b\b\b\b\b\b\b\b\b\b\b\b\b\b\b\b\r900/900 [==============================] - 20s 22ms/step - loss: 1.2886 - accuracy: 0.6319 - val_loss: 1.3750 - val_accuracy: 0.6089\n",
            "Epoch 39/50\n",
            "897/900 [============================>.] - ETA: 0s - loss: 1.2744 - accuracy: 0.6357"
          ]
        },
        {
          "output_type": "stream",
          "name": "stderr",
          "text": [
            "WARNING:tensorflow:Can save best model only with val_acc available, skipping.\n"
          ]
        },
        {
          "output_type": "stream",
          "name": "stdout",
          "text": [
            "\b\b\b\b\b\b\b\b\b\b\b\b\b\b\b\b\b\b\b\b\b\b\b\b\b\b\b\b\b\b\b\b\b\b\b\b\b\b\b\b\b\b\b\b\b\b\b\b\b\b\b\b\b\b\b\b\b\b\b\b\b\b\b\b\b\b\b\b\b\b\b\b\b\b\b\b\b\b\b\b\b\b\b\b\r900/900 [==============================] - 19s 21ms/step - loss: 1.2747 - accuracy: 0.6357 - val_loss: 1.3762 - val_accuracy: 0.6072\n",
            "Epoch 40/50\n",
            "900/900 [==============================] - ETA: 0s - loss: 1.2712 - accuracy: 0.6377"
          ]
        },
        {
          "output_type": "stream",
          "name": "stderr",
          "text": [
            "WARNING:tensorflow:Can save best model only with val_acc available, skipping.\n"
          ]
        },
        {
          "output_type": "stream",
          "name": "stdout",
          "text": [
            "\b\b\b\b\b\b\b\b\b\b\b\b\b\b\b\b\b\b\b\b\b\b\b\b\b\b\b\b\b\b\b\b\b\b\b\b\b\b\b\b\b\b\b\b\b\b\b\b\b\b\b\b\b\b\b\b\b\b\b\b\b\b\b\b\b\b\b\b\b\b\b\b\b\b\b\b\b\b\b\b\b\b\b\b\r900/900 [==============================] - 20s 22ms/step - loss: 1.2712 - accuracy: 0.6377 - val_loss: 1.3953 - val_accuracy: 0.6098\n",
            "Epoch 41/50\n",
            "898/900 [============================>.] - ETA: 0s - loss: 1.2550 - accuracy: 0.6447"
          ]
        },
        {
          "output_type": "stream",
          "name": "stderr",
          "text": [
            "WARNING:tensorflow:Can save best model only with val_acc available, skipping.\n"
          ]
        },
        {
          "output_type": "stream",
          "name": "stdout",
          "text": [
            "\b\b\b\b\b\b\b\b\b\b\b\b\b\b\b\b\b\b\b\b\b\b\b\b\b\b\b\b\b\b\b\b\b\b\b\b\b\b\b\b\b\b\b\b\b\b\b\b\b\b\b\b\b\b\b\b\b\b\b\b\b\b\b\b\b\b\b\b\b\b\b\b\b\b\b\b\b\b\b\b\b\b\b\b\r900/900 [==============================] - 22s 25ms/step - loss: 1.2548 - accuracy: 0.6447 - val_loss: 1.3739 - val_accuracy: 0.6179\n",
            "Epoch 42/50\n",
            "900/900 [==============================] - ETA: 0s - loss: 1.2462 - accuracy: 0.6475"
          ]
        },
        {
          "output_type": "stream",
          "name": "stderr",
          "text": [
            "WARNING:tensorflow:Can save best model only with val_acc available, skipping.\n"
          ]
        },
        {
          "output_type": "stream",
          "name": "stdout",
          "text": [
            "\b\b\b\b\b\b\b\b\b\b\b\b\b\b\b\b\b\b\b\b\b\b\b\b\b\b\b\b\b\b\b\b\b\b\b\b\b\b\b\b\b\b\b\b\b\b\b\b\b\b\b\b\b\b\b\b\b\b\b\b\b\b\b\b\b\b\b\b\b\b\b\b\b\b\b\b\b\b\b\b\b\b\b\b\r900/900 [==============================] - 20s 22ms/step - loss: 1.2462 - accuracy: 0.6475 - val_loss: 1.3499 - val_accuracy: 0.6197\n",
            "Epoch 43/50\n",
            "899/900 [============================>.] - ETA: 0s - loss: 1.2391 - accuracy: 0.6511"
          ]
        },
        {
          "output_type": "stream",
          "name": "stderr",
          "text": [
            "WARNING:tensorflow:Can save best model only with val_acc available, skipping.\n"
          ]
        },
        {
          "output_type": "stream",
          "name": "stdout",
          "text": [
            "\b\b\b\b\b\b\b\b\b\b\b\b\b\b\b\b\b\b\b\b\b\b\b\b\b\b\b\b\b\b\b\b\b\b\b\b\b\b\b\b\b\b\b\b\b\b\b\b\b\b\b\b\b\b\b\b\b\b\b\b\b\b\b\b\b\b\b\b\b\b\b\b\b\b\b\b\b\b\b\b\b\b\b\b\r900/900 [==============================] - 20s 22ms/step - loss: 1.2393 - accuracy: 0.6510 - val_loss: 1.3915 - val_accuracy: 0.6097\n",
            "Epoch 44/50\n",
            "899/900 [============================>.] - ETA: 0s - loss: 1.2344 - accuracy: 0.6503"
          ]
        },
        {
          "output_type": "stream",
          "name": "stderr",
          "text": [
            "WARNING:tensorflow:Can save best model only with val_acc available, skipping.\n"
          ]
        },
        {
          "output_type": "stream",
          "name": "stdout",
          "text": [
            "\b\b\b\b\b\b\b\b\b\b\b\b\b\b\b\b\b\b\b\b\b\b\b\b\b\b\b\b\b\b\b\b\b\b\b\b\b\b\b\b\b\b\b\b\b\b\b\b\b\b\b\b\b\b\b\b\b\b\b\b\b\b\b\b\b\b\b\b\b\b\b\b\b\b\b\b\b\b\b\b\b\b\b\b\r900/900 [==============================] - 19s 21ms/step - loss: 1.2342 - accuracy: 0.6504 - val_loss: 1.3780 - val_accuracy: 0.6151\n",
            "Epoch 45/50\n",
            "900/900 [==============================] - ETA: 0s - loss: 1.2184 - accuracy: 0.6611"
          ]
        },
        {
          "output_type": "stream",
          "name": "stderr",
          "text": [
            "WARNING:tensorflow:Can save best model only with val_acc available, skipping.\n"
          ]
        },
        {
          "output_type": "stream",
          "name": "stdout",
          "text": [
            "\b\b\b\b\b\b\b\b\b\b\b\b\b\b\b\b\b\b\b\b\b\b\b\b\b\b\b\b\b\b\b\b\b\b\b\b\b\b\b\b\b\b\b\b\b\b\b\b\b\b\b\b\b\b\b\b\b\b\b\b\b\b\b\b\b\b\b\b\b\b\b\b\b\b\b\b\b\b\b\b\b\b\b\b\r900/900 [==============================] - 20s 22ms/step - loss: 1.2184 - accuracy: 0.6611 - val_loss: 1.3562 - val_accuracy: 0.6156\n",
            "Epoch 46/50\n",
            "897/900 [============================>.] - ETA: 0s - loss: 1.2084 - accuracy: 0.6602"
          ]
        },
        {
          "output_type": "stream",
          "name": "stderr",
          "text": [
            "WARNING:tensorflow:Can save best model only with val_acc available, skipping.\n"
          ]
        },
        {
          "output_type": "stream",
          "name": "stdout",
          "text": [
            "\b\b\b\b\b\b\b\b\b\b\b\b\b\b\b\b\b\b\b\b\b\b\b\b\b\b\b\b\b\b\b\b\b\b\b\b\b\b\b\b\b\b\b\b\b\b\b\b\b\b\b\b\b\b\b\b\b\b\b\b\b\b\b\b\b\b\b\b\b\b\b\b\b\b\b\b\b\b\b\b\b\b\b\b\r900/900 [==============================] - 19s 21ms/step - loss: 1.2083 - accuracy: 0.6604 - val_loss: 1.3555 - val_accuracy: 0.6222\n",
            "Epoch 47/50\n",
            "899/900 [============================>.] - ETA: 0s - loss: 1.2022 - accuracy: 0.6633"
          ]
        },
        {
          "output_type": "stream",
          "name": "stderr",
          "text": [
            "WARNING:tensorflow:Can save best model only with val_acc available, skipping.\n"
          ]
        },
        {
          "output_type": "stream",
          "name": "stdout",
          "text": [
            "\b\b\b\b\b\b\b\b\b\b\b\b\b\b\b\b\b\b\b\b\b\b\b\b\b\b\b\b\b\b\b\b\b\b\b\b\b\b\b\b\b\b\b\b\b\b\b\b\b\b\b\b\b\b\b\b\b\b\b\b\b\b\b\b\b\b\b\b\b\b\b\b\b\b\b\b\b\b\b\b\b\b\b\b\r900/900 [==============================] - 20s 22ms/step - loss: 1.2019 - accuracy: 0.6634 - val_loss: 1.3345 - val_accuracy: 0.6295\n",
            "Epoch 48/50\n",
            "900/900 [==============================] - ETA: 0s - loss: 1.1936 - accuracy: 0.6670"
          ]
        },
        {
          "output_type": "stream",
          "name": "stderr",
          "text": [
            "WARNING:tensorflow:Can save best model only with val_acc available, skipping.\n"
          ]
        },
        {
          "output_type": "stream",
          "name": "stdout",
          "text": [
            "\b\b\b\b\b\b\b\b\b\b\b\b\b\b\b\b\b\b\b\b\b\b\b\b\b\b\b\b\b\b\b\b\b\b\b\b\b\b\b\b\b\b\b\b\b\b\b\b\b\b\b\b\b\b\b\b\b\b\b\b\b\b\b\b\b\b\b\b\b\b\b\b\b\b\b\b\b\b\b\b\b\b\b\b\r900/900 [==============================] - 22s 25ms/step - loss: 1.1936 - accuracy: 0.6670 - val_loss: 1.3789 - val_accuracy: 0.6112\n",
            "Epoch 49/50\n",
            "899/900 [============================>.] - ETA: 0s - loss: 1.1921 - accuracy: 0.6685"
          ]
        },
        {
          "output_type": "stream",
          "name": "stderr",
          "text": [
            "WARNING:tensorflow:Can save best model only with val_acc available, skipping.\n"
          ]
        },
        {
          "output_type": "stream",
          "name": "stdout",
          "text": [
            "\b\b\b\b\b\b\b\b\b\b\b\b\b\b\b\b\b\b\b\b\b\b\b\b\b\b\b\b\b\b\b\b\b\b\b\b\b\b\b\b\b\b\b\b\b\b\b\b\b\b\b\b\b\b\b\b\b\b\b\b\b\b\b\b\b\b\b\b\b\b\b\b\b\b\b\b\b\b\b\b\b\b\b\b\r900/900 [==============================] - 20s 22ms/step - loss: 1.1922 - accuracy: 0.6685 - val_loss: 1.3487 - val_accuracy: 0.6303\n",
            "Epoch 50/50\n",
            "899/900 [============================>.] - ETA: 0s - loss: 1.1804 - accuracy: 0.6721"
          ]
        },
        {
          "output_type": "stream",
          "name": "stderr",
          "text": [
            "WARNING:tensorflow:Can save best model only with val_acc available, skipping.\n"
          ]
        },
        {
          "output_type": "stream",
          "name": "stdout",
          "text": [
            "\b\b\b\b\b\b\b\b\b\b\b\b\b\b\b\b\b\b\b\b\b\b\b\b\b\b\b\b\b\b\b\b\b\b\b\b\b\b\b\b\b\b\b\b\b\b\b\b\b\b\b\b\b\b\b\b\b\b\b\b\b\b\b\b\b\b\b\b\b\b\b\b\b\b\b\b\b\b\b\b\b\b\b\b\r900/900 [==============================] - 22s 24ms/step - loss: 1.1803 - accuracy: 0.6721 - val_loss: 1.3837 - val_accuracy: 0.6122\n",
            "CPU times: user 21min 17s, sys: 1min 28s, total: 22min 46s\n",
            "Wall time: 20min 46s\n"
          ]
        }
      ]
    },
    {
      "cell_type": "code",
      "source": [
        "train_time['Adagrad']=20.46"
      ],
      "metadata": {
        "id": "QehIkxCo34jk"
      },
      "execution_count": 46,
      "outputs": []
    },
    {
      "cell_type": "markdown",
      "source": [
        "**Performance**"
      ],
      "metadata": {
        "id": "jsJYyqXK4A11"
      }
    },
    {
      "cell_type": "code",
      "source": [
        "import matplotlib.pyplot as plt\n",
        "\n",
        "plt.figure(figsize=(15,6))\n",
        "plt.subplot(1, 2, 1)\n",
        "plt.suptitle('Optimizer : Autograd', fontsize=10)\n",
        "plt.ylabel('Loss', fontsize=16)\n",
        "plt.plot(history.history['loss'], label='Training Loss')\n",
        "plt.plot(history.history['val_loss'], label='Validation Loss')\n",
        "plt.legend(loc='upper right')\n",
        "\n",
        "plt.subplot(1, 2, 2)\n",
        "plt.ylabel('Accuracy', fontsize=16)\n",
        "plt.plot(history.history['accuracy'], label='Training Accuracy')\n",
        "plt.plot(history.history['val_accuracy'], label='Validation Accuracy')\n",
        "plt.legend(loc='lower right')\n",
        "plt.show()"
      ],
      "metadata": {
        "colab": {
          "base_uri": "https://localhost:8080/",
          "height": 417
        },
        "id": "m3VAGGS636u8",
        "outputId": "15e56172-52c3-4521-d03c-89938e905519"
      },
      "execution_count": 48,
      "outputs": [
        {
          "output_type": "display_data",
          "data": {
            "text/plain": [
              "<Figure size 1080x432 with 2 Axes>"
            ],
            "image/png": "[encoded data removed]"
          },
          "metadata": {
            "needs_background": "light"
          }
        }
      ]
    },
    {
      "cell_type": "markdown",
      "source": [
        "**CNN with 5 conolution layers, 3 hidden layers, optimizer=Adam, Activation=Relu**"
      ],
      "metadata": {
        "id": "OjgwQail68rB"
      }
    },
    {
      "cell_type": "code",
      "source": [
        "model=Sequential()\n",
        "#first convolution layer\n",
        "model.add(Conv2D(64,(3,3),strides=(1,1),padding=\"same\",input_shape=(48, 48,1)))\n",
        "model.add(BatchNormalization())\n",
        "model.add(Activation(\"relu\"))\n",
        "model.add(MaxPooling2D(pool_size=(2, 2)))\n",
        "model.add(Dropout(0.26))\n",
        "\n",
        "#second convolution layer\n",
        "model.add(Conv2D(256,(3,3),strides=(1,1),padding=\"same\"))\n",
        "model.add(BatchNormalization())\n",
        "model.add(Activation(\"relu\"))\n",
        "model.add(MaxPooling2D(pool_size=(2, 2)))\n",
        "model.add(Dropout(0.26))\n",
        "\n",
        "#third convolution layer\n",
        "model.add(Conv2D(256,(3,3),strides=(1,1),padding=\"same\"))\n",
        "model.add(BatchNormalization())\n",
        "model.add(Activation(\"relu\"))\n",
        "model.add(MaxPooling2D(pool_size=(2, 2)))\n",
        "model.add(Dropout(0.26))\n",
        "\n",
        "#fourth convolution layer\n",
        "model.add(Conv2D(512,(3,3),strides=(1,1),padding=\"same\"))\n",
        "model.add(BatchNormalization())\n",
        "model.add(Activation(\"relu\"))\n",
        "model.add(MaxPooling2D(pool_size=(2, 2)))\n",
        "model.add(Dropout(0.26))\n",
        "\n",
        "#fifth convolution layer\n",
        "model.add(Conv2D(512,(3,3),strides=(2,2),padding=\"same\"))\n",
        "model.add(BatchNormalization())\n",
        "model.add(Activation(\"relu\"))\n",
        "model.add(MaxPooling2D(pool_size=(2, 2)))\n",
        "model.add(Dropout(0.26))\n",
        "\n",
        "model.add(Flatten())\n",
        "\n",
        "#1st fully connected layer\n",
        "model.add(Dense(4096,kernel_regularizer=l2(0.001)))\n",
        "model.add(BatchNormalization())\n",
        "model.add(Activation('relu'))\n",
        "model.add(Dropout(0.26))\n",
        "\n",
        "#2nd fully connected layer\n",
        "model.add(Dense(2048,kernel_regularizer=l2(0.001)))\n",
        "model.add(BatchNormalization())\n",
        "model.add(Activation('relu'))\n",
        "model.add(Dropout(0.26))\n",
        "\n",
        "#3rd fully connected layer\n",
        "model.add(Dense(1024,kernel_regularizer=l2(0.001)))\n",
        "model.add(BatchNormalization())\n",
        "model.add(Activation('relu'))\n",
        "model.add(Dropout(0.26))\n",
        "\n",
        "\n",
        "#last layer\n",
        "model.add(Dense(7))\n",
        "model.add(Activation('softmax'))\n",
        "\n",
        "#compiling model\n",
        "opti=Adam(learning_rate=0.001)\n",
        "model.compile(optimizer=opti,loss='categorical_crossentropy',metrics=['accuracy'])"
      ],
      "metadata": {
        "id": "2shgtTPA7Hqq"
      },
      "execution_count": 58,
      "outputs": []
    },
    {
      "cell_type": "code",
      "source": [
        "model.summary()"
      ],
      "metadata": {
        "colab": {
          "base_uri": "https://localhost:8080/"
        },
        "id": "aIniaIbu8rEK",
        "outputId": "5abe042e-fdd4-4d18-9286-31fafb7ea891"
      },
      "execution_count": 53,
      "outputs": [
        {
          "output_type": "stream",
          "name": "stdout",
          "text": [
            "Model: \"sequential_5\"\n",
            "_________________________________________________________________\n",
            " Layer (type)                Output Shape              Param #   \n",
            "=================================================================\n",
            " conv2d_18 (Conv2D)          (None, 48, 48, 128)       1280      \n",
            "                                                                 \n",
            " batch_normalization_21 (Bat  (None, 48, 48, 128)      512       \n",
            " chNormalization)                                                \n",
            "                                                                 \n",
            " activation_23 (Activation)  (None, 48, 48, 128)       0         \n",
            "                                                                 \n",
            " max_pooling2d_16 (MaxPoolin  (None, 24, 24, 128)      0         \n",
            " g2D)                                                            \n",
            "                                                                 \n",
            " dropout_21 (Dropout)        (None, 24, 24, 128)       0         \n",
            "                                                                 \n",
            " conv2d_19 (Conv2D)          (None, 24, 24, 128)       147584    \n",
            "                                                                 \n",
            " batch_normalization_22 (Bat  (None, 24, 24, 128)      512       \n",
            " chNormalization)                                                \n",
            "                                                                 \n",
            " activation_24 (Activation)  (None, 24, 24, 128)       0         \n",
            "                                                                 \n",
            " max_pooling2d_17 (MaxPoolin  (None, 12, 12, 128)      0         \n",
            " g2D)                                                            \n",
            "                                                                 \n",
            " dropout_22 (Dropout)        (None, 12, 12, 128)       0         \n",
            "                                                                 \n",
            " conv2d_20 (Conv2D)          (None, 12, 12, 256)       295168    \n",
            "                                                                 \n",
            " batch_normalization_23 (Bat  (None, 12, 12, 256)      1024      \n",
            " chNormalization)                                                \n",
            "                                                                 \n",
            " activation_25 (Activation)  (None, 12, 12, 256)       0         \n",
            "                                                                 \n",
            " max_pooling2d_18 (MaxPoolin  (None, 6, 6, 256)        0         \n",
            " g2D)                                                            \n",
            "                                                                 \n",
            " dropout_23 (Dropout)        (None, 6, 6, 256)         0         \n",
            "                                                                 \n",
            " conv2d_21 (Conv2D)          (None, 6, 6, 512)         1180160   \n",
            "                                                                 \n",
            " batch_normalization_24 (Bat  (None, 6, 6, 512)        2048      \n",
            " chNormalization)                                                \n",
            "                                                                 \n",
            " activation_26 (Activation)  (None, 6, 6, 512)         0         \n",
            "                                                                 \n",
            " max_pooling2d_19 (MaxPoolin  (None, 3, 3, 512)        0         \n",
            " g2D)                                                            \n",
            "                                                                 \n",
            " dropout_24 (Dropout)        (None, 3, 3, 512)         0         \n",
            "                                                                 \n",
            " conv2d_22 (Conv2D)          (None, 2, 2, 512)         2359808   \n",
            "                                                                 \n",
            " batch_normalization_25 (Bat  (None, 2, 2, 512)        2048      \n",
            " chNormalization)                                                \n",
            "                                                                 \n",
            " activation_27 (Activation)  (None, 2, 2, 512)         0         \n",
            "                                                                 \n",
            " max_pooling2d_20 (MaxPoolin  (None, 1, 1, 512)        0         \n",
            " g2D)                                                            \n",
            "                                                                 \n",
            " dropout_25 (Dropout)        (None, 1, 1, 512)         0         \n",
            "                                                                 \n",
            " flatten_4 (Flatten)         (None, 512)               0         \n",
            "                                                                 \n",
            " dense_9 (Dense)             (None, 2048)              1050624   \n",
            "                                                                 \n",
            " batch_normalization_26 (Bat  (None, 2048)             8192      \n",
            " chNormalization)                                                \n",
            "                                                                 \n",
            " activation_28 (Activation)  (None, 2048)              0         \n",
            "                                                                 \n",
            " dropout_26 (Dropout)        (None, 2048)              0         \n",
            "                                                                 \n",
            " dense_10 (Dense)            (None, 1024)              2098176   \n",
            "                                                                 \n",
            " batch_normalization_27 (Bat  (None, 1024)             4096      \n",
            " chNormalization)                                                \n",
            "                                                                 \n",
            " activation_29 (Activation)  (None, 1024)              0         \n",
            "                                                                 \n",
            " dropout_27 (Dropout)        (None, 1024)              0         \n",
            "                                                                 \n",
            " dense_11 (Dense)            (None, 512)               524800    \n",
            "                                                                 \n",
            " batch_normalization_28 (Bat  (None, 512)              2048      \n",
            " chNormalization)                                                \n",
            "                                                                 \n",
            " activation_30 (Activation)  (None, 512)               0         \n",
            "                                                                 \n",
            " dropout_28 (Dropout)        (None, 512)               0         \n",
            "                                                                 \n",
            " dense_12 (Dense)            (None, 7)                 3591      \n",
            "                                                                 \n",
            " activation_31 (Activation)  (None, 7)                 0         \n",
            "                                                                 \n",
            "=================================================================\n",
            "Total params: 7,681,671\n",
            "Trainable params: 7,671,431\n",
            "Non-trainable params: 10,240\n",
            "_________________________________________________________________\n"
          ]
        }
      ]
    },
    {
      "cell_type": "markdown",
      "source": [
        "**training model**"
      ],
      "metadata": {
        "id": "8E4hJNQx9RxA"
      }
    },
    {
      "cell_type": "code",
      "source": [
        "%%time\n",
        "from keras.callbacks import ModelCheckpoint\n",
        "\n",
        "checkpoint = ModelCheckpoint(\"model_weights.h5\", monitor='val_acc', verbose=1, save_best_only=True, mode='max')\n",
        "callbacks_list = [checkpoint]\n",
        "\n",
        "batch_size=150\n",
        "history = model.fit(train_gen,\n",
        "                                steps_per_epoch=train_gen.n//train_gen.batch_size,\n",
        "                                epochs=50,\n",
        "                                validation_data = validation_gen,\n",
        "                                validation_steps = validation_gen.n//validation_gen.batch_size,\n",
        "                                callbacks=callbacks_list)"
      ],
      "metadata": {
        "colab": {
          "base_uri": "https://localhost:8080/"
        },
        "id": "91lV9vm69M8S",
        "outputId": "fd34e46d-21d0-43b5-de78-74824ba32598"
      },
      "execution_count": 59,
      "outputs": [
        {
          "output_type": "stream",
          "name": "stdout",
          "text": [
            "Epoch 1/50\n",
            "899/900 [============================>.] - ETA: 0s - loss: 4.2945 - accuracy: 0.2560"
          ]
        },
        {
          "output_type": "stream",
          "name": "stderr",
          "text": [
            "WARNING:tensorflow:Can save best model only with val_acc available, skipping.\n"
          ]
        },
        {
          "output_type": "stream",
          "name": "stdout",
          "text": [
            "\b\b\b\b\b\b\b\b\b\b\b\b\b\b\b\b\b\b\b\b\b\b\b\b\b\b\b\b\b\b\b\b\b\b\b\b\b\b\b\b\b\b\b\b\b\b\b\b\b\b\b\b\b\b\b\b\b\b\b\b\b\b\b\b\b\b\b\b\b\b\b\b\b\b\b\b\b\b\b\b\b\b\b\b\r900/900 [==============================] - 31s 33ms/step - loss: 4.2921 - accuracy: 0.2562 - val_loss: 2.4571 - val_accuracy: 0.3294\n",
            "Epoch 2/50\n",
            "900/900 [==============================] - ETA: 0s - loss: 1.9629 - accuracy: 0.3955"
          ]
        },
        {
          "output_type": "stream",
          "name": "stderr",
          "text": [
            "WARNING:tensorflow:Can save best model only with val_acc available, skipping.\n"
          ]
        },
        {
          "output_type": "stream",
          "name": "stdout",
          "text": [
            "\b\b\b\b\b\b\b\b\b\b\b\b\b\b\b\b\b\b\b\b\b\b\b\b\b\b\b\b\b\b\b\b\b\b\b\b\b\b\b\b\b\b\b\b\b\b\b\b\b\b\b\b\b\b\b\b\b\b\b\b\b\b\b\b\b\b\b\b\b\b\b\b\b\b\b\b\b\b\b\b\b\b\b\b\r900/900 [==============================] - 32s 36ms/step - loss: 1.9629 - accuracy: 0.3955 - val_loss: 1.8532 - val_accuracy: 0.4023\n",
            "Epoch 3/50\n",
            "899/900 [============================>.] - ETA: 0s - loss: 1.8923 - accuracy: 0.4434"
          ]
        },
        {
          "output_type": "stream",
          "name": "stderr",
          "text": [
            "WARNING:tensorflow:Can save best model only with val_acc available, skipping.\n"
          ]
        },
        {
          "output_type": "stream",
          "name": "stdout",
          "text": [
            "\b\b\b\b\b\b\b\b\b\b\b\b\b\b\b\b\b\b\b\b\b\b\b\b\b\b\b\b\b\b\b\b\b\b\b\b\b\b\b\b\b\b\b\b\b\b\b\b\b\b\b\b\b\b\b\b\b\b\b\b\b\b\b\b\b\b\b\b\b\b\b\b\b\b\b\b\b\b\b\b\b\b\b\b\r900/900 [==============================] - 29s 32ms/step - loss: 1.8921 - accuracy: 0.4435 - val_loss: 3.6984 - val_accuracy: 0.3672\n",
            "Epoch 4/50\n",
            "900/900 [==============================] - ETA: 0s - loss: 1.8464 - accuracy: 0.4683"
          ]
        },
        {
          "output_type": "stream",
          "name": "stderr",
          "text": [
            "WARNING:tensorflow:Can save best model only with val_acc available, skipping.\n"
          ]
        },
        {
          "output_type": "stream",
          "name": "stdout",
          "text": [
            "\b\b\b\b\b\b\b\b\b\b\b\b\b\b\b\b\b\b\b\b\b\b\b\b\b\b\b\b\b\b\b\b\b\b\b\b\b\b\b\b\b\b\b\b\b\b\b\b\b\b\b\b\b\b\b\b\b\b\b\b\b\b\b\b\b\b\b\b\b\b\b\b\b\b\b\b\b\b\b\b\b\b\b\b\r900/900 [==============================] - 29s 32ms/step - loss: 1.8464 - accuracy: 0.4683 - val_loss: 1.7721 - val_accuracy: 0.5166\n",
            "Epoch 5/50\n",
            "900/900 [==============================] - ETA: 0s - loss: 1.7603 - accuracy: 0.4917"
          ]
        },
        {
          "output_type": "stream",
          "name": "stderr",
          "text": [
            "WARNING:tensorflow:Can save best model only with val_acc available, skipping.\n"
          ]
        },
        {
          "output_type": "stream",
          "name": "stdout",
          "text": [
            "\b\b\b\b\b\b\b\b\b\b\b\b\b\b\b\b\b\b\b\b\b\b\b\b\b\b\b\b\b\b\b\b\b\b\b\b\b\b\b\b\b\b\b\b\b\b\b\b\b\b\b\b\b\b\b\b\b\b\b\b\b\b\b\b\b\b\b\b\b\b\b\b\b\b\b\b\b\b\b\b\b\b\b\b\r900/900 [==============================] - 30s 33ms/step - loss: 1.7603 - accuracy: 0.4917 - val_loss: 1.7544 - val_accuracy: 0.4723\n",
            "Epoch 6/50\n",
            "899/900 [============================>.] - ETA: 0s - loss: 1.7061 - accuracy: 0.5185"
          ]
        },
        {
          "output_type": "stream",
          "name": "stderr",
          "text": [
            "WARNING:tensorflow:Can save best model only with val_acc available, skipping.\n"
          ]
        },
        {
          "output_type": "stream",
          "name": "stdout",
          "text": [
            "\b\b\b\b\b\b\b\b\b\b\b\b\b\b\b\b\b\b\b\b\b\b\b\b\b\b\b\b\b\b\b\b\b\b\b\b\b\b\b\b\b\b\b\b\b\b\b\b\b\b\b\b\b\b\b\b\b\b\b\b\b\b\b\b\b\b\b\b\b\b\b\b\b\b\b\b\b\b\b\b\b\b\b\b\r900/900 [==============================] - 29s 33ms/step - loss: 1.7060 - accuracy: 0.5185 - val_loss: 1.8060 - val_accuracy: 0.4717\n",
            "Epoch 7/50\n",
            "900/900 [==============================] - ETA: 0s - loss: 1.6375 - accuracy: 0.5312"
          ]
        },
        {
          "output_type": "stream",
          "name": "stderr",
          "text": [
            "WARNING:tensorflow:Can save best model only with val_acc available, skipping.\n"
          ]
        },
        {
          "output_type": "stream",
          "name": "stdout",
          "text": [
            "\b\b\b\b\b\b\b\b\b\b\b\b\b\b\b\b\b\b\b\b\b\b\b\b\b\b\b\b\b\b\b\b\b\b\b\b\b\b\b\b\b\b\b\b\b\b\b\b\b\b\b\b\b\b\b\b\b\b\b\b\b\b\b\b\b\b\b\b\b\b\b\b\b\b\b\b\b\b\b\b\b\b\b\b\r900/900 [==============================] - 29s 33ms/step - loss: 1.6375 - accuracy: 0.5312 - val_loss: 1.7071 - val_accuracy: 0.4582\n",
            "Epoch 8/50\n",
            "899/900 [============================>.] - ETA: 0s - loss: 1.5683 - accuracy: 0.5515"
          ]
        },
        {
          "output_type": "stream",
          "name": "stderr",
          "text": [
            "WARNING:tensorflow:Can save best model only with val_acc available, skipping.\n"
          ]
        },
        {
          "output_type": "stream",
          "name": "stdout",
          "text": [
            "\b\b\b\b\b\b\b\b\b\b\b\b\b\b\b\b\b\b\b\b\b\b\b\b\b\b\b\b\b\b\b\b\b\b\b\b\b\b\b\b\b\b\b\b\b\b\b\b\b\b\b\b\b\b\b\b\b\b\b\b\b\b\b\b\b\b\b\b\b\b\b\b\b\b\b\b\b\b\b\b\b\b\b\b\r900/900 [==============================] - 29s 32ms/step - loss: 1.5683 - accuracy: 0.5515 - val_loss: 1.7595 - val_accuracy: 0.4753\n",
            "Epoch 9/50\n",
            "899/900 [============================>.] - ETA: 0s - loss: 1.5416 - accuracy: 0.5602"
          ]
        },
        {
          "output_type": "stream",
          "name": "stderr",
          "text": [
            "WARNING:tensorflow:Can save best model only with val_acc available, skipping.\n"
          ]
        },
        {
          "output_type": "stream",
          "name": "stdout",
          "text": [
            "\b\b\b\b\b\b\b\b\b\b\b\b\b\b\b\b\b\b\b\b\b\b\b\b\b\b\b\b\b\b\b\b\b\b\b\b\b\b\b\b\b\b\b\b\b\b\b\b\b\b\b\b\b\b\b\b\b\b\b\b\b\b\b\b\b\b\b\b\b\b\b\b\b\b\b\b\b\b\b\b\b\b\b\b\r900/900 [==============================] - 29s 32ms/step - loss: 1.5414 - accuracy: 0.5603 - val_loss: 1.7645 - val_accuracy: 0.4418\n",
            "Epoch 10/50\n",
            "900/900 [==============================] - ETA: 0s - loss: 1.5055 - accuracy: 0.5798"
          ]
        },
        {
          "output_type": "stream",
          "name": "stderr",
          "text": [
            "WARNING:tensorflow:Can save best model only with val_acc available, skipping.\n"
          ]
        },
        {
          "output_type": "stream",
          "name": "stdout",
          "text": [
            "\b\b\b\b\b\b\b\b\b\b\b\b\b\b\b\b\b\b\b\b\b\b\b\b\b\b\b\b\b\b\b\b\b\b\b\b\b\b\b\b\b\b\b\b\b\b\b\b\b\b\b\b\b\b\b\b\b\b\b\b\b\b\b\b\b\b\b\b\b\b\b\b\b\b\b\b\b\b\b\b\b\b\b\b\r900/900 [==============================] - 30s 33ms/step - loss: 1.5055 - accuracy: 0.5798 - val_loss: 1.6648 - val_accuracy: 0.5317\n",
            "Epoch 11/50\n",
            "899/900 [============================>.] - ETA: 0s - loss: 1.4685 - accuracy: 0.5956"
          ]
        },
        {
          "output_type": "stream",
          "name": "stderr",
          "text": [
            "WARNING:tensorflow:Can save best model only with val_acc available, skipping.\n"
          ]
        },
        {
          "output_type": "stream",
          "name": "stdout",
          "text": [
            "\b\b\b\b\b\b\b\b\b\b\b\b\b\b\b\b\b\b\b\b\b\b\b\b\b\b\b\b\b\b\b\b\b\b\b\b\b\b\b\b\b\b\b\b\b\b\b\b\b\b\b\b\b\b\b\b\b\b\b\b\b\b\b\b\b\b\b\b\b\b\b\b\b\b\b\b\b\b\b\b\b\b\b\b\r900/900 [==============================] - 29s 32ms/step - loss: 1.4684 - accuracy: 0.5956 - val_loss: 1.6398 - val_accuracy: 0.5375\n",
            "Epoch 12/50\n",
            "899/900 [============================>.] - ETA: 0s - loss: 1.4264 - accuracy: 0.6060"
          ]
        },
        {
          "output_type": "stream",
          "name": "stderr",
          "text": [
            "WARNING:tensorflow:Can save best model only with val_acc available, skipping.\n"
          ]
        },
        {
          "output_type": "stream",
          "name": "stdout",
          "text": [
            "\b\b\b\b\b\b\b\b\b\b\b\b\b\b\b\b\b\b\b\b\b\b\b\b\b\b\b\b\b\b\b\b\b\b\b\b\b\b\b\b\b\b\b\b\b\b\b\b\b\b\b\b\b\b\b\b\b\b\b\b\b\b\b\b\b\b\b\b\b\b\b\b\b\b\b\b\b\b\b\b\b\b\b\b\r900/900 [==============================] - 29s 33ms/step - loss: 1.4265 - accuracy: 0.6060 - val_loss: 1.5713 - val_accuracy: 0.5463\n",
            "Epoch 13/50\n",
            "899/900 [============================>.] - ETA: 0s - loss: 1.3875 - accuracy: 0.6217"
          ]
        },
        {
          "output_type": "stream",
          "name": "stderr",
          "text": [
            "WARNING:tensorflow:Can save best model only with val_acc available, skipping.\n"
          ]
        },
        {
          "output_type": "stream",
          "name": "stdout",
          "text": [
            "\b\b\b\b\b\b\b\b\b\b\b\b\b\b\b\b\b\b\b\b\b\b\b\b\b\b\b\b\b\b\b\b\b\b\b\b\b\b\b\b\b\b\b\b\b\b\b\b\b\b\b\b\b\b\b\b\b\b\b\b\b\b\b\b\b\b\b\b\b\b\b\b\b\b\b\b\b\b\b\b\b\b\b\b\r900/900 [==============================] - 30s 33ms/step - loss: 1.3880 - accuracy: 0.6214 - val_loss: 1.5126 - val_accuracy: 0.5676\n",
            "Epoch 14/50\n",
            "899/900 [============================>.] - ETA: 0s - loss: 1.3274 - accuracy: 0.6417"
          ]
        },
        {
          "output_type": "stream",
          "name": "stderr",
          "text": [
            "WARNING:tensorflow:Can save best model only with val_acc available, skipping.\n"
          ]
        },
        {
          "output_type": "stream",
          "name": "stdout",
          "text": [
            "\b\b\b\b\b\b\b\b\b\b\b\b\b\b\b\b\b\b\b\b\b\b\b\b\b\b\b\b\b\b\b\b\b\b\b\b\b\b\b\b\b\b\b\b\b\b\b\b\b\b\b\b\b\b\b\b\b\b\b\b\b\b\b\b\b\b\b\b\b\b\b\b\b\b\b\b\b\b\b\b\b\b\b\b\r900/900 [==============================] - 29s 33ms/step - loss: 1.3277 - accuracy: 0.6417 - val_loss: 1.5695 - val_accuracy: 0.5757\n",
            "Epoch 15/50\n",
            "899/900 [============================>.] - ETA: 0s - loss: 1.2869 - accuracy: 0.6497"
          ]
        },
        {
          "output_type": "stream",
          "name": "stderr",
          "text": [
            "WARNING:tensorflow:Can save best model only with val_acc available, skipping.\n"
          ]
        },
        {
          "output_type": "stream",
          "name": "stdout",
          "text": [
            "\b\b\b\b\b\b\b\b\b\b\b\b\b\b\b\b\b\b\b\b\b\b\b\b\b\b\b\b\b\b\b\b\b\b\b\b\b\b\b\b\b\b\b\b\b\b\b\b\b\b\b\b\b\b\b\b\b\b\b\b\b\b\b\b\b\b\b\b\b\b\b\b\b\b\b\b\b\b\b\b\b\b\b\b\r900/900 [==============================] - 29s 33ms/step - loss: 1.2869 - accuracy: 0.6496 - val_loss: 1.5177 - val_accuracy: 0.5668\n",
            "Epoch 16/50\n",
            "899/900 [============================>.] - ETA: 0s - loss: 1.2411 - accuracy: 0.6676"
          ]
        },
        {
          "output_type": "stream",
          "name": "stderr",
          "text": [
            "WARNING:tensorflow:Can save best model only with val_acc available, skipping.\n"
          ]
        },
        {
          "output_type": "stream",
          "name": "stdout",
          "text": [
            "\b\b\b\b\b\b\b\b\b\b\b\b\b\b\b\b\b\b\b\b\b\b\b\b\b\b\b\b\b\b\b\b\b\b\b\b\b\b\b\b\b\b\b\b\b\b\b\b\b\b\b\b\b\b\b\b\b\b\b\b\b\b\b\b\b\b\b\b\b\b\b\b\b\b\b\b\b\b\b\b\b\b\b\b\r900/900 [==============================] - 29s 33ms/step - loss: 1.2412 - accuracy: 0.6676 - val_loss: 1.4772 - val_accuracy: 0.5777\n",
            "Epoch 17/50\n",
            "899/900 [============================>.] - ETA: 0s - loss: 1.1924 - accuracy: 0.6792"
          ]
        },
        {
          "output_type": "stream",
          "name": "stderr",
          "text": [
            "WARNING:tensorflow:Can save best model only with val_acc available, skipping.\n"
          ]
        },
        {
          "output_type": "stream",
          "name": "stdout",
          "text": [
            "\b\b\b\b\b\b\b\b\b\b\b\b\b\b\b\b\b\b\b\b\b\b\b\b\b\b\b\b\b\b\b\b\b\b\b\b\b\b\b\b\b\b\b\b\b\b\b\b\b\b\b\b\b\b\b\b\b\b\b\b\b\b\b\b\b\b\b\b\b\b\b\b\b\b\b\b\b\b\b\b\b\b\b\b\r900/900 [==============================] - 29s 32ms/step - loss: 1.1923 - accuracy: 0.6792 - val_loss: 1.4626 - val_accuracy: 0.5830\n",
            "Epoch 18/50\n",
            "899/900 [============================>.] - ETA: 0s - loss: 1.1544 - accuracy: 0.6920"
          ]
        },
        {
          "output_type": "stream",
          "name": "stderr",
          "text": [
            "WARNING:tensorflow:Can save best model only with val_acc available, skipping.\n"
          ]
        },
        {
          "output_type": "stream",
          "name": "stdout",
          "text": [
            "\b\b\b\b\b\b\b\b\b\b\b\b\b\b\b\b\b\b\b\b\b\b\b\b\b\b\b\b\b\b\b\b\b\b\b\b\b\b\b\b\b\b\b\b\b\b\b\b\b\b\b\b\b\b\b\b\b\b\b\b\b\b\b\b\b\b\b\b\b\b\b\b\b\b\b\b\b\b\b\b\b\b\b\b\r900/900 [==============================] - 29s 32ms/step - loss: 1.1544 - accuracy: 0.6920 - val_loss: 1.7794 - val_accuracy: 0.4908\n",
            "Epoch 19/50\n",
            "900/900 [==============================] - ETA: 0s - loss: 1.1005 - accuracy: 0.7036"
          ]
        },
        {
          "output_type": "stream",
          "name": "stderr",
          "text": [
            "WARNING:tensorflow:Can save best model only with val_acc available, skipping.\n"
          ]
        },
        {
          "output_type": "stream",
          "name": "stdout",
          "text": [
            "\b\b\b\b\b\b\b\b\b\b\b\b\b\b\b\b\b\b\b\b\b\b\b\b\b\b\b\b\b\b\b\b\b\b\b\b\b\b\b\b\b\b\b\b\b\b\b\b\b\b\b\b\b\b\b\b\b\b\b\b\b\b\b\b\b\b\b\b\b\b\b\b\b\b\b\b\b\b\b\b\b\b\b\b\r900/900 [==============================] - 30s 34ms/step - loss: 1.1005 - accuracy: 0.7036 - val_loss: 1.3932 - val_accuracy: 0.6043\n",
            "Epoch 20/50\n",
            "899/900 [============================>.] - ETA: 0s - loss: 1.0560 - accuracy: 0.7168"
          ]
        },
        {
          "output_type": "stream",
          "name": "stderr",
          "text": [
            "WARNING:tensorflow:Can save best model only with val_acc available, skipping.\n"
          ]
        },
        {
          "output_type": "stream",
          "name": "stdout",
          "text": [
            "\b\b\b\b\b\b\b\b\b\b\b\b\b\b\b\b\b\b\b\b\b\b\b\b\b\b\b\b\b\b\b\b\b\b\b\b\b\b\b\b\b\b\b\b\b\b\b\b\b\b\b\b\b\b\b\b\b\b\b\b\b\b\b\b\b\b\b\b\b\b\b\b\b\b\b\b\b\b\b\b\b\b\b\b\r900/900 [==============================] - 29s 32ms/step - loss: 1.0561 - accuracy: 0.7167 - val_loss: 1.3907 - val_accuracy: 0.5969\n",
            "Epoch 21/50\n",
            "899/900 [============================>.] - ETA: 0s - loss: 1.0098 - accuracy: 0.7355"
          ]
        },
        {
          "output_type": "stream",
          "name": "stderr",
          "text": [
            "WARNING:tensorflow:Can save best model only with val_acc available, skipping.\n"
          ]
        },
        {
          "output_type": "stream",
          "name": "stdout",
          "text": [
            "\b\b\b\b\b\b\b\b\b\b\b\b\b\b\b\b\b\b\b\b\b\b\b\b\b\b\b\b\b\b\b\b\b\b\b\b\b\b\b\b\b\b\b\b\b\b\b\b\b\b\b\b\b\b\b\b\b\b\b\b\b\b\b\b\b\b\b\b\b\b\b\b\b\b\b\b\b\b\b\b\b\b\b\b\r900/900 [==============================] - 29s 32ms/step - loss: 1.0098 - accuracy: 0.7355 - val_loss: 1.4426 - val_accuracy: 0.5751\n",
            "Epoch 22/50\n",
            "900/900 [==============================] - ETA: 0s - loss: 0.9630 - accuracy: 0.7416"
          ]
        },
        {
          "output_type": "stream",
          "name": "stderr",
          "text": [
            "WARNING:tensorflow:Can save best model only with val_acc available, skipping.\n"
          ]
        },
        {
          "output_type": "stream",
          "name": "stdout",
          "text": [
            "\b\b\b\b\b\b\b\b\b\b\b\b\b\b\b\b\b\b\b\b\b\b\b\b\b\b\b\b\b\b\b\b\b\b\b\b\b\b\b\b\b\b\b\b\b\b\b\b\b\b\b\b\b\b\b\b\b\b\b\b\b\b\b\b\b\b\b\b\b\b\b\b\b\b\b\b\b\b\b\b\b\b\b\b\r900/900 [==============================] - 32s 36ms/step - loss: 0.9630 - accuracy: 0.7416 - val_loss: 1.5133 - val_accuracy: 0.5888\n",
            "Epoch 23/50\n",
            "899/900 [============================>.] - ETA: 0s - loss: 0.9319 - accuracy: 0.7480"
          ]
        },
        {
          "output_type": "stream",
          "name": "stderr",
          "text": [
            "WARNING:tensorflow:Can save best model only with val_acc available, skipping.\n"
          ]
        },
        {
          "output_type": "stream",
          "name": "stdout",
          "text": [
            "\b\b\b\b\b\b\b\b\b\b\b\b\b\b\b\b\b\b\b\b\b\b\b\b\b\b\b\b\b\b\b\b\b\b\b\b\b\b\b\b\b\b\b\b\b\b\b\b\b\b\b\b\b\b\b\b\b\b\b\b\b\b\b\b\b\b\b\b\b\b\b\b\b\b\b\b\b\b\b\b\b\b\b\b\r900/900 [==============================] - 32s 35ms/step - loss: 0.9318 - accuracy: 0.7481 - val_loss: 1.4178 - val_accuracy: 0.5886\n",
            "Epoch 24/50\n",
            "899/900 [============================>.] - ETA: 0s - loss: 0.8869 - accuracy: 0.7626"
          ]
        },
        {
          "output_type": "stream",
          "name": "stderr",
          "text": [
            "WARNING:tensorflow:Can save best model only with val_acc available, skipping.\n"
          ]
        },
        {
          "output_type": "stream",
          "name": "stdout",
          "text": [
            "\b\b\b\b\b\b\b\b\b\b\b\b\b\b\b\b\b\b\b\b\b\b\b\b\b\b\b\b\b\b\b\b\b\b\b\b\b\b\b\b\b\b\b\b\b\b\b\b\b\b\b\b\b\b\b\b\b\b\b\b\b\b\b\b\b\b\b\b\b\b\b\b\b\b\b\b\b\b\b\b\b\b\b\b\r900/900 [==============================] - 32s 35ms/step - loss: 0.8868 - accuracy: 0.7626 - val_loss: 1.6080 - val_accuracy: 0.5335\n",
            "Epoch 25/50\n",
            "899/900 [============================>.] - ETA: 0s - loss: 0.8557 - accuracy: 0.7689"
          ]
        },
        {
          "output_type": "stream",
          "name": "stderr",
          "text": [
            "WARNING:tensorflow:Can save best model only with val_acc available, skipping.\n"
          ]
        },
        {
          "output_type": "stream",
          "name": "stdout",
          "text": [
            "\b\b\b\b\b\b\b\b\b\b\b\b\b\b\b\b\b\b\b\b\b\b\b\b\b\b\b\b\b\b\b\b\b\b\b\b\b\b\b\b\b\b\b\b\b\b\b\b\b\b\b\b\b\b\b\b\b\b\b\b\b\b\b\b\b\b\b\b\b\b\b\b\b\b\b\b\b\b\b\b\b\b\b\b\r900/900 [==============================] - 29s 32ms/step - loss: 0.8555 - accuracy: 0.7689 - val_loss: 1.6240 - val_accuracy: 0.5428\n",
            "Epoch 26/50\n",
            "900/900 [==============================] - ETA: 0s - loss: 0.8128 - accuracy: 0.7825"
          ]
        },
        {
          "output_type": "stream",
          "name": "stderr",
          "text": [
            "WARNING:tensorflow:Can save best model only with val_acc available, skipping.\n"
          ]
        },
        {
          "output_type": "stream",
          "name": "stdout",
          "text": [
            "\b\b\b\b\b\b\b\b\b\b\b\b\b\b\b\b\b\b\b\b\b\b\b\b\b\b\b\b\b\b\b\b\b\b\b\b\b\b\b\b\b\b\b\b\b\b\b\b\b\b\b\b\b\b\b\b\b\b\b\b\b\b\b\b\b\b\b\b\b\b\b\b\b\b\b\b\b\b\b\b\b\b\b\b\r900/900 [==============================] - 29s 33ms/step - loss: 0.8128 - accuracy: 0.7825 - val_loss: 1.4762 - val_accuracy: 0.5960\n",
            "Epoch 27/50\n",
            "899/900 [============================>.] - ETA: 0s - loss: 0.7856 - accuracy: 0.7894"
          ]
        },
        {
          "output_type": "stream",
          "name": "stderr",
          "text": [
            "WARNING:tensorflow:Can save best model only with val_acc available, skipping.\n"
          ]
        },
        {
          "output_type": "stream",
          "name": "stdout",
          "text": [
            "\b\b\b\b\b\b\b\b\b\b\b\b\b\b\b\b\b\b\b\b\b\b\b\b\b\b\b\b\b\b\b\b\b\b\b\b\b\b\b\b\b\b\b\b\b\b\b\b\b\b\b\b\b\b\b\b\b\b\b\b\b\b\b\b\b\b\b\b\b\b\b\b\b\b\b\b\b\b\b\b\b\b\b\b\r900/900 [==============================] - 32s 35ms/step - loss: 0.7858 - accuracy: 0.7893 - val_loss: 1.3372 - val_accuracy: 0.6307\n",
            "Epoch 28/50\n",
            "900/900 [==============================] - ETA: 0s - loss: 0.7478 - accuracy: 0.8002"
          ]
        },
        {
          "output_type": "stream",
          "name": "stderr",
          "text": [
            "WARNING:tensorflow:Can save best model only with val_acc available, skipping.\n"
          ]
        },
        {
          "output_type": "stream",
          "name": "stdout",
          "text": [
            "\b\b\b\b\b\b\b\b\b\b\b\b\b\b\b\b\b\b\b\b\b\b\b\b\b\b\b\b\b\b\b\b\b\b\b\b\b\b\b\b\b\b\b\b\b\b\b\b\b\b\b\b\b\b\b\b\b\b\b\b\b\b\b\b\b\b\b\b\b\b\b\b\b\b\b\b\b\b\b\b\b\b\b\b\r900/900 [==============================] - 29s 32ms/step - loss: 0.7478 - accuracy: 0.8002 - val_loss: 1.3345 - val_accuracy: 0.6212\n",
            "Epoch 29/50\n",
            "899/900 [============================>.] - ETA: 0s - loss: 0.7296 - accuracy: 0.8047"
          ]
        },
        {
          "output_type": "stream",
          "name": "stderr",
          "text": [
            "WARNING:tensorflow:Can save best model only with val_acc available, skipping.\n"
          ]
        },
        {
          "output_type": "stream",
          "name": "stdout",
          "text": [
            "\b\b\b\b\b\b\b\b\b\b\b\b\b\b\b\b\b\b\b\b\b\b\b\b\b\b\b\b\b\b\b\b\b\b\b\b\b\b\b\b\b\b\b\b\b\b\b\b\b\b\b\b\b\b\b\b\b\b\b\b\b\b\b\b\b\b\b\b\b\b\b\b\b\b\b\b\b\b\b\b\b\b\b\b\r900/900 [==============================] - 29s 32ms/step - loss: 0.7296 - accuracy: 0.8047 - val_loss: 1.4473 - val_accuracy: 0.5844\n",
            "Epoch 30/50\n",
            "899/900 [============================>.] - ETA: 0s - loss: 0.7035 - accuracy: 0.8106"
          ]
        },
        {
          "output_type": "stream",
          "name": "stderr",
          "text": [
            "WARNING:tensorflow:Can save best model only with val_acc available, skipping.\n"
          ]
        },
        {
          "output_type": "stream",
          "name": "stdout",
          "text": [
            "\b\b\b\b\b\b\b\b\b\b\b\b\b\b\b\b\b\b\b\b\b\b\b\b\b\b\b\b\b\b\b\b\b\b\b\b\b\b\b\b\b\b\b\b\b\b\b\b\b\b\b\b\b\b\b\b\b\b\b\b\b\b\b\b\b\b\b\b\b\b\b\b\b\b\b\b\b\b\b\b\b\b\b\b\r900/900 [==============================] - 31s 35ms/step - loss: 0.7034 - accuracy: 0.8106 - val_loss: 1.5748 - val_accuracy: 0.5869\n",
            "Epoch 31/50\n",
            "899/900 [============================>.] - ETA: 0s - loss: 0.6714 - accuracy: 0.8221"
          ]
        },
        {
          "output_type": "stream",
          "name": "stderr",
          "text": [
            "WARNING:tensorflow:Can save best model only with val_acc available, skipping.\n"
          ]
        },
        {
          "output_type": "stream",
          "name": "stdout",
          "text": [
            "\b\b\b\b\b\b\b\b\b\b\b\b\b\b\b\b\b\b\b\b\b\b\b\b\b\b\b\b\b\b\b\b\b\b\b\b\b\b\b\b\b\b\b\b\b\b\b\b\b\b\b\b\b\b\b\b\b\b\b\b\b\b\b\b\b\b\b\b\b\b\b\b\b\b\b\b\b\b\b\b\b\b\b\b\r900/900 [==============================] - 29s 32ms/step - loss: 0.6713 - accuracy: 0.8221 - val_loss: 1.4429 - val_accuracy: 0.6094\n",
            "Epoch 32/50\n",
            "899/900 [============================>.] - ETA: 0s - loss: 0.6564 - accuracy: 0.8254"
          ]
        },
        {
          "output_type": "stream",
          "name": "stderr",
          "text": [
            "WARNING:tensorflow:Can save best model only with val_acc available, skipping.\n"
          ]
        },
        {
          "output_type": "stream",
          "name": "stdout",
          "text": [
            "\b\b\b\b\b\b\b\b\b\b\b\b\b\b\b\b\b\b\b\b\b\b\b\b\b\b\b\b\b\b\b\b\b\b\b\b\b\b\b\b\b\b\b\b\b\b\b\b\b\b\b\b\b\b\b\b\b\b\b\b\b\b\b\b\b\b\b\b\b\b\b\b\b\b\b\b\b\b\b\b\b\b\b\b\r900/900 [==============================] - 31s 35ms/step - loss: 0.6561 - accuracy: 0.8255 - val_loss: 1.4936 - val_accuracy: 0.6011\n",
            "Epoch 33/50\n",
            "899/900 [============================>.] - ETA: 0s - loss: 0.6340 - accuracy: 0.8320"
          ]
        },
        {
          "output_type": "stream",
          "name": "stderr",
          "text": [
            "WARNING:tensorflow:Can save best model only with val_acc available, skipping.\n"
          ]
        },
        {
          "output_type": "stream",
          "name": "stdout",
          "text": [
            "\b\b\b\b\b\b\b\b\b\b\b\b\b\b\b\b\b\b\b\b\b\b\b\b\b\b\b\b\b\b\b\b\b\b\b\b\b\b\b\b\b\b\b\b\b\b\b\b\b\b\b\b\b\b\b\b\b\b\b\b\b\b\b\b\b\b\b\b\b\b\b\b\b\b\b\b\b\b\b\b\b\b\b\b\r900/900 [==============================] - 29s 32ms/step - loss: 0.6340 - accuracy: 0.8321 - val_loss: 1.6718 - val_accuracy: 0.5832\n",
            "Epoch 34/50\n",
            "899/900 [============================>.] - ETA: 0s - loss: 0.6193 - accuracy: 0.8365"
          ]
        },
        {
          "output_type": "stream",
          "name": "stderr",
          "text": [
            "WARNING:tensorflow:Can save best model only with val_acc available, skipping.\n"
          ]
        },
        {
          "output_type": "stream",
          "name": "stdout",
          "text": [
            "\b\b\b\b\b\b\b\b\b\b\b\b\b\b\b\b\b\b\b\b\b\b\b\b\b\b\b\b\b\b\b\b\b\b\b\b\b\b\b\b\b\b\b\b\b\b\b\b\b\b\b\b\b\b\b\b\b\b\b\b\b\b\b\b\b\b\b\b\b\b\b\b\b\b\b\b\b\b\b\b\b\b\b\b\r900/900 [==============================] - 29s 32ms/step - loss: 0.6195 - accuracy: 0.8365 - val_loss: 1.3086 - val_accuracy: 0.6345\n",
            "Epoch 35/50\n",
            "899/900 [============================>.] - ETA: 0s - loss: 0.5982 - accuracy: 0.8429"
          ]
        },
        {
          "output_type": "stream",
          "name": "stderr",
          "text": [
            "WARNING:tensorflow:Can save best model only with val_acc available, skipping.\n"
          ]
        },
        {
          "output_type": "stream",
          "name": "stdout",
          "text": [
            "\b\b\b\b\b\b\b\b\b\b\b\b\b\b\b\b\b\b\b\b\b\b\b\b\b\b\b\b\b\b\b\b\b\b\b\b\b\b\b\b\b\b\b\b\b\b\b\b\b\b\b\b\b\b\b\b\b\b\b\b\b\b\b\b\b\b\b\b\b\b\b\b\b\b\b\b\b\b\b\b\b\b\b\b\r900/900 [==============================] - 32s 35ms/step - loss: 0.5981 - accuracy: 0.8430 - val_loss: 1.6083 - val_accuracy: 0.5807\n",
            "Epoch 36/50\n",
            "899/900 [============================>.] - ETA: 0s - loss: 0.5791 - accuracy: 0.8469"
          ]
        },
        {
          "output_type": "stream",
          "name": "stderr",
          "text": [
            "WARNING:tensorflow:Can save best model only with val_acc available, skipping.\n"
          ]
        },
        {
          "output_type": "stream",
          "name": "stdout",
          "text": [
            "\b\b\b\b\b\b\b\b\b\b\b\b\b\b\b\b\b\b\b\b\b\b\b\b\b\b\b\b\b\b\b\b\b\b\b\b\b\b\b\b\b\b\b\b\b\b\b\b\b\b\b\b\b\b\b\b\b\b\b\b\b\b\b\b\b\b\b\b\b\b\b\b\b\b\b\b\b\b\b\b\b\b\b\b\r900/900 [==============================] - 29s 32ms/step - loss: 0.5792 - accuracy: 0.8469 - val_loss: 1.4978 - val_accuracy: 0.6109\n",
            "Epoch 37/50\n",
            "899/900 [============================>.] - ETA: 0s - loss: 0.5720 - accuracy: 0.8505"
          ]
        },
        {
          "output_type": "stream",
          "name": "stderr",
          "text": [
            "WARNING:tensorflow:Can save best model only with val_acc available, skipping.\n"
          ]
        },
        {
          "output_type": "stream",
          "name": "stdout",
          "text": [
            "\b\b\b\b\b\b\b\b\b\b\b\b\b\b\b\b\b\b\b\b\b\b\b\b\b\b\b\b\b\b\b\b\b\b\b\b\b\b\b\b\b\b\b\b\b\b\b\b\b\b\b\b\b\b\b\b\b\b\b\b\b\b\b\b\b\b\b\b\b\b\b\b\b\b\b\b\b\b\b\b\b\b\b\b\r900/900 [==============================] - 29s 32ms/step - loss: 0.5719 - accuracy: 0.8506 - val_loss: 1.5589 - val_accuracy: 0.5983\n",
            "Epoch 38/50\n",
            "900/900 [==============================] - ETA: 0s - loss: 0.5583 - accuracy: 0.8558"
          ]
        },
        {
          "output_type": "stream",
          "name": "stderr",
          "text": [
            "WARNING:tensorflow:Can save best model only with val_acc available, skipping.\n"
          ]
        },
        {
          "output_type": "stream",
          "name": "stdout",
          "text": [
            "\b\b\b\b\b\b\b\b\b\b\b\b\b\b\b\b\b\b\b\b\b\b\b\b\b\b\b\b\b\b\b\b\b\b\b\b\b\b\b\b\b\b\b\b\b\b\b\b\b\b\b\b\b\b\b\b\b\b\b\b\b\b\b\b\b\b\b\b\b\b\b\b\b\b\b\b\b\b\b\b\b\b\b\b\r900/900 [==============================] - 31s 35ms/step - loss: 0.5583 - accuracy: 0.8558 - val_loss: 1.4619 - val_accuracy: 0.6134\n",
            "Epoch 39/50\n",
            "899/900 [============================>.] - ETA: 0s - loss: 0.5402 - accuracy: 0.8592"
          ]
        },
        {
          "output_type": "stream",
          "name": "stderr",
          "text": [
            "WARNING:tensorflow:Can save best model only with val_acc available, skipping.\n"
          ]
        },
        {
          "output_type": "stream",
          "name": "stdout",
          "text": [
            "\b\b\b\b\b\b\b\b\b\b\b\b\b\b\b\b\b\b\b\b\b\b\b\b\b\b\b\b\b\b\b\b\b\b\b\b\b\b\b\b\b\b\b\b\b\b\b\b\b\b\b\b\b\b\b\b\b\b\b\b\b\b\b\b\b\b\b\b\b\b\b\b\b\b\b\b\b\b\b\b\b\b\b\b\r900/900 [==============================] - 29s 32ms/step - loss: 0.5401 - accuracy: 0.8593 - val_loss: 1.7453 - val_accuracy: 0.5804\n",
            "Epoch 40/50\n",
            "899/900 [============================>.] - ETA: 0s - loss: 0.5333 - accuracy: 0.8627"
          ]
        },
        {
          "output_type": "stream",
          "name": "stderr",
          "text": [
            "WARNING:tensorflow:Can save best model only with val_acc available, skipping.\n"
          ]
        },
        {
          "output_type": "stream",
          "name": "stdout",
          "text": [
            "\b\b\b\b\b\b\b\b\b\b\b\b\b\b\b\b\b\b\b\b\b\b\b\b\b\b\b\b\b\b\b\b\b\b\b\b\b\b\b\b\b\b\b\b\b\b\b\b\b\b\b\b\b\b\b\b\b\b\b\b\b\b\b\b\b\b\b\b\b\b\b\b\b\b\b\b\b\b\b\b\b\b\b\b\r900/900 [==============================] - 31s 35ms/step - loss: 0.5334 - accuracy: 0.8627 - val_loss: 1.5469 - val_accuracy: 0.5916\n",
            "Epoch 41/50\n",
            "899/900 [============================>.] - ETA: 0s - loss: 0.5180 - accuracy: 0.8648"
          ]
        },
        {
          "output_type": "stream",
          "name": "stderr",
          "text": [
            "WARNING:tensorflow:Can save best model only with val_acc available, skipping.\n"
          ]
        },
        {
          "output_type": "stream",
          "name": "stdout",
          "text": [
            "\b\b\b\b\b\b\b\b\b\b\b\b\b\b\b\b\b\b\b\b\b\b\b\b\b\b\b\b\b\b\b\b\b\b\b\b\b\b\b\b\b\b\b\b\b\b\b\b\b\b\b\b\b\b\b\b\b\b\b\b\b\b\b\b\b\b\b\b\b\b\b\b\b\b\b\b\b\b\b\b\b\b\b\b\r900/900 [==============================] - 29s 32ms/step - loss: 0.5178 - accuracy: 0.8649 - val_loss: 1.4379 - val_accuracy: 0.6136\n",
            "Epoch 42/50\n",
            "900/900 [==============================] - ETA: 0s - loss: 0.4935 - accuracy: 0.8735"
          ]
        },
        {
          "output_type": "stream",
          "name": "stderr",
          "text": [
            "WARNING:tensorflow:Can save best model only with val_acc available, skipping.\n"
          ]
        },
        {
          "output_type": "stream",
          "name": "stdout",
          "text": [
            "\b\b\b\b\b\b\b\b\b\b\b\b\b\b\b\b\b\b\b\b\b\b\b\b\b\b\b\b\b\b\b\b\b\b\b\b\b\b\b\b\b\b\b\b\b\b\b\b\b\b\b\b\b\b\b\b\b\b\b\b\b\b\b\b\b\b\b\b\b\b\b\b\b\b\b\b\b\b\b\b\b\b\b\b\r900/900 [==============================] - 29s 32ms/step - loss: 0.4935 - accuracy: 0.8735 - val_loss: 1.4812 - val_accuracy: 0.6224\n",
            "Epoch 43/50\n",
            "899/900 [============================>.] - ETA: 0s - loss: 0.4912 - accuracy: 0.8720"
          ]
        },
        {
          "output_type": "stream",
          "name": "stderr",
          "text": [
            "WARNING:tensorflow:Can save best model only with val_acc available, skipping.\n"
          ]
        },
        {
          "output_type": "stream",
          "name": "stdout",
          "text": [
            "\b\b\b\b\b\b\b\b\b\b\b\b\b\b\b\b\b\b\b\b\b\b\b\b\b\b\b\b\b\b\b\b\b\b\b\b\b\b\b\b\b\b\b\b\b\b\b\b\b\b\b\b\b\b\b\b\b\b\b\b\b\b\b\b\b\b\b\b\b\b\b\b\b\b\b\b\b\b\b\b\b\b\b\b\r900/900 [==============================] - 31s 35ms/step - loss: 0.4914 - accuracy: 0.8720 - val_loss: 1.6654 - val_accuracy: 0.5872\n",
            "Epoch 44/50\n",
            "899/900 [============================>.] - ETA: 0s - loss: 0.4821 - accuracy: 0.8770"
          ]
        },
        {
          "output_type": "stream",
          "name": "stderr",
          "text": [
            "WARNING:tensorflow:Can save best model only with val_acc available, skipping.\n"
          ]
        },
        {
          "output_type": "stream",
          "name": "stdout",
          "text": [
            "\b\b\b\b\b\b\b\b\b\b\b\b\b\b\b\b\b\b\b\b\b\b\b\b\b\b\b\b\b\b\b\b\b\b\b\b\b\b\b\b\b\b\b\b\b\b\b\b\b\b\b\b\b\b\b\b\b\b\b\b\b\b\b\b\b\b\b\b\b\b\b\b\b\b\b\b\b\b\b\b\b\b\b\b\r900/900 [==============================] - 29s 32ms/step - loss: 0.4821 - accuracy: 0.8770 - val_loss: 1.5965 - val_accuracy: 0.6186\n",
            "Epoch 45/50\n",
            "899/900 [============================>.] - ETA: 0s - loss: 0.4686 - accuracy: 0.8789"
          ]
        },
        {
          "output_type": "stream",
          "name": "stderr",
          "text": [
            "WARNING:tensorflow:Can save best model only with val_acc available, skipping.\n"
          ]
        },
        {
          "output_type": "stream",
          "name": "stdout",
          "text": [
            "\b\b\b\b\b\b\b\b\b\b\b\b\b\b\b\b\b\b\b\b\b\b\b\b\b\b\b\b\b\b\b\b\b\b\b\b\b\b\b\b\b\b\b\b\b\b\b\b\b\b\b\b\b\b\b\b\b\b\b\b\b\b\b\b\b\b\b\b\b\b\b\b\b\b\b\b\b\b\b\b\b\b\b\b\r900/900 [==============================] - 29s 32ms/step - loss: 0.4689 - accuracy: 0.8788 - val_loss: 1.9104 - val_accuracy: 0.5631\n",
            "Epoch 46/50\n",
            "899/900 [============================>.] - ETA: 0s - loss: 0.4695 - accuracy: 0.8800"
          ]
        },
        {
          "output_type": "stream",
          "name": "stderr",
          "text": [
            "WARNING:tensorflow:Can save best model only with val_acc available, skipping.\n"
          ]
        },
        {
          "output_type": "stream",
          "name": "stdout",
          "text": [
            "\b\b\b\b\b\b\b\b\b\b\b\b\b\b\b\b\b\b\b\b\b\b\b\b\b\b\b\b\b\b\b\b\b\b\b\b\b\b\b\b\b\b\b\b\b\b\b\b\b\b\b\b\b\b\b\b\b\b\b\b\b\b\b\b\b\b\b\b\b\b\b\b\b\b\b\b\b\b\b\b\b\b\b\b\r900/900 [==============================] - 31s 35ms/step - loss: 0.4692 - accuracy: 0.8801 - val_loss: 1.5649 - val_accuracy: 0.6060\n",
            "Epoch 47/50\n",
            "899/900 [============================>.] - ETA: 0s - loss: 0.4557 - accuracy: 0.8856"
          ]
        },
        {
          "output_type": "stream",
          "name": "stderr",
          "text": [
            "WARNING:tensorflow:Can save best model only with val_acc available, skipping.\n"
          ]
        },
        {
          "output_type": "stream",
          "name": "stdout",
          "text": [
            "\b\b\b\b\b\b\b\b\b\b\b\b\b\b\b\b\b\b\b\b\b\b\b\b\b\b\b\b\b\b\b\b\b\b\b\b\b\b\b\b\b\b\b\b\b\b\b\b\b\b\b\b\b\b\b\b\b\b\b\b\b\b\b\b\b\b\b\b\b\b\b\b\b\b\b\b\b\b\b\b\b\b\b\b\r900/900 [==============================] - 29s 32ms/step - loss: 0.4556 - accuracy: 0.8857 - val_loss: 1.5064 - val_accuracy: 0.6109\n",
            "Epoch 48/50\n",
            "900/900 [==============================] - ETA: 0s - loss: 0.4394 - accuracy: 0.8894"
          ]
        },
        {
          "output_type": "stream",
          "name": "stderr",
          "text": [
            "WARNING:tensorflow:Can save best model only with val_acc available, skipping.\n"
          ]
        },
        {
          "output_type": "stream",
          "name": "stdout",
          "text": [
            "\b\b\b\b\b\b\b\b\b\b\b\b\b\b\b\b\b\b\b\b\b\b\b\b\b\b\b\b\b\b\b\b\b\b\b\b\b\b\b\b\b\b\b\b\b\b\b\b\b\b\b\b\b\b\b\b\b\b\b\b\b\b\b\b\b\b\b\b\b\b\b\b\b\b\b\b\b\b\b\b\b\b\b\b\r900/900 [==============================] - 32s 35ms/step - loss: 0.4394 - accuracy: 0.8894 - val_loss: 1.6424 - val_accuracy: 0.6068\n",
            "Epoch 49/50\n",
            "899/900 [============================>.] - ETA: 0s - loss: 0.4413 - accuracy: 0.8868"
          ]
        },
        {
          "output_type": "stream",
          "name": "stderr",
          "text": [
            "WARNING:tensorflow:Can save best model only with val_acc available, skipping.\n"
          ]
        },
        {
          "output_type": "stream",
          "name": "stdout",
          "text": [
            "\b\b\b\b\b\b\b\b\b\b\b\b\b\b\b\b\b\b\b\b\b\b\b\b\b\b\b\b\b\b\b\b\b\b\b\b\b\b\b\b\b\b\b\b\b\b\b\b\b\b\b\b\b\b\b\b\b\b\b\b\b\b\b\b\b\b\b\b\b\b\b\b\b\b\b\b\b\b\b\b\b\b\b\b\r900/900 [==============================] - 29s 33ms/step - loss: 0.4412 - accuracy: 0.8868 - val_loss: 1.5368 - val_accuracy: 0.6118\n",
            "Epoch 50/50\n",
            "899/900 [============================>.] - ETA: 0s - loss: 0.4362 - accuracy: 0.8884"
          ]
        },
        {
          "output_type": "stream",
          "name": "stderr",
          "text": [
            "WARNING:tensorflow:Can save best model only with val_acc available, skipping.\n"
          ]
        },
        {
          "output_type": "stream",
          "name": "stdout",
          "text": [
            "\b\b\b\b\b\b\b\b\b\b\b\b\b\b\b\b\b\b\b\b\b\b\b\b\b\b\b\b\b\b\b\b\b\b\b\b\b\b\b\b\b\b\b\b\b\b\b\b\b\b\b\b\b\b\b\b\b\b\b\b\b\b\b\b\b\b\b\b\b\b\b\b\b\b\b\b\b\b\b\b\b\b\b\b\r900/900 [==============================] - 30s 33ms/step - loss: 0.4362 - accuracy: 0.8884 - val_loss: 1.8378 - val_accuracy: 0.5273\n",
            "CPU times: user 28min 22s, sys: 1min 32s, total: 29min 55s\n",
            "Wall time: 28min\n"
          ]
        }
      ]
    },
    {
      "cell_type": "code",
      "source": [
        "train_time['Adam']=28"
      ],
      "metadata": {
        "id": "y8MDbwGfD0cc"
      },
      "execution_count": 61,
      "outputs": []
    },
    {
      "cell_type": "markdown",
      "source": [
        "**Performance**"
      ],
      "metadata": {
        "id": "e7B361g6D8iY"
      }
    },
    {
      "cell_type": "code",
      "source": [
        "import matplotlib.pyplot as plt\n",
        "\n",
        "plt.figure(figsize=(15,6))\n",
        "plt.subplot(1, 2, 1)\n",
        "plt.suptitle('Optimizer : Adam', fontsize=10)\n",
        "plt.ylabel('Loss', fontsize=16)\n",
        "plt.plot(history.history['loss'], label='Training Loss')\n",
        "plt.plot(history.history['val_loss'], label='Validation Loss')\n",
        "plt.legend(loc='upper right')\n",
        "\n",
        "plt.subplot(1, 2, 2)\n",
        "plt.ylabel('Accuracy', fontsize=16)\n",
        "plt.plot(history.history['accuracy'], label='Training Accuracy')\n",
        "plt.plot(history.history['val_accuracy'], label='Validation Accuracy')\n",
        "plt.legend(loc='lower right')\n",
        "plt.show()"
      ],
      "metadata": {
        "colab": {
          "base_uri": "https://localhost:8080/",
          "height": 417
        },
        "id": "865Mn2yoD-lb",
        "outputId": "e81568c0-33f4-43c8-dbb9-0e206b5d57a8"
      },
      "execution_count": 62,
      "outputs": [
        {
          "output_type": "display_data",
          "data": {
            "text/plain": [
              "<Figure size 1080x432 with 2 Axes>"
            ],
            "image/png": "[encoded data removed]"
          },
          "metadata": {
            "needs_background": "light"
          }
        }
      ]
    },
    {
      "cell_type": "markdown",
      "source": [
        "**Training time comparsion**"
      ],
      "metadata": {
        "id": "fbiCCYncPBbl"
      }
    },
    {
      "cell_type": "code",
      "source": [
        "wall_time=[15.3,20.46,28]\n",
        "cpu_time=[17.54,22.46,29.55]\n",
        "opt=['SGD','Adagrad','Adam']\n",
        "\n",
        "plt.suptitle('CPU training time Vs Optimizer',fontsize=15)\n",
        "plt.xlabel('Optimizer', fontsize=10)\n",
        "plt.ylabel('CPU time min:sec', fontsize=10)\n",
        "plt.plot(opt,cpu_time)\n",
        "plt.show()\n",
        "\n",
        "\n",
        "plt.suptitle('Wall training time Vs Optimizer',fontsize=15)\n",
        "plt.xlabel('Optimizer', fontsize=10)\n",
        "plt.ylabel('Wall time min:sec', fontsize=10)\n",
        "plt.plot(opt,wall_time)\n",
        "plt.show()\n",
        "\n"
      ],
      "metadata": {
        "colab": {
          "base_uri": "https://localhost:8080/",
          "height": 599
        },
        "id": "jeLmYfKOIZPo",
        "outputId": "d031f2c6-7b8b-499d-9cc2-469a464071ef"
      },
      "execution_count": 103,
      "outputs": [
        {
          "output_type": "display_data",
          "data": {
            "text/plain": [
              "<Figure size 432x288 with 1 Axes>"
            ],
            "image/png": "[encoded data removed]"
          },
          "metadata": {
            "needs_background": "light"
          }
        },
        {
          "output_type": "display_data",
          "data": {
            "text/plain": [
              "<Figure size 432x288 with 1 Axes>"
            ],
            "image/png": "[encoded data removed]"
          },
          "metadata": {
            "needs_background": "light"
          }
        }
      ]
    },
    {
      "cell_type": "code",
      "source": [],
      "metadata": {
        "colab": {
          "base_uri": "https://localhost:8080/",
          "height": 282
        },
        "id": "orVmM_mgMl5-",
        "outputId": "db62275f-0198-49f1-8eef-427594da6b65"
      },
      "execution_count": 91,
      "outputs": [
        {
          "output_type": "execute_result",
          "data": {
            "text/plain": [
              "[<matplotlib.lines.Line2D at 0x7f81bc80e310>]"
            ]
          },
          "metadata": {},
          "execution_count": 91
        },
        {
          "output_type": "display_data",
          "data": {
            "text/plain": [
              "<Figure size 432x288 with 1 Axes>"
            ],
            "image/png": "[encoded data removed]"
          },
          "metadata": {
            "needs_background": "light"
          }
        }
      ]
    },
    {
      "cell_type": "code",
      "source": [
        "sns.lineplot(x=opt,y=cpu_time)"
      ],
      "metadata": {
        "colab": {
          "base_uri": "https://localhost:8080/",
          "height": 282
        },
        "id": "3oi6u8mRM2rW",
        "outputId": "0676cef6-3bac-4caf-fe2c-59048488f785"
      },
      "execution_count": 93,
      "outputs": [
        {
          "output_type": "execute_result",
          "data": {
            "text/plain": [
              "<Axes: >"
            ]
          },
          "metadata": {},
          "execution_count": 93
        },
        {
          "output_type": "display_data",
          "data": {
            "text/plain": [
              "<Figure size 432x288 with 1 Axes>"
            ],
            "image/png": "[encoded data removed]"
          },
          "metadata": {
            "needs_background": "light"
          }
        }
      ]
    }
  ]
}