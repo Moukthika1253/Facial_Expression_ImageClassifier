{
  "nbformat": 4,
  "nbformat_minor": 0,
  "metadata": {
    "colab": {
      "provenance": [],
      "authorship_tag": "ABX9TyNJ4CKdvxNNOl+vRpunjOhX",
      "include_colab_link": true
    },
    "kernelspec": {
      "name": "python3",
      "display_name": "Python 3"
    },
    "language_info": {
      "name": "python"
    },
    "gpuClass": "standard"
  },
  "cells": [
    {
      "cell_type": "markdown",
      "metadata": {
        "id": "view-in-github",
        "colab_type": "text"
      },
      "source": [
        "<a href=\"https://colab.research.google.com/github/Moukthika1253/Facial_Expression_ImageClassifier/blob/main/facial_expression_classifier.ipynb\" target=\"_parent\"><img src=\"https://colab.research.google.com/assets/colab-badge.svg\" alt=\"Open In Colab\"/></a>"
      ]
    },
    {
      "cell_type": "code",
      "execution_count": 2,
      "metadata": {
        "id": "TyEGcRh0tPgF"
      },
      "outputs": [],
      "source": [
        "import os\n",
        "import numpy as np\n",
        "import seaborn as sns\n",
        "import tensorflow as tf"
      ]
    },
    {
      "cell_type": "code",
      "source": [
        "train_data=\"/content/images/train\"\n",
        "test_data=\"/content/images/validation\"\n",
        "train_count=[]\n",
        "exp_list=[\"angry\",\"surprise\",\"neutral\",\"sad\",\"happy\",\"fear\",\"disgust\"]\n",
        "print(\"Images in train set:\")\n",
        "for emotion in os.listdir(train_data):\n",
        "  train_count.append(len(os.listdir(train_data+\"/\"+emotion)))\n",
        "\n",
        "sns.barplot(x=exp_list,y=train_count)"
      ],
      "metadata": {
        "id": "6HCpOPOPDRxS",
        "colab": {
          "base_uri": "https://localhost:8080/",
          "height": 252
        },
        "outputId": "be01c83b-724f-4867-9eb7-cc08a9083e2a"
      },
      "execution_count": 3,
      "outputs": [
        {
          "output_type": "stream",
          "name": "stdout",
          "text": [
            "Images in train set:\n"
          ]
        },
        {
          "output_type": "error",
          "ename": "FileNotFoundError",
          "evalue": "ignored",
          "traceback": [
            "\u001b[0;31m---------------------------------------------------------------------------\u001b[0m",
            "\u001b[0;31mFileNotFoundError\u001b[0m                         Traceback (most recent call last)",
            "\u001b[0;32m<ipython-input-3-41782e720ace>\u001b[0m in \u001b[0;36m<module>\u001b[0;34m\u001b[0m\n\u001b[1;32m      4\u001b[0m \u001b[0mexp_list\u001b[0m\u001b[0;34m=\u001b[0m\u001b[0;34m[\u001b[0m\u001b[0;34m\"angry\"\u001b[0m\u001b[0;34m,\u001b[0m\u001b[0;34m\"surprise\"\u001b[0m\u001b[0;34m,\u001b[0m\u001b[0;34m\"neutral\"\u001b[0m\u001b[0;34m,\u001b[0m\u001b[0;34m\"sad\"\u001b[0m\u001b[0;34m,\u001b[0m\u001b[0;34m\"happy\"\u001b[0m\u001b[0;34m,\u001b[0m\u001b[0;34m\"fear\"\u001b[0m\u001b[0;34m,\u001b[0m\u001b[0;34m\"disgust\"\u001b[0m\u001b[0;34m]\u001b[0m\u001b[0;34m\u001b[0m\u001b[0;34m\u001b[0m\u001b[0m\n\u001b[1;32m      5\u001b[0m \u001b[0mprint\u001b[0m\u001b[0;34m(\u001b[0m\u001b[0;34m\"Images in train set:\"\u001b[0m\u001b[0;34m)\u001b[0m\u001b[0;34m\u001b[0m\u001b[0;34m\u001b[0m\u001b[0m\n\u001b[0;32m----> 6\u001b[0;31m \u001b[0;32mfor\u001b[0m \u001b[0memotion\u001b[0m \u001b[0;32min\u001b[0m \u001b[0mos\u001b[0m\u001b[0;34m.\u001b[0m\u001b[0mlistdir\u001b[0m\u001b[0;34m(\u001b[0m\u001b[0mtrain_data\u001b[0m\u001b[0;34m)\u001b[0m\u001b[0;34m:\u001b[0m\u001b[0;34m\u001b[0m\u001b[0;34m\u001b[0m\u001b[0m\n\u001b[0m\u001b[1;32m      7\u001b[0m   \u001b[0mexp_count\u001b[0m\u001b[0;34m.\u001b[0m\u001b[0mappend\u001b[0m\u001b[0;34m(\u001b[0m\u001b[0mlen\u001b[0m\u001b[0;34m(\u001b[0m\u001b[0mos\u001b[0m\u001b[0;34m.\u001b[0m\u001b[0mlistdir\u001b[0m\u001b[0;34m(\u001b[0m\u001b[0mtrain_data\u001b[0m\u001b[0;34m+\u001b[0m\u001b[0;34m\"/\"\u001b[0m\u001b[0;34m+\u001b[0m\u001b[0memotion\u001b[0m\u001b[0;34m)\u001b[0m\u001b[0;34m)\u001b[0m\u001b[0;34m)\u001b[0m\u001b[0;34m\u001b[0m\u001b[0;34m\u001b[0m\u001b[0m\n\u001b[1;32m      8\u001b[0m \u001b[0;34m\u001b[0m\u001b[0m\n",
            "\u001b[0;31mFileNotFoundError\u001b[0m: [Errno 2] No such file or directory: '/content/images/train'"
          ]
        }
      ]
    },
    {
      "cell_type": "code",
      "source": [
        "test_count=[]\n",
        "for emotion in os.listdir(test_data):\n",
        "  test_count.append(len(os.listdir(test_data+\"/\"+emotion)))\n",
        "sns.barplot(x=exp_list,y=test_count)"
      ],
      "metadata": {
        "colab": {
          "base_uri": "https://localhost:8080/"
        },
        "id": "1DcbyyLiuqWG",
        "outputId": "cce8df51-785f-4744-ad8b-b1ab12a3f7ff"
      },
      "execution_count": 12,
      "outputs": [
        {
          "output_type": "stream",
          "name": "stdout",
          "text": [
            "Images in test set:\n",
            "angry : 960\n",
            "surprise : 797\n",
            "neutral : 1216\n",
            "sad : 1139\n",
            "happy : 1825\n",
            "fear : 1018\n",
            "disgust : 111\n"
          ]
        }
      ]
    },
    {
      "cell_type": "markdown",
      "source": [
        "**Image Generator**"
      ],
      "metadata": {
        "id": "674837G52uYH"
      }
    },
    {
      "cell_type": "code",
      "source": [
        "from keras.preprocessing.image import ImageDataGenerator\n",
        "img_size=48\n",
        "batchSize="
      ],
      "metadata": {
        "id": "OEcOqCNJ3tUb"
      },
      "execution_count": null,
      "outputs": []
    }
  ]
}