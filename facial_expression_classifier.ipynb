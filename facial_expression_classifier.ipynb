{
  "nbformat": 4,
  "nbformat_minor": 0,
  "metadata": {
    "colab": {
      "provenance": [],
      "authorship_tag": "ABX9TyM6HYjt/ZTOjmi7DPNoAxQg",
      "include_colab_link": true
    },
    "kernelspec": {
      "name": "python3",
      "display_name": "Python 3"
    },
    "language_info": {
      "name": "python"
    },
    "gpuClass": "standard",
    "accelerator": "GPU"
  },
  "cells": [
    {
      "cell_type": "markdown",
      "metadata": {
        "id": "view-in-github",
        "colab_type": "text"
      },
      "source": [
        "<a href=\"https://colab.research.google.com/github/Moukthika1253/Facial_Expression_ImageClassifier/blob/main/facial_expression_classifier.ipynb\" target=\"_parent\"><img src=\"https://colab.research.google.com/assets/colab-badge.svg\" alt=\"Open In Colab\"/></a>"
      ]
    },
    {
      "cell_type": "code",
      "execution_count": 2,
      "metadata": {
        "id": "TyEGcRh0tPgF"
      },
      "outputs": [],
      "source": [
        "import os\n",
        "import numpy as np\n",
        "import seaborn as sns\n",
        "import tensorflow as tf"
      ]
    },
    {
      "cell_type": "code",
      "source": [
        "train_data=\"/content/images/train\"\n",
        "test_data=\"/content/images/validation\"\n",
        "train_count=[]\n",
        "exp_list=[]\n",
        "for emotion in os.listdir(train_data):\n",
        "  exp_list.append(emotion)\n",
        "  train_count.append(len(os.listdir(train_data+\"/\"+emotion)))\n",
        "sns.barplot(x=exp_list,y=train_count)\n"
      ],
      "metadata": {
        "id": "6HCpOPOPDRxS",
        "colab": {
          "base_uri": "https://localhost:8080/",
          "height": 282
        },
        "outputId": "04b88c56-474a-40b4-fe07-b45af20c0ca6"
      },
      "execution_count": 3,
      "outputs": [
        {
          "output_type": "execute_result",
          "data": {
            "text/plain": [
              "<Axes: >"
            ]
          },
          "metadata": {},
          "execution_count": 3
        },
        {
          "output_type": "display_data",
          "data": {
            "text/plain": [
              "<Figure size 432x288 with 1 Axes>"
            ],
            "image/png": "[encoded data removed]"
          },
          "metadata": {
            "needs_background": "light"
          }
        }
      ]
    },
    {
      "cell_type": "code",
      "source": [
        "test_count=[]\n",
        "for emotion in os.listdir(test_data):\n",
        "  test_count.append(len(os.listdir(test_data+\"/\"+emotion)))\n",
        "sns.barplot(x=exp_list,y=test_count)"
      ],
      "metadata": {
        "colab": {
          "base_uri": "https://localhost:8080/",
          "height": 282
        },
        "id": "1DcbyyLiuqWG",
        "outputId": "d991c28e-d659-41d9-b119-0c938b9594db"
      },
      "execution_count": 13,
      "outputs": [
        {
          "output_type": "execute_result",
          "data": {
            "text/plain": [
              "<Axes: >"
            ]
          },
          "metadata": {},
          "execution_count": 13
        },
        {
          "output_type": "display_data",
          "data": {
            "text/plain": [
              "<Figure size 432x288 with 1 Axes>"
            ],
            "image/png": "[encoded data removed]"
          },
          "metadata": {
            "needs_background": "light"
          }
        }
      ]
    },
    {
      "cell_type": "markdown",
      "source": [
        "**Face Expression images**"
      ],
      "metadata": {
        "id": "UvCbY74bV4ae"
      }
    },
    {
      "cell_type": "code",
      "source": [
        "from tensorflow.keras.preprocessing import image\n",
        "import matplotlib.pyplot as plt\n",
        "i=0\n",
        "_, axes = plt.subplots(1, 7, figsize=(18, 16))\n",
        "axes = axes.flatten()\n",
        "for emotion,a in zip(os.listdir(train_data),axes):\n",
        "   images=image.load_img(train_data+\"/\"+emotion+\"/\"+os.listdir(train_data+\"/\"+emotion)[0])\n",
        "   print(\"     \"+exp_list[i],end=\"       \")\n",
        "   a.imshow(images,cmap=\"gray\")\n",
        "   i=i+1\n",
        "plt.show()\n",
        "\n"
      ],
      "metadata": {
        "colab": {
          "base_uri": "https://localhost:8080/",
          "height": 190
        },
        "id": "z_G4PzfPDp8B",
        "outputId": "0bd83c31-c067-446a-c530-4f6e5214fb23"
      },
      "execution_count": 14,
      "outputs": [
        {
          "output_type": "stream",
          "name": "stdout",
          "text": [
            "     sad            surprise            disgust            happy            neutral            fear            angry       "
          ]
        },
        {
          "output_type": "display_data",
          "data": {
            "text/plain": [
              "<Figure size 1296x1152 with 7 Axes>"
            ],
            "image/png": "[encoded data removed]"
          },
          "metadata": {
            "needs_background": "light"
          }
        }
      ]
    },
    {
      "cell_type": "markdown",
      "source": [
        "# **Image Generator**"
      ],
      "metadata": {
        "id": "674837G52uYH"
      }
    },
    {
      "cell_type": "markdown",
      "source": [
        "The directory must be set to the path where your ‘n’ classes of folders are present.\n",
        "The target_size is the size of your input images, every image will be resized to this size.\n",
        "color_mode: if the image is either black and white or grayscale set “grayscale” or if the image has three color channels, set “rgb”.\n",
        "batch_size: No. of images to be yielded from the generator per batch.\n",
        "class_mode: Set “binary” if you have only two classes to predict, if not set to“categorical”, in case if you’re developing an Autoencoder system, both input and the output would probably be the same image, for this case set to “input”.\n",
        "shuffle: Set True if you want to shuffle the order of the image that is being yielded, else set False.\n",
        "seed: Random seed for applying random image augmentation and shuffling the order of the image."
      ],
      "metadata": {
        "id": "rlAC8lOrX24E"
      }
    },
    {
      "cell_type": "code",
      "source": [
        "from keras.preprocessing.image import ImageDataGenerator\n",
        "data_train = ImageDataGenerator()\n",
        "data_validation=ImageDataGenerator()\n",
        "train_gen=data_train.flow_from_directory(train_data,target_size=(48,48),\n",
        "                                                    color_mode=\"grayscale\",\n",
        "                                                    class_mode='categorical',\n",
        "                                                    shuffle=True,seed=42)\n",
        "validation_gen=data_validation.flow_from_directory(test_data,target_size=(48,48),\n",
        "                                                    color_mode=\"grayscale\",\n",
        "                                                    class_mode='categorical',\n",
        "                                                    shuffle=False)"
      ],
      "metadata": {
        "id": "OEcOqCNJ3tUb",
        "colab": {
          "base_uri": "https://localhost:8080/"
        },
        "outputId": "a5b3e175-7806-48c4-8e5a-40b0d21010eb"
      },
      "execution_count": 15,
      "outputs": [
        {
          "output_type": "stream",
          "name": "stdout",
          "text": [
            "Found 28821 images belonging to 7 classes.\n",
            "Found 7066 images belonging to 7 classes.\n"
          ]
        }
      ]
    },
    {
      "cell_type": "markdown",
      "source": [
        "# **Building Convolutional Neural Networks (CNN)**"
      ],
      "metadata": {
        "id": "S1t1Y_14Yk1d"
      }
    },
    {
      "cell_type": "markdown",
      "source": [
        "**Importing libraries to build CNN**"
      ],
      "metadata": {
        "id": "y54TtKF_h0Cf"
      }
    },
    {
      "cell_type": "code",
      "source": [
        "from keras.layers import Dense, Input, Dropout, Flatten, Conv2D,Conv3D, BatchNormalization, Activation, MaxPooling2D\n",
        "from keras.models import Model, Sequential\n",
        "from keras.optimizers import SGD,Adagrad,Adadelta,Adam\n",
        "from keras.regularizers import l1,l2\n"
      ],
      "metadata": {
        "id": "JmYnziQ7Yrrc"
      },
      "execution_count": 19,
      "outputs": []
    },
    {
      "cell_type": "markdown",
      "source": [
        "**Model with 2 convolution layers and 2 fully connected layers optimizer=SGD activation = sigmoid**"
      ],
      "metadata": {
        "id": "Q6T2M8PqiwvT"
      }
    },
    {
      "cell_type": "code",
      "source": [
        "model=Sequential()\n",
        "#first convolution layer\n",
        "model.add(Conv2D(32,(3,3),strides=(1,1),padding=\"same\",input_shape=(48, 48,1),kernel_regularizer=l1(0.0001)))\n",
        "model.add(BatchNormalization())\n",
        "model.add(Activation(\"sigmoid\"))\n",
        "model.add(MaxPooling2D(pool_size=(2, 2)))\n",
        "model.add(Dropout(0.20))\n",
        "\n",
        "#second convolution layer\n",
        "model.add(Conv2D(64,(3,3),strides=(2,2),padding=\"same\",kernel_regularizer=l2(0.0001)))\n",
        "model.add(BatchNormalization())\n",
        "model.add(Activation(\"sigmoid\"))\n",
        "model.add(MaxPooling2D(pool_size=(2, 2)))\n",
        "model.add(Dropout(0.20))\n",
        "\n",
        "model.add(Flatten())\n",
        "\n",
        "#1st fully connected layer\n",
        "model.add(Dense(512,kernel_regularizer=l2(0.0001)))\n",
        "model.add(BatchNormalization())\n",
        "model.add(Activation('relu'))\n",
        "model.add(Dropout(0.20))\n",
        "\n",
        "#2nd fully connected layer\n",
        "model.add(Dense(1024,kernel_regularizer=l2(0.0001)))\n",
        "model.add(BatchNormalization())\n",
        "model.add(Activation('relu'))\n",
        "model.add(Dropout(0.20))\n",
        "\n",
        "#last layer\n",
        "model.add(Dense(7))\n",
        "model.add(Activation('softmax'))\n",
        "\n",
        "#compiling model\n",
        "opti=SGD(learning_rate=0.01)\n",
        "model.compile(optimizer=opti,loss='categorical_crossentropy',metrics=['accuracy'])\n"
      ],
      "metadata": {
        "id": "7jn-j1pkhmJr"
      },
      "execution_count": 20,
      "outputs": []
    },
    {
      "cell_type": "code",
      "source": [
        "model.summary()"
      ],
      "metadata": {
        "colab": {
          "base_uri": "https://localhost:8080/"
        },
        "id": "6TJtaTsJqERU",
        "outputId": "278d1e64-6b38-49c1-b10f-b5ad4ea22db4"
      },
      "execution_count": 21,
      "outputs": [
        {
          "output_type": "stream",
          "name": "stdout",
          "text": [
            "Model: \"sequential_1\"\n",
            "_________________________________________________________________\n",
            " Layer (type)                Output Shape              Param #   \n",
            "=================================================================\n",
            " conv2d (Conv2D)             (None, 48, 48, 32)        320       \n",
            "                                                                 \n",
            " batch_normalization (BatchN  (None, 48, 48, 32)       128       \n",
            " ormalization)                                                   \n",
            "                                                                 \n",
            " activation (Activation)     (None, 48, 48, 32)        0         \n",
            "                                                                 \n",
            " max_pooling2d (MaxPooling2D  (None, 24, 24, 32)       0         \n",
            " )                                                               \n",
            "                                                                 \n",
            " dropout (Dropout)           (None, 24, 24, 32)        0         \n",
            "                                                                 \n",
            " conv2d_1 (Conv2D)           (None, 12, 12, 64)        18496     \n",
            "                                                                 \n",
            " batch_normalization_1 (Batc  (None, 12, 12, 64)       256       \n",
            " hNormalization)                                                 \n",
            "                                                                 \n",
            " activation_1 (Activation)   (None, 12, 12, 64)        0         \n",
            "                                                                 \n",
            " max_pooling2d_1 (MaxPooling  (None, 6, 6, 64)         0         \n",
            " 2D)                                                             \n",
            "                                                                 \n",
            " dropout_1 (Dropout)         (None, 6, 6, 64)          0         \n",
            "                                                                 \n",
            " flatten (Flatten)           (None, 2304)              0         \n",
            "                                                                 \n",
            " dense (Dense)               (None, 512)               1180160   \n",
            "                                                                 \n",
            " batch_normalization_2 (Batc  (None, 512)              2048      \n",
            " hNormalization)                                                 \n",
            "                                                                 \n",
            " activation_2 (Activation)   (None, 512)               0         \n",
            "                                                                 \n",
            " dropout_2 (Dropout)         (None, 512)               0         \n",
            "                                                                 \n",
            " dense_1 (Dense)             (None, 1024)              525312    \n",
            "                                                                 \n",
            " batch_normalization_3 (Batc  (None, 1024)             4096      \n",
            " hNormalization)                                                 \n",
            "                                                                 \n",
            " activation_3 (Activation)   (None, 1024)              0         \n",
            "                                                                 \n",
            " dropout_3 (Dropout)         (None, 1024)              0         \n",
            "                                                                 \n",
            " dense_2 (Dense)             (None, 7)                 7175      \n",
            "                                                                 \n",
            " activation_4 (Activation)   (None, 7)                 0         \n",
            "                                                                 \n",
            "=================================================================\n",
            "Total params: 1,737,991\n",
            "Trainable params: 1,734,727\n",
            "Non-trainable params: 3,264\n",
            "_________________________________________________________________\n"
          ]
        }
      ]
    },
    {
      "cell_type": "code",
      "source": [
        "train_time={}"
      ],
      "metadata": {
        "id": "bL5JuCGwv1si"
      },
      "execution_count": 26,
      "outputs": []
    },
    {
      "cell_type": "markdown",
      "source": [
        "**Training the model**"
      ],
      "metadata": {
        "id": "xTvoC5t4o7um"
      }
    },
    {
      "cell_type": "code",
      "source": [
        "%%time\n",
        "from keras.callbacks import ModelCheckpoint\n",
        "\n",
        "checkpoint = ModelCheckpoint(\"model_weights.h5\", monitor='val_acc', verbose=1, save_best_only=True, mode='max')\n",
        "callbacks_list = [checkpoint]\n",
        "\n",
        "batch_size=150\n",
        "history = model.fit(train_gen,\n",
        "                                steps_per_epoch=train_gen.n//train_gen.batch_size,\n",
        "                                epochs=40,\n",
        "                                validation_data = validation_gen,\n",
        "                                validation_steps = validation_gen.n//validation_gen.batch_size,\n",
        "                                callbacks=callbacks_list)\n",
        "\n"
      ],
      "metadata": {
        "colab": {
          "base_uri": "https://localhost:8080/"
        },
        "id": "M_llJS2Qo-jm",
        "outputId": "67fcc879-07eb-42a2-8ffa-6b12fd6d1e25"
      },
      "execution_count": 24,
      "outputs": [
        {
          "output_type": "stream",
          "name": "stdout",
          "text": [
            "Epoch 1/40\n",
            "899/900 [============================>.] - ETA: 0s - loss: 2.0504 - accuracy: 0.2287"
          ]
        },
        {
          "output_type": "stream",
          "name": "stderr",
          "text": [
            "WARNING:tensorflow:Can save best model only with val_acc available, skipping.\n"
          ]
        },
        {
          "output_type": "stream",
          "name": "stdout",
          "text": [
            "\b\b\b\b\b\b\b\b\b\b\b\b\b\b\b\b\b\b\b\b\b\b\b\b\b\b\b\b\b\b\b\b\b\b\b\b\b\b\b\b\b\b\b\b\b\b\b\b\b\b\b\b\b\b\b\b\b\b\b\b\b\b\b\b\b\b\b\b\b\b\b\b\b\b\b\b\b\b\b\b\b\b\b\b\r900/900 [==============================] - 19s 21ms/step - loss: 2.0504 - accuracy: 0.2288 - val_loss: 1.9004 - val_accuracy: 0.2989\n",
            "Epoch 2/40\n",
            "899/900 [============================>.] - ETA: 0s - loss: 1.9821 - accuracy: 0.2528"
          ]
        },
        {
          "output_type": "stream",
          "name": "stderr",
          "text": [
            "WARNING:tensorflow:Can save best model only with val_acc available, skipping.\n"
          ]
        },
        {
          "output_type": "stream",
          "name": "stdout",
          "text": [
            "\b\b\b\b\b\b\b\b\b\b\b\b\b\b\b\b\b\b\b\b\b\b\b\b\b\b\b\b\b\b\b\b\b\b\b\b\b\b\b\b\b\b\b\b\b\b\b\b\b\b\b\b\b\b\b\b\b\b\b\b\b\b\b\b\b\b\b\b\b\b\b\b\b\b\b\b\b\b\b\b\b\b\b\b\r900/900 [==============================] - 17s 18ms/step - loss: 1.9820 - accuracy: 0.2528 - val_loss: 1.8669 - val_accuracy: 0.3249\n",
            "Epoch 3/40\n",
            "898/900 [============================>.] - ETA: 0s - loss: 1.9467 - accuracy: 0.2692"
          ]
        },
        {
          "output_type": "stream",
          "name": "stderr",
          "text": [
            "WARNING:tensorflow:Can save best model only with val_acc available, skipping.\n"
          ]
        },
        {
          "output_type": "stream",
          "name": "stdout",
          "text": [
            "\b\b\b\b\b\b\b\b\b\b\b\b\b\b\b\b\b\b\b\b\b\b\b\b\b\b\b\b\b\b\b\b\b\b\b\b\b\b\b\b\b\b\b\b\b\b\b\b\b\b\b\b\b\b\b\b\b\b\b\b\b\b\b\b\b\b\b\b\b\b\b\b\b\b\b\b\b\b\b\b\b\b\b\b\r900/900 [==============================] - 16s 18ms/step - loss: 1.9468 - accuracy: 0.2693 - val_loss: 1.8360 - val_accuracy: 0.3278\n",
            "Epoch 4/40\n",
            "897/900 [============================>.] - ETA: 0s - loss: 1.9201 - accuracy: 0.2874"
          ]
        },
        {
          "output_type": "stream",
          "name": "stderr",
          "text": [
            "WARNING:tensorflow:Can save best model only with val_acc available, skipping.\n"
          ]
        },
        {
          "output_type": "stream",
          "name": "stdout",
          "text": [
            "\b\b\b\b\b\b\b\b\b\b\b\b\b\b\b\b\b\b\b\b\b\b\b\b\b\b\b\b\b\b\b\b\b\b\b\b\b\b\b\b\b\b\b\b\b\b\b\b\b\b\b\b\b\b\b\b\b\b\b\b\b\b\b\b\b\b\b\b\b\b\b\b\b\b\b\b\b\b\b\b\b\b\b\b\r900/900 [==============================] - 16s 17ms/step - loss: 1.9203 - accuracy: 0.2875 - val_loss: 1.8161 - val_accuracy: 0.3507\n",
            "Epoch 5/40\n",
            "900/900 [==============================] - ETA: 0s - loss: 1.9033 - accuracy: 0.2979"
          ]
        },
        {
          "output_type": "stream",
          "name": "stderr",
          "text": [
            "WARNING:tensorflow:Can save best model only with val_acc available, skipping.\n"
          ]
        },
        {
          "output_type": "stream",
          "name": "stdout",
          "text": [
            "\b\b\b\b\b\b\b\b\b\b\b\b\b\b\b\b\b\b\b\b\b\b\b\b\b\b\b\b\b\b\b\b\b\b\b\b\b\b\b\b\b\b\b\b\b\b\b\b\b\b\b\b\b\b\b\b\b\b\b\b\b\b\b\b\b\b\b\b\b\b\b\b\b\b\b\b\b\b\b\b\b\b\b\b\r900/900 [==============================] - 16s 18ms/step - loss: 1.9033 - accuracy: 0.2979 - val_loss: 1.8000 - val_accuracy: 0.3507\n",
            "Epoch 6/40\n",
            "898/900 [============================>.] - ETA: 0s - loss: 1.8849 - accuracy: 0.3052"
          ]
        },
        {
          "output_type": "stream",
          "name": "stderr",
          "text": [
            "WARNING:tensorflow:Can save best model only with val_acc available, skipping.\n"
          ]
        },
        {
          "output_type": "stream",
          "name": "stdout",
          "text": [
            "\b\b\b\b\b\b\b\b\b\b\b\b\b\b\b\b\b\b\b\b\b\b\b\b\b\b\b\b\b\b\b\b\b\b\b\b\b\b\b\b\b\b\b\b\b\b\b\b\b\b\b\b\b\b\b\b\b\b\b\b\b\b\b\b\b\b\b\b\b\b\b\b\b\b\b\b\b\b\b\b\b\b\b\b\r900/900 [==============================] - 16s 18ms/step - loss: 1.8849 - accuracy: 0.3053 - val_loss: 1.7864 - val_accuracy: 0.3558\n",
            "Epoch 7/40\n",
            "897/900 [============================>.] - ETA: 0s - loss: 1.8692 - accuracy: 0.3162"
          ]
        },
        {
          "output_type": "stream",
          "name": "stderr",
          "text": [
            "WARNING:tensorflow:Can save best model only with val_acc available, skipping.\n"
          ]
        },
        {
          "output_type": "stream",
          "name": "stdout",
          "text": [
            "\b\b\b\b\b\b\b\b\b\b\b\b\b\b\b\b\b\b\b\b\b\b\b\b\b\b\b\b\b\b\b\b\b\b\b\b\b\b\b\b\b\b\b\b\b\b\b\b\b\b\b\b\b\b\b\b\b\b\b\b\b\b\b\b\b\b\b\b\b\b\b\b\b\b\b\b\b\b\b\b\b\b\b\b\r900/900 [==============================] - 16s 18ms/step - loss: 1.8691 - accuracy: 0.3163 - val_loss: 1.7593 - val_accuracy: 0.3790\n",
            "Epoch 8/40\n",
            "897/900 [============================>.] - ETA: 0s - loss: 1.8490 - accuracy: 0.3298"
          ]
        },
        {
          "output_type": "stream",
          "name": "stderr",
          "text": [
            "WARNING:tensorflow:Can save best model only with val_acc available, skipping.\n"
          ]
        },
        {
          "output_type": "stream",
          "name": "stdout",
          "text": [
            "\b\b\b\b\b\b\b\b\b\b\b\b\b\b\b\b\b\b\b\b\b\b\b\b\b\b\b\b\b\b\b\b\b\b\b\b\b\b\b\b\b\b\b\b\b\b\b\b\b\b\b\b\b\b\b\b\b\b\b\b\b\b\b\b\b\b\b\b\b\b\b\b\b\b\b\b\b\b\b\b\b\b\b\b\r900/900 [==============================] - 16s 18ms/step - loss: 1.8490 - accuracy: 0.3296 - val_loss: 1.7711 - val_accuracy: 0.3827\n",
            "Epoch 9/40\n",
            "897/900 [============================>.] - ETA: 0s - loss: 1.8435 - accuracy: 0.3309"
          ]
        },
        {
          "output_type": "stream",
          "name": "stderr",
          "text": [
            "WARNING:tensorflow:Can save best model only with val_acc available, skipping.\n"
          ]
        },
        {
          "output_type": "stream",
          "name": "stdout",
          "text": [
            "\b\b\b\b\b\b\b\b\b\b\b\b\b\b\b\b\b\b\b\b\b\b\b\b\b\b\b\b\b\b\b\b\b\b\b\b\b\b\b\b\b\b\b\b\b\b\b\b\b\b\b\b\b\b\b\b\b\b\b\b\b\b\b\b\b\b\b\b\b\b\b\b\b\b\b\b\b\b\b\b\b\b\b\b\r900/900 [==============================] - 16s 18ms/step - loss: 1.8430 - accuracy: 0.3312 - val_loss: 1.8039 - val_accuracy: 0.3685\n",
            "Epoch 10/40\n",
            "899/900 [============================>.] - ETA: 0s - loss: 1.8299 - accuracy: 0.3416"
          ]
        },
        {
          "output_type": "stream",
          "name": "stderr",
          "text": [
            "WARNING:tensorflow:Can save best model only with val_acc available, skipping.\n"
          ]
        },
        {
          "output_type": "stream",
          "name": "stdout",
          "text": [
            "\b\b\b\b\b\b\b\b\b\b\b\b\b\b\b\b\b\b\b\b\b\b\b\b\b\b\b\b\b\b\b\b\b\b\b\b\b\b\b\b\b\b\b\b\b\b\b\b\b\b\b\b\b\b\b\b\b\b\b\b\b\b\b\b\b\b\b\b\b\b\b\b\b\b\b\b\b\b\b\b\b\b\b\b\r900/900 [==============================] - 16s 18ms/step - loss: 1.8301 - accuracy: 0.3416 - val_loss: 1.7341 - val_accuracy: 0.3732\n",
            "Epoch 11/40\n",
            "897/900 [============================>.] - ETA: 0s - loss: 1.8158 - accuracy: 0.3478"
          ]
        },
        {
          "output_type": "stream",
          "name": "stderr",
          "text": [
            "WARNING:tensorflow:Can save best model only with val_acc available, skipping.\n"
          ]
        },
        {
          "output_type": "stream",
          "name": "stdout",
          "text": [
            "\b\b\b\b\b\b\b\b\b\b\b\b\b\b\b\b\b\b\b\b\b\b\b\b\b\b\b\b\b\b\b\b\b\b\b\b\b\b\b\b\b\b\b\b\b\b\b\b\b\b\b\b\b\b\b\b\b\b\b\b\b\b\b\b\b\b\b\b\b\b\b\b\b\b\b\b\b\b\b\b\b\b\b\b\r900/900 [==============================] - 16s 18ms/step - loss: 1.8163 - accuracy: 0.3476 - val_loss: 1.7378 - val_accuracy: 0.3895\n",
            "Epoch 12/40\n",
            "898/900 [============================>.] - ETA: 0s - loss: 1.8081 - accuracy: 0.3496"
          ]
        },
        {
          "output_type": "stream",
          "name": "stderr",
          "text": [
            "WARNING:tensorflow:Can save best model only with val_acc available, skipping.\n"
          ]
        },
        {
          "output_type": "stream",
          "name": "stdout",
          "text": [
            "\b\b\b\b\b\b\b\b\b\b\b\b\b\b\b\b\b\b\b\b\b\b\b\b\b\b\b\b\b\b\b\b\b\b\b\b\b\b\b\b\b\b\b\b\b\b\b\b\b\b\b\b\b\b\b\b\b\b\b\b\b\b\b\b\b\b\b\b\b\b\b\b\b\b\b\b\b\b\b\b\b\b\b\b\r900/900 [==============================] - 17s 19ms/step - loss: 1.8077 - accuracy: 0.3498 - val_loss: 1.7455 - val_accuracy: 0.3757\n",
            "Epoch 13/40\n",
            "900/900 [==============================] - ETA: 0s - loss: 1.7993 - accuracy: 0.3537"
          ]
        },
        {
          "output_type": "stream",
          "name": "stderr",
          "text": [
            "WARNING:tensorflow:Can save best model only with val_acc available, skipping.\n"
          ]
        },
        {
          "output_type": "stream",
          "name": "stdout",
          "text": [
            "\b\b\b\b\b\b\b\b\b\b\b\b\b\b\b\b\b\b\b\b\b\b\b\b\b\b\b\b\b\b\b\b\b\b\b\b\b\b\b\b\b\b\b\b\b\b\b\b\b\b\b\b\b\b\b\b\b\b\b\b\b\b\b\b\b\b\b\b\b\b\b\b\b\b\b\b\b\b\b\b\b\b\b\b\r900/900 [==============================] - 16s 17ms/step - loss: 1.7993 - accuracy: 0.3537 - val_loss: 1.7110 - val_accuracy: 0.3963\n",
            "Epoch 14/40\n",
            "899/900 [============================>.] - ETA: 0s - loss: 1.7892 - accuracy: 0.3573"
          ]
        },
        {
          "output_type": "stream",
          "name": "stderr",
          "text": [
            "WARNING:tensorflow:Can save best model only with val_acc available, skipping.\n"
          ]
        },
        {
          "output_type": "stream",
          "name": "stdout",
          "text": [
            "\b\b\b\b\b\b\b\b\b\b\b\b\b\b\b\b\b\b\b\b\b\b\b\b\b\b\b\b\b\b\b\b\b\b\b\b\b\b\b\b\b\b\b\b\b\b\b\b\b\b\b\b\b\b\b\b\b\b\b\b\b\b\b\b\b\b\b\b\b\b\b\b\b\b\b\b\b\b\b\b\b\b\b\b\r900/900 [==============================] - 19s 21ms/step - loss: 1.7892 - accuracy: 0.3573 - val_loss: 1.6844 - val_accuracy: 0.4000\n",
            "Epoch 15/40\n",
            "899/900 [============================>.] - ETA: 0s - loss: 1.7777 - accuracy: 0.3657"
          ]
        },
        {
          "output_type": "stream",
          "name": "stderr",
          "text": [
            "WARNING:tensorflow:Can save best model only with val_acc available, skipping.\n"
          ]
        },
        {
          "output_type": "stream",
          "name": "stdout",
          "text": [
            "\b\b\b\b\b\b\b\b\b\b\b\b\b\b\b\b\b\b\b\b\b\b\b\b\b\b\b\b\b\b\b\b\b\b\b\b\b\b\b\b\b\b\b\b\b\b\b\b\b\b\b\b\b\b\b\b\b\b\b\b\b\b\b\b\b\b\b\b\b\b\b\b\b\b\b\b\b\b\b\b\b\b\b\b\r900/900 [==============================] - 16s 18ms/step - loss: 1.7775 - accuracy: 0.3658 - val_loss: 1.6755 - val_accuracy: 0.4074\n",
            "Epoch 16/40\n",
            "900/900 [==============================] - ETA: 0s - loss: 1.7727 - accuracy: 0.3668"
          ]
        },
        {
          "output_type": "stream",
          "name": "stderr",
          "text": [
            "WARNING:tensorflow:Can save best model only with val_acc available, skipping.\n"
          ]
        },
        {
          "output_type": "stream",
          "name": "stdout",
          "text": [
            "\b\b\b\b\b\b\b\b\b\b\b\b\b\b\b\b\b\b\b\b\b\b\b\b\b\b\b\b\b\b\b\b\b\b\b\b\b\b\b\b\b\b\b\b\b\b\b\b\b\b\b\b\b\b\b\b\b\b\b\b\b\b\b\b\b\b\b\b\b\b\b\b\b\b\b\b\b\b\b\b\b\b\b\b\r900/900 [==============================] - 16s 18ms/step - loss: 1.7727 - accuracy: 0.3668 - val_loss: 1.6797 - val_accuracy: 0.4000\n",
            "Epoch 17/40\n",
            "900/900 [==============================] - ETA: 0s - loss: 1.7697 - accuracy: 0.3646"
          ]
        },
        {
          "output_type": "stream",
          "name": "stderr",
          "text": [
            "WARNING:tensorflow:Can save best model only with val_acc available, skipping.\n"
          ]
        },
        {
          "output_type": "stream",
          "name": "stdout",
          "text": [
            "\b\b\b\b\b\b\b\b\b\b\b\b\b\b\b\b\b\b\b\b\b\b\b\b\b\b\b\b\b\b\b\b\b\b\b\b\b\b\b\b\b\b\b\b\b\b\b\b\b\b\b\b\b\b\b\b\b\b\b\b\b\b\b\b\b\b\b\b\b\b\b\b\b\b\b\b\b\b\b\b\b\b\b\b\r900/900 [==============================] - 17s 18ms/step - loss: 1.7697 - accuracy: 0.3646 - val_loss: 1.6707 - val_accuracy: 0.4146\n",
            "Epoch 18/40\n",
            "900/900 [==============================] - ETA: 0s - loss: 1.7630 - accuracy: 0.3666"
          ]
        },
        {
          "output_type": "stream",
          "name": "stderr",
          "text": [
            "WARNING:tensorflow:Can save best model only with val_acc available, skipping.\n"
          ]
        },
        {
          "output_type": "stream",
          "name": "stdout",
          "text": [
            "\b\b\b\b\b\b\b\b\b\b\b\b\b\b\b\b\b\b\b\b\b\b\b\b\b\b\b\b\b\b\b\b\b\b\b\b\b\b\b\b\b\b\b\b\b\b\b\b\b\b\b\b\b\b\b\b\b\b\b\b\b\b\b\b\b\b\b\b\b\b\b\b\b\b\b\b\b\b\b\b\b\b\b\b\r900/900 [==============================] - 16s 18ms/step - loss: 1.7630 - accuracy: 0.3666 - val_loss: 1.6719 - val_accuracy: 0.4080\n",
            "Epoch 19/40\n",
            "898/900 [============================>.] - ETA: 0s - loss: 1.7501 - accuracy: 0.3726"
          ]
        },
        {
          "output_type": "stream",
          "name": "stderr",
          "text": [
            "WARNING:tensorflow:Can save best model only with val_acc available, skipping.\n"
          ]
        },
        {
          "output_type": "stream",
          "name": "stdout",
          "text": [
            "\b\b\b\b\b\b\b\b\b\b\b\b\b\b\b\b\b\b\b\b\b\b\b\b\b\b\b\b\b\b\b\b\b\b\b\b\b\b\b\b\b\b\b\b\b\b\b\b\b\b\b\b\b\b\b\b\b\b\b\b\b\b\b\b\b\b\b\b\b\b\b\b\b\b\b\b\b\b\b\b\b\b\b\b\r900/900 [==============================] - 19s 21ms/step - loss: 1.7503 - accuracy: 0.3724 - val_loss: 1.6496 - val_accuracy: 0.4138\n",
            "Epoch 20/40\n",
            "899/900 [============================>.] - ETA: 0s - loss: 1.7464 - accuracy: 0.3768"
          ]
        },
        {
          "output_type": "stream",
          "name": "stderr",
          "text": [
            "WARNING:tensorflow:Can save best model only with val_acc available, skipping.\n"
          ]
        },
        {
          "output_type": "stream",
          "name": "stdout",
          "text": [
            "\b\b\b\b\b\b\b\b\b\b\b\b\b\b\b\b\b\b\b\b\b\b\b\b\b\b\b\b\b\b\b\b\b\b\b\b\b\b\b\b\b\b\b\b\b\b\b\b\b\b\b\b\b\b\b\b\b\b\b\b\b\b\b\b\b\b\b\b\b\b\b\b\b\b\b\b\b\b\b\b\b\b\b\b\r900/900 [==============================] - 16s 18ms/step - loss: 1.7463 - accuracy: 0.3768 - val_loss: 1.7894 - val_accuracy: 0.3784\n",
            "Epoch 21/40\n",
            "898/900 [============================>.] - ETA: 0s - loss: 1.7367 - accuracy: 0.3805"
          ]
        },
        {
          "output_type": "stream",
          "name": "stderr",
          "text": [
            "WARNING:tensorflow:Can save best model only with val_acc available, skipping.\n"
          ]
        },
        {
          "output_type": "stream",
          "name": "stdout",
          "text": [
            "\b\b\b\b\b\b\b\b\b\b\b\b\b\b\b\b\b\b\b\b\b\b\b\b\b\b\b\b\b\b\b\b\b\b\b\b\b\b\b\b\b\b\b\b\b\b\b\b\b\b\b\b\b\b\b\b\b\b\b\b\b\b\b\b\b\b\b\b\b\b\b\b\b\b\b\b\b\b\b\b\b\b\b\b\r900/900 [==============================] - 16s 18ms/step - loss: 1.7365 - accuracy: 0.3805 - val_loss: 1.7050 - val_accuracy: 0.4121\n",
            "Epoch 22/40\n",
            "897/900 [============================>.] - ETA: 0s - loss: 1.7287 - accuracy: 0.3827"
          ]
        },
        {
          "output_type": "stream",
          "name": "stderr",
          "text": [
            "WARNING:tensorflow:Can save best model only with val_acc available, skipping.\n"
          ]
        },
        {
          "output_type": "stream",
          "name": "stdout",
          "text": [
            "\b\b\b\b\b\b\b\b\b\b\b\b\b\b\b\b\b\b\b\b\b\b\b\b\b\b\b\b\b\b\b\b\b\b\b\b\b\b\b\b\b\b\b\b\b\b\b\b\b\b\b\b\b\b\b\b\b\b\b\b\b\b\b\b\b\b\b\b\b\b\b\b\b\b\b\b\b\b\b\b\b\b\b\b\r900/900 [==============================] - 16s 17ms/step - loss: 1.7284 - accuracy: 0.3829 - val_loss: 1.6855 - val_accuracy: 0.4101\n",
            "Epoch 23/40\n",
            "897/900 [============================>.] - ETA: 0s - loss: 1.7240 - accuracy: 0.3872"
          ]
        },
        {
          "output_type": "stream",
          "name": "stderr",
          "text": [
            "WARNING:tensorflow:Can save best model only with val_acc available, skipping.\n"
          ]
        },
        {
          "output_type": "stream",
          "name": "stdout",
          "text": [
            "\b\b\b\b\b\b\b\b\b\b\b\b\b\b\b\b\b\b\b\b\b\b\b\b\b\b\b\b\b\b\b\b\b\b\b\b\b\b\b\b\b\b\b\b\b\b\b\b\b\b\b\b\b\b\b\b\b\b\b\b\b\b\b\b\b\b\b\b\b\b\b\b\b\b\b\b\b\b\b\b\b\b\b\b\r900/900 [==============================] - 16s 18ms/step - loss: 1.7245 - accuracy: 0.3870 - val_loss: 1.6808 - val_accuracy: 0.4088\n",
            "Epoch 24/40\n",
            "900/900 [==============================] - ETA: 0s - loss: 1.7185 - accuracy: 0.3864"
          ]
        },
        {
          "output_type": "stream",
          "name": "stderr",
          "text": [
            "WARNING:tensorflow:Can save best model only with val_acc available, skipping.\n"
          ]
        },
        {
          "output_type": "stream",
          "name": "stdout",
          "text": [
            "\b\b\b\b\b\b\b\b\b\b\b\b\b\b\b\b\b\b\b\b\b\b\b\b\b\b\b\b\b\b\b\b\b\b\b\b\b\b\b\b\b\b\b\b\b\b\b\b\b\b\b\b\b\b\b\b\b\b\b\b\b\b\b\b\b\b\b\b\b\b\b\b\b\b\b\b\b\b\b\b\b\b\b\b\r900/900 [==============================] - 16s 17ms/step - loss: 1.7185 - accuracy: 0.3864 - val_loss: 1.6269 - val_accuracy: 0.4200\n",
            "Epoch 25/40\n",
            "898/900 [============================>.] - ETA: 0s - loss: 1.7121 - accuracy: 0.3892"
          ]
        },
        {
          "output_type": "stream",
          "name": "stderr",
          "text": [
            "WARNING:tensorflow:Can save best model only with val_acc available, skipping.\n"
          ]
        },
        {
          "output_type": "stream",
          "name": "stdout",
          "text": [
            "\b\b\b\b\b\b\b\b\b\b\b\b\b\b\b\b\b\b\b\b\b\b\b\b\b\b\b\b\b\b\b\b\b\b\b\b\b\b\b\b\b\b\b\b\b\b\b\b\b\b\b\b\b\b\b\b\b\b\b\b\b\b\b\b\b\b\b\b\b\b\b\b\b\b\b\b\b\b\b\b\b\b\b\b\r900/900 [==============================] - 17s 19ms/step - loss: 1.7122 - accuracy: 0.3893 - val_loss: 1.7093 - val_accuracy: 0.3901\n",
            "Epoch 26/40\n",
            "897/900 [============================>.] - ETA: 0s - loss: 1.7038 - accuracy: 0.3915"
          ]
        },
        {
          "output_type": "stream",
          "name": "stderr",
          "text": [
            "WARNING:tensorflow:Can save best model only with val_acc available, skipping.\n"
          ]
        },
        {
          "output_type": "stream",
          "name": "stdout",
          "text": [
            "\b\b\b\b\b\b\b\b\b\b\b\b\b\b\b\b\b\b\b\b\b\b\b\b\b\b\b\b\b\b\b\b\b\b\b\b\b\b\b\b\b\b\b\b\b\b\b\b\b\b\b\b\b\b\b\b\b\b\b\b\b\b\b\b\b\b\b\b\b\b\b\b\b\b\b\b\b\b\b\b\b\b\b\b\r900/900 [==============================] - 16s 18ms/step - loss: 1.7037 - accuracy: 0.3915 - val_loss: 1.6035 - val_accuracy: 0.4345\n",
            "Epoch 27/40\n",
            "899/900 [============================>.] - ETA: 0s - loss: 1.6961 - accuracy: 0.3954"
          ]
        },
        {
          "output_type": "stream",
          "name": "stderr",
          "text": [
            "WARNING:tensorflow:Can save best model only with val_acc available, skipping.\n"
          ]
        },
        {
          "output_type": "stream",
          "name": "stdout",
          "text": [
            "\b\b\b\b\b\b\b\b\b\b\b\b\b\b\b\b\b\b\b\b\b\b\b\b\b\b\b\b\b\b\b\b\b\b\b\b\b\b\b\b\b\b\b\b\b\b\b\b\b\b\b\b\b\b\b\b\b\b\b\b\b\b\b\b\b\b\b\b\b\b\b\b\b\b\b\b\b\b\b\b\b\b\b\b\r900/900 [==============================] - 16s 18ms/step - loss: 1.6963 - accuracy: 0.3955 - val_loss: 1.6731 - val_accuracy: 0.4187\n",
            "Epoch 28/40\n",
            "899/900 [============================>.] - ETA: 0s - loss: 1.6946 - accuracy: 0.3980"
          ]
        },
        {
          "output_type": "stream",
          "name": "stderr",
          "text": [
            "WARNING:tensorflow:Can save best model only with val_acc available, skipping.\n"
          ]
        },
        {
          "output_type": "stream",
          "name": "stdout",
          "text": [
            "\b\b\b\b\b\b\b\b\b\b\b\b\b\b\b\b\b\b\b\b\b\b\b\b\b\b\b\b\b\b\b\b\b\b\b\b\b\b\b\b\b\b\b\b\b\b\b\b\b\b\b\b\b\b\b\b\b\b\b\b\b\b\b\b\b\b\b\b\b\b\b\b\b\b\b\b\b\b\b\b\b\b\b\b\r900/900 [==============================] - 16s 18ms/step - loss: 1.6948 - accuracy: 0.3979 - val_loss: 1.6196 - val_accuracy: 0.4281\n",
            "Epoch 29/40\n",
            "899/900 [============================>.] - ETA: 0s - loss: 1.6933 - accuracy: 0.3977"
          ]
        },
        {
          "output_type": "stream",
          "name": "stderr",
          "text": [
            "WARNING:tensorflow:Can save best model only with val_acc available, skipping.\n"
          ]
        },
        {
          "output_type": "stream",
          "name": "stdout",
          "text": [
            "\b\b\b\b\b\b\b\b\b\b\b\b\b\b\b\b\b\b\b\b\b\b\b\b\b\b\b\b\b\b\b\b\b\b\b\b\b\b\b\b\b\b\b\b\b\b\b\b\b\b\b\b\b\b\b\b\b\b\b\b\b\b\b\b\b\b\b\b\b\b\b\b\b\b\b\b\b\b\b\b\b\b\b\b\r900/900 [==============================] - 17s 19ms/step - loss: 1.6936 - accuracy: 0.3976 - val_loss: 1.5936 - val_accuracy: 0.4392\n",
            "Epoch 30/40\n",
            "900/900 [==============================] - ETA: 0s - loss: 1.6857 - accuracy: 0.3988"
          ]
        },
        {
          "output_type": "stream",
          "name": "stderr",
          "text": [
            "WARNING:tensorflow:Can save best model only with val_acc available, skipping.\n"
          ]
        },
        {
          "output_type": "stream",
          "name": "stdout",
          "text": [
            "\b\b\b\b\b\b\b\b\b\b\b\b\b\b\b\b\b\b\b\b\b\b\b\b\b\b\b\b\b\b\b\b\b\b\b\b\b\b\b\b\b\b\b\b\b\b\b\b\b\b\b\b\b\b\b\b\b\b\b\b\b\b\b\b\b\b\b\b\b\b\b\b\b\b\b\b\b\b\b\b\b\b\b\b\r900/900 [==============================] - 16s 18ms/step - loss: 1.6857 - accuracy: 0.3988 - val_loss: 1.5792 - val_accuracy: 0.4477\n",
            "Epoch 31/40\n",
            "898/900 [============================>.] - ETA: 0s - loss: 1.6809 - accuracy: 0.4008"
          ]
        },
        {
          "output_type": "stream",
          "name": "stderr",
          "text": [
            "WARNING:tensorflow:Can save best model only with val_acc available, skipping.\n"
          ]
        },
        {
          "output_type": "stream",
          "name": "stdout",
          "text": [
            "\b\b\b\b\b\b\b\b\b\b\b\b\b\b\b\b\b\b\b\b\b\b\b\b\b\b\b\b\b\b\b\b\b\b\b\b\b\b\b\b\b\b\b\b\b\b\b\b\b\b\b\b\b\b\b\b\b\b\b\b\b\b\b\b\b\b\b\b\b\b\b\b\b\b\b\b\b\b\b\b\b\b\b\b\r900/900 [==============================] - 17s 18ms/step - loss: 1.6809 - accuracy: 0.4010 - val_loss: 1.6080 - val_accuracy: 0.4277\n",
            "Epoch 32/40\n",
            "898/900 [============================>.] - ETA: 0s - loss: 1.6798 - accuracy: 0.3997"
          ]
        },
        {
          "output_type": "stream",
          "name": "stderr",
          "text": [
            "WARNING:tensorflow:Can save best model only with val_acc available, skipping.\n"
          ]
        },
        {
          "output_type": "stream",
          "name": "stdout",
          "text": [
            "\b\b\b\b\b\b\b\b\b\b\b\b\b\b\b\b\b\b\b\b\b\b\b\b\b\b\b\b\b\b\b\b\b\b\b\b\b\b\b\b\b\b\b\b\b\b\b\b\b\b\b\b\b\b\b\b\b\b\b\b\b\b\b\b\b\b\b\b\b\b\b\b\b\b\b\b\b\b\b\b\b\b\b\b\r900/900 [==============================] - 16s 17ms/step - loss: 1.6798 - accuracy: 0.3996 - val_loss: 1.5790 - val_accuracy: 0.4372\n",
            "Epoch 33/40\n",
            "897/900 [============================>.] - ETA: 0s - loss: 1.6697 - accuracy: 0.4089"
          ]
        },
        {
          "output_type": "stream",
          "name": "stderr",
          "text": [
            "WARNING:tensorflow:Can save best model only with val_acc available, skipping.\n"
          ]
        },
        {
          "output_type": "stream",
          "name": "stdout",
          "text": [
            "\b\b\b\b\b\b\b\b\b\b\b\b\b\b\b\b\b\b\b\b\b\b\b\b\b\b\b\b\b\b\b\b\b\b\b\b\b\b\b\b\b\b\b\b\b\b\b\b\b\b\b\b\b\b\b\b\b\b\b\b\b\b\b\b\b\b\b\b\b\b\b\b\b\b\b\b\b\b\b\b\b\b\b\b\r900/900 [==============================] - 16s 18ms/step - loss: 1.6693 - accuracy: 0.4088 - val_loss: 1.5840 - val_accuracy: 0.4457\n",
            "Epoch 34/40\n",
            "898/900 [============================>.] - ETA: 0s - loss: 1.6634 - accuracy: 0.4101"
          ]
        },
        {
          "output_type": "stream",
          "name": "stderr",
          "text": [
            "WARNING:tensorflow:Can save best model only with val_acc available, skipping.\n"
          ]
        },
        {
          "output_type": "stream",
          "name": "stdout",
          "text": [
            "\b\b\b\b\b\b\b\b\b\b\b\b\b\b\b\b\b\b\b\b\b\b\b\b\b\b\b\b\b\b\b\b\b\b\b\b\b\b\b\b\b\b\b\b\b\b\b\b\b\b\b\b\b\b\b\b\b\b\b\b\b\b\b\b\b\b\b\b\b\b\b\b\b\b\b\b\b\b\b\b\b\b\b\b\r900/900 [==============================] - 16s 18ms/step - loss: 1.6634 - accuracy: 0.4101 - val_loss: 1.5679 - val_accuracy: 0.4456\n",
            "Epoch 35/40\n",
            "897/900 [============================>.] - ETA: 0s - loss: 1.6592 - accuracy: 0.4138"
          ]
        },
        {
          "output_type": "stream",
          "name": "stderr",
          "text": [
            "WARNING:tensorflow:Can save best model only with val_acc available, skipping.\n"
          ]
        },
        {
          "output_type": "stream",
          "name": "stdout",
          "text": [
            "\b\b\b\b\b\b\b\b\b\b\b\b\b\b\b\b\b\b\b\b\b\b\b\b\b\b\b\b\b\b\b\b\b\b\b\b\b\b\b\b\b\b\b\b\b\b\b\b\b\b\b\b\b\b\b\b\b\b\b\b\b\b\b\b\b\b\b\b\b\b\b\b\b\b\b\b\b\b\b\b\b\b\b\b\r900/900 [==============================] - 16s 18ms/step - loss: 1.6590 - accuracy: 0.4138 - val_loss: 1.5694 - val_accuracy: 0.4426\n",
            "Epoch 36/40\n",
            "900/900 [==============================] - ETA: 0s - loss: 1.6466 - accuracy: 0.4195"
          ]
        },
        {
          "output_type": "stream",
          "name": "stderr",
          "text": [
            "WARNING:tensorflow:Can save best model only with val_acc available, skipping.\n"
          ]
        },
        {
          "output_type": "stream",
          "name": "stdout",
          "text": [
            "\b\b\b\b\b\b\b\b\b\b\b\b\b\b\b\b\b\b\b\b\b\b\b\b\b\b\b\b\b\b\b\b\b\b\b\b\b\b\b\b\b\b\b\b\b\b\b\b\b\b\b\b\b\b\b\b\b\b\b\b\b\b\b\b\b\b\b\b\b\b\b\b\b\b\b\b\b\b\b\b\b\b\b\b\r900/900 [==============================] - 17s 18ms/step - loss: 1.6466 - accuracy: 0.4195 - val_loss: 1.6995 - val_accuracy: 0.4143\n",
            "Epoch 37/40\n",
            "898/900 [============================>.] - ETA: 0s - loss: 1.6450 - accuracy: 0.4153"
          ]
        },
        {
          "output_type": "stream",
          "name": "stderr",
          "text": [
            "WARNING:tensorflow:Can save best model only with val_acc available, skipping.\n"
          ]
        },
        {
          "output_type": "stream",
          "name": "stdout",
          "text": [
            "\b\b\b\b\b\b\b\b\b\b\b\b\b\b\b\b\b\b\b\b\b\b\b\b\b\b\b\b\b\b\b\b\b\b\b\b\b\b\b\b\b\b\b\b\b\b\b\b\b\b\b\b\b\b\b\b\b\b\b\b\b\b\b\b\b\b\b\b\b\b\b\b\b\b\b\b\b\b\b\b\b\b\b\b\r900/900 [==============================] - 16s 17ms/step - loss: 1.6448 - accuracy: 0.4154 - val_loss: 1.5572 - val_accuracy: 0.4510\n",
            "Epoch 38/40\n",
            "899/900 [============================>.] - ETA: 0s - loss: 1.6390 - accuracy: 0.4199"
          ]
        },
        {
          "output_type": "stream",
          "name": "stderr",
          "text": [
            "WARNING:tensorflow:Can save best model only with val_acc available, skipping.\n"
          ]
        },
        {
          "output_type": "stream",
          "name": "stdout",
          "text": [
            "\b\b\b\b\b\b\b\b\b\b\b\b\b\b\b\b\b\b\b\b\b\b\b\b\b\b\b\b\b\b\b\b\b\b\b\b\b\b\b\b\b\b\b\b\b\b\b\b\b\b\b\b\b\b\b\b\b\b\b\b\b\b\b\b\b\b\b\b\b\b\b\b\b\b\b\b\b\b\b\b\b\b\b\b\r900/900 [==============================] - 16s 18ms/step - loss: 1.6390 - accuracy: 0.4200 - val_loss: 1.5627 - val_accuracy: 0.4445\n",
            "Epoch 39/40\n",
            "898/900 [============================>.] - ETA: 0s - loss: 1.6300 - accuracy: 0.4219"
          ]
        },
        {
          "output_type": "stream",
          "name": "stderr",
          "text": [
            "WARNING:tensorflow:Can save best model only with val_acc available, skipping.\n"
          ]
        },
        {
          "output_type": "stream",
          "name": "stdout",
          "text": [
            "\b\b\b\b\b\b\b\b\b\b\b\b\b\b\b\b\b\b\b\b\b\b\b\b\b\b\b\b\b\b\b\b\b\b\b\b\b\b\b\b\b\b\b\b\b\b\b\b\b\b\b\b\b\b\b\b\b\b\b\b\b\b\b\b\b\b\b\b\b\b\b\b\b\b\b\b\b\b\b\b\b\b\b\b\r900/900 [==============================] - 16s 18ms/step - loss: 1.6296 - accuracy: 0.4219 - val_loss: 1.5367 - val_accuracy: 0.4638\n",
            "Epoch 40/40\n",
            "900/900 [==============================] - ETA: 0s - loss: 1.6247 - accuracy: 0.4254"
          ]
        },
        {
          "output_type": "stream",
          "name": "stderr",
          "text": [
            "WARNING:tensorflow:Can save best model only with val_acc available, skipping.\n"
          ]
        },
        {
          "output_type": "stream",
          "name": "stdout",
          "text": [
            "\b\b\b\b\b\b\b\b\b\b\b\b\b\b\b\b\b\b\b\b\b\b\b\b\b\b\b\b\b\b\b\b\b\b\b\b\b\b\b\b\b\b\b\b\b\b\b\b\b\b\b\b\b\b\b\b\b\b\b\b\b\b\b\b\b\b\b\b\b\b\b\b\b\b\b\b\b\b\b\b\b\b\b\b\r900/900 [==============================] - 16s 17ms/step - loss: 1.6247 - accuracy: 0.4254 - val_loss: 1.6395 - val_accuracy: 0.4210\n",
            "CPU times: user 12min 53s, sys: 1min 5s, total: 13min 59s\n",
            "Wall time: 12min 19s\n"
          ]
        }
      ]
    },
    {
      "cell_type": "code",
      "source": [
        "train_time['SGD']=12.19"
      ],
      "metadata": {
        "id": "LdqnHM7Rv5zR"
      },
      "execution_count": 27,
      "outputs": []
    },
    {
      "cell_type": "code",
      "source": [
        "model_json_SGD = model.to_json()\n",
        "with open(\"model.json\", \"w\") as json_file:\n",
        "    json_file.write(model_json_SGD)"
      ],
      "metadata": {
        "id": "395L5jYHx3lX"
      },
      "execution_count": 29,
      "outputs": []
    },
    {
      "cell_type": "markdown",
      "source": [
        "**Performance using SGD optimizer and Sigmoid activation function**"
      ],
      "metadata": {
        "id": "nJYawJ0JxZl4"
      }
    },
    {
      "cell_type": "code",
      "source": [
        "\n",
        "import matplotlib.pyplot as plt\n",
        "\n",
        "plt.figure(figsize=(15,6))\n",
        "plt.subplot(1, 2, 1)\n",
        "plt.suptitle('Optimizer : SGD', fontsize=10)\n",
        "plt.ylabel('Loss', fontsize=16)\n",
        "plt.plot(history.history['loss'], label='Training Loss')\n",
        "plt.plot(history.history['val_loss'], label='Validation Loss')\n",
        "plt.legend(loc='upper right')\n",
        "\n",
        "plt.subplot(1, 2, 2)\n",
        "plt.ylabel('Accuracy', fontsize=16)\n",
        "plt.plot(history.history['accuracy'], label='Training Accuracy')\n",
        "plt.plot(history.history['val_accuracy'], label='Validation Accuracy')\n",
        "plt.legend(loc='lower right')\n",
        "plt.show()"
      ],
      "metadata": {
        "colab": {
          "base_uri": "https://localhost:8080/",
          "height": 417
        },
        "id": "lt8wShS8xgdZ",
        "outputId": "5e79f752-98f6-4374-df46-e51bf542d2e9"
      },
      "execution_count": 38,
      "outputs": [
        {
          "output_type": "display_data",
          "data": {
            "text/plain": [
              "<Figure size 1080x432 with 2 Axes>"
            ],
            "image/png": "[encoded data removed]"
          },
          "metadata": {
            "needs_background": "light"
          }
        }
      ]
    },
    {
      "cell_type": "markdown",
      "source": [
        "**CNN with 4 convolutional layers, 3 hidden layers optimizer=Adagrad activation=Relu**"
      ],
      "metadata": {
        "id": "l4kZ-KjdzHSP"
      }
    },
    {
      "cell_type": "code",
      "source": [
        "model=Sequential()\n",
        "#first convolution layer\n",
        "model.add(Conv2D(64,(3,3),strides=(1,1),padding=\"same\",input_shape=(48, 48,1),kernel_regularizer=l1(0.001)))\n",
        "model.add(BatchNormalization())\n",
        "model.add(Activation(\"relu\"))\n",
        "model.add(MaxPooling2D(pool_size=(2, 2)))\n",
        "model.add(Dropout(0.27))\n",
        "\n",
        "#second convolution layer\n",
        "model.add(Conv2D(128,(3,3),strides=(1,1),padding=\"same\",kernel_regularizer=l2(0.001)))\n",
        "model.add(BatchNormalization())\n",
        "model.add(Activation(\"relu\"))\n",
        "model.add(MaxPooling2D(pool_size=(2, 2)))\n",
        "model.add(Dropout(0.27))\n",
        "\n",
        "#third convolution layer\n",
        "model.add(Conv2D(256,(3,3),strides=(2,2),padding=\"same\",kernel_regularizer=l2(0.001)))\n",
        "model.add(BatchNormalization())\n",
        "model.add(Activation(\"relu\"))\n",
        "model.add(MaxPooling2D(pool_size=(2, 2)))\n",
        "model.add(Dropout(0.27))\n",
        "\n",
        "#fourth convolution layer\n",
        "model.add(Conv2D(512,(3,3),strides=(2,2),padding=\"same\",kernel_regularizer=l2(0.001)))\n",
        "model.add(BatchNormalization())\n",
        "model.add(Activation(\"relu\"))\n",
        "model.add(MaxPooling2D(pool_size=(2, 2)))\n",
        "model.add(Dropout(0.27))\n",
        "\n",
        "model.add(Flatten())\n",
        "\n",
        "#1st fully connected layer\n",
        "model.add(Dense(1024,kernel_regularizer=l2(0.0001)))\n",
        "model.add(BatchNormalization())\n",
        "model.add(Activation('relu'))\n",
        "model.add(Dropout(0.27))\n",
        "\n",
        "#2nd fully connected layer\n",
        "model.add(Dense(512,kernel_regularizer=l2(0.0001)))\n",
        "model.add(BatchNormalization())\n",
        "model.add(Activation('relu'))\n",
        "model.add(Dropout(0.27))\n",
        "\n",
        "#2nd fully connected layer\n",
        "model.add(Dense(256,kernel_regularizer=l2(0.0001)))\n",
        "model.add(BatchNormalization())\n",
        "model.add(Activation('relu'))\n",
        "model.add(Dropout(0.27))\n",
        "\n",
        "\n",
        "#last layer\n",
        "model.add(Dense(7))\n",
        "model.add(Activation('softmax'))\n",
        "\n",
        "#compiling model\n",
        "opti=Adagrad(learning_rate=0.01)\n",
        "model.compile(optimizer=opti,loss='categorical_crossentropy',metrics=['accuracy'])\n"
      ],
      "metadata": {
        "id": "PbBTL5u0zUd3"
      },
      "execution_count": 41,
      "outputs": []
    }
  ]
}