{
  "nbformat": 4,
  "nbformat_minor": 0,
  "metadata": {
    "colab": {
      "provenance": [],
      "include_colab_link": true
    },
    "kernelspec": {
      "name": "python3",
      "display_name": "Python 3"
    },
    "language_info": {
      "name": "python"
    },
    "gpuClass": "standard",
    "accelerator": "GPU"
  },
  "cells": [
    {
      "cell_type": "markdown",
      "metadata": {
        "id": "view-in-github",
        "colab_type": "text"
      },
      "source": [
        "<a href=\"https://colab.research.google.com/github/Moukthika1253/Facial_Expression_ImageClassifier/blob/main/facial_expression_classifier.ipynb\" target=\"_parent\"><img src=\"https://colab.research.google.com/assets/colab-badge.svg\" alt=\"Open In Colab\"/></a>"
      ]
    },
    {
      "cell_type": "code",
      "execution_count": 2,
      "metadata": {
        "id": "TyEGcRh0tPgF"
      },
      "outputs": [],
      "source": [
        "import os\n",
        "import numpy as np\n",
        "import seaborn as sns\n",
        "import tensorflow as tf"
      ]
    },
    {
      "cell_type": "code",
      "source": [
        "train_data=\"/content/images/train\"\n",
        "test_data=\"/content/images/validation\"\n",
        "train_count=[]\n",
        "exp_list=[]\n",
        "for emotion in os.listdir(train_data):\n",
        "  exp_list.append(emotion)\n",
        "  train_count.append(len(os.listdir(train_data+\"/\"+emotion)))\n",
        "sns.barplot(x=exp_list,y=train_count)\n"
      ],
      "metadata": {
        "id": "6HCpOPOPDRxS",
        "colab": {
          "base_uri": "https://localhost:8080/",
          "height": 282
        },
        "outputId": "66326e98-2120-4b18-f31f-39134793d423"
      },
      "execution_count": 3,
      "outputs": [
        {
          "output_type": "execute_result",
          "data": {
            "text/plain": [
              "<Axes: >"
            ]
          },
          "metadata": {},
          "execution_count": 3
        },
        {
          "output_type": "display_data",
          "data": {
            "text/plain": [
              "<Figure size 432x288 with 1 Axes>"
            ],
            "image/png": "[encoded data removed]"
          },
          "metadata": {
            "needs_background": "light"
          }
        }
      ]
    },
    {
      "cell_type": "code",
      "source": [
        "test_count=[]\n",
        "for emotion in os.listdir(test_data):\n",
        "  test_count.append(len(os.listdir(test_data+\"/\"+emotion)))\n",
        "sns.barplot(x=exp_list,y=test_count)"
      ],
      "metadata": {
        "colab": {
          "base_uri": "https://localhost:8080/",
          "height": 282
        },
        "id": "1DcbyyLiuqWG",
        "outputId": "b2b08846-a365-41dc-dc07-ee002214a18c"
      },
      "execution_count": 4,
      "outputs": [
        {
          "output_type": "execute_result",
          "data": {
            "text/plain": [
              "<Axes: >"
            ]
          },
          "metadata": {},
          "execution_count": 4
        },
        {
          "output_type": "display_data",
          "data": {
            "text/plain": [
              "<Figure size 432x288 with 1 Axes>"
            ],
            "image/png": "[encoded data removed]"
          },
          "metadata": {
            "needs_background": "light"
          }
        }
      ]
    },
    {
      "cell_type": "markdown",
      "source": [
        "**Face Expression images**"
      ],
      "metadata": {
        "id": "UvCbY74bV4ae"
      }
    },
    {
      "cell_type": "code",
      "source": [
        "from tensorflow.keras.preprocessing import image\n",
        "import matplotlib.pyplot as plt\n",
        "i=0\n",
        "_, axes = plt.subplots(1, 7, figsize=(18, 16))\n",
        "axes = axes.flatten()\n",
        "for emotion,a in zip(os.listdir(train_data),axes):\n",
        "   images=image.load_img(train_data+\"/\"+emotion+\"/\"+os.listdir(train_data+\"/\"+emotion)[0])\n",
        "   print(\"     \"+exp_list[i],end=\"       \")\n",
        "   a.imshow(images,cmap=\"gray\")\n",
        "   i=i+1\n",
        "plt.show()\n",
        "\n"
      ],
      "metadata": {
        "colab": {
          "base_uri": "https://localhost:8080/",
          "height": 176
        },
        "id": "z_G4PzfPDp8B",
        "outputId": "53135e5f-d112-4b5a-d6f9-48ff895f9744"
      },
      "execution_count": 5,
      "outputs": [
        {
          "output_type": "stream",
          "name": "stdout",
          "text": [
            "     sad            surprise            disgust            happy            neutral            fear            angry       "
          ]
        },
        {
          "output_type": "display_data",
          "data": {
            "text/plain": [
              "<Figure size 1296x1152 with 7 Axes>"
            ],
            "image/png": "[encoded data removed]"
          },
          "metadata": {
            "needs_background": "light"
          }
        }
      ]
    },
    {
      "cell_type": "markdown",
      "source": [
        "# **Image Generator**"
      ],
      "metadata": {
        "id": "674837G52uYH"
      }
    },
    {
      "cell_type": "code",
      "source": [
        "from keras.preprocessing.image import ImageDataGenerator\n",
        "data_train = ImageDataGenerator()\n",
        "data_validation=ImageDataGenerator()\n",
        "train_gen=data_train.flow_from_directory(train_data,target_size=(48,48),\n",
        "                                                    color_mode=\"grayscale\",\n",
        "                                                    class_mode='categorical',\n",
        "                                                    shuffle=True,seed=42)\n",
        "validation_gen=data_validation.flow_from_directory(test_data,target_size=(48,48),\n",
        "                                                    color_mode=\"grayscale\",\n",
        "                                                    class_mode='categorical',\n",
        "                                                    shuffle=False)"
      ],
      "metadata": {
        "id": "OEcOqCNJ3tUb",
        "colab": {
          "base_uri": "https://localhost:8080/"
        },
        "outputId": "ee0da60d-527d-46f9-8bac-b1d6c66b7b08"
      },
      "execution_count": 6,
      "outputs": [
        {
          "output_type": "stream",
          "name": "stdout",
          "text": [
            "Found 28821 images belonging to 7 classes.\n",
            "Found 7066 images belonging to 7 classes.\n"
          ]
        }
      ]
    },
    {
      "cell_type": "markdown",
      "source": [
        "# **Building Convolutional Neural Networks (CNN)**"
      ],
      "metadata": {
        "id": "S1t1Y_14Yk1d"
      }
    },
    {
      "cell_type": "markdown",
      "source": [
        "**Importing libraries to build CNN**"
      ],
      "metadata": {
        "id": "y54TtKF_h0Cf"
      }
    },
    {
      "cell_type": "code",
      "source": [
        "from keras.layers import Dense, Input, Dropout, Flatten, Conv2D,Conv3D, BatchNormalization, Activation, MaxPooling2D\n",
        "from keras.models import Model, Sequential\n",
        "from keras.optimizers import SGD,Adagrad,Adadelta,Adam\n",
        "from keras.regularizers import l1,l2\n"
      ],
      "metadata": {
        "id": "JmYnziQ7Yrrc"
      },
      "execution_count": 7,
      "outputs": []
    },
    {
      "cell_type": "markdown",
      "source": [
        "**Model with 2 convolution layers and 2 fully connected layers optimizer=SGD activation = sigmoid**"
      ],
      "metadata": {
        "id": "Q6T2M8PqiwvT"
      }
    },
    {
      "cell_type": "code",
      "source": [
        "model=Sequential()\n",
        "#first convolution layer\n",
        "model.add(Conv2D(32,(3,3),strides=(1,1),padding=\"same\",input_shape=(48, 48,1),kernel_regularizer=l1(0.0001)))\n",
        "model.add(BatchNormalization())\n",
        "model.add(Activation(\"sigmoid\"))\n",
        "model.add(MaxPooling2D(pool_size=(2, 2)))\n",
        "model.add(Dropout(0.20))\n",
        "\n",
        "#second convolution layer\n",
        "model.add(Conv2D(64,(3,3),strides=(2,2),padding=\"same\",kernel_regularizer=l2(0.0001)))\n",
        "model.add(BatchNormalization())\n",
        "model.add(Activation(\"sigmoid\"))\n",
        "model.add(MaxPooling2D(pool_size=(2, 2)))\n",
        "model.add(Dropout(0.20))\n",
        "\n",
        "model.add(Flatten())\n",
        "\n",
        "#1st fully connected layer\n",
        "model.add(Dense(512,kernel_regularizer=l2(0.0001)))\n",
        "model.add(BatchNormalization())\n",
        "model.add(Activation('relu'))\n",
        "model.add(Dropout(0.20))\n",
        "\n",
        "#2nd fully connected layer\n",
        "model.add(Dense(1024,kernel_regularizer=l2(0.0001)))\n",
        "model.add(BatchNormalization())\n",
        "model.add(Activation('relu'))\n",
        "model.add(Dropout(0.20))\n",
        "\n",
        "#last layer\n",
        "model.add(Dense(7))\n",
        "model.add(Activation('softmax'))\n",
        "\n",
        "#compiling model\n",
        "opti=SGD(learning_rate=0.01)\n",
        "model.compile(optimizer=opti,loss='categorical_crossentropy',metrics=['accuracy'])\n"
      ],
      "metadata": {
        "id": "7jn-j1pkhmJr"
      },
      "execution_count": 8,
      "outputs": []
    },
    {
      "cell_type": "code",
      "source": [
        "model.summary()"
      ],
      "metadata": {
        "colab": {
          "base_uri": "https://localhost:8080/"
        },
        "id": "6TJtaTsJqERU",
        "outputId": "e8dbe526-90e4-4c92-f10a-d81ad1ededfc"
      },
      "execution_count": 9,
      "outputs": [
        {
          "output_type": "stream",
          "name": "stdout",
          "text": [
            "Model: \"sequential\"\n",
            "_________________________________________________________________\n",
            " Layer (type)                Output Shape              Param #   \n",
            "=================================================================\n",
            " conv2d (Conv2D)             (None, 48, 48, 32)        320       \n",
            "                                                                 \n",
            " batch_normalization (BatchN  (None, 48, 48, 32)       128       \n",
            " ormalization)                                                   \n",
            "                                                                 \n",
            " activation (Activation)     (None, 48, 48, 32)        0         \n",
            "                                                                 \n",
            " max_pooling2d (MaxPooling2D  (None, 24, 24, 32)       0         \n",
            " )                                                               \n",
            "                                                                 \n",
            " dropout (Dropout)           (None, 24, 24, 32)        0         \n",
            "                                                                 \n",
            " conv2d_1 (Conv2D)           (None, 12, 12, 64)        18496     \n",
            "                                                                 \n",
            " batch_normalization_1 (Batc  (None, 12, 12, 64)       256       \n",
            " hNormalization)                                                 \n",
            "                                                                 \n",
            " activation_1 (Activation)   (None, 12, 12, 64)        0         \n",
            "                                                                 \n",
            " max_pooling2d_1 (MaxPooling  (None, 6, 6, 64)         0         \n",
            " 2D)                                                             \n",
            "                                                                 \n",
            " dropout_1 (Dropout)         (None, 6, 6, 64)          0         \n",
            "                                                                 \n",
            " flatten (Flatten)           (None, 2304)              0         \n",
            "                                                                 \n",
            " dense (Dense)               (None, 512)               1180160   \n",
            "                                                                 \n",
            " batch_normalization_2 (Batc  (None, 512)              2048      \n",
            " hNormalization)                                                 \n",
            "                                                                 \n",
            " activation_2 (Activation)   (None, 512)               0         \n",
            "                                                                 \n",
            " dropout_2 (Dropout)         (None, 512)               0         \n",
            "                                                                 \n",
            " dense_1 (Dense)             (None, 1024)              525312    \n",
            "                                                                 \n",
            " batch_normalization_3 (Batc  (None, 1024)             4096      \n",
            " hNormalization)                                                 \n",
            "                                                                 \n",
            " activation_3 (Activation)   (None, 1024)              0         \n",
            "                                                                 \n",
            " dropout_3 (Dropout)         (None, 1024)              0         \n",
            "                                                                 \n",
            " dense_2 (Dense)             (None, 7)                 7175      \n",
            "                                                                 \n",
            " activation_4 (Activation)   (None, 7)                 0         \n",
            "                                                                 \n",
            "=================================================================\n",
            "Total params: 1,737,991\n",
            "Trainable params: 1,734,727\n",
            "Non-trainable params: 3,264\n",
            "_________________________________________________________________\n"
          ]
        }
      ]
    },
    {
      "cell_type": "markdown",
      "source": [
        "**Training the model**"
      ],
      "metadata": {
        "id": "xTvoC5t4o7um"
      }
    },
    {
      "cell_type": "code",
      "source": [
        "%%time\n",
        "from keras.callbacks import ModelCheckpoint\n",
        "\n",
        "checkpoint = ModelCheckpoint(\"model_weights.h5\", monitor='val_acc', verbose=1, save_best_only=True, mode='max')\n",
        "callbacks_list = [checkpoint]\n",
        "\n",
        "batch_size=150\n",
        "history = model.fit(train_gen,\n",
        "                                steps_per_epoch=train_gen.n//train_gen.batch_size,\n",
        "                                epochs=50,\n",
        "                                validation_data = validation_gen,\n",
        "                                validation_steps = validation_gen.n//validation_gen.batch_size,\n",
        "                                callbacks=callbacks_list)\n",
        "\n"
      ],
      "metadata": {
        "colab": {
          "base_uri": "https://localhost:8080/"
        },
        "id": "M_llJS2Qo-jm",
        "outputId": "5cec811e-16ae-427d-fe6e-f38b34fdb191"
      },
      "execution_count": 10,
      "outputs": [
        {
          "output_type": "stream",
          "name": "stdout",
          "text": [
            "Epoch 1/50\n",
            "900/900 [==============================] - ETA: 0s - loss: 2.1257 - accuracy: 0.2147"
          ]
        },
        {
          "output_type": "stream",
          "name": "stderr",
          "text": [
            "WARNING:tensorflow:Can save best model only with val_acc available, skipping.\n"
          ]
        },
        {
          "output_type": "stream",
          "name": "stdout",
          "text": [
            "\b\b\b\b\b\b\b\b\b\b\b\b\b\b\b\b\b\b\b\b\b\b\b\b\b\b\b\b\b\b\b\b\b\b\b\b\b\b\b\b\b\b\b\b\b\b\b\b\b\b\b\b\b\b\b\b\b\b\b\b\b\b\b\b\b\b\b\b\b\b\b\b\b\b\b\b\b\b\b\b\b\b\b\b\r900/900 [==============================] - 28s 20ms/step - loss: 2.1257 - accuracy: 0.2147 - val_loss: 1.8809 - val_accuracy: 0.3081\n",
            "Epoch 2/50\n",
            "900/900 [==============================] - ETA: 0s - loss: 2.0036 - accuracy: 0.2495"
          ]
        },
        {
          "output_type": "stream",
          "name": "stderr",
          "text": [
            "WARNING:tensorflow:Can save best model only with val_acc available, skipping.\n"
          ]
        },
        {
          "output_type": "stream",
          "name": "stdout",
          "text": [
            "\b\b\b\b\b\b\b\b\b\b\b\b\b\b\b\b\b\b\b\b\b\b\b\b\b\b\b\b\b\b\b\b\b\b\b\b\b\b\b\b\b\b\b\b\b\b\b\b\b\b\b\b\b\b\b\b\b\b\b\b\b\b\b\b\b\b\b\b\b\b\b\b\b\b\b\b\b\b\b\b\b\b\b\b\r900/900 [==============================] - 17s 18ms/step - loss: 2.0036 - accuracy: 0.2495 - val_loss: 1.8435 - val_accuracy: 0.3352\n",
            "Epoch 3/50\n",
            "899/900 [============================>.] - ETA: 0s - loss: 1.9475 - accuracy: 0.2751"
          ]
        },
        {
          "output_type": "stream",
          "name": "stderr",
          "text": [
            "WARNING:tensorflow:Can save best model only with val_acc available, skipping.\n"
          ]
        },
        {
          "output_type": "stream",
          "name": "stdout",
          "text": [
            "\b\b\b\b\b\b\b\b\b\b\b\b\b\b\b\b\b\b\b\b\b\b\b\b\b\b\b\b\b\b\b\b\b\b\b\b\b\b\b\b\b\b\b\b\b\b\b\b\b\b\b\b\b\b\b\b\b\b\b\b\b\b\b\b\b\b\b\b\b\b\b\b\b\b\b\b\b\b\b\b\b\b\b\b\r900/900 [==============================] - 19s 21ms/step - loss: 1.9475 - accuracy: 0.2751 - val_loss: 1.8314 - val_accuracy: 0.3477\n",
            "Epoch 4/50\n",
            "897/900 [============================>.] - ETA: 0s - loss: 1.9197 - accuracy: 0.2909"
          ]
        },
        {
          "output_type": "stream",
          "name": "stderr",
          "text": [
            "WARNING:tensorflow:Can save best model only with val_acc available, skipping.\n"
          ]
        },
        {
          "output_type": "stream",
          "name": "stdout",
          "text": [
            "\b\b\b\b\b\b\b\b\b\b\b\b\b\b\b\b\b\b\b\b\b\b\b\b\b\b\b\b\b\b\b\b\b\b\b\b\b\b\b\b\b\b\b\b\b\b\b\b\b\b\b\b\b\b\b\b\b\b\b\b\b\b\b\b\b\b\b\b\b\b\b\b\b\b\b\b\b\b\b\b\b\b\b\b\r900/900 [==============================] - 16s 18ms/step - loss: 1.9198 - accuracy: 0.2908 - val_loss: 1.8275 - val_accuracy: 0.3599\n",
            "Epoch 5/50\n",
            "900/900 [==============================] - ETA: 0s - loss: 1.8941 - accuracy: 0.3041"
          ]
        },
        {
          "output_type": "stream",
          "name": "stderr",
          "text": [
            "WARNING:tensorflow:Can save best model only with val_acc available, skipping.\n"
          ]
        },
        {
          "output_type": "stream",
          "name": "stdout",
          "text": [
            "\b\b\b\b\b\b\b\b\b\b\b\b\b\b\b\b\b\b\b\b\b\b\b\b\b\b\b\b\b\b\b\b\b\b\b\b\b\b\b\b\b\b\b\b\b\b\b\b\b\b\b\b\b\b\b\b\b\b\b\b\b\b\b\b\b\b\b\b\b\b\b\b\b\b\b\b\b\b\b\b\b\b\b\b\r900/900 [==============================] - 19s 21ms/step - loss: 1.8941 - accuracy: 0.3041 - val_loss: 1.8054 - val_accuracy: 0.3567\n",
            "Epoch 6/50\n",
            "897/900 [============================>.] - ETA: 0s - loss: 1.8747 - accuracy: 0.3126"
          ]
        },
        {
          "output_type": "stream",
          "name": "stderr",
          "text": [
            "WARNING:tensorflow:Can save best model only with val_acc available, skipping.\n"
          ]
        },
        {
          "output_type": "stream",
          "name": "stdout",
          "text": [
            "\b\b\b\b\b\b\b\b\b\b\b\b\b\b\b\b\b\b\b\b\b\b\b\b\b\b\b\b\b\b\b\b\b\b\b\b\b\b\b\b\b\b\b\b\b\b\b\b\b\b\b\b\b\b\b\b\b\b\b\b\b\b\b\b\b\b\b\b\b\b\b\b\b\b\b\b\b\b\b\b\b\b\b\b\r900/900 [==============================] - 17s 18ms/step - loss: 1.8747 - accuracy: 0.3124 - val_loss: 1.7878 - val_accuracy: 0.3638\n",
            "Epoch 7/50\n",
            "900/900 [==============================] - ETA: 0s - loss: 1.8559 - accuracy: 0.3241"
          ]
        },
        {
          "output_type": "stream",
          "name": "stderr",
          "text": [
            "WARNING:tensorflow:Can save best model only with val_acc available, skipping.\n"
          ]
        },
        {
          "output_type": "stream",
          "name": "stdout",
          "text": [
            "\b\b\b\b\b\b\b\b\b\b\b\b\b\b\b\b\b\b\b\b\b\b\b\b\b\b\b\b\b\b\b\b\b\b\b\b\b\b\b\b\b\b\b\b\b\b\b\b\b\b\b\b\b\b\b\b\b\b\b\b\b\b\b\b\b\b\b\b\b\b\b\b\b\b\b\b\b\b\b\b\b\b\b\b\r900/900 [==============================] - 16s 17ms/step - loss: 1.8559 - accuracy: 0.3241 - val_loss: 1.7511 - val_accuracy: 0.3874\n",
            "Epoch 8/50\n",
            "899/900 [============================>.] - ETA: 0s - loss: 1.8429 - accuracy: 0.3331"
          ]
        },
        {
          "output_type": "stream",
          "name": "stderr",
          "text": [
            "WARNING:tensorflow:Can save best model only with val_acc available, skipping.\n"
          ]
        },
        {
          "output_type": "stream",
          "name": "stdout",
          "text": [
            "\b\b\b\b\b\b\b\b\b\b\b\b\b\b\b\b\b\b\b\b\b\b\b\b\b\b\b\b\b\b\b\b\b\b\b\b\b\b\b\b\b\b\b\b\b\b\b\b\b\b\b\b\b\b\b\b\b\b\b\b\b\b\b\b\b\b\b\b\b\b\b\b\b\b\b\b\b\b\b\b\b\b\b\b\r900/900 [==============================] - 17s 18ms/step - loss: 1.8429 - accuracy: 0.3332 - val_loss: 1.7489 - val_accuracy: 0.3749\n",
            "Epoch 9/50\n",
            "899/900 [============================>.] - ETA: 0s - loss: 1.8319 - accuracy: 0.3339"
          ]
        },
        {
          "output_type": "stream",
          "name": "stderr",
          "text": [
            "WARNING:tensorflow:Can save best model only with val_acc available, skipping.\n"
          ]
        },
        {
          "output_type": "stream",
          "name": "stdout",
          "text": [
            "\b\b\b\b\b\b\b\b\b\b\b\b\b\b\b\b\b\b\b\b\b\b\b\b\b\b\b\b\b\b\b\b\b\b\b\b\b\b\b\b\b\b\b\b\b\b\b\b\b\b\b\b\b\b\b\b\b\b\b\b\b\b\b\b\b\b\b\b\b\b\b\b\b\b\b\b\b\b\b\b\b\b\b\b\r900/900 [==============================] - 16s 17ms/step - loss: 1.8321 - accuracy: 0.3339 - val_loss: 1.7202 - val_accuracy: 0.4021\n",
            "Epoch 10/50\n",
            "896/900 [============================>.] - ETA: 0s - loss: 1.8224 - accuracy: 0.3450"
          ]
        },
        {
          "output_type": "stream",
          "name": "stderr",
          "text": [
            "WARNING:tensorflow:Can save best model only with val_acc available, skipping.\n"
          ]
        },
        {
          "output_type": "stream",
          "name": "stdout",
          "text": [
            "\b\b\b\b\b\b\b\b\b\b\b\b\b\b\b\b\b\b\b\b\b\b\b\b\b\b\b\b\b\b\b\b\b\b\b\b\b\b\b\b\b\b\b\b\b\b\b\b\b\b\b\b\b\b\b\b\b\b\b\b\b\b\b\b\b\b\b\b\b\b\b\b\b\b\b\b\b\b\b\b\b\b\b\b\r900/900 [==============================] - 16s 17ms/step - loss: 1.8223 - accuracy: 0.3454 - val_loss: 1.7184 - val_accuracy: 0.3884\n",
            "Epoch 11/50\n",
            "900/900 [==============================] - ETA: 0s - loss: 1.8125 - accuracy: 0.3473"
          ]
        },
        {
          "output_type": "stream",
          "name": "stderr",
          "text": [
            "WARNING:tensorflow:Can save best model only with val_acc available, skipping.\n"
          ]
        },
        {
          "output_type": "stream",
          "name": "stdout",
          "text": [
            "\b\b\b\b\b\b\b\b\b\b\b\b\b\b\b\b\b\b\b\b\b\b\b\b\b\b\b\b\b\b\b\b\b\b\b\b\b\b\b\b\b\b\b\b\b\b\b\b\b\b\b\b\b\b\b\b\b\b\b\b\b\b\b\b\b\b\b\b\b\b\b\b\b\b\b\b\b\b\b\b\b\b\b\b\r900/900 [==============================] - 16s 17ms/step - loss: 1.8125 - accuracy: 0.3473 - val_loss: 1.7275 - val_accuracy: 0.3911\n",
            "Epoch 12/50\n",
            "898/900 [============================>.] - ETA: 0s - loss: 1.8021 - accuracy: 0.3516"
          ]
        },
        {
          "output_type": "stream",
          "name": "stderr",
          "text": [
            "WARNING:tensorflow:Can save best model only with val_acc available, skipping.\n"
          ]
        },
        {
          "output_type": "stream",
          "name": "stdout",
          "text": [
            "\b\b\b\b\b\b\b\b\b\b\b\b\b\b\b\b\b\b\b\b\b\b\b\b\b\b\b\b\b\b\b\b\b\b\b\b\b\b\b\b\b\b\b\b\b\b\b\b\b\b\b\b\b\b\b\b\b\b\b\b\b\b\b\b\b\b\b\b\b\b\b\b\b\b\b\b\b\b\b\b\b\b\b\b\r900/900 [==============================] - 18s 20ms/step - loss: 1.8021 - accuracy: 0.3517 - val_loss: 1.7212 - val_accuracy: 0.4050\n",
            "Epoch 13/50\n",
            "900/900 [==============================] - ETA: 0s - loss: 1.7971 - accuracy: 0.3561"
          ]
        },
        {
          "output_type": "stream",
          "name": "stderr",
          "text": [
            "WARNING:tensorflow:Can save best model only with val_acc available, skipping.\n"
          ]
        },
        {
          "output_type": "stream",
          "name": "stdout",
          "text": [
            "\b\b\b\b\b\b\b\b\b\b\b\b\b\b\b\b\b\b\b\b\b\b\b\b\b\b\b\b\b\b\b\b\b\b\b\b\b\b\b\b\b\b\b\b\b\b\b\b\b\b\b\b\b\b\b\b\b\b\b\b\b\b\b\b\b\b\b\b\b\b\b\b\b\b\b\b\b\b\b\b\b\b\b\b\r900/900 [==============================] - 16s 18ms/step - loss: 1.7971 - accuracy: 0.3561 - val_loss: 1.6965 - val_accuracy: 0.4058\n",
            "Epoch 14/50\n",
            "897/900 [============================>.] - ETA: 0s - loss: 1.7927 - accuracy: 0.3539"
          ]
        },
        {
          "output_type": "stream",
          "name": "stderr",
          "text": [
            "WARNING:tensorflow:Can save best model only with val_acc available, skipping.\n"
          ]
        },
        {
          "output_type": "stream",
          "name": "stdout",
          "text": [
            "\b\b\b\b\b\b\b\b\b\b\b\b\b\b\b\b\b\b\b\b\b\b\b\b\b\b\b\b\b\b\b\b\b\b\b\b\b\b\b\b\b\b\b\b\b\b\b\b\b\b\b\b\b\b\b\b\b\b\b\b\b\b\b\b\b\b\b\b\b\b\b\b\b\b\b\b\b\b\b\b\b\b\b\b\r900/900 [==============================] - 16s 18ms/step - loss: 1.7927 - accuracy: 0.3540 - val_loss: 1.6943 - val_accuracy: 0.4078\n",
            "Epoch 15/50\n",
            "898/900 [============================>.] - ETA: 0s - loss: 1.7804 - accuracy: 0.3614"
          ]
        },
        {
          "output_type": "stream",
          "name": "stderr",
          "text": [
            "WARNING:tensorflow:Can save best model only with val_acc available, skipping.\n"
          ]
        },
        {
          "output_type": "stream",
          "name": "stdout",
          "text": [
            "\b\b\b\b\b\b\b\b\b\b\b\b\b\b\b\b\b\b\b\b\b\b\b\b\b\b\b\b\b\b\b\b\b\b\b\b\b\b\b\b\b\b\b\b\b\b\b\b\b\b\b\b\b\b\b\b\b\b\b\b\b\b\b\b\b\b\b\b\b\b\b\b\b\b\b\b\b\b\b\b\b\b\b\b\r900/900 [==============================] - 16s 17ms/step - loss: 1.7800 - accuracy: 0.3616 - val_loss: 1.7269 - val_accuracy: 0.3994\n",
            "Epoch 16/50\n",
            "898/900 [============================>.] - ETA: 0s - loss: 1.7732 - accuracy: 0.3630"
          ]
        },
        {
          "output_type": "stream",
          "name": "stderr",
          "text": [
            "WARNING:tensorflow:Can save best model only with val_acc available, skipping.\n"
          ]
        },
        {
          "output_type": "stream",
          "name": "stdout",
          "text": [
            "\b\b\b\b\b\b\b\b\b\b\b\b\b\b\b\b\b\b\b\b\b\b\b\b\b\b\b\b\b\b\b\b\b\b\b\b\b\b\b\b\b\b\b\b\b\b\b\b\b\b\b\b\b\b\b\b\b\b\b\b\b\b\b\b\b\b\b\b\b\b\b\b\b\b\b\b\b\b\b\b\b\b\b\b\r900/900 [==============================] - 16s 18ms/step - loss: 1.7728 - accuracy: 0.3632 - val_loss: 1.6737 - val_accuracy: 0.4121\n",
            "Epoch 17/50\n",
            "897/900 [============================>.] - ETA: 0s - loss: 1.7629 - accuracy: 0.3711"
          ]
        },
        {
          "output_type": "stream",
          "name": "stderr",
          "text": [
            "WARNING:tensorflow:Can save best model only with val_acc available, skipping.\n"
          ]
        },
        {
          "output_type": "stream",
          "name": "stdout",
          "text": [
            "\b\b\b\b\b\b\b\b\b\b\b\b\b\b\b\b\b\b\b\b\b\b\b\b\b\b\b\b\b\b\b\b\b\b\b\b\b\b\b\b\b\b\b\b\b\b\b\b\b\b\b\b\b\b\b\b\b\b\b\b\b\b\b\b\b\b\b\b\b\b\b\b\b\b\b\b\b\b\b\b\b\b\b\b\r900/900 [==============================] - 19s 21ms/step - loss: 1.7634 - accuracy: 0.3711 - val_loss: 1.7101 - val_accuracy: 0.4092\n",
            "Epoch 18/50\n",
            "899/900 [============================>.] - ETA: 0s - loss: 1.7568 - accuracy: 0.3728"
          ]
        },
        {
          "output_type": "stream",
          "name": "stderr",
          "text": [
            "WARNING:tensorflow:Can save best model only with val_acc available, skipping.\n"
          ]
        },
        {
          "output_type": "stream",
          "name": "stdout",
          "text": [
            "\b\b\b\b\b\b\b\b\b\b\b\b\b\b\b\b\b\b\b\b\b\b\b\b\b\b\b\b\b\b\b\b\b\b\b\b\b\b\b\b\b\b\b\b\b\b\b\b\b\b\b\b\b\b\b\b\b\b\b\b\b\b\b\b\b\b\b\b\b\b\b\b\b\b\b\b\b\b\b\b\b\b\b\b\r900/900 [==============================] - 16s 17ms/step - loss: 1.7567 - accuracy: 0.3729 - val_loss: 1.7223 - val_accuracy: 0.4014\n",
            "Epoch 19/50\n",
            "900/900 [==============================] - ETA: 0s - loss: 1.7536 - accuracy: 0.3725"
          ]
        },
        {
          "output_type": "stream",
          "name": "stderr",
          "text": [
            "WARNING:tensorflow:Can save best model only with val_acc available, skipping.\n"
          ]
        },
        {
          "output_type": "stream",
          "name": "stdout",
          "text": [
            "\b\b\b\b\b\b\b\b\b\b\b\b\b\b\b\b\b\b\b\b\b\b\b\b\b\b\b\b\b\b\b\b\b\b\b\b\b\b\b\b\b\b\b\b\b\b\b\b\b\b\b\b\b\b\b\b\b\b\b\b\b\b\b\b\b\b\b\b\b\b\b\b\b\b\b\b\b\b\b\b\b\b\b\b\r900/900 [==============================] - 16s 18ms/step - loss: 1.7536 - accuracy: 0.3725 - val_loss: 1.6389 - val_accuracy: 0.4240\n",
            "Epoch 20/50\n",
            "897/900 [============================>.] - ETA: 0s - loss: 1.7499 - accuracy: 0.3763"
          ]
        },
        {
          "output_type": "stream",
          "name": "stderr",
          "text": [
            "WARNING:tensorflow:Can save best model only with val_acc available, skipping.\n"
          ]
        },
        {
          "output_type": "stream",
          "name": "stdout",
          "text": [
            "\b\b\b\b\b\b\b\b\b\b\b\b\b\b\b\b\b\b\b\b\b\b\b\b\b\b\b\b\b\b\b\b\b\b\b\b\b\b\b\b\b\b\b\b\b\b\b\b\b\b\b\b\b\b\b\b\b\b\b\b\b\b\b\b\b\b\b\b\b\b\b\b\b\b\b\b\b\b\b\b\b\b\b\b\r900/900 [==============================] - 16s 18ms/step - loss: 1.7495 - accuracy: 0.3763 - val_loss: 1.6446 - val_accuracy: 0.4223\n",
            "Epoch 21/50\n",
            "899/900 [============================>.] - ETA: 0s - loss: 1.7426 - accuracy: 0.3789"
          ]
        },
        {
          "output_type": "stream",
          "name": "stderr",
          "text": [
            "WARNING:tensorflow:Can save best model only with val_acc available, skipping.\n"
          ]
        },
        {
          "output_type": "stream",
          "name": "stdout",
          "text": [
            "\b\b\b\b\b\b\b\b\b\b\b\b\b\b\b\b\b\b\b\b\b\b\b\b\b\b\b\b\b\b\b\b\b\b\b\b\b\b\b\b\b\b\b\b\b\b\b\b\b\b\b\b\b\b\b\b\b\b\b\b\b\b\b\b\b\b\b\b\b\b\b\b\b\b\b\b\b\b\b\b\b\b\b\b\r900/900 [==============================] - 16s 18ms/step - loss: 1.7425 - accuracy: 0.3790 - val_loss: 1.7068 - val_accuracy: 0.4055\n",
            "Epoch 22/50\n",
            "900/900 [==============================] - ETA: 0s - loss: 1.7328 - accuracy: 0.3833"
          ]
        },
        {
          "output_type": "stream",
          "name": "stderr",
          "text": [
            "WARNING:tensorflow:Can save best model only with val_acc available, skipping.\n"
          ]
        },
        {
          "output_type": "stream",
          "name": "stdout",
          "text": [
            "\b\b\b\b\b\b\b\b\b\b\b\b\b\b\b\b\b\b\b\b\b\b\b\b\b\b\b\b\b\b\b\b\b\b\b\b\b\b\b\b\b\b\b\b\b\b\b\b\b\b\b\b\b\b\b\b\b\b\b\b\b\b\b\b\b\b\b\b\b\b\b\b\b\b\b\b\b\b\b\b\b\b\b\b\r900/900 [==============================] - 16s 18ms/step - loss: 1.7328 - accuracy: 0.3833 - val_loss: 1.8460 - val_accuracy: 0.3203\n",
            "Epoch 23/50\n",
            "898/900 [============================>.] - ETA: 0s - loss: 1.7246 - accuracy: 0.3840"
          ]
        },
        {
          "output_type": "stream",
          "name": "stderr",
          "text": [
            "WARNING:tensorflow:Can save best model only with val_acc available, skipping.\n"
          ]
        },
        {
          "output_type": "stream",
          "name": "stdout",
          "text": [
            "\b\b\b\b\b\b\b\b\b\b\b\b\b\b\b\b\b\b\b\b\b\b\b\b\b\b\b\b\b\b\b\b\b\b\b\b\b\b\b\b\b\b\b\b\b\b\b\b\b\b\b\b\b\b\b\b\b\b\b\b\b\b\b\b\b\b\b\b\b\b\b\b\b\b\b\b\b\b\b\b\b\b\b\b\r900/900 [==============================] - 19s 21ms/step - loss: 1.7246 - accuracy: 0.3841 - val_loss: 1.6143 - val_accuracy: 0.4342\n",
            "Epoch 24/50\n",
            "898/900 [============================>.] - ETA: 0s - loss: 1.7267 - accuracy: 0.3854"
          ]
        },
        {
          "output_type": "stream",
          "name": "stderr",
          "text": [
            "WARNING:tensorflow:Can save best model only with val_acc available, skipping.\n"
          ]
        },
        {
          "output_type": "stream",
          "name": "stdout",
          "text": [
            "\b\b\b\b\b\b\b\b\b\b\b\b\b\b\b\b\b\b\b\b\b\b\b\b\b\b\b\b\b\b\b\b\b\b\b\b\b\b\b\b\b\b\b\b\b\b\b\b\b\b\b\b\b\b\b\b\b\b\b\b\b\b\b\b\b\b\b\b\b\b\b\b\b\b\b\b\b\b\b\b\b\b\b\b\r900/900 [==============================] - 16s 17ms/step - loss: 1.7267 - accuracy: 0.3853 - val_loss: 1.6486 - val_accuracy: 0.4232\n",
            "Epoch 25/50\n",
            "900/900 [==============================] - ETA: 0s - loss: 1.7128 - accuracy: 0.3866"
          ]
        },
        {
          "output_type": "stream",
          "name": "stderr",
          "text": [
            "WARNING:tensorflow:Can save best model only with val_acc available, skipping.\n"
          ]
        },
        {
          "output_type": "stream",
          "name": "stdout",
          "text": [
            "\b\b\b\b\b\b\b\b\b\b\b\b\b\b\b\b\b\b\b\b\b\b\b\b\b\b\b\b\b\b\b\b\b\b\b\b\b\b\b\b\b\b\b\b\b\b\b\b\b\b\b\b\b\b\b\b\b\b\b\b\b\b\b\b\b\b\b\b\b\b\b\b\b\b\b\b\b\b\b\b\b\b\b\b\r900/900 [==============================] - 16s 18ms/step - loss: 1.7128 - accuracy: 0.3866 - val_loss: 1.6870 - val_accuracy: 0.4016\n",
            "Epoch 26/50\n",
            "900/900 [==============================] - ETA: 0s - loss: 1.7097 - accuracy: 0.3953"
          ]
        },
        {
          "output_type": "stream",
          "name": "stderr",
          "text": [
            "WARNING:tensorflow:Can save best model only with val_acc available, skipping.\n"
          ]
        },
        {
          "output_type": "stream",
          "name": "stdout",
          "text": [
            "\b\b\b\b\b\b\b\b\b\b\b\b\b\b\b\b\b\b\b\b\b\b\b\b\b\b\b\b\b\b\b\b\b\b\b\b\b\b\b\b\b\b\b\b\b\b\b\b\b\b\b\b\b\b\b\b\b\b\b\b\b\b\b\b\b\b\b\b\b\b\b\b\b\b\b\b\b\b\b\b\b\b\b\b\r900/900 [==============================] - 17s 18ms/step - loss: 1.7097 - accuracy: 0.3953 - val_loss: 1.6836 - val_accuracy: 0.4220\n",
            "Epoch 27/50\n",
            "897/900 [============================>.] - ETA: 0s - loss: 1.7040 - accuracy: 0.3936"
          ]
        },
        {
          "output_type": "stream",
          "name": "stderr",
          "text": [
            "WARNING:tensorflow:Can save best model only with val_acc available, skipping.\n"
          ]
        },
        {
          "output_type": "stream",
          "name": "stdout",
          "text": [
            "\b\b\b\b\b\b\b\b\b\b\b\b\b\b\b\b\b\b\b\b\b\b\b\b\b\b\b\b\b\b\b\b\b\b\b\b\b\b\b\b\b\b\b\b\b\b\b\b\b\b\b\b\b\b\b\b\b\b\b\b\b\b\b\b\b\b\b\b\b\b\b\b\b\b\b\b\b\b\b\b\b\b\b\b\r900/900 [==============================] - 16s 18ms/step - loss: 1.7043 - accuracy: 0.3935 - val_loss: 1.6325 - val_accuracy: 0.4313\n",
            "Epoch 28/50\n",
            "898/900 [============================>.] - ETA: 0s - loss: 1.6981 - accuracy: 0.3980"
          ]
        },
        {
          "output_type": "stream",
          "name": "stderr",
          "text": [
            "WARNING:tensorflow:Can save best model only with val_acc available, skipping.\n"
          ]
        },
        {
          "output_type": "stream",
          "name": "stdout",
          "text": [
            "\b\b\b\b\b\b\b\b\b\b\b\b\b\b\b\b\b\b\b\b\b\b\b\b\b\b\b\b\b\b\b\b\b\b\b\b\b\b\b\b\b\b\b\b\b\b\b\b\b\b\b\b\b\b\b\b\b\b\b\b\b\b\b\b\b\b\b\b\b\b\b\b\b\b\b\b\b\b\b\b\b\b\b\b\r900/900 [==============================] - 16s 18ms/step - loss: 1.6977 - accuracy: 0.3982 - val_loss: 1.6152 - val_accuracy: 0.4276\n",
            "Epoch 29/50\n",
            "900/900 [==============================] - ETA: 0s - loss: 1.6962 - accuracy: 0.3939"
          ]
        },
        {
          "output_type": "stream",
          "name": "stderr",
          "text": [
            "WARNING:tensorflow:Can save best model only with val_acc available, skipping.\n"
          ]
        },
        {
          "output_type": "stream",
          "name": "stdout",
          "text": [
            "\b\b\b\b\b\b\b\b\b\b\b\b\b\b\b\b\b\b\b\b\b\b\b\b\b\b\b\b\b\b\b\b\b\b\b\b\b\b\b\b\b\b\b\b\b\b\b\b\b\b\b\b\b\b\b\b\b\b\b\b\b\b\b\b\b\b\b\b\b\b\b\b\b\b\b\b\b\b\b\b\b\b\b\b\r900/900 [==============================] - 17s 18ms/step - loss: 1.6962 - accuracy: 0.3939 - val_loss: 1.5940 - val_accuracy: 0.4425\n",
            "Epoch 30/50\n",
            "899/900 [============================>.] - ETA: 0s - loss: 1.6948 - accuracy: 0.3984"
          ]
        },
        {
          "output_type": "stream",
          "name": "stderr",
          "text": [
            "WARNING:tensorflow:Can save best model only with val_acc available, skipping.\n"
          ]
        },
        {
          "output_type": "stream",
          "name": "stdout",
          "text": [
            "\b\b\b\b\b\b\b\b\b\b\b\b\b\b\b\b\b\b\b\b\b\b\b\b\b\b\b\b\b\b\b\b\b\b\b\b\b\b\b\b\b\b\b\b\b\b\b\b\b\b\b\b\b\b\b\b\b\b\b\b\b\b\b\b\b\b\b\b\b\b\b\b\b\b\b\b\b\b\b\b\b\b\b\b\r900/900 [==============================] - 16s 17ms/step - loss: 1.6947 - accuracy: 0.3985 - val_loss: 1.5943 - val_accuracy: 0.4428\n",
            "Epoch 31/50\n",
            "898/900 [============================>.] - ETA: 0s - loss: 1.6852 - accuracy: 0.4022"
          ]
        },
        {
          "output_type": "stream",
          "name": "stderr",
          "text": [
            "WARNING:tensorflow:Can save best model only with val_acc available, skipping.\n"
          ]
        },
        {
          "output_type": "stream",
          "name": "stdout",
          "text": [
            "\b\b\b\b\b\b\b\b\b\b\b\b\b\b\b\b\b\b\b\b\b\b\b\b\b\b\b\b\b\b\b\b\b\b\b\b\b\b\b\b\b\b\b\b\b\b\b\b\b\b\b\b\b\b\b\b\b\b\b\b\b\b\b\b\b\b\b\b\b\b\b\b\b\b\b\b\b\b\b\b\b\b\b\b\r900/900 [==============================] - 16s 18ms/step - loss: 1.6858 - accuracy: 0.4021 - val_loss: 1.6191 - val_accuracy: 0.4331\n",
            "Epoch 32/50\n",
            "900/900 [==============================] - ETA: 0s - loss: 1.6748 - accuracy: 0.4055"
          ]
        },
        {
          "output_type": "stream",
          "name": "stderr",
          "text": [
            "WARNING:tensorflow:Can save best model only with val_acc available, skipping.\n"
          ]
        },
        {
          "output_type": "stream",
          "name": "stdout",
          "text": [
            "\b\b\b\b\b\b\b\b\b\b\b\b\b\b\b\b\b\b\b\b\b\b\b\b\b\b\b\b\b\b\b\b\b\b\b\b\b\b\b\b\b\b\b\b\b\b\b\b\b\b\b\b\b\b\b\b\b\b\b\b\b\b\b\b\b\b\b\b\b\b\b\b\b\b\b\b\b\b\b\b\b\b\b\b\r900/900 [==============================] - 16s 18ms/step - loss: 1.6748 - accuracy: 0.4055 - val_loss: 1.5990 - val_accuracy: 0.4388\n",
            "Epoch 33/50\n",
            "899/900 [============================>.] - ETA: 0s - loss: 1.6760 - accuracy: 0.4045"
          ]
        },
        {
          "output_type": "stream",
          "name": "stderr",
          "text": [
            "WARNING:tensorflow:Can save best model only with val_acc available, skipping.\n"
          ]
        },
        {
          "output_type": "stream",
          "name": "stdout",
          "text": [
            "\b\b\b\b\b\b\b\b\b\b\b\b\b\b\b\b\b\b\b\b\b\b\b\b\b\b\b\b\b\b\b\b\b\b\b\b\b\b\b\b\b\b\b\b\b\b\b\b\b\b\b\b\b\b\b\b\b\b\b\b\b\b\b\b\b\b\b\b\b\b\b\b\b\b\b\b\b\b\b\b\b\b\b\b\r900/900 [==============================] - 16s 18ms/step - loss: 1.6763 - accuracy: 0.4043 - val_loss: 1.5768 - val_accuracy: 0.4506\n",
            "Epoch 34/50\n",
            "899/900 [============================>.] - ETA: 0s - loss: 1.6693 - accuracy: 0.4093"
          ]
        },
        {
          "output_type": "stream",
          "name": "stderr",
          "text": [
            "WARNING:tensorflow:Can save best model only with val_acc available, skipping.\n"
          ]
        },
        {
          "output_type": "stream",
          "name": "stdout",
          "text": [
            "\b\b\b\b\b\b\b\b\b\b\b\b\b\b\b\b\b\b\b\b\b\b\b\b\b\b\b\b\b\b\b\b\b\b\b\b\b\b\b\b\b\b\b\b\b\b\b\b\b\b\b\b\b\b\b\b\b\b\b\b\b\b\b\b\b\b\b\b\b\b\b\b\b\b\b\b\b\b\b\b\b\b\b\b\r900/900 [==============================] - 16s 18ms/step - loss: 1.6693 - accuracy: 0.4094 - val_loss: 1.6703 - val_accuracy: 0.4142\n",
            "Epoch 35/50\n",
            "899/900 [============================>.] - ETA: 0s - loss: 1.6645 - accuracy: 0.4052"
          ]
        },
        {
          "output_type": "stream",
          "name": "stderr",
          "text": [
            "WARNING:tensorflow:Can save best model only with val_acc available, skipping.\n"
          ]
        },
        {
          "output_type": "stream",
          "name": "stdout",
          "text": [
            "\b\b\b\b\b\b\b\b\b\b\b\b\b\b\b\b\b\b\b\b\b\b\b\b\b\b\b\b\b\b\b\b\b\b\b\b\b\b\b\b\b\b\b\b\b\b\b\b\b\b\b\b\b\b\b\b\b\b\b\b\b\b\b\b\b\b\b\b\b\b\b\b\b\b\b\b\b\b\b\b\b\b\b\b\r900/900 [==============================] - 16s 18ms/step - loss: 1.6646 - accuracy: 0.4053 - val_loss: 1.7122 - val_accuracy: 0.3980\n",
            "Epoch 36/50\n",
            "899/900 [============================>.] - ETA: 0s - loss: 1.6614 - accuracy: 0.4126"
          ]
        },
        {
          "output_type": "stream",
          "name": "stderr",
          "text": [
            "WARNING:tensorflow:Can save best model only with val_acc available, skipping.\n"
          ]
        },
        {
          "output_type": "stream",
          "name": "stdout",
          "text": [
            "\b\b\b\b\b\b\b\b\b\b\b\b\b\b\b\b\b\b\b\b\b\b\b\b\b\b\b\b\b\b\b\b\b\b\b\b\b\b\b\b\b\b\b\b\b\b\b\b\b\b\b\b\b\b\b\b\b\b\b\b\b\b\b\b\b\b\b\b\b\b\b\b\b\b\b\b\b\b\b\b\b\b\b\b\r900/900 [==============================] - 16s 18ms/step - loss: 1.6616 - accuracy: 0.4125 - val_loss: 1.5966 - val_accuracy: 0.4349\n",
            "Epoch 37/50\n",
            "899/900 [============================>.] - ETA: 0s - loss: 1.6541 - accuracy: 0.4140"
          ]
        },
        {
          "output_type": "stream",
          "name": "stderr",
          "text": [
            "WARNING:tensorflow:Can save best model only with val_acc available, skipping.\n"
          ]
        },
        {
          "output_type": "stream",
          "name": "stdout",
          "text": [
            "\b\b\b\b\b\b\b\b\b\b\b\b\b\b\b\b\b\b\b\b\b\b\b\b\b\b\b\b\b\b\b\b\b\b\b\b\b\b\b\b\b\b\b\b\b\b\b\b\b\b\b\b\b\b\b\b\b\b\b\b\b\b\b\b\b\b\b\b\b\b\b\b\b\b\b\b\b\b\b\b\b\b\b\b\r900/900 [==============================] - 16s 18ms/step - loss: 1.6542 - accuracy: 0.4139 - val_loss: 1.6621 - val_accuracy: 0.4236\n",
            "Epoch 38/50\n",
            "900/900 [==============================] - ETA: 0s - loss: 1.6474 - accuracy: 0.4175"
          ]
        },
        {
          "output_type": "stream",
          "name": "stderr",
          "text": [
            "WARNING:tensorflow:Can save best model only with val_acc available, skipping.\n"
          ]
        },
        {
          "output_type": "stream",
          "name": "stdout",
          "text": [
            "\b\b\b\b\b\b\b\b\b\b\b\b\b\b\b\b\b\b\b\b\b\b\b\b\b\b\b\b\b\b\b\b\b\b\b\b\b\b\b\b\b\b\b\b\b\b\b\b\b\b\b\b\b\b\b\b\b\b\b\b\b\b\b\b\b\b\b\b\b\b\b\b\b\b\b\b\b\b\b\b\b\b\b\b\r900/900 [==============================] - 15s 17ms/step - loss: 1.6474 - accuracy: 0.4175 - val_loss: 1.5580 - val_accuracy: 0.4450\n",
            "Epoch 39/50\n",
            "899/900 [============================>.] - ETA: 0s - loss: 1.6408 - accuracy: 0.4180"
          ]
        },
        {
          "output_type": "stream",
          "name": "stderr",
          "text": [
            "WARNING:tensorflow:Can save best model only with val_acc available, skipping.\n"
          ]
        },
        {
          "output_type": "stream",
          "name": "stdout",
          "text": [
            "\b\b\b\b\b\b\b\b\b\b\b\b\b\b\b\b\b\b\b\b\b\b\b\b\b\b\b\b\b\b\b\b\b\b\b\b\b\b\b\b\b\b\b\b\b\b\b\b\b\b\b\b\b\b\b\b\b\b\b\b\b\b\b\b\b\b\b\b\b\b\b\b\b\b\b\b\b\b\b\b\b\b\b\b\r900/900 [==============================] - 16s 17ms/step - loss: 1.6408 - accuracy: 0.4180 - val_loss: 1.5463 - val_accuracy: 0.4521\n",
            "Epoch 40/50\n",
            "898/900 [============================>.] - ETA: 0s - loss: 1.6412 - accuracy: 0.4199"
          ]
        },
        {
          "output_type": "stream",
          "name": "stderr",
          "text": [
            "WARNING:tensorflow:Can save best model only with val_acc available, skipping.\n"
          ]
        },
        {
          "output_type": "stream",
          "name": "stdout",
          "text": [
            "\b\b\b\b\b\b\b\b\b\b\b\b\b\b\b\b\b\b\b\b\b\b\b\b\b\b\b\b\b\b\b\b\b\b\b\b\b\b\b\b\b\b\b\b\b\b\b\b\b\b\b\b\b\b\b\b\b\b\b\b\b\b\b\b\b\b\b\b\b\b\b\b\b\b\b\b\b\b\b\b\b\b\b\b\r900/900 [==============================] - 16s 18ms/step - loss: 1.6414 - accuracy: 0.4198 - val_loss: 1.5675 - val_accuracy: 0.4453\n",
            "Epoch 41/50\n",
            "898/900 [============================>.] - ETA: 0s - loss: 1.6366 - accuracy: 0.4215"
          ]
        },
        {
          "output_type": "stream",
          "name": "stderr",
          "text": [
            "WARNING:tensorflow:Can save best model only with val_acc available, skipping.\n"
          ]
        },
        {
          "output_type": "stream",
          "name": "stdout",
          "text": [
            "\b\b\b\b\b\b\b\b\b\b\b\b\b\b\b\b\b\b\b\b\b\b\b\b\b\b\b\b\b\b\b\b\b\b\b\b\b\b\b\b\b\b\b\b\b\b\b\b\b\b\b\b\b\b\b\b\b\b\b\b\b\b\b\b\b\b\b\b\b\b\b\b\b\b\b\b\b\b\b\b\b\b\b\b\r900/900 [==============================] - 16s 18ms/step - loss: 1.6363 - accuracy: 0.4215 - val_loss: 1.5543 - val_accuracy: 0.4518\n",
            "Epoch 42/50\n",
            "900/900 [==============================] - ETA: 0s - loss: 1.6323 - accuracy: 0.4247"
          ]
        },
        {
          "output_type": "stream",
          "name": "stderr",
          "text": [
            "WARNING:tensorflow:Can save best model only with val_acc available, skipping.\n"
          ]
        },
        {
          "output_type": "stream",
          "name": "stdout",
          "text": [
            "\b\b\b\b\b\b\b\b\b\b\b\b\b\b\b\b\b\b\b\b\b\b\b\b\b\b\b\b\b\b\b\b\b\b\b\b\b\b\b\b\b\b\b\b\b\b\b\b\b\b\b\b\b\b\b\b\b\b\b\b\b\b\b\b\b\b\b\b\b\b\b\b\b\b\b\b\b\b\b\b\b\b\b\b\r900/900 [==============================] - 16s 18ms/step - loss: 1.6323 - accuracy: 0.4247 - val_loss: 1.5505 - val_accuracy: 0.4543\n",
            "Epoch 43/50\n",
            "899/900 [============================>.] - ETA: 0s - loss: 1.6247 - accuracy: 0.4246"
          ]
        },
        {
          "output_type": "stream",
          "name": "stderr",
          "text": [
            "WARNING:tensorflow:Can save best model only with val_acc available, skipping.\n"
          ]
        },
        {
          "output_type": "stream",
          "name": "stdout",
          "text": [
            "\b\b\b\b\b\b\b\b\b\b\b\b\b\b\b\b\b\b\b\b\b\b\b\b\b\b\b\b\b\b\b\b\b\b\b\b\b\b\b\b\b\b\b\b\b\b\b\b\b\b\b\b\b\b\b\b\b\b\b\b\b\b\b\b\b\b\b\b\b\b\b\b\b\b\b\b\b\b\b\b\b\b\b\b\r900/900 [==============================] - 16s 18ms/step - loss: 1.6245 - accuracy: 0.4246 - val_loss: 1.5309 - val_accuracy: 0.4601\n",
            "Epoch 44/50\n",
            "899/900 [============================>.] - ETA: 0s - loss: 1.6232 - accuracy: 0.4249"
          ]
        },
        {
          "output_type": "stream",
          "name": "stderr",
          "text": [
            "WARNING:tensorflow:Can save best model only with val_acc available, skipping.\n"
          ]
        },
        {
          "output_type": "stream",
          "name": "stdout",
          "text": [
            "\b\b\b\b\b\b\b\b\b\b\b\b\b\b\b\b\b\b\b\b\b\b\b\b\b\b\b\b\b\b\b\b\b\b\b\b\b\b\b\b\b\b\b\b\b\b\b\b\b\b\b\b\b\b\b\b\b\b\b\b\b\b\b\b\b\b\b\b\b\b\b\b\b\b\b\b\b\b\b\b\b\b\b\b\r900/900 [==============================] - 16s 18ms/step - loss: 1.6231 - accuracy: 0.4250 - val_loss: 1.5448 - val_accuracy: 0.4588\n",
            "Epoch 45/50\n",
            "899/900 [============================>.] - ETA: 0s - loss: 1.6172 - accuracy: 0.4273"
          ]
        },
        {
          "output_type": "stream",
          "name": "stderr",
          "text": [
            "WARNING:tensorflow:Can save best model only with val_acc available, skipping.\n"
          ]
        },
        {
          "output_type": "stream",
          "name": "stdout",
          "text": [
            "\b\b\b\b\b\b\b\b\b\b\b\b\b\b\b\b\b\b\b\b\b\b\b\b\b\b\b\b\b\b\b\b\b\b\b\b\b\b\b\b\b\b\b\b\b\b\b\b\b\b\b\b\b\b\b\b\b\b\b\b\b\b\b\b\b\b\b\b\b\b\b\b\b\b\b\b\b\b\b\b\b\b\b\b\r900/900 [==============================] - 16s 18ms/step - loss: 1.6170 - accuracy: 0.4274 - val_loss: 1.5626 - val_accuracy: 0.4536\n",
            "Epoch 46/50\n",
            "900/900 [==============================] - ETA: 0s - loss: 1.6100 - accuracy: 0.4306"
          ]
        },
        {
          "output_type": "stream",
          "name": "stderr",
          "text": [
            "WARNING:tensorflow:Can save best model only with val_acc available, skipping.\n"
          ]
        },
        {
          "output_type": "stream",
          "name": "stdout",
          "text": [
            "\b\b\b\b\b\b\b\b\b\b\b\b\b\b\b\b\b\b\b\b\b\b\b\b\b\b\b\b\b\b\b\b\b\b\b\b\b\b\b\b\b\b\b\b\b\b\b\b\b\b\b\b\b\b\b\b\b\b\b\b\b\b\b\b\b\b\b\b\b\b\b\b\b\b\b\b\b\b\b\b\b\b\b\b\r900/900 [==============================] - 16s 18ms/step - loss: 1.6100 - accuracy: 0.4306 - val_loss: 1.5153 - val_accuracy: 0.4690\n",
            "Epoch 47/50\n",
            "898/900 [============================>.] - ETA: 0s - loss: 1.6031 - accuracy: 0.4354"
          ]
        },
        {
          "output_type": "stream",
          "name": "stderr",
          "text": [
            "WARNING:tensorflow:Can save best model only with val_acc available, skipping.\n"
          ]
        },
        {
          "output_type": "stream",
          "name": "stdout",
          "text": [
            "\b\b\b\b\b\b\b\b\b\b\b\b\b\b\b\b\b\b\b\b\b\b\b\b\b\b\b\b\b\b\b\b\b\b\b\b\b\b\b\b\b\b\b\b\b\b\b\b\b\b\b\b\b\b\b\b\b\b\b\b\b\b\b\b\b\b\b\b\b\b\b\b\b\b\b\b\b\b\b\b\b\b\b\b\r900/900 [==============================] - 16s 18ms/step - loss: 1.6030 - accuracy: 0.4354 - val_loss: 1.5283 - val_accuracy: 0.4601\n",
            "Epoch 48/50\n",
            "897/900 [============================>.] - ETA: 0s - loss: 1.5968 - accuracy: 0.4337"
          ]
        },
        {
          "output_type": "stream",
          "name": "stderr",
          "text": [
            "WARNING:tensorflow:Can save best model only with val_acc available, skipping.\n"
          ]
        },
        {
          "output_type": "stream",
          "name": "stdout",
          "text": [
            "\b\b\b\b\b\b\b\b\b\b\b\b\b\b\b\b\b\b\b\b\b\b\b\b\b\b\b\b\b\b\b\b\b\b\b\b\b\b\b\b\b\b\b\b\b\b\b\b\b\b\b\b\b\b\b\b\b\b\b\b\b\b\b\b\b\b\b\b\b\b\b\b\b\b\b\b\b\b\b\b\b\b\b\b\r900/900 [==============================] - 16s 17ms/step - loss: 1.5963 - accuracy: 0.4338 - val_loss: 1.5337 - val_accuracy: 0.4626\n",
            "Epoch 49/50\n",
            "899/900 [============================>.] - ETA: 0s - loss: 1.5938 - accuracy: 0.4375"
          ]
        },
        {
          "output_type": "stream",
          "name": "stderr",
          "text": [
            "WARNING:tensorflow:Can save best model only with val_acc available, skipping.\n"
          ]
        },
        {
          "output_type": "stream",
          "name": "stdout",
          "text": [
            "\b\b\b\b\b\b\b\b\b\b\b\b\b\b\b\b\b\b\b\b\b\b\b\b\b\b\b\b\b\b\b\b\b\b\b\b\b\b\b\b\b\b\b\b\b\b\b\b\b\b\b\b\b\b\b\b\b\b\b\b\b\b\b\b\b\b\b\b\b\b\b\b\b\b\b\b\b\b\b\b\b\b\b\b\r900/900 [==============================] - 19s 21ms/step - loss: 1.5937 - accuracy: 0.4375 - val_loss: 1.5128 - val_accuracy: 0.4776\n",
            "Epoch 50/50\n",
            "898/900 [============================>.] - ETA: 0s - loss: 1.5852 - accuracy: 0.4437"
          ]
        },
        {
          "output_type": "stream",
          "name": "stderr",
          "text": [
            "WARNING:tensorflow:Can save best model only with val_acc available, skipping.\n"
          ]
        },
        {
          "output_type": "stream",
          "name": "stdout",
          "text": [
            "\b\b\b\b\b\b\b\b\b\b\b\b\b\b\b\b\b\b\b\b\b\b\b\b\b\b\b\b\b\b\b\b\b\b\b\b\b\b\b\b\b\b\b\b\b\b\b\b\b\b\b\b\b\b\b\b\b\b\b\b\b\b\b\b\b\b\b\b\b\b\b\b\b\b\b\b\b\b\b\b\b\b\b\b\r900/900 [==============================] - 16s 18ms/step - loss: 1.5850 - accuracy: 0.4437 - val_loss: 1.5437 - val_accuracy: 0.4568\n",
            "CPU times: user 16min 19s, sys: 1min 23s, total: 17min 42s\n",
            "Wall time: 15min 42s\n"
          ]
        }
      ]
    },
    {
      "cell_type": "markdown",
      "source": [
        "**Performance using SGD optimizer and Sigmoid activation function**"
      ],
      "metadata": {
        "id": "nJYawJ0JxZl4"
      }
    },
    {
      "cell_type": "code",
      "source": [
        "\n",
        "import matplotlib.pyplot as plt\n",
        "\n",
        "plt.figure(figsize=(15,6))\n",
        "plt.subplot(1, 2, 1)\n",
        "plt.suptitle('Optimizer : SGD', fontsize=15)\n",
        "plt.ylabel('Loss', fontsize=16)\n",
        "plt.plot(history.history['loss'], label='Training Loss')\n",
        "plt.plot(history.history['val_loss'], label='Validation Loss')\n",
        "plt.legend(loc='upper right')\n",
        "\n",
        "plt.subplot(1, 2, 2)\n",
        "plt.ylabel('Accuracy', fontsize=16)\n",
        "plt.plot(history.history['accuracy'], label='Training Accuracy')\n",
        "plt.plot(history.history['val_accuracy'], label='Validation Accuracy')\n",
        "plt.legend(loc='lower right')\n",
        "plt.show()"
      ],
      "metadata": {
        "colab": {
          "base_uri": "https://localhost:8080/",
          "height": 417
        },
        "id": "lt8wShS8xgdZ",
        "outputId": "b0992970-fea5-4d7b-e912-d62045068d7c"
      },
      "execution_count": 25,
      "outputs": [
        {
          "output_type": "display_data",
          "data": {
            "text/plain": [
              "<Figure size 1080x432 with 2 Axes>"
            ],
            "image/png": "[encoded data removed]"
          },
          "metadata": {
            "needs_background": "light"
          }
        }
      ]
    },
    {
      "cell_type": "markdown",
      "source": [
        "**CNN with 4 convolutional layers, 3 hidden layers optimizer=Adagrad activation=Relu**"
      ],
      "metadata": {
        "id": "l4kZ-KjdzHSP"
      }
    },
    {
      "cell_type": "code",
      "source": [
        "model=Sequential()\n",
        "#first convolution layer\n",
        "model.add(Conv2D(64,(3,3),strides=(1,1),padding=\"same\",input_shape=(48, 48,1),kernel_regularizer=l1(0.001)))\n",
        "model.add(BatchNormalization())\n",
        "model.add(Activation(\"relu\"))\n",
        "model.add(MaxPooling2D(pool_size=(2, 2)))\n",
        "model.add(Dropout(0.27))\n",
        "\n",
        "#second convolution layer\n",
        "model.add(Conv2D(128,(3,3),strides=(1,1),padding=\"same\",kernel_regularizer=l2(0.001)))\n",
        "model.add(BatchNormalization())\n",
        "model.add(Activation(\"relu\"))\n",
        "model.add(MaxPooling2D(pool_size=(2, 2)))\n",
        "model.add(Dropout(0.27))\n",
        "\n",
        "#third convolution layer\n",
        "model.add(Conv2D(256,(3,3),strides=(2,2),padding=\"same\",kernel_regularizer=l2(0.001)))\n",
        "model.add(BatchNormalization())\n",
        "model.add(Activation(\"relu\"))\n",
        "model.add(MaxPooling2D(pool_size=(2, 2)))\n",
        "model.add(Dropout(0.27))\n",
        "\n",
        "#fourth convolution layer\n",
        "model.add(Conv2D(512,(3,3),strides=(2,2),padding=\"same\",kernel_regularizer=l2(0.001)))\n",
        "model.add(BatchNormalization())\n",
        "model.add(Activation(\"relu\"))\n",
        "model.add(MaxPooling2D(pool_size=(2, 2)))\n",
        "model.add(Dropout(0.27))\n",
        "\n",
        "model.add(Flatten())\n",
        "\n",
        "#1st fully connected layer\n",
        "model.add(Dense(1024,kernel_regularizer=l2(0.0001)))\n",
        "model.add(BatchNormalization())\n",
        "model.add(Activation('relu'))\n",
        "model.add(Dropout(0.27))\n",
        "\n",
        "#2nd fully connected layer\n",
        "model.add(Dense(512,kernel_regularizer=l2(0.0001)))\n",
        "model.add(BatchNormalization())\n",
        "model.add(Activation('relu'))\n",
        "model.add(Dropout(0.27))\n",
        "\n",
        "#2nd fully connected layer\n",
        "model.add(Dense(256,kernel_regularizer=l2(0.0001)))\n",
        "model.add(BatchNormalization())\n",
        "model.add(Activation('relu'))\n",
        "model.add(Dropout(0.27))\n",
        "\n",
        "\n",
        "#last layer\n",
        "model.add(Dense(7))\n",
        "model.add(Activation('softmax'))\n",
        "\n",
        "#compiling model\n",
        "opti=Adagrad(learning_rate=0.01)\n",
        "model.compile(optimizer=opti,loss='categorical_crossentropy',metrics=['accuracy'])\n"
      ],
      "metadata": {
        "id": "PbBTL5u0zUd3"
      },
      "execution_count": 13,
      "outputs": []
    },
    {
      "cell_type": "code",
      "source": [
        "model.summary()"
      ],
      "metadata": {
        "colab": {
          "base_uri": "https://localhost:8080/"
        },
        "id": "2uRTIOxc01r2",
        "outputId": "2aa8837f-cb72-453a-9638-173201956810"
      },
      "execution_count": 14,
      "outputs": [
        {
          "output_type": "stream",
          "name": "stdout",
          "text": [
            "Model: \"sequential_1\"\n",
            "_________________________________________________________________\n",
            " Layer (type)                Output Shape              Param #   \n",
            "=================================================================\n",
            " conv2d_2 (Conv2D)           (None, 48, 48, 64)        640       \n",
            "                                                                 \n",
            " batch_normalization_4 (Batc  (None, 48, 48, 64)       256       \n",
            " hNormalization)                                                 \n",
            "                                                                 \n",
            " activation_5 (Activation)   (None, 48, 48, 64)        0         \n",
            "                                                                 \n",
            " max_pooling2d_2 (MaxPooling  (None, 24, 24, 64)       0         \n",
            " 2D)                                                             \n",
            "                                                                 \n",
            " dropout_4 (Dropout)         (None, 24, 24, 64)        0         \n",
            "                                                                 \n",
            " conv2d_3 (Conv2D)           (None, 24, 24, 128)       73856     \n",
            "                                                                 \n",
            " batch_normalization_5 (Batc  (None, 24, 24, 128)      512       \n",
            " hNormalization)                                                 \n",
            "                                                                 \n",
            " activation_6 (Activation)   (None, 24, 24, 128)       0         \n",
            "                                                                 \n",
            " max_pooling2d_3 (MaxPooling  (None, 12, 12, 128)      0         \n",
            " 2D)                                                             \n",
            "                                                                 \n",
            " dropout_5 (Dropout)         (None, 12, 12, 128)       0         \n",
            "                                                                 \n",
            " conv2d_4 (Conv2D)           (None, 6, 6, 256)         295168    \n",
            "                                                                 \n",
            " batch_normalization_6 (Batc  (None, 6, 6, 256)        1024      \n",
            " hNormalization)                                                 \n",
            "                                                                 \n",
            " activation_7 (Activation)   (None, 6, 6, 256)         0         \n",
            "                                                                 \n",
            " max_pooling2d_4 (MaxPooling  (None, 3, 3, 256)        0         \n",
            " 2D)                                                             \n",
            "                                                                 \n",
            " dropout_6 (Dropout)         (None, 3, 3, 256)         0         \n",
            "                                                                 \n",
            " conv2d_5 (Conv2D)           (None, 2, 2, 512)         1180160   \n",
            "                                                                 \n",
            " batch_normalization_7 (Batc  (None, 2, 2, 512)        2048      \n",
            " hNormalization)                                                 \n",
            "                                                                 \n",
            " activation_8 (Activation)   (None, 2, 2, 512)         0         \n",
            "                                                                 \n",
            " max_pooling2d_5 (MaxPooling  (None, 1, 1, 512)        0         \n",
            " 2D)                                                             \n",
            "                                                                 \n",
            " dropout_7 (Dropout)         (None, 1, 1, 512)         0         \n",
            "                                                                 \n",
            " flatten_1 (Flatten)         (None, 512)               0         \n",
            "                                                                 \n",
            " dense_3 (Dense)             (None, 1024)              525312    \n",
            "                                                                 \n",
            " batch_normalization_8 (Batc  (None, 1024)             4096      \n",
            " hNormalization)                                                 \n",
            "                                                                 \n",
            " activation_9 (Activation)   (None, 1024)              0         \n",
            "                                                                 \n",
            " dropout_8 (Dropout)         (None, 1024)              0         \n",
            "                                                                 \n",
            " dense_4 (Dense)             (None, 512)               524800    \n",
            "                                                                 \n",
            " batch_normalization_9 (Batc  (None, 512)              2048      \n",
            " hNormalization)                                                 \n",
            "                                                                 \n",
            " activation_10 (Activation)  (None, 512)               0         \n",
            "                                                                 \n",
            " dropout_9 (Dropout)         (None, 512)               0         \n",
            "                                                                 \n",
            " dense_5 (Dense)             (None, 256)               131328    \n",
            "                                                                 \n",
            " batch_normalization_10 (Bat  (None, 256)              1024      \n",
            " chNormalization)                                                \n",
            "                                                                 \n",
            " activation_11 (Activation)  (None, 256)               0         \n",
            "                                                                 \n",
            " dropout_10 (Dropout)        (None, 256)               0         \n",
            "                                                                 \n",
            " dense_6 (Dense)             (None, 7)                 1799      \n",
            "                                                                 \n",
            " activation_12 (Activation)  (None, 7)                 0         \n",
            "                                                                 \n",
            "=================================================================\n",
            "Total params: 2,744,071\n",
            "Trainable params: 2,738,567\n",
            "Non-trainable params: 5,504\n",
            "_________________________________________________________________\n"
          ]
        }
      ]
    },
    {
      "cell_type": "markdown",
      "source": [
        "**Training the model**"
      ],
      "metadata": {
        "id": "EPPnwPsn04k3"
      }
    },
    {
      "cell_type": "code",
      "source": [
        "%%time\n",
        "from keras.callbacks import ModelCheckpoint\n",
        "\n",
        "checkpoint = ModelCheckpoint(\"model_weights.h5\", monitor='val_acc', verbose=1, save_best_only=True, mode='max')\n",
        "callbacks_list = [checkpoint]\n",
        "\n",
        "batch_size=150\n",
        "history = model.fit(train_gen,\n",
        "                                steps_per_epoch=train_gen.n//train_gen.batch_size,\n",
        "                                epochs=50,\n",
        "                                validation_data = validation_gen,\n",
        "                                validation_steps = validation_gen.n//validation_gen.batch_size,\n",
        "                                callbacks=callbacks_list)"
      ],
      "metadata": {
        "colab": {
          "base_uri": "https://localhost:8080/"
        },
        "id": "_2z6ZLWa08lV",
        "outputId": "776db7a6-7101-4227-e54b-894cff746805"
      },
      "execution_count": 15,
      "outputs": [
        {
          "output_type": "stream",
          "name": "stdout",
          "text": [
            "Epoch 1/50\n",
            "898/900 [============================>.] - ETA: 0s - loss: 2.6890 - accuracy: 0.2425"
          ]
        },
        {
          "output_type": "stream",
          "name": "stderr",
          "text": [
            "WARNING:tensorflow:Can save best model only with val_acc available, skipping.\n"
          ]
        },
        {
          "output_type": "stream",
          "name": "stdout",
          "text": [
            "\b\b\b\b\b\b\b\b\b\b\b\b\b\b\b\b\b\b\b\b\b\b\b\b\b\b\b\b\b\b\b\b\b\b\b\b\b\b\b\b\b\b\b\b\b\b\b\b\b\b\b\b\b\b\b\b\b\b\b\b\b\b\b\b\b\b\b\b\b\b\b\b\b\b\b\b\b\b\b\b\b\b\b\b\r900/900 [==============================] - 22s 22ms/step - loss: 2.6886 - accuracy: 0.2426 - val_loss: 2.5064 - val_accuracy: 0.3118\n",
            "Epoch 2/50\n",
            "897/900 [============================>.] - ETA: 0s - loss: 2.4470 - accuracy: 0.3273"
          ]
        },
        {
          "output_type": "stream",
          "name": "stderr",
          "text": [
            "WARNING:tensorflow:Can save best model only with val_acc available, skipping.\n"
          ]
        },
        {
          "output_type": "stream",
          "name": "stdout",
          "text": [
            "\b\b\b\b\b\b\b\b\b\b\b\b\b\b\b\b\b\b\b\b\b\b\b\b\b\b\b\b\b\b\b\b\b\b\b\b\b\b\b\b\b\b\b\b\b\b\b\b\b\b\b\b\b\b\b\b\b\b\b\b\b\b\b\b\b\b\b\b\b\b\b\b\b\b\b\b\b\b\b\b\b\b\b\b\r900/900 [==============================] - 19s 21ms/step - loss: 2.4464 - accuracy: 0.3276 - val_loss: 2.2758 - val_accuracy: 0.3973\n",
            "Epoch 3/50\n",
            "899/900 [============================>.] - ETA: 0s - loss: 2.2955 - accuracy: 0.3720"
          ]
        },
        {
          "output_type": "stream",
          "name": "stderr",
          "text": [
            "WARNING:tensorflow:Can save best model only with val_acc available, skipping.\n"
          ]
        },
        {
          "output_type": "stream",
          "name": "stdout",
          "text": [
            "\b\b\b\b\b\b\b\b\b\b\b\b\b\b\b\b\b\b\b\b\b\b\b\b\b\b\b\b\b\b\b\b\b\b\b\b\b\b\b\b\b\b\b\b\b\b\b\b\b\b\b\b\b\b\b\b\b\b\b\b\b\b\b\b\b\b\b\b\b\b\b\b\b\b\b\b\b\b\b\b\b\b\b\b\r900/900 [==============================] - 19s 21ms/step - loss: 2.2955 - accuracy: 0.3720 - val_loss: 2.1483 - val_accuracy: 0.4354\n",
            "Epoch 4/50\n",
            "900/900 [==============================] - ETA: 0s - loss: 2.1897 - accuracy: 0.3993"
          ]
        },
        {
          "output_type": "stream",
          "name": "stderr",
          "text": [
            "WARNING:tensorflow:Can save best model only with val_acc available, skipping.\n"
          ]
        },
        {
          "output_type": "stream",
          "name": "stdout",
          "text": [
            "\b\b\b\b\b\b\b\b\b\b\b\b\b\b\b\b\b\b\b\b\b\b\b\b\b\b\b\b\b\b\b\b\b\b\b\b\b\b\b\b\b\b\b\b\b\b\b\b\b\b\b\b\b\b\b\b\b\b\b\b\b\b\b\b\b\b\b\b\b\b\b\b\b\b\b\b\b\b\b\b\b\b\b\b\r900/900 [==============================] - 20s 22ms/step - loss: 2.1897 - accuracy: 0.3993 - val_loss: 2.1255 - val_accuracy: 0.4303\n",
            "Epoch 5/50\n",
            "899/900 [============================>.] - ETA: 0s - loss: 2.0966 - accuracy: 0.4254"
          ]
        },
        {
          "output_type": "stream",
          "name": "stderr",
          "text": [
            "WARNING:tensorflow:Can save best model only with val_acc available, skipping.\n"
          ]
        },
        {
          "output_type": "stream",
          "name": "stdout",
          "text": [
            "\b\b\b\b\b\b\b\b\b\b\b\b\b\b\b\b\b\b\b\b\b\b\b\b\b\b\b\b\b\b\b\b\b\b\b\b\b\b\b\b\b\b\b\b\b\b\b\b\b\b\b\b\b\b\b\b\b\b\b\b\b\b\b\b\b\b\b\b\b\b\b\b\b\b\b\b\b\b\b\b\b\b\b\b\r900/900 [==============================] - 20s 22ms/step - loss: 2.0969 - accuracy: 0.4253 - val_loss: 1.9774 - val_accuracy: 0.4666\n",
            "Epoch 6/50\n",
            "898/900 [============================>.] - ETA: 0s - loss: 2.0206 - accuracy: 0.4409"
          ]
        },
        {
          "output_type": "stream",
          "name": "stderr",
          "text": [
            "WARNING:tensorflow:Can save best model only with val_acc available, skipping.\n"
          ]
        },
        {
          "output_type": "stream",
          "name": "stdout",
          "text": [
            "\b\b\b\b\b\b\b\b\b\b\b\b\b\b\b\b\b\b\b\b\b\b\b\b\b\b\b\b\b\b\b\b\b\b\b\b\b\b\b\b\b\b\b\b\b\b\b\b\b\b\b\b\b\b\b\b\b\b\b\b\b\b\b\b\b\b\b\b\b\b\b\b\b\b\b\b\b\b\b\b\b\b\b\b\r900/900 [==============================] - 19s 22ms/step - loss: 2.0208 - accuracy: 0.4410 - val_loss: 1.9020 - val_accuracy: 0.4805\n",
            "Epoch 7/50\n",
            "900/900 [==============================] - ETA: 0s - loss: 1.9538 - accuracy: 0.4601"
          ]
        },
        {
          "output_type": "stream",
          "name": "stderr",
          "text": [
            "WARNING:tensorflow:Can save best model only with val_acc available, skipping.\n"
          ]
        },
        {
          "output_type": "stream",
          "name": "stdout",
          "text": [
            "\b\b\b\b\b\b\b\b\b\b\b\b\b\b\b\b\b\b\b\b\b\b\b\b\b\b\b\b\b\b\b\b\b\b\b\b\b\b\b\b\b\b\b\b\b\b\b\b\b\b\b\b\b\b\b\b\b\b\b\b\b\b\b\b\b\b\b\b\b\b\b\b\b\b\b\b\b\b\b\b\b\b\b\b\r900/900 [==============================] - 21s 24ms/step - loss: 1.9538 - accuracy: 0.4601 - val_loss: 2.0274 - val_accuracy: 0.4490\n",
            "Epoch 8/50\n",
            "897/900 [============================>.] - ETA: 0s - loss: 1.9046 - accuracy: 0.4701"
          ]
        },
        {
          "output_type": "stream",
          "name": "stderr",
          "text": [
            "WARNING:tensorflow:Can save best model only with val_acc available, skipping.\n"
          ]
        },
        {
          "output_type": "stream",
          "name": "stdout",
          "text": [
            "\b\b\b\b\b\b\b\b\b\b\b\b\b\b\b\b\b\b\b\b\b\b\b\b\b\b\b\b\b\b\b\b\b\b\b\b\b\b\b\b\b\b\b\b\b\b\b\b\b\b\b\b\b\b\b\b\b\b\b\b\b\b\b\b\b\b\b\b\b\b\b\b\b\b\b\b\b\b\b\b\b\b\b\b\r900/900 [==============================] - 19s 21ms/step - loss: 1.9045 - accuracy: 0.4700 - val_loss: 1.7901 - val_accuracy: 0.5068\n",
            "Epoch 9/50\n",
            "900/900 [==============================] - ETA: 0s - loss: 1.8555 - accuracy: 0.4823"
          ]
        },
        {
          "output_type": "stream",
          "name": "stderr",
          "text": [
            "WARNING:tensorflow:Can save best model only with val_acc available, skipping.\n"
          ]
        },
        {
          "output_type": "stream",
          "name": "stdout",
          "text": [
            "\b\b\b\b\b\b\b\b\b\b\b\b\b\b\b\b\b\b\b\b\b\b\b\b\b\b\b\b\b\b\b\b\b\b\b\b\b\b\b\b\b\b\b\b\b\b\b\b\b\b\b\b\b\b\b\b\b\b\b\b\b\b\b\b\b\b\b\b\b\b\b\b\b\b\b\b\b\b\b\b\b\b\b\b\r900/900 [==============================] - 20s 22ms/step - loss: 1.8555 - accuracy: 0.4823 - val_loss: 1.7543 - val_accuracy: 0.5088\n",
            "Epoch 10/50\n",
            "900/900 [==============================] - ETA: 0s - loss: 1.8086 - accuracy: 0.4905"
          ]
        },
        {
          "output_type": "stream",
          "name": "stderr",
          "text": [
            "WARNING:tensorflow:Can save best model only with val_acc available, skipping.\n"
          ]
        },
        {
          "output_type": "stream",
          "name": "stdout",
          "text": [
            "\b\b\b\b\b\b\b\b\b\b\b\b\b\b\b\b\b\b\b\b\b\b\b\b\b\b\b\b\b\b\b\b\b\b\b\b\b\b\b\b\b\b\b\b\b\b\b\b\b\b\b\b\b\b\b\b\b\b\b\b\b\b\b\b\b\b\b\b\b\b\b\b\b\b\b\b\b\b\b\b\b\b\b\b\r900/900 [==============================] - 19s 21ms/step - loss: 1.8086 - accuracy: 0.4905 - val_loss: 1.7006 - val_accuracy: 0.5268\n",
            "Epoch 11/50\n",
            "899/900 [============================>.] - ETA: 0s - loss: 1.7633 - accuracy: 0.5021"
          ]
        },
        {
          "output_type": "stream",
          "name": "stderr",
          "text": [
            "WARNING:tensorflow:Can save best model only with val_acc available, skipping.\n"
          ]
        },
        {
          "output_type": "stream",
          "name": "stdout",
          "text": [
            "\b\b\b\b\b\b\b\b\b\b\b\b\b\b\b\b\b\b\b\b\b\b\b\b\b\b\b\b\b\b\b\b\b\b\b\b\b\b\b\b\b\b\b\b\b\b\b\b\b\b\b\b\b\b\b\b\b\b\b\b\b\b\b\b\b\b\b\b\b\b\b\b\b\b\b\b\b\b\b\b\b\b\b\b\r900/900 [==============================] - 20s 22ms/step - loss: 1.7632 - accuracy: 0.5023 - val_loss: 1.6950 - val_accuracy: 0.5180\n",
            "Epoch 12/50\n",
            "899/900 [============================>.] - ETA: 0s - loss: 1.7318 - accuracy: 0.5076"
          ]
        },
        {
          "output_type": "stream",
          "name": "stderr",
          "text": [
            "WARNING:tensorflow:Can save best model only with val_acc available, skipping.\n"
          ]
        },
        {
          "output_type": "stream",
          "name": "stdout",
          "text": [
            "\b\b\b\b\b\b\b\b\b\b\b\b\b\b\b\b\b\b\b\b\b\b\b\b\b\b\b\b\b\b\b\b\b\b\b\b\b\b\b\b\b\b\b\b\b\b\b\b\b\b\b\b\b\b\b\b\b\b\b\b\b\b\b\b\b\b\b\b\b\b\b\b\b\b\b\b\b\b\b\b\b\b\b\b\r900/900 [==============================] - 19s 21ms/step - loss: 1.7318 - accuracy: 0.5076 - val_loss: 1.7265 - val_accuracy: 0.5124\n",
            "Epoch 13/50\n",
            "898/900 [============================>.] - ETA: 0s - loss: 1.7025 - accuracy: 0.5150"
          ]
        },
        {
          "output_type": "stream",
          "name": "stderr",
          "text": [
            "WARNING:tensorflow:Can save best model only with val_acc available, skipping.\n"
          ]
        },
        {
          "output_type": "stream",
          "name": "stdout",
          "text": [
            "\b\b\b\b\b\b\b\b\b\b\b\b\b\b\b\b\b\b\b\b\b\b\b\b\b\b\b\b\b\b\b\b\b\b\b\b\b\b\b\b\b\b\b\b\b\b\b\b\b\b\b\b\b\b\b\b\b\b\b\b\b\b\b\b\b\b\b\b\b\b\b\b\b\b\b\b\b\b\b\b\b\b\b\b\r900/900 [==============================] - 19s 21ms/step - loss: 1.7021 - accuracy: 0.5152 - val_loss: 1.6213 - val_accuracy: 0.5419\n",
            "Epoch 14/50\n",
            "898/900 [============================>.] - ETA: 0s - loss: 1.6726 - accuracy: 0.5216"
          ]
        },
        {
          "output_type": "stream",
          "name": "stderr",
          "text": [
            "WARNING:tensorflow:Can save best model only with val_acc available, skipping.\n"
          ]
        },
        {
          "output_type": "stream",
          "name": "stdout",
          "text": [
            "\b\b\b\b\b\b\b\b\b\b\b\b\b\b\b\b\b\b\b\b\b\b\b\b\b\b\b\b\b\b\b\b\b\b\b\b\b\b\b\b\b\b\b\b\b\b\b\b\b\b\b\b\b\b\b\b\b\b\b\b\b\b\b\b\b\b\b\b\b\b\b\b\b\b\b\b\b\b\b\b\b\b\b\b\r900/900 [==============================] - 22s 24ms/step - loss: 1.6731 - accuracy: 0.5214 - val_loss: 1.6175 - val_accuracy: 0.5399\n",
            "Epoch 15/50\n",
            "899/900 [============================>.] - ETA: 0s - loss: 1.6388 - accuracy: 0.5302"
          ]
        },
        {
          "output_type": "stream",
          "name": "stderr",
          "text": [
            "WARNING:tensorflow:Can save best model only with val_acc available, skipping.\n"
          ]
        },
        {
          "output_type": "stream",
          "name": "stdout",
          "text": [
            "\b\b\b\b\b\b\b\b\b\b\b\b\b\b\b\b\b\b\b\b\b\b\b\b\b\b\b\b\b\b\b\b\b\b\b\b\b\b\b\b\b\b\b\b\b\b\b\b\b\b\b\b\b\b\b\b\b\b\b\b\b\b\b\b\b\b\b\b\b\b\b\b\b\b\b\b\b\b\b\b\b\b\b\b\r900/900 [==============================] - 19s 21ms/step - loss: 1.6389 - accuracy: 0.5302 - val_loss: 1.6241 - val_accuracy: 0.5386\n",
            "Epoch 16/50\n",
            "899/900 [============================>.] - ETA: 0s - loss: 1.6161 - accuracy: 0.5357"
          ]
        },
        {
          "output_type": "stream",
          "name": "stderr",
          "text": [
            "WARNING:tensorflow:Can save best model only with val_acc available, skipping.\n"
          ]
        },
        {
          "output_type": "stream",
          "name": "stdout",
          "text": [
            "\b\b\b\b\b\b\b\b\b\b\b\b\b\b\b\b\b\b\b\b\b\b\b\b\b\b\b\b\b\b\b\b\b\b\b\b\b\b\b\b\b\b\b\b\b\b\b\b\b\b\b\b\b\b\b\b\b\b\b\b\b\b\b\b\b\b\b\b\b\b\b\b\b\b\b\b\b\b\b\b\b\b\b\b\r900/900 [==============================] - 19s 21ms/step - loss: 1.6161 - accuracy: 0.5356 - val_loss: 1.5588 - val_accuracy: 0.5540\n",
            "Epoch 17/50\n",
            "900/900 [==============================] - ETA: 0s - loss: 1.5918 - accuracy: 0.5421"
          ]
        },
        {
          "output_type": "stream",
          "name": "stderr",
          "text": [
            "WARNING:tensorflow:Can save best model only with val_acc available, skipping.\n"
          ]
        },
        {
          "output_type": "stream",
          "name": "stdout",
          "text": [
            "\b\b\b\b\b\b\b\b\b\b\b\b\b\b\b\b\b\b\b\b\b\b\b\b\b\b\b\b\b\b\b\b\b\b\b\b\b\b\b\b\b\b\b\b\b\b\b\b\b\b\b\b\b\b\b\b\b\b\b\b\b\b\b\b\b\b\b\b\b\b\b\b\b\b\b\b\b\b\b\b\b\b\b\b\r900/900 [==============================] - 22s 24ms/step - loss: 1.5918 - accuracy: 0.5421 - val_loss: 1.5338 - val_accuracy: 0.5716\n",
            "Epoch 18/50\n",
            "899/900 [============================>.] - ETA: 0s - loss: 1.5751 - accuracy: 0.5445"
          ]
        },
        {
          "output_type": "stream",
          "name": "stderr",
          "text": [
            "WARNING:tensorflow:Can save best model only with val_acc available, skipping.\n"
          ]
        },
        {
          "output_type": "stream",
          "name": "stdout",
          "text": [
            "\b\b\b\b\b\b\b\b\b\b\b\b\b\b\b\b\b\b\b\b\b\b\b\b\b\b\b\b\b\b\b\b\b\b\b\b\b\b\b\b\b\b\b\b\b\b\b\b\b\b\b\b\b\b\b\b\b\b\b\b\b\b\b\b\b\b\b\b\b\b\b\b\b\b\b\b\b\b\b\b\b\b\b\b\r900/900 [==============================] - 19s 21ms/step - loss: 1.5749 - accuracy: 0.5445 - val_loss: 1.5237 - val_accuracy: 0.5672\n",
            "Epoch 19/50\n",
            "899/900 [============================>.] - ETA: 0s - loss: 1.5513 - accuracy: 0.5534"
          ]
        },
        {
          "output_type": "stream",
          "name": "stderr",
          "text": [
            "WARNING:tensorflow:Can save best model only with val_acc available, skipping.\n"
          ]
        },
        {
          "output_type": "stream",
          "name": "stdout",
          "text": [
            "\b\b\b\b\b\b\b\b\b\b\b\b\b\b\b\b\b\b\b\b\b\b\b\b\b\b\b\b\b\b\b\b\b\b\b\b\b\b\b\b\b\b\b\b\b\b\b\b\b\b\b\b\b\b\b\b\b\b\b\b\b\b\b\b\b\b\b\b\b\b\b\b\b\b\b\b\b\b\b\b\b\b\b\b\r900/900 [==============================] - 20s 22ms/step - loss: 1.5514 - accuracy: 0.5533 - val_loss: 1.5188 - val_accuracy: 0.5713\n",
            "Epoch 20/50\n",
            "900/900 [==============================] - ETA: 0s - loss: 1.5363 - accuracy: 0.5546"
          ]
        },
        {
          "output_type": "stream",
          "name": "stderr",
          "text": [
            "WARNING:tensorflow:Can save best model only with val_acc available, skipping.\n"
          ]
        },
        {
          "output_type": "stream",
          "name": "stdout",
          "text": [
            "\b\b\b\b\b\b\b\b\b\b\b\b\b\b\b\b\b\b\b\b\b\b\b\b\b\b\b\b\b\b\b\b\b\b\b\b\b\b\b\b\b\b\b\b\b\b\b\b\b\b\b\b\b\b\b\b\b\b\b\b\b\b\b\b\b\b\b\b\b\b\b\b\b\b\b\b\b\b\b\b\b\b\b\b\r900/900 [==============================] - 19s 22ms/step - loss: 1.5363 - accuracy: 0.5546 - val_loss: 1.4942 - val_accuracy: 0.5705\n",
            "Epoch 21/50\n",
            "898/900 [============================>.] - ETA: 0s - loss: 1.5164 - accuracy: 0.5571"
          ]
        },
        {
          "output_type": "stream",
          "name": "stderr",
          "text": [
            "WARNING:tensorflow:Can save best model only with val_acc available, skipping.\n"
          ]
        },
        {
          "output_type": "stream",
          "name": "stdout",
          "text": [
            "\b\b\b\b\b\b\b\b\b\b\b\b\b\b\b\b\b\b\b\b\b\b\b\b\b\b\b\b\b\b\b\b\b\b\b\b\b\b\b\b\b\b\b\b\b\b\b\b\b\b\b\b\b\b\b\b\b\b\b\b\b\b\b\b\b\b\b\b\b\b\b\b\b\b\b\b\b\b\b\b\b\b\b\b\r900/900 [==============================] - 19s 21ms/step - loss: 1.5167 - accuracy: 0.5568 - val_loss: 1.5020 - val_accuracy: 0.5702\n",
            "Epoch 22/50\n",
            "898/900 [============================>.] - ETA: 0s - loss: 1.4985 - accuracy: 0.5645"
          ]
        },
        {
          "output_type": "stream",
          "name": "stderr",
          "text": [
            "WARNING:tensorflow:Can save best model only with val_acc available, skipping.\n"
          ]
        },
        {
          "output_type": "stream",
          "name": "stdout",
          "text": [
            "\b\b\b\b\b\b\b\b\b\b\b\b\b\b\b\b\b\b\b\b\b\b\b\b\b\b\b\b\b\b\b\b\b\b\b\b\b\b\b\b\b\b\b\b\b\b\b\b\b\b\b\b\b\b\b\b\b\b\b\b\b\b\b\b\b\b\b\b\b\b\b\b\b\b\b\b\b\b\b\b\b\b\b\b\r900/900 [==============================] - 20s 22ms/step - loss: 1.4983 - accuracy: 0.5645 - val_loss: 1.4630 - val_accuracy: 0.5800\n",
            "Epoch 23/50\n",
            "899/900 [============================>.] - ETA: 0s - loss: 1.4821 - accuracy: 0.5670"
          ]
        },
        {
          "output_type": "stream",
          "name": "stderr",
          "text": [
            "WARNING:tensorflow:Can save best model only with val_acc available, skipping.\n"
          ]
        },
        {
          "output_type": "stream",
          "name": "stdout",
          "text": [
            "\b\b\b\b\b\b\b\b\b\b\b\b\b\b\b\b\b\b\b\b\b\b\b\b\b\b\b\b\b\b\b\b\b\b\b\b\b\b\b\b\b\b\b\b\b\b\b\b\b\b\b\b\b\b\b\b\b\b\b\b\b\b\b\b\b\b\b\b\b\b\b\b\b\b\b\b\b\b\b\b\b\b\b\b\r900/900 [==============================] - 19s 21ms/step - loss: 1.4820 - accuracy: 0.5671 - val_loss: 1.4466 - val_accuracy: 0.5891\n",
            "Epoch 24/50\n",
            "899/900 [============================>.] - ETA: 0s - loss: 1.4689 - accuracy: 0.5716"
          ]
        },
        {
          "output_type": "stream",
          "name": "stderr",
          "text": [
            "WARNING:tensorflow:Can save best model only with val_acc available, skipping.\n"
          ]
        },
        {
          "output_type": "stream",
          "name": "stdout",
          "text": [
            "\b\b\b\b\b\b\b\b\b\b\b\b\b\b\b\b\b\b\b\b\b\b\b\b\b\b\b\b\b\b\b\b\b\b\b\b\b\b\b\b\b\b\b\b\b\b\b\b\b\b\b\b\b\b\b\b\b\b\b\b\b\b\b\b\b\b\b\b\b\b\b\b\b\b\b\b\b\b\b\b\b\b\b\b\r900/900 [==============================] - 19s 22ms/step - loss: 1.4688 - accuracy: 0.5716 - val_loss: 1.5059 - val_accuracy: 0.5624\n",
            "Epoch 25/50\n",
            "898/900 [============================>.] - ETA: 0s - loss: 1.4526 - accuracy: 0.5757"
          ]
        },
        {
          "output_type": "stream",
          "name": "stderr",
          "text": [
            "WARNING:tensorflow:Can save best model only with val_acc available, skipping.\n"
          ]
        },
        {
          "output_type": "stream",
          "name": "stdout",
          "text": [
            "\b\b\b\b\b\b\b\b\b\b\b\b\b\b\b\b\b\b\b\b\b\b\b\b\b\b\b\b\b\b\b\b\b\b\b\b\b\b\b\b\b\b\b\b\b\b\b\b\b\b\b\b\b\b\b\b\b\b\b\b\b\b\b\b\b\b\b\b\b\b\b\b\b\b\b\b\b\b\b\b\b\b\b\b\r900/900 [==============================] - 22s 25ms/step - loss: 1.4525 - accuracy: 0.5758 - val_loss: 1.4241 - val_accuracy: 0.5913\n",
            "Epoch 26/50\n",
            "899/900 [============================>.] - ETA: 0s - loss: 1.4400 - accuracy: 0.5812"
          ]
        },
        {
          "output_type": "stream",
          "name": "stderr",
          "text": [
            "WARNING:tensorflow:Can save best model only with val_acc available, skipping.\n"
          ]
        },
        {
          "output_type": "stream",
          "name": "stdout",
          "text": [
            "\b\b\b\b\b\b\b\b\b\b\b\b\b\b\b\b\b\b\b\b\b\b\b\b\b\b\b\b\b\b\b\b\b\b\b\b\b\b\b\b\b\b\b\b\b\b\b\b\b\b\b\b\b\b\b\b\b\b\b\b\b\b\b\b\b\b\b\b\b\b\b\b\b\b\b\b\b\b\b\b\b\b\b\b\r900/900 [==============================] - 19s 21ms/step - loss: 1.4399 - accuracy: 0.5813 - val_loss: 1.5013 - val_accuracy: 0.5651\n",
            "Epoch 27/50\n",
            "899/900 [============================>.] - ETA: 0s - loss: 1.4109 - accuracy: 0.5916"
          ]
        },
        {
          "output_type": "stream",
          "name": "stderr",
          "text": [
            "WARNING:tensorflow:Can save best model only with val_acc available, skipping.\n"
          ]
        },
        {
          "output_type": "stream",
          "name": "stdout",
          "text": [
            "\b\b\b\b\b\b\b\b\b\b\b\b\b\b\b\b\b\b\b\b\b\b\b\b\b\b\b\b\b\b\b\b\b\b\b\b\b\b\b\b\b\b\b\b\b\b\b\b\b\b\b\b\b\b\b\b\b\b\b\b\b\b\b\b\b\b\b\b\b\b\b\b\b\b\b\b\b\b\b\b\b\b\b\b\r900/900 [==============================] - 20s 22ms/step - loss: 1.4108 - accuracy: 0.5916 - val_loss: 1.5762 - val_accuracy: 0.5450\n",
            "Epoch 28/50\n",
            "897/900 [============================>.] - ETA: 0s - loss: 1.4101 - accuracy: 0.5873"
          ]
        },
        {
          "output_type": "stream",
          "name": "stderr",
          "text": [
            "WARNING:tensorflow:Can save best model only with val_acc available, skipping.\n"
          ]
        },
        {
          "output_type": "stream",
          "name": "stdout",
          "text": [
            "\b\b\b\b\b\b\b\b\b\b\b\b\b\b\b\b\b\b\b\b\b\b\b\b\b\b\b\b\b\b\b\b\b\b\b\b\b\b\b\b\b\b\b\b\b\b\b\b\b\b\b\b\b\b\b\b\b\b\b\b\b\b\b\b\b\b\b\b\b\b\b\b\b\b\b\b\b\b\b\b\b\b\b\b\r900/900 [==============================] - 22s 24ms/step - loss: 1.4106 - accuracy: 0.5871 - val_loss: 1.4370 - val_accuracy: 0.5906\n",
            "Epoch 29/50\n",
            "899/900 [============================>.] - ETA: 0s - loss: 1.3963 - accuracy: 0.5946"
          ]
        },
        {
          "output_type": "stream",
          "name": "stderr",
          "text": [
            "WARNING:tensorflow:Can save best model only with val_acc available, skipping.\n"
          ]
        },
        {
          "output_type": "stream",
          "name": "stdout",
          "text": [
            "\b\b\b\b\b\b\b\b\b\b\b\b\b\b\b\b\b\b\b\b\b\b\b\b\b\b\b\b\b\b\b\b\b\b\b\b\b\b\b\b\b\b\b\b\b\b\b\b\b\b\b\b\b\b\b\b\b\b\b\b\b\b\b\b\b\b\b\b\b\b\b\b\b\b\b\b\b\b\b\b\b\b\b\b\r900/900 [==============================] - 20s 22ms/step - loss: 1.3963 - accuracy: 0.5945 - val_loss: 1.4086 - val_accuracy: 0.5932\n",
            "Epoch 30/50\n",
            "899/900 [============================>.] - ETA: 0s - loss: 1.3821 - accuracy: 0.5993"
          ]
        },
        {
          "output_type": "stream",
          "name": "stderr",
          "text": [
            "WARNING:tensorflow:Can save best model only with val_acc available, skipping.\n"
          ]
        },
        {
          "output_type": "stream",
          "name": "stdout",
          "text": [
            "\b\b\b\b\b\b\b\b\b\b\b\b\b\b\b\b\b\b\b\b\b\b\b\b\b\b\b\b\b\b\b\b\b\b\b\b\b\b\b\b\b\b\b\b\b\b\b\b\b\b\b\b\b\b\b\b\b\b\b\b\b\b\b\b\b\b\b\b\b\b\b\b\b\b\b\b\b\b\b\b\b\b\b\b\r900/900 [==============================] - 19s 21ms/step - loss: 1.3824 - accuracy: 0.5993 - val_loss: 1.4268 - val_accuracy: 0.5895\n",
            "Epoch 31/50\n",
            "900/900 [==============================] - ETA: 0s - loss: 1.3719 - accuracy: 0.6003"
          ]
        },
        {
          "output_type": "stream",
          "name": "stderr",
          "text": [
            "WARNING:tensorflow:Can save best model only with val_acc available, skipping.\n"
          ]
        },
        {
          "output_type": "stream",
          "name": "stdout",
          "text": [
            "\b\b\b\b\b\b\b\b\b\b\b\b\b\b\b\b\b\b\b\b\b\b\b\b\b\b\b\b\b\b\b\b\b\b\b\b\b\b\b\b\b\b\b\b\b\b\b\b\b\b\b\b\b\b\b\b\b\b\b\b\b\b\b\b\b\b\b\b\b\b\b\b\b\b\b\b\b\b\b\b\b\b\b\b\r900/900 [==============================] - 19s 21ms/step - loss: 1.3719 - accuracy: 0.6003 - val_loss: 1.3866 - val_accuracy: 0.6037\n",
            "Epoch 32/50\n",
            "899/900 [============================>.] - ETA: 0s - loss: 1.3593 - accuracy: 0.6047"
          ]
        },
        {
          "output_type": "stream",
          "name": "stderr",
          "text": [
            "WARNING:tensorflow:Can save best model only with val_acc available, skipping.\n"
          ]
        },
        {
          "output_type": "stream",
          "name": "stdout",
          "text": [
            "\b\b\b\b\b\b\b\b\b\b\b\b\b\b\b\b\b\b\b\b\b\b\b\b\b\b\b\b\b\b\b\b\b\b\b\b\b\b\b\b\b\b\b\b\b\b\b\b\b\b\b\b\b\b\b\b\b\b\b\b\b\b\b\b\b\b\b\b\b\b\b\b\b\b\b\b\b\b\b\b\b\b\b\b\r900/900 [==============================] - 19s 22ms/step - loss: 1.3591 - accuracy: 0.6048 - val_loss: 1.3805 - val_accuracy: 0.6028\n",
            "Epoch 33/50\n",
            "900/900 [==============================] - ETA: 0s - loss: 1.3415 - accuracy: 0.6109"
          ]
        },
        {
          "output_type": "stream",
          "name": "stderr",
          "text": [
            "WARNING:tensorflow:Can save best model only with val_acc available, skipping.\n"
          ]
        },
        {
          "output_type": "stream",
          "name": "stdout",
          "text": [
            "\b\b\b\b\b\b\b\b\b\b\b\b\b\b\b\b\b\b\b\b\b\b\b\b\b\b\b\b\b\b\b\b\b\b\b\b\b\b\b\b\b\b\b\b\b\b\b\b\b\b\b\b\b\b\b\b\b\b\b\b\b\b\b\b\b\b\b\b\b\b\b\b\b\b\b\b\b\b\b\b\b\b\b\b\r900/900 [==============================] - 19s 21ms/step - loss: 1.3415 - accuracy: 0.6109 - val_loss: 1.4336 - val_accuracy: 0.5865\n",
            "Epoch 34/50\n",
            "900/900 [==============================] - ETA: 0s - loss: 1.3386 - accuracy: 0.6122"
          ]
        },
        {
          "output_type": "stream",
          "name": "stderr",
          "text": [
            "WARNING:tensorflow:Can save best model only with val_acc available, skipping.\n"
          ]
        },
        {
          "output_type": "stream",
          "name": "stdout",
          "text": [
            "\b\b\b\b\b\b\b\b\b\b\b\b\b\b\b\b\b\b\b\b\b\b\b\b\b\b\b\b\b\b\b\b\b\b\b\b\b\b\b\b\b\b\b\b\b\b\b\b\b\b\b\b\b\b\b\b\b\b\b\b\b\b\b\b\b\b\b\b\b\b\b\b\b\b\b\b\b\b\b\b\b\b\b\b\r900/900 [==============================] - 22s 25ms/step - loss: 1.3386 - accuracy: 0.6122 - val_loss: 1.3547 - val_accuracy: 0.6119\n",
            "Epoch 35/50\n",
            "898/900 [============================>.] - ETA: 0s - loss: 1.3269 - accuracy: 0.6160"
          ]
        },
        {
          "output_type": "stream",
          "name": "stderr",
          "text": [
            "WARNING:tensorflow:Can save best model only with val_acc available, skipping.\n"
          ]
        },
        {
          "output_type": "stream",
          "name": "stdout",
          "text": [
            "\b\b\b\b\b\b\b\b\b\b\b\b\b\b\b\b\b\b\b\b\b\b\b\b\b\b\b\b\b\b\b\b\b\b\b\b\b\b\b\b\b\b\b\b\b\b\b\b\b\b\b\b\b\b\b\b\b\b\b\b\b\b\b\b\b\b\b\b\b\b\b\b\b\b\b\b\b\b\b\b\b\b\b\b\r900/900 [==============================] - 19s 21ms/step - loss: 1.3267 - accuracy: 0.6161 - val_loss: 1.4289 - val_accuracy: 0.5892\n",
            "Epoch 36/50\n",
            "900/900 [==============================] - ETA: 0s - loss: 1.3119 - accuracy: 0.6207"
          ]
        },
        {
          "output_type": "stream",
          "name": "stderr",
          "text": [
            "WARNING:tensorflow:Can save best model only with val_acc available, skipping.\n"
          ]
        },
        {
          "output_type": "stream",
          "name": "stdout",
          "text": [
            "\b\b\b\b\b\b\b\b\b\b\b\b\b\b\b\b\b\b\b\b\b\b\b\b\b\b\b\b\b\b\b\b\b\b\b\b\b\b\b\b\b\b\b\b\b\b\b\b\b\b\b\b\b\b\b\b\b\b\b\b\b\b\b\b\b\b\b\b\b\b\b\b\b\b\b\b\b\b\b\b\b\b\b\b\r900/900 [==============================] - 19s 21ms/step - loss: 1.3119 - accuracy: 0.6207 - val_loss: 1.3832 - val_accuracy: 0.5997\n",
            "Epoch 37/50\n",
            "899/900 [============================>.] - ETA: 0s - loss: 1.2981 - accuracy: 0.6268"
          ]
        },
        {
          "output_type": "stream",
          "name": "stderr",
          "text": [
            "WARNING:tensorflow:Can save best model only with val_acc available, skipping.\n"
          ]
        },
        {
          "output_type": "stream",
          "name": "stdout",
          "text": [
            "\b\b\b\b\b\b\b\b\b\b\b\b\b\b\b\b\b\b\b\b\b\b\b\b\b\b\b\b\b\b\b\b\b\b\b\b\b\b\b\b\b\b\b\b\b\b\b\b\b\b\b\b\b\b\b\b\b\b\b\b\b\b\b\b\b\b\b\b\b\b\b\b\b\b\b\b\b\b\b\b\b\b\b\b\r900/900 [==============================] - 22s 25ms/step - loss: 1.2982 - accuracy: 0.6267 - val_loss: 1.4050 - val_accuracy: 0.5994\n",
            "Epoch 38/50\n",
            "897/900 [============================>.] - ETA: 0s - loss: 1.2923 - accuracy: 0.6295"
          ]
        },
        {
          "output_type": "stream",
          "name": "stderr",
          "text": [
            "WARNING:tensorflow:Can save best model only with val_acc available, skipping.\n"
          ]
        },
        {
          "output_type": "stream",
          "name": "stdout",
          "text": [
            "\b\b\b\b\b\b\b\b\b\b\b\b\b\b\b\b\b\b\b\b\b\b\b\b\b\b\b\b\b\b\b\b\b\b\b\b\b\b\b\b\b\b\b\b\b\b\b\b\b\b\b\b\b\b\b\b\b\b\b\b\b\b\b\b\b\b\b\b\b\b\b\b\b\b\b\b\b\b\b\b\b\b\b\b\r900/900 [==============================] - 19s 21ms/step - loss: 1.2929 - accuracy: 0.6294 - val_loss: 1.3708 - val_accuracy: 0.6070\n",
            "Epoch 39/50\n",
            "898/900 [============================>.] - ETA: 0s - loss: 1.2861 - accuracy: 0.6284"
          ]
        },
        {
          "output_type": "stream",
          "name": "stderr",
          "text": [
            "WARNING:tensorflow:Can save best model only with val_acc available, skipping.\n"
          ]
        },
        {
          "output_type": "stream",
          "name": "stdout",
          "text": [
            "\b\b\b\b\b\b\b\b\b\b\b\b\b\b\b\b\b\b\b\b\b\b\b\b\b\b\b\b\b\b\b\b\b\b\b\b\b\b\b\b\b\b\b\b\b\b\b\b\b\b\b\b\b\b\b\b\b\b\b\b\b\b\b\b\b\b\b\b\b\b\b\b\b\b\b\b\b\b\b\b\b\b\b\b\r900/900 [==============================] - 20s 22ms/step - loss: 1.2860 - accuracy: 0.6285 - val_loss: 1.4383 - val_accuracy: 0.5905\n",
            "Epoch 40/50\n",
            "897/900 [============================>.] - ETA: 0s - loss: 1.2712 - accuracy: 0.6386"
          ]
        },
        {
          "output_type": "stream",
          "name": "stderr",
          "text": [
            "WARNING:tensorflow:Can save best model only with val_acc available, skipping.\n"
          ]
        },
        {
          "output_type": "stream",
          "name": "stdout",
          "text": [
            "\b\b\b\b\b\b\b\b\b\b\b\b\b\b\b\b\b\b\b\b\b\b\b\b\b\b\b\b\b\b\b\b\b\b\b\b\b\b\b\b\b\b\b\b\b\b\b\b\b\b\b\b\b\b\b\b\b\b\b\b\b\b\b\b\b\b\b\b\b\b\b\b\b\b\b\b\b\b\b\b\b\b\b\b\r900/900 [==============================] - 19s 21ms/step - loss: 1.2711 - accuracy: 0.6384 - val_loss: 1.4123 - val_accuracy: 0.5996\n",
            "Epoch 41/50\n",
            "900/900 [==============================] - ETA: 0s - loss: 1.2687 - accuracy: 0.6373"
          ]
        },
        {
          "output_type": "stream",
          "name": "stderr",
          "text": [
            "WARNING:tensorflow:Can save best model only with val_acc available, skipping.\n"
          ]
        },
        {
          "output_type": "stream",
          "name": "stdout",
          "text": [
            "\b\b\b\b\b\b\b\b\b\b\b\b\b\b\b\b\b\b\b\b\b\b\b\b\b\b\b\b\b\b\b\b\b\b\b\b\b\b\b\b\b\b\b\b\b\b\b\b\b\b\b\b\b\b\b\b\b\b\b\b\b\b\b\b\b\b\b\b\b\b\b\b\b\b\b\b\b\b\b\b\b\b\b\b\r900/900 [==============================] - 19s 21ms/step - loss: 1.2687 - accuracy: 0.6373 - val_loss: 1.3798 - val_accuracy: 0.6038\n",
            "Epoch 42/50\n",
            "899/900 [============================>.] - ETA: 0s - loss: 1.2518 - accuracy: 0.6430"
          ]
        },
        {
          "output_type": "stream",
          "name": "stderr",
          "text": [
            "WARNING:tensorflow:Can save best model only with val_acc available, skipping.\n"
          ]
        },
        {
          "output_type": "stream",
          "name": "stdout",
          "text": [
            "\b\b\b\b\b\b\b\b\b\b\b\b\b\b\b\b\b\b\b\b\b\b\b\b\b\b\b\b\b\b\b\b\b\b\b\b\b\b\b\b\b\b\b\b\b\b\b\b\b\b\b\b\b\b\b\b\b\b\b\b\b\b\b\b\b\b\b\b\b\b\b\b\b\b\b\b\b\b\b\b\b\b\b\b\r900/900 [==============================] - 20s 22ms/step - loss: 1.2523 - accuracy: 0.6429 - val_loss: 1.3955 - val_accuracy: 0.6047\n",
            "Epoch 43/50\n",
            "899/900 [============================>.] - ETA: 0s - loss: 1.2409 - accuracy: 0.6486"
          ]
        },
        {
          "output_type": "stream",
          "name": "stderr",
          "text": [
            "WARNING:tensorflow:Can save best model only with val_acc available, skipping.\n"
          ]
        },
        {
          "output_type": "stream",
          "name": "stdout",
          "text": [
            "\b\b\b\b\b\b\b\b\b\b\b\b\b\b\b\b\b\b\b\b\b\b\b\b\b\b\b\b\b\b\b\b\b\b\b\b\b\b\b\b\b\b\b\b\b\b\b\b\b\b\b\b\b\b\b\b\b\b\b\b\b\b\b\b\b\b\b\b\b\b\b\b\b\b\b\b\b\b\b\b\b\b\b\b\r900/900 [==============================] - 19s 21ms/step - loss: 1.2410 - accuracy: 0.6485 - val_loss: 1.4044 - val_accuracy: 0.6023\n",
            "Epoch 44/50\n",
            "897/900 [============================>.] - ETA: 0s - loss: 1.2362 - accuracy: 0.6516"
          ]
        },
        {
          "output_type": "stream",
          "name": "stderr",
          "text": [
            "WARNING:tensorflow:Can save best model only with val_acc available, skipping.\n"
          ]
        },
        {
          "output_type": "stream",
          "name": "stdout",
          "text": [
            "\b\b\b\b\b\b\b\b\b\b\b\b\b\b\b\b\b\b\b\b\b\b\b\b\b\b\b\b\b\b\b\b\b\b\b\b\b\b\b\b\b\b\b\b\b\b\b\b\b\b\b\b\b\b\b\b\b\b\b\b\b\b\b\b\b\b\b\b\b\b\b\b\b\b\b\b\b\b\b\b\b\b\b\b\r900/900 [==============================] - 19s 21ms/step - loss: 1.2363 - accuracy: 0.6514 - val_loss: 1.3879 - val_accuracy: 0.6047\n",
            "Epoch 45/50\n",
            "900/900 [==============================] - ETA: 0s - loss: 1.2292 - accuracy: 0.6525"
          ]
        },
        {
          "output_type": "stream",
          "name": "stderr",
          "text": [
            "WARNING:tensorflow:Can save best model only with val_acc available, skipping.\n"
          ]
        },
        {
          "output_type": "stream",
          "name": "stdout",
          "text": [
            "\b\b\b\b\b\b\b\b\b\b\b\b\b\b\b\b\b\b\b\b\b\b\b\b\b\b\b\b\b\b\b\b\b\b\b\b\b\b\b\b\b\b\b\b\b\b\b\b\b\b\b\b\b\b\b\b\b\b\b\b\b\b\b\b\b\b\b\b\b\b\b\b\b\b\b\b\b\b\b\b\b\b\b\b\r900/900 [==============================] - 22s 24ms/step - loss: 1.2292 - accuracy: 0.6525 - val_loss: 1.3706 - val_accuracy: 0.6145\n",
            "Epoch 46/50\n",
            "898/900 [============================>.] - ETA: 0s - loss: 1.2138 - accuracy: 0.6563"
          ]
        },
        {
          "output_type": "stream",
          "name": "stderr",
          "text": [
            "WARNING:tensorflow:Can save best model only with val_acc available, skipping.\n"
          ]
        },
        {
          "output_type": "stream",
          "name": "stdout",
          "text": [
            "\b\b\b\b\b\b\b\b\b\b\b\b\b\b\b\b\b\b\b\b\b\b\b\b\b\b\b\b\b\b\b\b\b\b\b\b\b\b\b\b\b\b\b\b\b\b\b\b\b\b\b\b\b\b\b\b\b\b\b\b\b\b\b\b\b\b\b\b\b\b\b\b\b\b\b\b\b\b\b\b\b\b\b\b\r900/900 [==============================] - 19s 21ms/step - loss: 1.2134 - accuracy: 0.6563 - val_loss: 1.3500 - val_accuracy: 0.6212\n",
            "Epoch 47/50\n",
            "899/900 [============================>.] - ETA: 0s - loss: 1.2113 - accuracy: 0.6572"
          ]
        },
        {
          "output_type": "stream",
          "name": "stderr",
          "text": [
            "WARNING:tensorflow:Can save best model only with val_acc available, skipping.\n"
          ]
        },
        {
          "output_type": "stream",
          "name": "stdout",
          "text": [
            "\b\b\b\b\b\b\b\b\b\b\b\b\b\b\b\b\b\b\b\b\b\b\b\b\b\b\b\b\b\b\b\b\b\b\b\b\b\b\b\b\b\b\b\b\b\b\b\b\b\b\b\b\b\b\b\b\b\b\b\b\b\b\b\b\b\b\b\b\b\b\b\b\b\b\b\b\b\b\b\b\b\b\b\b\r900/900 [==============================] - 19s 21ms/step - loss: 1.2114 - accuracy: 0.6572 - val_loss: 1.3727 - val_accuracy: 0.6161\n",
            "Epoch 48/50\n",
            "900/900 [==============================] - ETA: 0s - loss: 1.2055 - accuracy: 0.6625"
          ]
        },
        {
          "output_type": "stream",
          "name": "stderr",
          "text": [
            "WARNING:tensorflow:Can save best model only with val_acc available, skipping.\n"
          ]
        },
        {
          "output_type": "stream",
          "name": "stdout",
          "text": [
            "\b\b\b\b\b\b\b\b\b\b\b\b\b\b\b\b\b\b\b\b\b\b\b\b\b\b\b\b\b\b\b\b\b\b\b\b\b\b\b\b\b\b\b\b\b\b\b\b\b\b\b\b\b\b\b\b\b\b\b\b\b\b\b\b\b\b\b\b\b\b\b\b\b\b\b\b\b\b\b\b\b\b\b\b\r900/900 [==============================] - 22s 24ms/step - loss: 1.2055 - accuracy: 0.6625 - val_loss: 1.3786 - val_accuracy: 0.6139\n",
            "Epoch 49/50\n",
            "898/900 [============================>.] - ETA: 0s - loss: 1.1968 - accuracy: 0.6627"
          ]
        },
        {
          "output_type": "stream",
          "name": "stderr",
          "text": [
            "WARNING:tensorflow:Can save best model only with val_acc available, skipping.\n"
          ]
        },
        {
          "output_type": "stream",
          "name": "stdout",
          "text": [
            "\b\b\b\b\b\b\b\b\b\b\b\b\b\b\b\b\b\b\b\b\b\b\b\b\b\b\b\b\b\b\b\b\b\b\b\b\b\b\b\b\b\b\b\b\b\b\b\b\b\b\b\b\b\b\b\b\b\b\b\b\b\b\b\b\b\b\b\b\b\b\b\b\b\b\b\b\b\b\b\b\b\b\b\b\r900/900 [==============================] - 19s 21ms/step - loss: 1.1964 - accuracy: 0.6629 - val_loss: 1.3555 - val_accuracy: 0.6216\n",
            "Epoch 50/50\n",
            "899/900 [============================>.] - ETA: 0s - loss: 1.1844 - accuracy: 0.6717"
          ]
        },
        {
          "output_type": "stream",
          "name": "stderr",
          "text": [
            "WARNING:tensorflow:Can save best model only with val_acc available, skipping.\n"
          ]
        },
        {
          "output_type": "stream",
          "name": "stdout",
          "text": [
            "\b\b\b\b\b\b\b\b\b\b\b\b\b\b\b\b\b\b\b\b\b\b\b\b\b\b\b\b\b\b\b\b\b\b\b\b\b\b\b\b\b\b\b\b\b\b\b\b\b\b\b\b\b\b\b\b\b\b\b\b\b\b\b\b\b\b\b\b\b\b\b\b\b\b\b\b\b\b\b\b\b\b\b\b\r900/900 [==============================] - 19s 21ms/step - loss: 1.1845 - accuracy: 0.6716 - val_loss: 1.3553 - val_accuracy: 0.6243\n",
            "CPU times: user 21min 18s, sys: 1min 27s, total: 22min 46s\n",
            "Wall time: 17min 52s\n"
          ]
        }
      ]
    },
    {
      "cell_type": "markdown",
      "source": [
        "**Performance**"
      ],
      "metadata": {
        "id": "jsJYyqXK4A11"
      }
    },
    {
      "cell_type": "code",
      "source": [
        "import matplotlib.pyplot as plt\n",
        "\n",
        "plt.figure(figsize=(15,6))\n",
        "plt.subplot(1, 2, 1)\n",
        "plt.suptitle('Optimizer : Autograd', fontsize=15)\n",
        "plt.ylabel('Loss', fontsize=16)\n",
        "plt.plot(history.history['loss'], label='Training Loss')\n",
        "plt.plot(history.history['val_loss'], label='Validation Loss')\n",
        "plt.legend(loc='upper right')\n",
        "\n",
        "plt.subplot(1, 2, 2)\n",
        "plt.ylabel('Accuracy', fontsize=16)\n",
        "plt.plot(history.history['accuracy'], label='Training Accuracy')\n",
        "plt.plot(history.history['val_accuracy'], label='Validation Accuracy')\n",
        "plt.legend(loc='lower right')\n",
        "plt.show()"
      ],
      "metadata": {
        "colab": {
          "base_uri": "https://localhost:8080/",
          "height": 417
        },
        "id": "m3VAGGS636u8",
        "outputId": "60efe117-0f0f-43ca-fc2e-824eec71849f"
      },
      "execution_count": 24,
      "outputs": [
        {
          "output_type": "display_data",
          "data": {
            "text/plain": [
              "<Figure size 1080x432 with 2 Axes>"
            ],
            "image/png": "[encoded data removed]"
          },
          "metadata": {
            "needs_background": "light"
          }
        }
      ]
    },
    {
      "cell_type": "markdown",
      "source": [
        "**CNN with 5 conolution layers, 3 hidden layers, optimizer=Adam, Activation=Relu**"
      ],
      "metadata": {
        "id": "OjgwQail68rB"
      }
    },
    {
      "cell_type": "code",
      "source": [
        "model=Sequential()\n",
        "#first convolution layer\n",
        "model.add(Conv2D(64,(3,3),strides=(1,1),padding=\"same\",input_shape=(48, 48,1),kernel_regularizer=l1(0.001)))\n",
        "model.add(BatchNormalization())\n",
        "model.add(Activation(\"relu\"))\n",
        "model.add(MaxPooling2D(pool_size=(2, 2)))\n",
        "model.add(Dropout(0.26))\n",
        "\n",
        "#second convolution layer\n",
        "model.add(Conv2D(256,(3,3),strides=(1,1),padding=\"same\",kernel_regularizer=l1(0.001)))\n",
        "model.add(BatchNormalization())\n",
        "model.add(Activation(\"relu\"))\n",
        "model.add(MaxPooling2D(pool_size=(2, 2)))\n",
        "model.add(Dropout(0.26))\n",
        "\n",
        "#third convolution layer\n",
        "model.add(Conv2D(256,(3,3),strides=(1,1),padding=\"same\",kernel_regularizer=l1(0.001)))\n",
        "model.add(BatchNormalization())\n",
        "model.add(Activation(\"relu\"))\n",
        "model.add(MaxPooling2D(pool_size=(2, 2)))\n",
        "model.add(Dropout(0.26))\n",
        "\n",
        "#fourth convolution layer\n",
        "model.add(Conv2D(512,(3,3),strides=(1,1),padding=\"same\",kernel_regularizer=l1(0.001)))\n",
        "model.add(BatchNormalization())\n",
        "model.add(Activation(\"relu\"))\n",
        "model.add(MaxPooling2D(pool_size=(2, 2)))\n",
        "model.add(Dropout(0.26))\n",
        "\n",
        "#fifth convolution layer\n",
        "model.add(Conv2D(512,(3,3),strides=(2,2),padding=\"same\",kernel_regularizer=l1(0.001)))\n",
        "model.add(BatchNormalization())\n",
        "model.add(Activation(\"relu\"))\n",
        "model.add(MaxPooling2D(pool_size=(2, 2)))\n",
        "model.add(Dropout(0.26))\n",
        "\n",
        "model.add(Flatten())\n",
        "\n",
        "#1st fully connected layer\n",
        "model.add(Dense(4096,kernel_regularizer=l2(0.001)))\n",
        "model.add(BatchNormalization())\n",
        "model.add(Activation('relu'))\n",
        "model.add(Dropout(0.26))\n",
        "\n",
        "#2nd fully connected layer\n",
        "model.add(Dense(2048,kernel_regularizer=l2(0.001)))\n",
        "model.add(BatchNormalization())\n",
        "model.add(Activation('relu'))\n",
        "model.add(Dropout(0.26))\n",
        "\n",
        "#3rd fully connected layer\n",
        "model.add(Dense(1024,kernel_regularizer=l2(0.001)))\n",
        "model.add(BatchNormalization())\n",
        "model.add(Activation('relu'))\n",
        "model.add(Dropout(0.26))\n",
        "\n",
        "\n",
        "#last layer\n",
        "model.add(Dense(7))\n",
        "model.add(Activation('softmax'))\n",
        "\n",
        "#compiling model\n",
        "opti=Adam(learning_rate=0.001)\n",
        "model.compile(optimizer=opti,loss='categorical_crossentropy',metrics=['accuracy'])"
      ],
      "metadata": {
        "id": "2shgtTPA7Hqq"
      },
      "execution_count": 17,
      "outputs": []
    },
    {
      "cell_type": "code",
      "source": [
        "model.summary()"
      ],
      "metadata": {
        "colab": {
          "base_uri": "https://localhost:8080/"
        },
        "id": "aIniaIbu8rEK",
        "outputId": "37cf9627-9d85-41e4-a605-79c33b2be491"
      },
      "execution_count": 18,
      "outputs": [
        {
          "output_type": "stream",
          "name": "stdout",
          "text": [
            "Model: \"sequential_2\"\n",
            "_________________________________________________________________\n",
            " Layer (type)                Output Shape              Param #   \n",
            "=================================================================\n",
            " conv2d_6 (Conv2D)           (None, 48, 48, 64)        640       \n",
            "                                                                 \n",
            " batch_normalization_11 (Bat  (None, 48, 48, 64)       256       \n",
            " chNormalization)                                                \n",
            "                                                                 \n",
            " activation_13 (Activation)  (None, 48, 48, 64)        0         \n",
            "                                                                 \n",
            " max_pooling2d_6 (MaxPooling  (None, 24, 24, 64)       0         \n",
            " 2D)                                                             \n",
            "                                                                 \n",
            " dropout_11 (Dropout)        (None, 24, 24, 64)        0         \n",
            "                                                                 \n",
            " conv2d_7 (Conv2D)           (None, 24, 24, 256)       147712    \n",
            "                                                                 \n",
            " batch_normalization_12 (Bat  (None, 24, 24, 256)      1024      \n",
            " chNormalization)                                                \n",
            "                                                                 \n",
            " activation_14 (Activation)  (None, 24, 24, 256)       0         \n",
            "                                                                 \n",
            " max_pooling2d_7 (MaxPooling  (None, 12, 12, 256)      0         \n",
            " 2D)                                                             \n",
            "                                                                 \n",
            " dropout_12 (Dropout)        (None, 12, 12, 256)       0         \n",
            "                                                                 \n",
            " conv2d_8 (Conv2D)           (None, 12, 12, 256)       590080    \n",
            "                                                                 \n",
            " batch_normalization_13 (Bat  (None, 12, 12, 256)      1024      \n",
            " chNormalization)                                                \n",
            "                                                                 \n",
            " activation_15 (Activation)  (None, 12, 12, 256)       0         \n",
            "                                                                 \n",
            " max_pooling2d_8 (MaxPooling  (None, 6, 6, 256)        0         \n",
            " 2D)                                                             \n",
            "                                                                 \n",
            " dropout_13 (Dropout)        (None, 6, 6, 256)         0         \n",
            "                                                                 \n",
            " conv2d_9 (Conv2D)           (None, 6, 6, 512)         1180160   \n",
            "                                                                 \n",
            " batch_normalization_14 (Bat  (None, 6, 6, 512)        2048      \n",
            " chNormalization)                                                \n",
            "                                                                 \n",
            " activation_16 (Activation)  (None, 6, 6, 512)         0         \n",
            "                                                                 \n",
            " max_pooling2d_9 (MaxPooling  (None, 3, 3, 512)        0         \n",
            " 2D)                                                             \n",
            "                                                                 \n",
            " dropout_14 (Dropout)        (None, 3, 3, 512)         0         \n",
            "                                                                 \n",
            " conv2d_10 (Conv2D)          (None, 2, 2, 512)         2359808   \n",
            "                                                                 \n",
            " batch_normalization_15 (Bat  (None, 2, 2, 512)        2048      \n",
            " chNormalization)                                                \n",
            "                                                                 \n",
            " activation_17 (Activation)  (None, 2, 2, 512)         0         \n",
            "                                                                 \n",
            " max_pooling2d_10 (MaxPoolin  (None, 1, 1, 512)        0         \n",
            " g2D)                                                            \n",
            "                                                                 \n",
            " dropout_15 (Dropout)        (None, 1, 1, 512)         0         \n",
            "                                                                 \n",
            " flatten_2 (Flatten)         (None, 512)               0         \n",
            "                                                                 \n",
            " dense_7 (Dense)             (None, 4096)              2101248   \n",
            "                                                                 \n",
            " batch_normalization_16 (Bat  (None, 4096)             16384     \n",
            " chNormalization)                                                \n",
            "                                                                 \n",
            " activation_18 (Activation)  (None, 4096)              0         \n",
            "                                                                 \n",
            " dropout_16 (Dropout)        (None, 4096)              0         \n",
            "                                                                 \n",
            " dense_8 (Dense)             (None, 2048)              8390656   \n",
            "                                                                 \n",
            " batch_normalization_17 (Bat  (None, 2048)             8192      \n",
            " chNormalization)                                                \n",
            "                                                                 \n",
            " activation_19 (Activation)  (None, 2048)              0         \n",
            "                                                                 \n",
            " dropout_17 (Dropout)        (None, 2048)              0         \n",
            "                                                                 \n",
            " dense_9 (Dense)             (None, 1024)              2098176   \n",
            "                                                                 \n",
            " batch_normalization_18 (Bat  (None, 1024)             4096      \n",
            " chNormalization)                                                \n",
            "                                                                 \n",
            " activation_20 (Activation)  (None, 1024)              0         \n",
            "                                                                 \n",
            " dropout_18 (Dropout)        (None, 1024)              0         \n",
            "                                                                 \n",
            " dense_10 (Dense)            (None, 7)                 7175      \n",
            "                                                                 \n",
            " activation_21 (Activation)  (None, 7)                 0         \n",
            "                                                                 \n",
            "=================================================================\n",
            "Total params: 16,910,727\n",
            "Trainable params: 16,893,191\n",
            "Non-trainable params: 17,536\n",
            "_________________________________________________________________\n"
          ]
        }
      ]
    },
    {
      "cell_type": "markdown",
      "source": [
        "**training model**"
      ],
      "metadata": {
        "id": "8E4hJNQx9RxA"
      }
    },
    {
      "cell_type": "code",
      "source": [
        "%%time\n",
        "from keras.callbacks import ModelCheckpoint\n",
        "\n",
        "checkpoint = ModelCheckpoint(\"model_weights.h5\", monitor='val_acc', verbose=1, save_best_only=True, mode='max')\n",
        "callbacks_list = [checkpoint]\n",
        "\n",
        "batch_size=150\n",
        "history = model.fit(train_gen,\n",
        "                                steps_per_epoch=train_gen.n//train_gen.batch_size,\n",
        "                                epochs=50,\n",
        "                                validation_data = validation_gen,\n",
        "                                validation_steps = validation_gen.n//validation_gen.batch_size,\n",
        "                                callbacks=callbacks_list)"
      ],
      "metadata": {
        "colab": {
          "base_uri": "https://localhost:8080/"
        },
        "id": "91lV9vm69M8S",
        "outputId": "6ba6ee40-aae8-4112-d6b8-fbcd849e20c7"
      },
      "execution_count": 19,
      "outputs": [
        {
          "metadata": {
            "tags": null
          },
          "name": "stdout",
          "output_type": "stream",
          "text": [
            "Epoch 1/50\n",
            "900/900 [==============================] - ETA: 0s - loss: 11.3193 - accuracy: 0.2179"
          ]
        },
        {
          "metadata": {
            "tags": null
          },
          "name": "stderr",
          "output_type": "stream",
          "text": [
            "WARNING:tensorflow:Can save best model only with val_acc available, skipping.\n"
          ]
        },
        {
          "metadata": {
            "tags": null
          },
          "name": "stdout",
          "output_type": "stream",
          "text": [
            "900/900 [==============================] - 34s 35ms/step - loss: 11.3193 - accuracy: 0.2179 - val_loss: 5.0336 - val_accuracy: 0.2085\n",
            "Epoch 2/50\n",
            "899/900 [============================>.] - ETA: 0s - loss: 5.0099 - accuracy: 0.2244"
          ]
        },
        {
          "metadata": {
            "tags": null
          },
          "name": "stderr",
          "output_type": "stream",
          "text": [
            "WARNING:tensorflow:Can save best model only with val_acc available, skipping.\n"
          ]
        },
        {
          "metadata": {
            "tags": null
          },
          "name": "stdout",
          "output_type": "stream",
          "text": [
            "900/900 [==============================] - 29s 32ms/step - loss: 5.0099 - accuracy: 0.2244 - val_loss: 4.8500 - val_accuracy: 0.2592\n",
            "Epoch 3/50\n",
            "899/900 [============================>.] - ETA: 0s - loss: 5.1250 - accuracy: 0.2334"
          ]
        },
        {
          "metadata": {
            "tags": null
          },
          "name": "stderr",
          "output_type": "stream",
          "text": [
            "WARNING:tensorflow:Can save best model only with val_acc available, skipping.\n"
          ]
        },
        {
          "metadata": {
            "tags": null
          },
          "name": "stdout",
          "output_type": "stream",
          "text": [
            "900/900 [==============================] - 29s 33ms/step - loss: 5.1256 - accuracy: 0.2335 - val_loss: 26.6637 - val_accuracy: 0.1618\n",
            "Epoch 4/50\n",
            "900/900 [==============================] - ETA: 0s - loss: 5.3114 - accuracy: 0.2397"
          ]
        },
        {
          "metadata": {
            "tags": null
          },
          "name": "stderr",
          "output_type": "stream",
          "text": [
            "WARNING:tensorflow:Can save best model only with val_acc available, skipping.\n"
          ]
        },
        {
          "metadata": {
            "tags": null
          },
          "name": "stdout",
          "output_type": "stream",
          "text": [
            "900/900 [==============================] - 32s 36ms/step - loss: 5.3114 - accuracy: 0.2397 - val_loss: 6.0242 - val_accuracy: 0.2422\n",
            "Epoch 5/50\n",
            "899/900 [============================>.] - ETA: 0s - loss: 5.1777 - accuracy: 0.2419"
          ]
        },
        {
          "metadata": {
            "tags": null
          },
          "name": "stderr",
          "output_type": "stream",
          "text": [
            "WARNING:tensorflow:Can save best model only with val_acc available, skipping.\n"
          ]
        },
        {
          "metadata": {
            "tags": null
          },
          "name": "stdout",
          "output_type": "stream",
          "text": [
            "900/900 [==============================] - 29s 33ms/step - loss: 5.1784 - accuracy: 0.2420 - val_loss: 6.4485 - val_accuracy: 0.2592\n",
            "Epoch 6/50\n",
            "899/900 [============================>.] - ETA: 0s - loss: 5.1669 - accuracy: 0.2416"
          ]
        },
        {
          "metadata": {
            "tags": null
          },
          "name": "stderr",
          "output_type": "stream",
          "text": [
            "WARNING:tensorflow:Can save best model only with val_acc available, skipping.\n"
          ]
        },
        {
          "metadata": {
            "tags": null
          },
          "name": "stdout",
          "output_type": "stream",
          "text": [
            "900/900 [==============================] - 30s 33ms/step - loss: 5.1663 - accuracy: 0.2417 - val_loss: 8.2074 - val_accuracy: 0.1259\n",
            "Epoch 7/50\n",
            "899/900 [============================>.] - ETA: 0s - loss: 4.8745 - accuracy: 0.2423"
          ]
        },
        {
          "metadata": {
            "tags": null
          },
          "name": "stderr",
          "output_type": "stream",
          "text": [
            "WARNING:tensorflow:Can save best model only with val_acc available, skipping.\n"
          ]
        },
        {
          "metadata": {
            "tags": null
          },
          "name": "stdout",
          "output_type": "stream",
          "text": [
            "900/900 [==============================] - 30s 33ms/step - loss: 4.8743 - accuracy: 0.2424 - val_loss: 4.8203 - val_accuracy: 0.2354\n",
            "Epoch 8/50\n",
            "899/900 [============================>.] - ETA: 0s - loss: 4.7533 - accuracy: 0.2430"
          ]
        },
        {
          "metadata": {
            "tags": null
          },
          "name": "stderr",
          "output_type": "stream",
          "text": [
            "WARNING:tensorflow:Can save best model only with val_acc available, skipping.\n"
          ]
        },
        {
          "metadata": {
            "tags": null
          },
          "name": "stdout",
          "output_type": "stream",
          "text": [
            "900/900 [==============================] - 32s 36ms/step - loss: 4.7530 - accuracy: 0.2430 - val_loss: 5.6422 - val_accuracy: 0.2594\n",
            "Epoch 9/50\n",
            "899/900 [============================>.] - ETA: 0s - loss: 4.2165 - accuracy: 0.2432"
          ]
        },
        {
          "metadata": {
            "tags": null
          },
          "name": "stderr",
          "output_type": "stream",
          "text": [
            "WARNING:tensorflow:Can save best model only with val_acc available, skipping.\n"
          ]
        },
        {
          "metadata": {
            "tags": null
          },
          "name": "stdout",
          "output_type": "stream",
          "text": [
            "900/900 [==============================] - 32s 36ms/step - loss: 4.2162 - accuracy: 0.2430 - val_loss: 3.9598 - val_accuracy: 0.2349\n",
            "Epoch 10/50\n",
            "899/900 [============================>.] - ETA: 0s - loss: 4.0408 - accuracy: 0.2459"
          ]
        },
        {
          "metadata": {
            "tags": null
          },
          "name": "stderr",
          "output_type": "stream",
          "text": [
            "WARNING:tensorflow:Can save best model only with val_acc available, skipping.\n"
          ]
        },
        {
          "metadata": {
            "tags": null
          },
          "name": "stdout",
          "output_type": "stream",
          "text": [
            "900/900 [==============================] - 29s 33ms/step - loss: 4.0406 - accuracy: 0.2460 - val_loss: 4.0724 - val_accuracy: 0.2592\n",
            "Epoch 11/50\n",
            "899/900 [============================>.] - ETA: 0s - loss: 3.9633 - accuracy: 0.2497"
          ]
        },
        {
          "metadata": {
            "tags": null
          },
          "name": "stderr",
          "output_type": "stream",
          "text": [
            "WARNING:tensorflow:Can save best model only with val_acc available, skipping.\n"
          ]
        },
        {
          "metadata": {
            "tags": null
          },
          "name": "stdout",
          "output_type": "stream",
          "text": [
            "900/900 [==============================] - 30s 34ms/step - loss: 3.9642 - accuracy: 0.2497 - val_loss: 5.6662 - val_accuracy: 0.1774\n",
            "Epoch 12/50\n",
            "899/900 [============================>.] - ETA: 0s - loss: 4.5233 - accuracy: 0.2646"
          ]
        },
        {
          "metadata": {
            "tags": null
          },
          "name": "stderr",
          "output_type": "stream",
          "text": [
            "WARNING:tensorflow:Can save best model only with val_acc available, skipping.\n"
          ]
        },
        {
          "metadata": {
            "tags": null
          },
          "name": "stdout",
          "output_type": "stream",
          "text": [
            "900/900 [==============================] - 30s 33ms/step - loss: 4.5229 - accuracy: 0.2647 - val_loss: 4.3469 - val_accuracy: 0.2107\n",
            "Epoch 13/50\n",
            "900/900 [==============================] - ETA: 0s - loss: 4.3745 - accuracy: 0.2654"
          ]
        },
        {
          "metadata": {
            "tags": null
          },
          "name": "stderr",
          "output_type": "stream",
          "text": [
            "WARNING:tensorflow:Can save best model only with val_acc available, skipping.\n"
          ]
        },
        {
          "metadata": {
            "tags": null
          },
          "name": "stdout",
          "output_type": "stream",
          "text": [
            "900/900 [==============================] - 32s 36ms/step - loss: 4.3745 - accuracy: 0.2654 - val_loss: 4.0285 - val_accuracy: 0.2595\n",
            "Epoch 14/50\n",
            "899/900 [============================>.] - ETA: 0s - loss: 4.3449 - accuracy: 0.2766"
          ]
        },
        {
          "metadata": {
            "tags": null
          },
          "name": "stderr",
          "output_type": "stream",
          "text": [
            "WARNING:tensorflow:Can save best model only with val_acc available, skipping.\n"
          ]
        },
        {
          "metadata": {
            "tags": null
          },
          "name": "stdout",
          "output_type": "stream",
          "text": [
            "900/900 [==============================] - 29s 33ms/step - loss: 4.3448 - accuracy: 0.2765 - val_loss: 4.3067 - val_accuracy: 0.2432\n",
            "Epoch 15/50\n",
            "900/900 [==============================] - ETA: 0s - loss: 4.2414 - accuracy: 0.2806"
          ]
        },
        {
          "metadata": {
            "tags": null
          },
          "name": "stderr",
          "output_type": "stream",
          "text": [
            "WARNING:tensorflow:Can save best model only with val_acc available, skipping.\n"
          ]
        },
        {
          "metadata": {
            "tags": null
          },
          "name": "stdout",
          "output_type": "stream",
          "text": [
            "900/900 [==============================] - 29s 32ms/step - loss: 4.2414 - accuracy: 0.2806 - val_loss: 3.9300 - val_accuracy: 0.2974\n",
            "Epoch 16/50\n",
            "899/900 [============================>.] - ETA: 0s - loss: 4.0231 - accuracy: 0.2877"
          ]
        },
        {
          "metadata": {
            "tags": null
          },
          "name": "stderr",
          "output_type": "stream",
          "text": [
            "WARNING:tensorflow:Can save best model only with val_acc available, skipping.\n"
          ]
        },
        {
          "metadata": {
            "tags": null
          },
          "name": "stdout",
          "output_type": "stream",
          "text": [
            "900/900 [==============================] - 29s 32ms/step - loss: 4.0235 - accuracy: 0.2877 - val_loss: 4.5885 - val_accuracy: 0.2018\n",
            "Epoch 17/50\n",
            "899/900 [============================>.] - ETA: 0s - loss: 4.0914 - accuracy: 0.3007"
          ]
        },
        {
          "metadata": {
            "tags": null
          },
          "name": "stderr",
          "output_type": "stream",
          "text": [
            "WARNING:tensorflow:Can save best model only with val_acc available, skipping.\n"
          ]
        },
        {
          "metadata": {
            "tags": null
          },
          "name": "stdout",
          "output_type": "stream",
          "text": [
            "900/900 [==============================] - 29s 32ms/step - loss: 4.0914 - accuracy: 0.3007 - val_loss: 4.0928 - val_accuracy: 0.2707\n",
            "Epoch 18/50\n",
            "899/900 [============================>.] - ETA: 0s - loss: 4.2302 - accuracy: 0.3379"
          ]
        },
        {
          "metadata": {
            "tags": null
          },
          "name": "stderr",
          "output_type": "stream",
          "text": [
            "WARNING:tensorflow:Can save best model only with val_acc available, skipping.\n"
          ]
        },
        {
          "metadata": {
            "tags": null
          },
          "name": "stdout",
          "output_type": "stream",
          "text": [
            "900/900 [==============================] - 29s 32ms/step - loss: 4.2297 - accuracy: 0.3380 - val_loss: 4.0976 - val_accuracy: 0.2068\n",
            "Epoch 19/50\n",
            "899/900 [============================>.] - ETA: 0s - loss: 3.8571 - accuracy: 0.3521"
          ]
        },
        {
          "metadata": {
            "tags": null
          },
          "name": "stderr",
          "output_type": "stream",
          "text": [
            "WARNING:tensorflow:Can save best model only with val_acc available, skipping.\n"
          ]
        },
        {
          "metadata": {
            "tags": null
          },
          "name": "stdout",
          "output_type": "stream",
          "text": [
            "900/900 [==============================] - 28s 31ms/step - loss: 3.8567 - accuracy: 0.3521 - val_loss: 3.6493 - val_accuracy: 0.2841\n",
            "Epoch 20/50\n",
            "899/900 [============================>.] - ETA: 0s - loss: 3.7047 - accuracy: 0.3614"
          ]
        },
        {
          "metadata": {
            "tags": null
          },
          "name": "stderr",
          "output_type": "stream",
          "text": [
            "WARNING:tensorflow:Can save best model only with val_acc available, skipping.\n"
          ]
        },
        {
          "metadata": {
            "tags": null
          },
          "name": "stdout",
          "output_type": "stream",
          "text": [
            "900/900 [==============================] - 29s 32ms/step - loss: 3.7044 - accuracy: 0.3615 - val_loss: 3.7179 - val_accuracy: 0.3315\n",
            "Epoch 21/50\n",
            "899/900 [============================>.] - ETA: 0s - loss: 3.5050 - accuracy: 0.3625"
          ]
        },
        {
          "metadata": {
            "tags": null
          },
          "name": "stderr",
          "output_type": "stream",
          "text": [
            "WARNING:tensorflow:Can save best model only with val_acc available, skipping.\n"
          ]
        },
        {
          "metadata": {
            "tags": null
          },
          "name": "stdout",
          "output_type": "stream",
          "text": [
            "900/900 [==============================] - 28s 32ms/step - loss: 3.5048 - accuracy: 0.3625 - val_loss: 3.5706 - val_accuracy: 0.3260\n",
            "Epoch 22/50\n",
            "899/900 [============================>.] - ETA: 0s - loss: 3.3141 - accuracy: 0.3708"
          ]
        },
        {
          "metadata": {
            "tags": null
          },
          "name": "stderr",
          "output_type": "stream",
          "text": [
            "WARNING:tensorflow:Can save best model only with val_acc available, skipping.\n"
          ]
        },
        {
          "metadata": {
            "tags": null
          },
          "name": "stdout",
          "output_type": "stream",
          "text": [
            "900/900 [==============================] - 31s 34ms/step - loss: 3.3137 - accuracy: 0.3708 - val_loss: 3.2641 - val_accuracy: 0.3449\n",
            "Epoch 23/50\n",
            "899/900 [============================>.] - ETA: 0s - loss: 3.2035 - accuracy: 0.3745"
          ]
        },
        {
          "metadata": {
            "tags": null
          },
          "name": "stderr",
          "output_type": "stream",
          "text": [
            "WARNING:tensorflow:Can save best model only with val_acc available, skipping.\n"
          ]
        },
        {
          "metadata": {
            "tags": null
          },
          "name": "stdout",
          "output_type": "stream",
          "text": [
            "900/900 [==============================] - 28s 31ms/step - loss: 3.2035 - accuracy: 0.3744 - val_loss: 3.1505 - val_accuracy: 0.3764\n",
            "Epoch 24/50\n",
            "899/900 [============================>.] - ETA: 0s - loss: 3.0723 - accuracy: 0.3796"
          ]
        },
        {
          "metadata": {
            "tags": null
          },
          "name": "stderr",
          "output_type": "stream",
          "text": [
            "WARNING:tensorflow:Can save best model only with val_acc available, skipping.\n"
          ]
        },
        {
          "output_type": "stream",
          "name": "stdout",
          "text": [
            "900/900 [==============================] - 29s 32ms/step - loss: 3.0722 - accuracy: 0.3795 - val_loss: 3.0335 - val_accuracy: 0.3635\n",
            "Epoch 25/50\n",
            "899/900 [============================>.] - ETA: 0s - loss: 2.9989 - accuracy: 0.3811"
          ]
        },
        {
          "output_type": "stream",
          "name": "stderr",
          "text": [
            "WARNING:tensorflow:Can save best model only with val_acc available, skipping.\n"
          ]
        },
        {
          "output_type": "stream",
          "name": "stdout",
          "text": [
            "\b\b\b\b\b\b\b\b\b\b\b\b\b\b\b\b\b\b\b\b\b\b\b\b\b\b\b\b\b\b\b\b\b\b\b\b\b\b\b\b\b\b\b\b\b\b\b\b\b\b\b\b\b\b\b\b\b\b\b\b\b\b\b\b\b\b\b\b\b\b\b\b\b\b\b\b\b\b\b\b\b\b\b\b\r900/900 [==============================] - 29s 32ms/step - loss: 2.9991 - accuracy: 0.3809 - val_loss: 2.9801 - val_accuracy: 0.3827\n",
            "Epoch 26/50\n",
            "899/900 [============================>.] - ETA: 0s - loss: 2.9382 - accuracy: 0.3838"
          ]
        },
        {
          "output_type": "stream",
          "name": "stderr",
          "text": [
            "WARNING:tensorflow:Can save best model only with val_acc available, skipping.\n"
          ]
        },
        {
          "output_type": "stream",
          "name": "stdout",
          "text": [
            "\b\b\b\b\b\b\b\b\b\b\b\b\b\b\b\b\b\b\b\b\b\b\b\b\b\b\b\b\b\b\b\b\b\b\b\b\b\b\b\b\b\b\b\b\b\b\b\b\b\b\b\b\b\b\b\b\b\b\b\b\b\b\b\b\b\b\b\b\b\b\b\b\b\b\b\b\b\b\b\b\b\b\b\b\r900/900 [==============================] - 29s 33ms/step - loss: 2.9385 - accuracy: 0.3837 - val_loss: 2.9833 - val_accuracy: 0.3837\n",
            "Epoch 27/50\n",
            "899/900 [============================>.] - ETA: 0s - loss: 2.9093 - accuracy: 0.3853"
          ]
        },
        {
          "output_type": "stream",
          "name": "stderr",
          "text": [
            "WARNING:tensorflow:Can save best model only with val_acc available, skipping.\n"
          ]
        },
        {
          "output_type": "stream",
          "name": "stdout",
          "text": [
            "\b\b\b\b\b\b\b\b\b\b\b\b\b\b\b\b\b\b\b\b\b\b\b\b\b\b\b\b\b\b\b\b\b\b\b\b\b\b\b\b\b\b\b\b\b\b\b\b\b\b\b\b\b\b\b\b\b\b\b\b\b\b\b\b\b\b\b\b\b\b\b\b\b\b\b\b\b\b\b\b\b\b\b\b\r900/900 [==============================] - 29s 32ms/step - loss: 2.9093 - accuracy: 0.3854 - val_loss: 2.8698 - val_accuracy: 0.3906\n",
            "Epoch 28/50\n",
            "899/900 [============================>.] - ETA: 0s - loss: 2.8433 - accuracy: 0.3885"
          ]
        },
        {
          "output_type": "stream",
          "name": "stderr",
          "text": [
            "WARNING:tensorflow:Can save best model only with val_acc available, skipping.\n"
          ]
        },
        {
          "output_type": "stream",
          "name": "stdout",
          "text": [
            "\b\b\b\b\b\b\b\b\b\b\b\b\b\b\b\b\b\b\b\b\b\b\b\b\b\b\b\b\b\b\b\b\b\b\b\b\b\b\b\b\b\b\b\b\b\b\b\b\b\b\b\b\b\b\b\b\b\b\b\b\b\b\b\b\b\b\b\b\b\b\b\b\b\b\b\b\b\b\b\b\b\b\b\b\r900/900 [==============================] - 29s 33ms/step - loss: 2.8431 - accuracy: 0.3884 - val_loss: 2.8044 - val_accuracy: 0.3875\n",
            "Epoch 29/50\n",
            "899/900 [============================>.] - ETA: 0s - loss: 2.7865 - accuracy: 0.3874"
          ]
        },
        {
          "output_type": "stream",
          "name": "stderr",
          "text": [
            "WARNING:tensorflow:Can save best model only with val_acc available, skipping.\n"
          ]
        },
        {
          "output_type": "stream",
          "name": "stdout",
          "text": [
            "\b\b\b\b\b\b\b\b\b\b\b\b\b\b\b\b\b\b\b\b\b\b\b\b\b\b\b\b\b\b\b\b\b\b\b\b\b\b\b\b\b\b\b\b\b\b\b\b\b\b\b\b\b\b\b\b\b\b\b\b\b\b\b\b\b\b\b\b\b\b\b\b\b\b\b\b\b\b\b\b\b\b\b\b\r900/900 [==============================] - 29s 32ms/step - loss: 2.7863 - accuracy: 0.3874 - val_loss: 2.6727 - val_accuracy: 0.4172\n",
            "Epoch 30/50\n",
            "899/900 [============================>.] - ETA: 0s - loss: 2.7625 - accuracy: 0.3880"
          ]
        },
        {
          "output_type": "stream",
          "name": "stderr",
          "text": [
            "WARNING:tensorflow:Can save best model only with val_acc available, skipping.\n"
          ]
        },
        {
          "output_type": "stream",
          "name": "stdout",
          "text": [
            "\b\b\b\b\b\b\b\b\b\b\b\b\b\b\b\b\b\b\b\b\b\b\b\b\b\b\b\b\b\b\b\b\b\b\b\b\b\b\b\b\b\b\b\b\b\b\b\b\b\b\b\b\b\b\b\b\b\b\b\b\b\b\b\b\b\b\b\b\b\b\b\b\b\b\b\b\b\b\b\b\b\b\b\b\r900/900 [==============================] - 31s 35ms/step - loss: 2.7626 - accuracy: 0.3880 - val_loss: 2.7504 - val_accuracy: 0.3949\n",
            "Epoch 31/50\n",
            "899/900 [============================>.] - ETA: 0s - loss: 2.7156 - accuracy: 0.3916"
          ]
        },
        {
          "output_type": "stream",
          "name": "stderr",
          "text": [
            "WARNING:tensorflow:Can save best model only with val_acc available, skipping.\n"
          ]
        },
        {
          "output_type": "stream",
          "name": "stdout",
          "text": [
            "\b\b\b\b\b\b\b\b\b\b\b\b\b\b\b\b\b\b\b\b\b\b\b\b\b\b\b\b\b\b\b\b\b\b\b\b\b\b\b\b\b\b\b\b\b\b\b\b\b\b\b\b\b\b\b\b\b\b\b\b\b\b\b\b\b\b\b\b\b\b\b\b\b\b\b\b\b\b\b\b\b\b\b\b\r900/900 [==============================] - 29s 32ms/step - loss: 2.7157 - accuracy: 0.3915 - val_loss: 2.6835 - val_accuracy: 0.4126\n",
            "Epoch 32/50\n",
            "899/900 [============================>.] - ETA: 0s - loss: 2.6967 - accuracy: 0.3889"
          ]
        },
        {
          "output_type": "stream",
          "name": "stderr",
          "text": [
            "WARNING:tensorflow:Can save best model only with val_acc available, skipping.\n"
          ]
        },
        {
          "output_type": "stream",
          "name": "stdout",
          "text": [
            "\b\b\b\b\b\b\b\b\b\b\b\b\b\b\b\b\b\b\b\b\b\b\b\b\b\b\b\b\b\b\b\b\b\b\b\b\b\b\b\b\b\b\b\b\b\b\b\b\b\b\b\b\b\b\b\b\b\b\b\b\b\b\b\b\b\b\b\b\b\b\b\b\b\b\b\b\b\b\b\b\b\b\b\b\r900/900 [==============================] - 29s 32ms/step - loss: 2.6965 - accuracy: 0.3890 - val_loss: 2.7858 - val_accuracy: 0.3722\n",
            "Epoch 33/50\n",
            "899/900 [============================>.] - ETA: 0s - loss: 2.6493 - accuracy: 0.3903"
          ]
        },
        {
          "output_type": "stream",
          "name": "stderr",
          "text": [
            "WARNING:tensorflow:Can save best model only with val_acc available, skipping.\n"
          ]
        },
        {
          "output_type": "stream",
          "name": "stdout",
          "text": [
            "\b\b\b\b\b\b\b\b\b\b\b\b\b\b\b\b\b\b\b\b\b\b\b\b\b\b\b\b\b\b\b\b\b\b\b\b\b\b\b\b\b\b\b\b\b\b\b\b\b\b\b\b\b\b\b\b\b\b\b\b\b\b\b\b\b\b\b\b\b\b\b\b\b\b\b\b\b\b\b\b\b\b\b\b\r900/900 [==============================] - 29s 32ms/step - loss: 2.6495 - accuracy: 0.3903 - val_loss: 2.6995 - val_accuracy: 0.3614\n",
            "Epoch 34/50\n",
            "899/900 [============================>.] - ETA: 0s - loss: 2.6222 - accuracy: 0.3920"
          ]
        },
        {
          "output_type": "stream",
          "name": "stderr",
          "text": [
            "WARNING:tensorflow:Can save best model only with val_acc available, skipping.\n"
          ]
        },
        {
          "output_type": "stream",
          "name": "stdout",
          "text": [
            "\b\b\b\b\b\b\b\b\b\b\b\b\b\b\b\b\b\b\b\b\b\b\b\b\b\b\b\b\b\b\b\b\b\b\b\b\b\b\b\b\b\b\b\b\b\b\b\b\b\b\b\b\b\b\b\b\b\b\b\b\b\b\b\b\b\b\b\b\b\b\b\b\b\b\b\b\b\b\b\b\b\b\b\b\r900/900 [==============================] - 29s 32ms/step - loss: 2.6222 - accuracy: 0.3920 - val_loss: 2.6684 - val_accuracy: 0.3776\n",
            "Epoch 35/50\n",
            "899/900 [============================>.] - ETA: 0s - loss: 2.6206 - accuracy: 0.3933"
          ]
        },
        {
          "output_type": "stream",
          "name": "stderr",
          "text": [
            "WARNING:tensorflow:Can save best model only with val_acc available, skipping.\n"
          ]
        },
        {
          "output_type": "stream",
          "name": "stdout",
          "text": [
            "\b\b\b\b\b\b\b\b\b\b\b\b\b\b\b\b\b\b\b\b\b\b\b\b\b\b\b\b\b\b\b\b\b\b\b\b\b\b\b\b\b\b\b\b\b\b\b\b\b\b\b\b\b\b\b\b\b\b\b\b\b\b\b\b\b\b\b\b\b\b\b\b\b\b\b\b\b\b\b\b\b\b\b\b\r900/900 [==============================] - 29s 32ms/step - loss: 2.6205 - accuracy: 0.3935 - val_loss: 2.7782 - val_accuracy: 0.3135\n",
            "Epoch 36/50\n",
            "899/900 [============================>.] - ETA: 0s - loss: 2.6047 - accuracy: 0.3915"
          ]
        },
        {
          "output_type": "stream",
          "name": "stderr",
          "text": [
            "WARNING:tensorflow:Can save best model only with val_acc available, skipping.\n"
          ]
        },
        {
          "output_type": "stream",
          "name": "stdout",
          "text": [
            "\b\b\b\b\b\b\b\b\b\b\b\b\b\b\b\b\b\b\b\b\b\b\b\b\b\b\b\b\b\b\b\b\b\b\b\b\b\b\b\b\b\b\b\b\b\b\b\b\b\b\b\b\b\b\b\b\b\b\b\b\b\b\b\b\b\b\b\b\b\b\b\b\b\b\b\b\b\b\b\b\b\b\b\b\r900/900 [==============================] - 29s 32ms/step - loss: 2.6043 - accuracy: 0.3916 - val_loss: 2.7740 - val_accuracy: 0.2957\n",
            "Epoch 37/50\n",
            "900/900 [==============================] - ETA: 0s - loss: 2.5830 - accuracy: 0.3948"
          ]
        },
        {
          "output_type": "stream",
          "name": "stderr",
          "text": [
            "WARNING:tensorflow:Can save best model only with val_acc available, skipping.\n"
          ]
        },
        {
          "output_type": "stream",
          "name": "stdout",
          "text": [
            "\b\b\b\b\b\b\b\b\b\b\b\b\b\b\b\b\b\b\b\b\b\b\b\b\b\b\b\b\b\b\b\b\b\b\b\b\b\b\b\b\b\b\b\b\b\b\b\b\b\b\b\b\b\b\b\b\b\b\b\b\b\b\b\b\b\b\b\b\b\b\b\b\b\b\b\b\b\b\b\b\b\b\b\b\r900/900 [==============================] - 29s 32ms/step - loss: 2.5830 - accuracy: 0.3948 - val_loss: 2.5351 - val_accuracy: 0.3905\n",
            "Epoch 38/50\n",
            "900/900 [==============================] - ETA: 0s - loss: 2.5582 - accuracy: 0.3944"
          ]
        },
        {
          "output_type": "stream",
          "name": "stderr",
          "text": [
            "WARNING:tensorflow:Can save best model only with val_acc available, skipping.\n"
          ]
        },
        {
          "output_type": "stream",
          "name": "stdout",
          "text": [
            "\b\b\b\b\b\b\b\b\b\b\b\b\b\b\b\b\b\b\b\b\b\b\b\b\b\b\b\b\b\b\b\b\b\b\b\b\b\b\b\b\b\b\b\b\b\b\b\b\b\b\b\b\b\b\b\b\b\b\b\b\b\b\b\b\b\b\b\b\b\b\b\b\b\b\b\b\b\b\b\b\b\b\b\b\r900/900 [==============================] - 29s 32ms/step - loss: 2.5582 - accuracy: 0.3944 - val_loss: 2.7992 - val_accuracy: 0.3489\n",
            "Epoch 39/50\n",
            "899/900 [============================>.] - ETA: 0s - loss: 2.5534 - accuracy: 0.3915"
          ]
        },
        {
          "output_type": "stream",
          "name": "stderr",
          "text": [
            "WARNING:tensorflow:Can save best model only with val_acc available, skipping.\n"
          ]
        },
        {
          "output_type": "stream",
          "name": "stdout",
          "text": [
            "\b\b\b\b\b\b\b\b\b\b\b\b\b\b\b\b\b\b\b\b\b\b\b\b\b\b\b\b\b\b\b\b\b\b\b\b\b\b\b\b\b\b\b\b\b\b\b\b\b\b\b\b\b\b\b\b\b\b\b\b\b\b\b\b\b\b\b\b\b\b\b\b\b\b\b\b\b\b\b\b\b\b\b\b\r900/900 [==============================] - 29s 32ms/step - loss: 2.5531 - accuracy: 0.3916 - val_loss: 2.5321 - val_accuracy: 0.4045\n",
            "Epoch 40/50\n",
            "900/900 [==============================] - ETA: 0s - loss: 2.5457 - accuracy: 0.3971"
          ]
        },
        {
          "output_type": "stream",
          "name": "stderr",
          "text": [
            "WARNING:tensorflow:Can save best model only with val_acc available, skipping.\n"
          ]
        },
        {
          "output_type": "stream",
          "name": "stdout",
          "text": [
            "\b\b\b\b\b\b\b\b\b\b\b\b\b\b\b\b\b\b\b\b\b\b\b\b\b\b\b\b\b\b\b\b\b\b\b\b\b\b\b\b\b\b\b\b\b\b\b\b\b\b\b\b\b\b\b\b\b\b\b\b\b\b\b\b\b\b\b\b\b\b\b\b\b\b\b\b\b\b\b\b\b\b\b\b\r900/900 [==============================] - 29s 32ms/step - loss: 2.5457 - accuracy: 0.3971 - val_loss: 2.5991 - val_accuracy: 0.3551\n",
            "Epoch 41/50\n",
            "899/900 [============================>.] - ETA: 0s - loss: 2.5286 - accuracy: 0.3948"
          ]
        },
        {
          "output_type": "stream",
          "name": "stderr",
          "text": [
            "WARNING:tensorflow:Can save best model only with val_acc available, skipping.\n"
          ]
        },
        {
          "output_type": "stream",
          "name": "stdout",
          "text": [
            "\b\b\b\b\b\b\b\b\b\b\b\b\b\b\b\b\b\b\b\b\b\b\b\b\b\b\b\b\b\b\b\b\b\b\b\b\b\b\b\b\b\b\b\b\b\b\b\b\b\b\b\b\b\b\b\b\b\b\b\b\b\b\b\b\b\b\b\b\b\b\b\b\b\b\b\b\b\b\b\b\b\b\b\b\r900/900 [==============================] - 29s 32ms/step - loss: 2.5284 - accuracy: 0.3948 - val_loss: 2.5640 - val_accuracy: 0.3597\n",
            "Epoch 42/50\n",
            "899/900 [============================>.] - ETA: 0s - loss: 2.5142 - accuracy: 0.3949"
          ]
        },
        {
          "output_type": "stream",
          "name": "stderr",
          "text": [
            "WARNING:tensorflow:Can save best model only with val_acc available, skipping.\n"
          ]
        },
        {
          "output_type": "stream",
          "name": "stdout",
          "text": [
            "\b\b\b\b\b\b\b\b\b\b\b\b\b\b\b\b\b\b\b\b\b\b\b\b\b\b\b\b\b\b\b\b\b\b\b\b\b\b\b\b\b\b\b\b\b\b\b\b\b\b\b\b\b\b\b\b\b\b\b\b\b\b\b\b\b\b\b\b\b\b\b\b\b\b\b\b\b\b\b\b\b\b\b\b\r900/900 [==============================] - 30s 33ms/step - loss: 2.5143 - accuracy: 0.3949 - val_loss: 2.5644 - val_accuracy: 0.3722\n",
            "Epoch 43/50\n",
            "899/900 [============================>.] - ETA: 0s - loss: 2.5216 - accuracy: 0.3992"
          ]
        },
        {
          "output_type": "stream",
          "name": "stderr",
          "text": [
            "WARNING:tensorflow:Can save best model only with val_acc available, skipping.\n"
          ]
        },
        {
          "output_type": "stream",
          "name": "stdout",
          "text": [
            "\b\b\b\b\b\b\b\b\b\b\b\b\b\b\b\b\b\b\b\b\b\b\b\b\b\b\b\b\b\b\b\b\b\b\b\b\b\b\b\b\b\b\b\b\b\b\b\b\b\b\b\b\b\b\b\b\b\b\b\b\b\b\b\b\b\b\b\b\b\b\b\b\b\b\b\b\b\b\b\b\b\b\b\b\r900/900 [==============================] - 29s 33ms/step - loss: 2.5217 - accuracy: 0.3991 - val_loss: 2.4795 - val_accuracy: 0.4247\n",
            "Epoch 44/50\n",
            "899/900 [============================>.] - ETA: 0s - loss: 2.5016 - accuracy: 0.3977"
          ]
        },
        {
          "output_type": "stream",
          "name": "stderr",
          "text": [
            "WARNING:tensorflow:Can save best model only with val_acc available, skipping.\n"
          ]
        },
        {
          "output_type": "stream",
          "name": "stdout",
          "text": [
            "\b\b\b\b\b\b\b\b\b\b\b\b\b\b\b\b\b\b\b\b\b\b\b\b\b\b\b\b\b\b\b\b\b\b\b\b\b\b\b\b\b\b\b\b\b\b\b\b\b\b\b\b\b\b\b\b\b\b\b\b\b\b\b\b\b\b\b\b\b\b\b\b\b\b\b\b\b\b\b\b\b\b\b\b\r900/900 [==============================] - 29s 33ms/step - loss: 2.5017 - accuracy: 0.3978 - val_loss: 2.4751 - val_accuracy: 0.4135\n",
            "Epoch 45/50\n",
            "899/900 [============================>.] - ETA: 0s - loss: 2.4983 - accuracy: 0.3995"
          ]
        },
        {
          "output_type": "stream",
          "name": "stderr",
          "text": [
            "WARNING:tensorflow:Can save best model only with val_acc available, skipping.\n"
          ]
        },
        {
          "output_type": "stream",
          "name": "stdout",
          "text": [
            "\b\b\b\b\b\b\b\b\b\b\b\b\b\b\b\b\b\b\b\b\b\b\b\b\b\b\b\b\b\b\b\b\b\b\b\b\b\b\b\b\b\b\b\b\b\b\b\b\b\b\b\b\b\b\b\b\b\b\b\b\b\b\b\b\b\b\b\b\b\b\b\b\b\b\b\b\b\b\b\b\b\b\b\b\r900/900 [==============================] - 29s 32ms/step - loss: 2.4982 - accuracy: 0.3995 - val_loss: 2.5050 - val_accuracy: 0.3939\n",
            "Epoch 46/50\n",
            "899/900 [============================>.] - ETA: 0s - loss: 2.4675 - accuracy: 0.3998"
          ]
        },
        {
          "output_type": "stream",
          "name": "stderr",
          "text": [
            "WARNING:tensorflow:Can save best model only with val_acc available, skipping.\n"
          ]
        },
        {
          "output_type": "stream",
          "name": "stdout",
          "text": [
            "\b\b\b\b\b\b\b\b\b\b\b\b\b\b\b\b\b\b\b\b\b\b\b\b\b\b\b\b\b\b\b\b\b\b\b\b\b\b\b\b\b\b\b\b\b\b\b\b\b\b\b\b\b\b\b\b\b\b\b\b\b\b\b\b\b\b\b\b\b\b\b\b\b\b\b\b\b\b\b\b\b\b\b\b\r900/900 [==============================] - 29s 32ms/step - loss: 2.4674 - accuracy: 0.3999 - val_loss: 2.3985 - val_accuracy: 0.4332\n",
            "Epoch 47/50\n",
            "899/900 [============================>.] - ETA: 0s - loss: 2.4808 - accuracy: 0.3986"
          ]
        },
        {
          "output_type": "stream",
          "name": "stderr",
          "text": [
            "WARNING:tensorflow:Can save best model only with val_acc available, skipping.\n"
          ]
        },
        {
          "output_type": "stream",
          "name": "stdout",
          "text": [
            "\b\b\b\b\b\b\b\b\b\b\b\b\b\b\b\b\b\b\b\b\b\b\b\b\b\b\b\b\b\b\b\b\b\b\b\b\b\b\b\b\b\b\b\b\b\b\b\b\b\b\b\b\b\b\b\b\b\b\b\b\b\b\b\b\b\b\b\b\b\b\b\b\b\b\b\b\b\b\b\b\b\b\b\b\r900/900 [==============================] - 29s 32ms/step - loss: 2.4807 - accuracy: 0.3987 - val_loss: 2.4058 - val_accuracy: 0.4324\n",
            "Epoch 48/50\n",
            "900/900 [==============================] - ETA: 0s - loss: 2.4706 - accuracy: 0.4018"
          ]
        },
        {
          "output_type": "stream",
          "name": "stderr",
          "text": [
            "WARNING:tensorflow:Can save best model only with val_acc available, skipping.\n"
          ]
        },
        {
          "output_type": "stream",
          "name": "stdout",
          "text": [
            "\b\b\b\b\b\b\b\b\b\b\b\b\b\b\b\b\b\b\b\b\b\b\b\b\b\b\b\b\b\b\b\b\b\b\b\b\b\b\b\b\b\b\b\b\b\b\b\b\b\b\b\b\b\b\b\b\b\b\b\b\b\b\b\b\b\b\b\b\b\b\b\b\b\b\b\b\b\b\b\b\b\b\b\b\r900/900 [==============================] - 29s 32ms/step - loss: 2.4706 - accuracy: 0.4018 - val_loss: 2.4653 - val_accuracy: 0.4089\n",
            "Epoch 49/50\n",
            "899/900 [============================>.] - ETA: 0s - loss: 2.4722 - accuracy: 0.4011"
          ]
        },
        {
          "output_type": "stream",
          "name": "stderr",
          "text": [
            "WARNING:tensorflow:Can save best model only with val_acc available, skipping.\n"
          ]
        },
        {
          "output_type": "stream",
          "name": "stdout",
          "text": [
            "\b\b\b\b\b\b\b\b\b\b\b\b\b\b\b\b\b\b\b\b\b\b\b\b\b\b\b\b\b\b\b\b\b\b\b\b\b\b\b\b\b\b\b\b\b\b\b\b\b\b\b\b\b\b\b\b\b\b\b\b\b\b\b\b\b\b\b\b\b\b\b\b\b\b\b\b\b\b\b\b\b\b\b\b\r900/900 [==============================] - 29s 32ms/step - loss: 2.4721 - accuracy: 0.4010 - val_loss: 2.4625 - val_accuracy: 0.3885\n",
            "Epoch 50/50\n",
            "899/900 [============================>.] - ETA: 0s - loss: 2.4461 - accuracy: 0.4036"
          ]
        },
        {
          "output_type": "stream",
          "name": "stderr",
          "text": [
            "WARNING:tensorflow:Can save best model only with val_acc available, skipping.\n"
          ]
        },
        {
          "output_type": "stream",
          "name": "stdout",
          "text": [
            "\b\b\b\b\b\b\b\b\b\b\b\b\b\b\b\b\b\b\b\b\b\b\b\b\b\b\b\b\b\b\b\b\b\b\b\b\b\b\b\b\b\b\b\b\b\b\b\b\b\b\b\b\b\b\b\b\b\b\b\b\b\b\b\b\b\b\b\b\b\b\b\b\b\b\b\b\b\b\b\b\b\b\b\b\r900/900 [==============================] - 29s 32ms/step - loss: 2.4462 - accuracy: 0.4037 - val_loss: 2.4926 - val_accuracy: 0.3713\n",
            "CPU times: user 28min 50s, sys: 1min 32s, total: 30min 22s\n",
            "Wall time: 28min 56s\n"
          ]
        }
      ]
    },
    {
      "cell_type": "markdown",
      "source": [
        "**Performance**"
      ],
      "metadata": {
        "id": "e7B361g6D8iY"
      }
    },
    {
      "cell_type": "code",
      "source": [
        "import matplotlib.pyplot as plt\n",
        "\n",
        "plt.figure(figsize=(15,6))\n",
        "plt.subplot(1, 2, 1)\n",
        "plt.suptitle('Optimizer : Adam', fontsize=15)\n",
        "plt.ylabel('Loss', fontsize=16)\n",
        "plt.plot(history.history['loss'], label='Training Loss')\n",
        "plt.plot(history.history['val_loss'], label='Validation Loss')\n",
        "plt.legend(loc='upper right')\n",
        "\n",
        "plt.subplot(1, 2, 2)\n",
        "plt.ylabel('Accuracy', fontsize=16)\n",
        "plt.plot(history.history['accuracy'], label='Training Accuracy')\n",
        "plt.plot(history.history['val_accuracy'], label='Validation Accuracy')\n",
        "plt.legend(loc='lower right')\n",
        "plt.show()"
      ],
      "metadata": {
        "colab": {
          "base_uri": "https://localhost:8080/",
          "height": 417
        },
        "id": "865Mn2yoD-lb",
        "outputId": "5de439e3-aaed-4d0c-8865-7b5ea257a78d"
      },
      "execution_count": 23,
      "outputs": [
        {
          "output_type": "display_data",
          "data": {
            "text/plain": [
              "<Figure size 1080x432 with 2 Axes>"
            ],
            "image/png": "[encoded data removed]"
          },
          "metadata": {
            "needs_background": "light"
          }
        }
      ]
    },
    {
      "cell_type": "markdown",
      "source": [
        "**Training time comparsion**"
      ],
      "metadata": {
        "id": "fbiCCYncPBbl"
      }
    },
    {
      "cell_type": "code",
      "source": [
        "wall_time=[15.42,17.52,28.56]\n",
        "cpu_time=[17.42,22.46,30.22]\n",
        "opt=['SGD','Adagrad','Adam']\n",
        "\n",
        "plt.suptitle('CPU training time Vs Optimizer',fontsize=15)\n",
        "plt.xlabel('Optimizer', fontsize=10)\n",
        "plt.ylabel('CPU time min:sec', fontsize=10)\n",
        "plt.plot(opt,cpu_time)\n",
        "plt.show()\n",
        "\n",
        "\n",
        "plt.suptitle('Wall training time Vs Optimizer',fontsize=15)\n",
        "plt.xlabel('Optimizer', fontsize=10)\n",
        "plt.ylabel('Wall time min:sec', fontsize=10)\n",
        "plt.plot(opt,wall_time)\n",
        "plt.show()\n",
        "\n"
      ],
      "metadata": {
        "colab": {
          "base_uri": "https://localhost:8080/",
          "height": 599
        },
        "id": "jeLmYfKOIZPo",
        "outputId": "993ff460-2f01-4de5-acae-531911717f5a"
      },
      "execution_count": 22,
      "outputs": [
        {
          "output_type": "display_data",
          "data": {
            "text/plain": [
              "<Figure size 432x288 with 1 Axes>"
            ],
            "image/png": "[encoded data removed]"
          },
          "metadata": {
            "needs_background": "light"
          }
        },
        {
          "output_type": "display_data",
          "data": {
            "text/plain": [
              "<Figure size 432x288 with 1 Axes>"
            ],
            "image/png": "[encoded data removed]"
          },
          "metadata": {
            "needs_background": "light"
          }
        }
      ]
    },
    {
      "cell_type": "markdown",
      "source": [
        "# Model Predictions"
      ],
      "metadata": {
        "id": "Fs-v031exUFd"
      }
    },
    {
      "cell_type": "code",
      "source": [],
      "metadata": {
        "id": "R9FqS_jkxbRx"
      },
      "execution_count": null,
      "outputs": []
    }
  ]
}